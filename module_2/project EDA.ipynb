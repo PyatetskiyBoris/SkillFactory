{
 "cells": [
  {
   "cell_type": "code",
   "execution_count": 1,
   "metadata": {},
   "outputs": [],
   "source": [
    "import pandas as pd\n",
    "import matplotlib.pyplot as plt\n",
    "import seaborn as sns\n",
    "from itertools import combinations\n",
    "from scipy.stats import ttest_ind\n",
    "\n",
    "\n",
    "pd.set_option('display.max_rows', 50) # показывать больше строк в таблице\n",
    "pd.set_option('display.max_columns', 50) # показывать больше колонок в таблице\n",
    "\n",
    "# Загружаем файл со студентами\n",
    "exam = pd.read_csv('stud_math.csv')"
   ]
  },
  {
   "cell_type": "code",
   "execution_count": 2,
   "metadata": {},
   "outputs": [],
   "source": [
    "# Предобработка\n",
    "\n",
    "# Функция для вывода на экран информации о столбцах\n",
    "def info_col(name_col):\n",
    "    print('Информация о столбце', name_col, '\\n')\n",
    "    \n",
    "    print('Какие значения содержатся:')\n",
    "    display(exam[name_col].value_counts(dropna=False))\n",
    "    \n",
    "    print('Тип данных:')\n",
    "    display(exam.loc[:, [name_col]].info())\n",
    "    \n",
    "    display(exam[name_col].hist(label = name_col))\n",
    "    plt.legend()\n",
    "    \n",
    "# Функция для расчёта статистических параметров: iqr, квартили, границы выбросов\n",
    "def quan_info(name_col):\n",
    "    # Перцентили и IQR\n",
    "    perc25 = exam[name_col].quantile(0.25)\n",
    "    perc75 = exam[name_col].quantile(0.75)\n",
    "    iqr = perc75 - perc25\n",
    "    # Границы выбросов\n",
    "    low = perc25 - 1.5*iqr\n",
    "    high = f=perc75 + 1.5*iqr\n",
    "# Печатаем вычисленные значения на экране    \n",
    "    print(\n",
    "        '25-й перцентиль: {},'.format(perc25),\n",
    "        '75-й перцентиль: {},'.format(perc75),\n",
    "        \"IQR: {}, \".format(iqr),\n",
    "        \"Границы выбросов: [{f}, {l}].\".format(f=low, l=high))\n",
    "\n",
    "# Тест Стьдента для номинативных признаков\n",
    "def get_stat_dif(column):\n",
    "    cols = exam.loc[:, column].value_counts().index\n",
    "    combinations_all = list(combinations(cols, 2))\n",
    "   \n",
    "    for comb in combinations_all:\n",
    "        if ttest_ind(exam.loc[exam.loc[:, column] == comb[0], 'score'], \n",
    "                        exam.loc[exam.loc[:, column] == comb[1], 'score'], nan_policy = 'omit').pvalue \\\n",
    "            <= 0.1/len(combinations_all): # Учли поправку Бонферони и уровень доверия 10%\n",
    "            print('Найдены статистически значимые различия для столбца', column)\n",
    "            break"
   ]
  },
  {
   "cell_type": "code",
   "execution_count": 3,
   "metadata": {},
   "outputs": [
    {
     "data": {
      "text/html": [
       "<div>\n",
       "<style scoped>\n",
       "    .dataframe tbody tr th:only-of-type {\n",
       "        vertical-align: middle;\n",
       "    }\n",
       "\n",
       "    .dataframe tbody tr th {\n",
       "        vertical-align: top;\n",
       "    }\n",
       "\n",
       "    .dataframe thead th {\n",
       "        text-align: right;\n",
       "    }\n",
       "</style>\n",
       "<table border=\"1\" class=\"dataframe\">\n",
       "  <thead>\n",
       "    <tr style=\"text-align: right;\">\n",
       "      <th></th>\n",
       "      <th>school</th>\n",
       "      <th>sex</th>\n",
       "      <th>age</th>\n",
       "      <th>address</th>\n",
       "      <th>famsize</th>\n",
       "      <th>Pstatus</th>\n",
       "      <th>Medu</th>\n",
       "      <th>Fedu</th>\n",
       "      <th>Mjob</th>\n",
       "      <th>Fjob</th>\n",
       "      <th>reason</th>\n",
       "      <th>guardian</th>\n",
       "      <th>traveltime</th>\n",
       "      <th>studytime</th>\n",
       "      <th>failures</th>\n",
       "      <th>schoolsup</th>\n",
       "      <th>famsup</th>\n",
       "      <th>paid</th>\n",
       "      <th>activities</th>\n",
       "      <th>nursery</th>\n",
       "      <th>studytime, granular</th>\n",
       "      <th>higher</th>\n",
       "      <th>internet</th>\n",
       "      <th>romantic</th>\n",
       "      <th>famrel</th>\n",
       "      <th>freetime</th>\n",
       "      <th>goout</th>\n",
       "      <th>health</th>\n",
       "      <th>absences</th>\n",
       "      <th>score</th>\n",
       "    </tr>\n",
       "  </thead>\n",
       "  <tbody>\n",
       "    <tr>\n",
       "      <th>0</th>\n",
       "      <td>GP</td>\n",
       "      <td>F</td>\n",
       "      <td>18</td>\n",
       "      <td>U</td>\n",
       "      <td>NaN</td>\n",
       "      <td>A</td>\n",
       "      <td>4.0</td>\n",
       "      <td>4.0</td>\n",
       "      <td>at_home</td>\n",
       "      <td>teacher</td>\n",
       "      <td>course</td>\n",
       "      <td>mother</td>\n",
       "      <td>2.0</td>\n",
       "      <td>2.0</td>\n",
       "      <td>0.0</td>\n",
       "      <td>yes</td>\n",
       "      <td>no</td>\n",
       "      <td>no</td>\n",
       "      <td>no</td>\n",
       "      <td>yes</td>\n",
       "      <td>-6.0</td>\n",
       "      <td>yes</td>\n",
       "      <td>NaN</td>\n",
       "      <td>no</td>\n",
       "      <td>4.0</td>\n",
       "      <td>3.0</td>\n",
       "      <td>4.0</td>\n",
       "      <td>3.0</td>\n",
       "      <td>6.0</td>\n",
       "      <td>30.0</td>\n",
       "    </tr>\n",
       "    <tr>\n",
       "      <th>1</th>\n",
       "      <td>GP</td>\n",
       "      <td>F</td>\n",
       "      <td>17</td>\n",
       "      <td>U</td>\n",
       "      <td>GT3</td>\n",
       "      <td>NaN</td>\n",
       "      <td>1.0</td>\n",
       "      <td>1.0</td>\n",
       "      <td>at_home</td>\n",
       "      <td>other</td>\n",
       "      <td>course</td>\n",
       "      <td>father</td>\n",
       "      <td>1.0</td>\n",
       "      <td>2.0</td>\n",
       "      <td>0.0</td>\n",
       "      <td>no</td>\n",
       "      <td>yes</td>\n",
       "      <td>no</td>\n",
       "      <td>no</td>\n",
       "      <td>no</td>\n",
       "      <td>-6.0</td>\n",
       "      <td>yes</td>\n",
       "      <td>yes</td>\n",
       "      <td>no</td>\n",
       "      <td>5.0</td>\n",
       "      <td>3.0</td>\n",
       "      <td>3.0</td>\n",
       "      <td>3.0</td>\n",
       "      <td>4.0</td>\n",
       "      <td>30.0</td>\n",
       "    </tr>\n",
       "    <tr>\n",
       "      <th>2</th>\n",
       "      <td>GP</td>\n",
       "      <td>F</td>\n",
       "      <td>15</td>\n",
       "      <td>U</td>\n",
       "      <td>LE3</td>\n",
       "      <td>T</td>\n",
       "      <td>1.0</td>\n",
       "      <td>1.0</td>\n",
       "      <td>at_home</td>\n",
       "      <td>other</td>\n",
       "      <td>other</td>\n",
       "      <td>mother</td>\n",
       "      <td>1.0</td>\n",
       "      <td>2.0</td>\n",
       "      <td>3.0</td>\n",
       "      <td>yes</td>\n",
       "      <td>no</td>\n",
       "      <td>NaN</td>\n",
       "      <td>no</td>\n",
       "      <td>yes</td>\n",
       "      <td>-6.0</td>\n",
       "      <td>yes</td>\n",
       "      <td>yes</td>\n",
       "      <td>NaN</td>\n",
       "      <td>4.0</td>\n",
       "      <td>3.0</td>\n",
       "      <td>2.0</td>\n",
       "      <td>3.0</td>\n",
       "      <td>10.0</td>\n",
       "      <td>50.0</td>\n",
       "    </tr>\n",
       "    <tr>\n",
       "      <th>3</th>\n",
       "      <td>GP</td>\n",
       "      <td>F</td>\n",
       "      <td>15</td>\n",
       "      <td>U</td>\n",
       "      <td>GT3</td>\n",
       "      <td>T</td>\n",
       "      <td>4.0</td>\n",
       "      <td>2.0</td>\n",
       "      <td>health</td>\n",
       "      <td>NaN</td>\n",
       "      <td>home</td>\n",
       "      <td>mother</td>\n",
       "      <td>1.0</td>\n",
       "      <td>3.0</td>\n",
       "      <td>0.0</td>\n",
       "      <td>no</td>\n",
       "      <td>yes</td>\n",
       "      <td>yes</td>\n",
       "      <td>yes</td>\n",
       "      <td>yes</td>\n",
       "      <td>-9.0</td>\n",
       "      <td>yes</td>\n",
       "      <td>yes</td>\n",
       "      <td>yes</td>\n",
       "      <td>3.0</td>\n",
       "      <td>2.0</td>\n",
       "      <td>2.0</td>\n",
       "      <td>5.0</td>\n",
       "      <td>2.0</td>\n",
       "      <td>75.0</td>\n",
       "    </tr>\n",
       "    <tr>\n",
       "      <th>4</th>\n",
       "      <td>GP</td>\n",
       "      <td>F</td>\n",
       "      <td>16</td>\n",
       "      <td>U</td>\n",
       "      <td>GT3</td>\n",
       "      <td>T</td>\n",
       "      <td>3.0</td>\n",
       "      <td>3.0</td>\n",
       "      <td>other</td>\n",
       "      <td>other</td>\n",
       "      <td>home</td>\n",
       "      <td>father</td>\n",
       "      <td>1.0</td>\n",
       "      <td>2.0</td>\n",
       "      <td>0.0</td>\n",
       "      <td>no</td>\n",
       "      <td>yes</td>\n",
       "      <td>yes</td>\n",
       "      <td>no</td>\n",
       "      <td>yes</td>\n",
       "      <td>-6.0</td>\n",
       "      <td>yes</td>\n",
       "      <td>no</td>\n",
       "      <td>no</td>\n",
       "      <td>4.0</td>\n",
       "      <td>3.0</td>\n",
       "      <td>2.0</td>\n",
       "      <td>5.0</td>\n",
       "      <td>4.0</td>\n",
       "      <td>50.0</td>\n",
       "    </tr>\n",
       "    <tr>\n",
       "      <th>...</th>\n",
       "      <td>...</td>\n",
       "      <td>...</td>\n",
       "      <td>...</td>\n",
       "      <td>...</td>\n",
       "      <td>...</td>\n",
       "      <td>...</td>\n",
       "      <td>...</td>\n",
       "      <td>...</td>\n",
       "      <td>...</td>\n",
       "      <td>...</td>\n",
       "      <td>...</td>\n",
       "      <td>...</td>\n",
       "      <td>...</td>\n",
       "      <td>...</td>\n",
       "      <td>...</td>\n",
       "      <td>...</td>\n",
       "      <td>...</td>\n",
       "      <td>...</td>\n",
       "      <td>...</td>\n",
       "      <td>...</td>\n",
       "      <td>...</td>\n",
       "      <td>...</td>\n",
       "      <td>...</td>\n",
       "      <td>...</td>\n",
       "      <td>...</td>\n",
       "      <td>...</td>\n",
       "      <td>...</td>\n",
       "      <td>...</td>\n",
       "      <td>...</td>\n",
       "      <td>...</td>\n",
       "    </tr>\n",
       "    <tr>\n",
       "      <th>390</th>\n",
       "      <td>MS</td>\n",
       "      <td>M</td>\n",
       "      <td>20</td>\n",
       "      <td>U</td>\n",
       "      <td>LE3</td>\n",
       "      <td>A</td>\n",
       "      <td>2.0</td>\n",
       "      <td>2.0</td>\n",
       "      <td>services</td>\n",
       "      <td>services</td>\n",
       "      <td>course</td>\n",
       "      <td>NaN</td>\n",
       "      <td>1.0</td>\n",
       "      <td>2.0</td>\n",
       "      <td>2.0</td>\n",
       "      <td>no</td>\n",
       "      <td>yes</td>\n",
       "      <td>yes</td>\n",
       "      <td>no</td>\n",
       "      <td>yes</td>\n",
       "      <td>-6.0</td>\n",
       "      <td>yes</td>\n",
       "      <td>no</td>\n",
       "      <td>no</td>\n",
       "      <td>5.0</td>\n",
       "      <td>5.0</td>\n",
       "      <td>4.0</td>\n",
       "      <td>4.0</td>\n",
       "      <td>212.0</td>\n",
       "      <td>45.0</td>\n",
       "    </tr>\n",
       "    <tr>\n",
       "      <th>391</th>\n",
       "      <td>MS</td>\n",
       "      <td>M</td>\n",
       "      <td>17</td>\n",
       "      <td>U</td>\n",
       "      <td>LE3</td>\n",
       "      <td>T</td>\n",
       "      <td>3.0</td>\n",
       "      <td>1.0</td>\n",
       "      <td>services</td>\n",
       "      <td>services</td>\n",
       "      <td>course</td>\n",
       "      <td>mother</td>\n",
       "      <td>2.0</td>\n",
       "      <td>1.0</td>\n",
       "      <td>0.0</td>\n",
       "      <td>no</td>\n",
       "      <td>no</td>\n",
       "      <td>no</td>\n",
       "      <td>no</td>\n",
       "      <td>no</td>\n",
       "      <td>-3.0</td>\n",
       "      <td>yes</td>\n",
       "      <td>yes</td>\n",
       "      <td>no</td>\n",
       "      <td>2.0</td>\n",
       "      <td>4.0</td>\n",
       "      <td>5.0</td>\n",
       "      <td>2.0</td>\n",
       "      <td>3.0</td>\n",
       "      <td>80.0</td>\n",
       "    </tr>\n",
       "    <tr>\n",
       "      <th>392</th>\n",
       "      <td>MS</td>\n",
       "      <td>M</td>\n",
       "      <td>21</td>\n",
       "      <td>R</td>\n",
       "      <td>GT3</td>\n",
       "      <td>T</td>\n",
       "      <td>1.0</td>\n",
       "      <td>1.0</td>\n",
       "      <td>other</td>\n",
       "      <td>other</td>\n",
       "      <td>course</td>\n",
       "      <td>NaN</td>\n",
       "      <td>1.0</td>\n",
       "      <td>1.0</td>\n",
       "      <td>3.0</td>\n",
       "      <td>NaN</td>\n",
       "      <td>no</td>\n",
       "      <td>no</td>\n",
       "      <td>no</td>\n",
       "      <td>no</td>\n",
       "      <td>-3.0</td>\n",
       "      <td>NaN</td>\n",
       "      <td>no</td>\n",
       "      <td>no</td>\n",
       "      <td>5.0</td>\n",
       "      <td>5.0</td>\n",
       "      <td>3.0</td>\n",
       "      <td>3.0</td>\n",
       "      <td>3.0</td>\n",
       "      <td>35.0</td>\n",
       "    </tr>\n",
       "    <tr>\n",
       "      <th>393</th>\n",
       "      <td>MS</td>\n",
       "      <td>M</td>\n",
       "      <td>18</td>\n",
       "      <td>R</td>\n",
       "      <td>LE3</td>\n",
       "      <td>T</td>\n",
       "      <td>3.0</td>\n",
       "      <td>2.0</td>\n",
       "      <td>services</td>\n",
       "      <td>other</td>\n",
       "      <td>course</td>\n",
       "      <td>mother</td>\n",
       "      <td>3.0</td>\n",
       "      <td>1.0</td>\n",
       "      <td>0.0</td>\n",
       "      <td>no</td>\n",
       "      <td>no</td>\n",
       "      <td>no</td>\n",
       "      <td>NaN</td>\n",
       "      <td>no</td>\n",
       "      <td>-3.0</td>\n",
       "      <td>yes</td>\n",
       "      <td>yes</td>\n",
       "      <td>no</td>\n",
       "      <td>4.0</td>\n",
       "      <td>4.0</td>\n",
       "      <td>1.0</td>\n",
       "      <td>5.0</td>\n",
       "      <td>0.0</td>\n",
       "      <td>50.0</td>\n",
       "    </tr>\n",
       "    <tr>\n",
       "      <th>394</th>\n",
       "      <td>MS</td>\n",
       "      <td>M</td>\n",
       "      <td>19</td>\n",
       "      <td>U</td>\n",
       "      <td>LE3</td>\n",
       "      <td>T</td>\n",
       "      <td>1.0</td>\n",
       "      <td>1.0</td>\n",
       "      <td>other</td>\n",
       "      <td>at_home</td>\n",
       "      <td>NaN</td>\n",
       "      <td>father</td>\n",
       "      <td>1.0</td>\n",
       "      <td>1.0</td>\n",
       "      <td>0.0</td>\n",
       "      <td>NaN</td>\n",
       "      <td>no</td>\n",
       "      <td>no</td>\n",
       "      <td>no</td>\n",
       "      <td>yes</td>\n",
       "      <td>-3.0</td>\n",
       "      <td>yes</td>\n",
       "      <td>yes</td>\n",
       "      <td>no</td>\n",
       "      <td>3.0</td>\n",
       "      <td>2.0</td>\n",
       "      <td>3.0</td>\n",
       "      <td>5.0</td>\n",
       "      <td>5.0</td>\n",
       "      <td>45.0</td>\n",
       "    </tr>\n",
       "  </tbody>\n",
       "</table>\n",
       "<p>395 rows × 30 columns</p>\n",
       "</div>"
      ],
      "text/plain": [
       "    school sex  age address famsize Pstatus  Medu  Fedu      Mjob      Fjob  \\\n",
       "0       GP   F   18       U     NaN       A   4.0   4.0   at_home   teacher   \n",
       "1       GP   F   17       U     GT3     NaN   1.0   1.0   at_home     other   \n",
       "2       GP   F   15       U     LE3       T   1.0   1.0   at_home     other   \n",
       "3       GP   F   15       U     GT3       T   4.0   2.0    health       NaN   \n",
       "4       GP   F   16       U     GT3       T   3.0   3.0     other     other   \n",
       "..     ...  ..  ...     ...     ...     ...   ...   ...       ...       ...   \n",
       "390     MS   M   20       U     LE3       A   2.0   2.0  services  services   \n",
       "391     MS   M   17       U     LE3       T   3.0   1.0  services  services   \n",
       "392     MS   M   21       R     GT3       T   1.0   1.0     other     other   \n",
       "393     MS   M   18       R     LE3       T   3.0   2.0  services     other   \n",
       "394     MS   M   19       U     LE3       T   1.0   1.0     other   at_home   \n",
       "\n",
       "     reason guardian  traveltime  studytime  failures schoolsup famsup paid  \\\n",
       "0    course   mother         2.0        2.0       0.0       yes     no   no   \n",
       "1    course   father         1.0        2.0       0.0        no    yes   no   \n",
       "2     other   mother         1.0        2.0       3.0       yes     no  NaN   \n",
       "3      home   mother         1.0        3.0       0.0        no    yes  yes   \n",
       "4      home   father         1.0        2.0       0.0        no    yes  yes   \n",
       "..      ...      ...         ...        ...       ...       ...    ...  ...   \n",
       "390  course      NaN         1.0        2.0       2.0        no    yes  yes   \n",
       "391  course   mother         2.0        1.0       0.0        no     no   no   \n",
       "392  course      NaN         1.0        1.0       3.0       NaN     no   no   \n",
       "393  course   mother         3.0        1.0       0.0        no     no   no   \n",
       "394     NaN   father         1.0        1.0       0.0       NaN     no   no   \n",
       "\n",
       "    activities nursery  studytime, granular higher internet romantic  famrel  \\\n",
       "0           no     yes                 -6.0    yes      NaN       no     4.0   \n",
       "1           no      no                 -6.0    yes      yes       no     5.0   \n",
       "2           no     yes                 -6.0    yes      yes      NaN     4.0   \n",
       "3          yes     yes                 -9.0    yes      yes      yes     3.0   \n",
       "4           no     yes                 -6.0    yes       no       no     4.0   \n",
       "..         ...     ...                  ...    ...      ...      ...     ...   \n",
       "390         no     yes                 -6.0    yes       no       no     5.0   \n",
       "391         no      no                 -3.0    yes      yes       no     2.0   \n",
       "392         no      no                 -3.0    NaN       no       no     5.0   \n",
       "393        NaN      no                 -3.0    yes      yes       no     4.0   \n",
       "394         no     yes                 -3.0    yes      yes       no     3.0   \n",
       "\n",
       "     freetime  goout  health  absences  score  \n",
       "0         3.0    4.0     3.0       6.0   30.0  \n",
       "1         3.0    3.0     3.0       4.0   30.0  \n",
       "2         3.0    2.0     3.0      10.0   50.0  \n",
       "3         2.0    2.0     5.0       2.0   75.0  \n",
       "4         3.0    2.0     5.0       4.0   50.0  \n",
       "..        ...    ...     ...       ...    ...  \n",
       "390       5.0    4.0     4.0     212.0   45.0  \n",
       "391       4.0    5.0     2.0       3.0   80.0  \n",
       "392       5.0    3.0     3.0       3.0   35.0  \n",
       "393       4.0    1.0     5.0       0.0   50.0  \n",
       "394       2.0    3.0     5.0       5.0   45.0  \n",
       "\n",
       "[395 rows x 30 columns]"
      ]
     },
     "metadata": {},
     "output_type": "display_data"
    }
   ],
   "source": [
    "# Выводим таблицу на экран, чтоб посмотреть, с чем будем работать.\n",
    "display(exam)"
   ]
  },
  {
   "cell_type": "code",
   "execution_count": 4,
   "metadata": {},
   "outputs": [
    {
     "name": "stdout",
     "output_type": "stream",
     "text": [
      "<class 'pandas.core.frame.DataFrame'>\n",
      "RangeIndex: 395 entries, 0 to 394\n",
      "Data columns (total 30 columns):\n",
      " #   Column               Non-Null Count  Dtype  \n",
      "---  ------               --------------  -----  \n",
      " 0   school               395 non-null    object \n",
      " 1   sex                  395 non-null    object \n",
      " 2   age                  395 non-null    int64  \n",
      " 3   address              378 non-null    object \n",
      " 4   famsize              368 non-null    object \n",
      " 5   Pstatus              350 non-null    object \n",
      " 6   Medu                 392 non-null    float64\n",
      " 7   Fedu                 371 non-null    float64\n",
      " 8   Mjob                 376 non-null    object \n",
      " 9   Fjob                 359 non-null    object \n",
      " 10  reason               378 non-null    object \n",
      " 11  guardian             364 non-null    object \n",
      " 12  traveltime           367 non-null    float64\n",
      " 13  studytime            388 non-null    float64\n",
      " 14  failures             373 non-null    float64\n",
      " 15  schoolsup            386 non-null    object \n",
      " 16  famsup               356 non-null    object \n",
      " 17  paid                 355 non-null    object \n",
      " 18  activities           381 non-null    object \n",
      " 19  nursery              379 non-null    object \n",
      " 20  studytime, granular  388 non-null    float64\n",
      " 21  higher               375 non-null    object \n",
      " 22  internet             361 non-null    object \n",
      " 23  romantic             364 non-null    object \n",
      " 24  famrel               368 non-null    float64\n",
      " 25  freetime             384 non-null    float64\n",
      " 26  goout                387 non-null    float64\n",
      " 27  health               380 non-null    float64\n",
      " 28  absences             383 non-null    float64\n",
      " 29  score                389 non-null    float64\n",
      "dtypes: float64(12), int64(1), object(17)\n",
      "memory usage: 92.7+ KB\n"
     ]
    },
    {
     "data": {
      "text/plain": [
       "None"
      ]
     },
     "metadata": {},
     "output_type": "display_data"
    }
   ],
   "source": [
    "#Выводим информацию о таблице\n",
    "display(exam.info())"
   ]
  },
  {
   "cell_type": "markdown",
   "metadata": {},
   "source": [
    "Как видим, в таблице очень много пропущенных значений. Если удалять все строки, можно потерять существенную часть информации. Поэтому такие строки будем оставлять."
   ]
  },
  {
   "cell_type": "code",
   "execution_count": 5,
   "metadata": {},
   "outputs": [
    {
     "data": {
      "text/plain": [
       "studytime  studytime, granular\n",
       "2.0        -6.0                   194\n",
       "1.0        -3.0                   103\n",
       "3.0        -9.0                    64\n",
       "4.0        -12.0                   27\n",
       "dtype: int64"
      ]
     },
     "metadata": {},
     "output_type": "display_data"
    }
   ],
   "source": [
    "# 13 и 20 строку занимают похожие названия: 'studytime' и 'studytime, granular'\n",
    "# Проверим, какие данные содержатся в этих столбцах\n",
    "\n",
    "display(exam[['studytime', 'studytime, granular']].value_counts())"
   ]
  },
  {
   "cell_type": "code",
   "execution_count": 6,
   "metadata": {},
   "outputs": [
    {
     "data": {
      "text/html": [
       "<div>\n",
       "<style scoped>\n",
       "    .dataframe tbody tr th:only-of-type {\n",
       "        vertical-align: middle;\n",
       "    }\n",
       "\n",
       "    .dataframe tbody tr th {\n",
       "        vertical-align: top;\n",
       "    }\n",
       "\n",
       "    .dataframe thead th {\n",
       "        text-align: right;\n",
       "    }\n",
       "</style>\n",
       "<table border=\"1\" class=\"dataframe\">\n",
       "  <thead>\n",
       "    <tr style=\"text-align: right;\">\n",
       "      <th></th>\n",
       "      <th>studytime</th>\n",
       "      <th>studytime, granular</th>\n",
       "    </tr>\n",
       "  </thead>\n",
       "  <tbody>\n",
       "    <tr>\n",
       "      <th>studytime</th>\n",
       "      <td>1.0</td>\n",
       "      <td>-1.0</td>\n",
       "    </tr>\n",
       "    <tr>\n",
       "      <th>studytime, granular</th>\n",
       "      <td>-1.0</td>\n",
       "      <td>1.0</td>\n",
       "    </tr>\n",
       "  </tbody>\n",
       "</table>\n",
       "</div>"
      ],
      "text/plain": [
       "                     studytime  studytime, granular\n",
       "studytime                  1.0                 -1.0\n",
       "studytime, granular       -1.0                  1.0"
      ]
     },
     "metadata": {},
     "output_type": "display_data"
    }
   ],
   "source": [
    "# Проверяем корреляцию между этими данными\n",
    "display(exam[['studytime', 'studytime, granular']].corr())"
   ]
  },
  {
   "cell_type": "code",
   "execution_count": 7,
   "metadata": {},
   "outputs": [
    {
     "data": {
      "text/html": [
       "<div>\n",
       "<style scoped>\n",
       "    .dataframe tbody tr th:only-of-type {\n",
       "        vertical-align: middle;\n",
       "    }\n",
       "\n",
       "    .dataframe tbody tr th {\n",
       "        vertical-align: top;\n",
       "    }\n",
       "\n",
       "    .dataframe thead th {\n",
       "        text-align: right;\n",
       "    }\n",
       "</style>\n",
       "<table border=\"1\" class=\"dataframe\">\n",
       "  <thead>\n",
       "    <tr style=\"text-align: right;\">\n",
       "      <th></th>\n",
       "      <th>school</th>\n",
       "      <th>sex</th>\n",
       "      <th>age</th>\n",
       "      <th>address</th>\n",
       "      <th>famsize</th>\n",
       "      <th>Pstatus</th>\n",
       "      <th>Medu</th>\n",
       "      <th>Fedu</th>\n",
       "      <th>Mjob</th>\n",
       "      <th>Fjob</th>\n",
       "      <th>reason</th>\n",
       "      <th>guardian</th>\n",
       "      <th>traveltime</th>\n",
       "      <th>studytime</th>\n",
       "      <th>failures</th>\n",
       "      <th>schoolsup</th>\n",
       "      <th>famsup</th>\n",
       "      <th>paid</th>\n",
       "      <th>activities</th>\n",
       "      <th>nursery</th>\n",
       "      <th>higher</th>\n",
       "      <th>internet</th>\n",
       "      <th>romantic</th>\n",
       "      <th>famrel</th>\n",
       "      <th>freetime</th>\n",
       "      <th>goout</th>\n",
       "      <th>health</th>\n",
       "      <th>absences</th>\n",
       "      <th>score</th>\n",
       "    </tr>\n",
       "  </thead>\n",
       "  <tbody>\n",
       "    <tr>\n",
       "      <th>0</th>\n",
       "      <td>GP</td>\n",
       "      <td>F</td>\n",
       "      <td>18</td>\n",
       "      <td>U</td>\n",
       "      <td>NaN</td>\n",
       "      <td>A</td>\n",
       "      <td>4.0</td>\n",
       "      <td>4.0</td>\n",
       "      <td>at_home</td>\n",
       "      <td>teacher</td>\n",
       "      <td>course</td>\n",
       "      <td>mother</td>\n",
       "      <td>2.0</td>\n",
       "      <td>2.0</td>\n",
       "      <td>0.0</td>\n",
       "      <td>yes</td>\n",
       "      <td>no</td>\n",
       "      <td>no</td>\n",
       "      <td>no</td>\n",
       "      <td>yes</td>\n",
       "      <td>yes</td>\n",
       "      <td>NaN</td>\n",
       "      <td>no</td>\n",
       "      <td>4.0</td>\n",
       "      <td>3.0</td>\n",
       "      <td>4.0</td>\n",
       "      <td>3.0</td>\n",
       "      <td>6.0</td>\n",
       "      <td>30.0</td>\n",
       "    </tr>\n",
       "    <tr>\n",
       "      <th>1</th>\n",
       "      <td>GP</td>\n",
       "      <td>F</td>\n",
       "      <td>17</td>\n",
       "      <td>U</td>\n",
       "      <td>GT3</td>\n",
       "      <td>NaN</td>\n",
       "      <td>1.0</td>\n",
       "      <td>1.0</td>\n",
       "      <td>at_home</td>\n",
       "      <td>other</td>\n",
       "      <td>course</td>\n",
       "      <td>father</td>\n",
       "      <td>1.0</td>\n",
       "      <td>2.0</td>\n",
       "      <td>0.0</td>\n",
       "      <td>no</td>\n",
       "      <td>yes</td>\n",
       "      <td>no</td>\n",
       "      <td>no</td>\n",
       "      <td>no</td>\n",
       "      <td>yes</td>\n",
       "      <td>yes</td>\n",
       "      <td>no</td>\n",
       "      <td>5.0</td>\n",
       "      <td>3.0</td>\n",
       "      <td>3.0</td>\n",
       "      <td>3.0</td>\n",
       "      <td>4.0</td>\n",
       "      <td>30.0</td>\n",
       "    </tr>\n",
       "    <tr>\n",
       "      <th>2</th>\n",
       "      <td>GP</td>\n",
       "      <td>F</td>\n",
       "      <td>15</td>\n",
       "      <td>U</td>\n",
       "      <td>LE3</td>\n",
       "      <td>T</td>\n",
       "      <td>1.0</td>\n",
       "      <td>1.0</td>\n",
       "      <td>at_home</td>\n",
       "      <td>other</td>\n",
       "      <td>other</td>\n",
       "      <td>mother</td>\n",
       "      <td>1.0</td>\n",
       "      <td>2.0</td>\n",
       "      <td>3.0</td>\n",
       "      <td>yes</td>\n",
       "      <td>no</td>\n",
       "      <td>NaN</td>\n",
       "      <td>no</td>\n",
       "      <td>yes</td>\n",
       "      <td>yes</td>\n",
       "      <td>yes</td>\n",
       "      <td>NaN</td>\n",
       "      <td>4.0</td>\n",
       "      <td>3.0</td>\n",
       "      <td>2.0</td>\n",
       "      <td>3.0</td>\n",
       "      <td>10.0</td>\n",
       "      <td>50.0</td>\n",
       "    </tr>\n",
       "    <tr>\n",
       "      <th>3</th>\n",
       "      <td>GP</td>\n",
       "      <td>F</td>\n",
       "      <td>15</td>\n",
       "      <td>U</td>\n",
       "      <td>GT3</td>\n",
       "      <td>T</td>\n",
       "      <td>4.0</td>\n",
       "      <td>2.0</td>\n",
       "      <td>health</td>\n",
       "      <td>NaN</td>\n",
       "      <td>home</td>\n",
       "      <td>mother</td>\n",
       "      <td>1.0</td>\n",
       "      <td>3.0</td>\n",
       "      <td>0.0</td>\n",
       "      <td>no</td>\n",
       "      <td>yes</td>\n",
       "      <td>yes</td>\n",
       "      <td>yes</td>\n",
       "      <td>yes</td>\n",
       "      <td>yes</td>\n",
       "      <td>yes</td>\n",
       "      <td>yes</td>\n",
       "      <td>3.0</td>\n",
       "      <td>2.0</td>\n",
       "      <td>2.0</td>\n",
       "      <td>5.0</td>\n",
       "      <td>2.0</td>\n",
       "      <td>75.0</td>\n",
       "    </tr>\n",
       "    <tr>\n",
       "      <th>4</th>\n",
       "      <td>GP</td>\n",
       "      <td>F</td>\n",
       "      <td>16</td>\n",
       "      <td>U</td>\n",
       "      <td>GT3</td>\n",
       "      <td>T</td>\n",
       "      <td>3.0</td>\n",
       "      <td>3.0</td>\n",
       "      <td>other</td>\n",
       "      <td>other</td>\n",
       "      <td>home</td>\n",
       "      <td>father</td>\n",
       "      <td>1.0</td>\n",
       "      <td>2.0</td>\n",
       "      <td>0.0</td>\n",
       "      <td>no</td>\n",
       "      <td>yes</td>\n",
       "      <td>yes</td>\n",
       "      <td>no</td>\n",
       "      <td>yes</td>\n",
       "      <td>yes</td>\n",
       "      <td>no</td>\n",
       "      <td>no</td>\n",
       "      <td>4.0</td>\n",
       "      <td>3.0</td>\n",
       "      <td>2.0</td>\n",
       "      <td>5.0</td>\n",
       "      <td>4.0</td>\n",
       "      <td>50.0</td>\n",
       "    </tr>\n",
       "    <tr>\n",
       "      <th>...</th>\n",
       "      <td>...</td>\n",
       "      <td>...</td>\n",
       "      <td>...</td>\n",
       "      <td>...</td>\n",
       "      <td>...</td>\n",
       "      <td>...</td>\n",
       "      <td>...</td>\n",
       "      <td>...</td>\n",
       "      <td>...</td>\n",
       "      <td>...</td>\n",
       "      <td>...</td>\n",
       "      <td>...</td>\n",
       "      <td>...</td>\n",
       "      <td>...</td>\n",
       "      <td>...</td>\n",
       "      <td>...</td>\n",
       "      <td>...</td>\n",
       "      <td>...</td>\n",
       "      <td>...</td>\n",
       "      <td>...</td>\n",
       "      <td>...</td>\n",
       "      <td>...</td>\n",
       "      <td>...</td>\n",
       "      <td>...</td>\n",
       "      <td>...</td>\n",
       "      <td>...</td>\n",
       "      <td>...</td>\n",
       "      <td>...</td>\n",
       "      <td>...</td>\n",
       "    </tr>\n",
       "    <tr>\n",
       "      <th>390</th>\n",
       "      <td>MS</td>\n",
       "      <td>M</td>\n",
       "      <td>20</td>\n",
       "      <td>U</td>\n",
       "      <td>LE3</td>\n",
       "      <td>A</td>\n",
       "      <td>2.0</td>\n",
       "      <td>2.0</td>\n",
       "      <td>services</td>\n",
       "      <td>services</td>\n",
       "      <td>course</td>\n",
       "      <td>NaN</td>\n",
       "      <td>1.0</td>\n",
       "      <td>2.0</td>\n",
       "      <td>2.0</td>\n",
       "      <td>no</td>\n",
       "      <td>yes</td>\n",
       "      <td>yes</td>\n",
       "      <td>no</td>\n",
       "      <td>yes</td>\n",
       "      <td>yes</td>\n",
       "      <td>no</td>\n",
       "      <td>no</td>\n",
       "      <td>5.0</td>\n",
       "      <td>5.0</td>\n",
       "      <td>4.0</td>\n",
       "      <td>4.0</td>\n",
       "      <td>212.0</td>\n",
       "      <td>45.0</td>\n",
       "    </tr>\n",
       "    <tr>\n",
       "      <th>391</th>\n",
       "      <td>MS</td>\n",
       "      <td>M</td>\n",
       "      <td>17</td>\n",
       "      <td>U</td>\n",
       "      <td>LE3</td>\n",
       "      <td>T</td>\n",
       "      <td>3.0</td>\n",
       "      <td>1.0</td>\n",
       "      <td>services</td>\n",
       "      <td>services</td>\n",
       "      <td>course</td>\n",
       "      <td>mother</td>\n",
       "      <td>2.0</td>\n",
       "      <td>1.0</td>\n",
       "      <td>0.0</td>\n",
       "      <td>no</td>\n",
       "      <td>no</td>\n",
       "      <td>no</td>\n",
       "      <td>no</td>\n",
       "      <td>no</td>\n",
       "      <td>yes</td>\n",
       "      <td>yes</td>\n",
       "      <td>no</td>\n",
       "      <td>2.0</td>\n",
       "      <td>4.0</td>\n",
       "      <td>5.0</td>\n",
       "      <td>2.0</td>\n",
       "      <td>3.0</td>\n",
       "      <td>80.0</td>\n",
       "    </tr>\n",
       "    <tr>\n",
       "      <th>392</th>\n",
       "      <td>MS</td>\n",
       "      <td>M</td>\n",
       "      <td>21</td>\n",
       "      <td>R</td>\n",
       "      <td>GT3</td>\n",
       "      <td>T</td>\n",
       "      <td>1.0</td>\n",
       "      <td>1.0</td>\n",
       "      <td>other</td>\n",
       "      <td>other</td>\n",
       "      <td>course</td>\n",
       "      <td>NaN</td>\n",
       "      <td>1.0</td>\n",
       "      <td>1.0</td>\n",
       "      <td>3.0</td>\n",
       "      <td>NaN</td>\n",
       "      <td>no</td>\n",
       "      <td>no</td>\n",
       "      <td>no</td>\n",
       "      <td>no</td>\n",
       "      <td>NaN</td>\n",
       "      <td>no</td>\n",
       "      <td>no</td>\n",
       "      <td>5.0</td>\n",
       "      <td>5.0</td>\n",
       "      <td>3.0</td>\n",
       "      <td>3.0</td>\n",
       "      <td>3.0</td>\n",
       "      <td>35.0</td>\n",
       "    </tr>\n",
       "    <tr>\n",
       "      <th>393</th>\n",
       "      <td>MS</td>\n",
       "      <td>M</td>\n",
       "      <td>18</td>\n",
       "      <td>R</td>\n",
       "      <td>LE3</td>\n",
       "      <td>T</td>\n",
       "      <td>3.0</td>\n",
       "      <td>2.0</td>\n",
       "      <td>services</td>\n",
       "      <td>other</td>\n",
       "      <td>course</td>\n",
       "      <td>mother</td>\n",
       "      <td>3.0</td>\n",
       "      <td>1.0</td>\n",
       "      <td>0.0</td>\n",
       "      <td>no</td>\n",
       "      <td>no</td>\n",
       "      <td>no</td>\n",
       "      <td>NaN</td>\n",
       "      <td>no</td>\n",
       "      <td>yes</td>\n",
       "      <td>yes</td>\n",
       "      <td>no</td>\n",
       "      <td>4.0</td>\n",
       "      <td>4.0</td>\n",
       "      <td>1.0</td>\n",
       "      <td>5.0</td>\n",
       "      <td>0.0</td>\n",
       "      <td>50.0</td>\n",
       "    </tr>\n",
       "    <tr>\n",
       "      <th>394</th>\n",
       "      <td>MS</td>\n",
       "      <td>M</td>\n",
       "      <td>19</td>\n",
       "      <td>U</td>\n",
       "      <td>LE3</td>\n",
       "      <td>T</td>\n",
       "      <td>1.0</td>\n",
       "      <td>1.0</td>\n",
       "      <td>other</td>\n",
       "      <td>at_home</td>\n",
       "      <td>NaN</td>\n",
       "      <td>father</td>\n",
       "      <td>1.0</td>\n",
       "      <td>1.0</td>\n",
       "      <td>0.0</td>\n",
       "      <td>NaN</td>\n",
       "      <td>no</td>\n",
       "      <td>no</td>\n",
       "      <td>no</td>\n",
       "      <td>yes</td>\n",
       "      <td>yes</td>\n",
       "      <td>yes</td>\n",
       "      <td>no</td>\n",
       "      <td>3.0</td>\n",
       "      <td>2.0</td>\n",
       "      <td>3.0</td>\n",
       "      <td>5.0</td>\n",
       "      <td>5.0</td>\n",
       "      <td>45.0</td>\n",
       "    </tr>\n",
       "  </tbody>\n",
       "</table>\n",
       "<p>395 rows × 29 columns</p>\n",
       "</div>"
      ],
      "text/plain": [
       "    school sex  age address famsize Pstatus  Medu  Fedu      Mjob      Fjob  \\\n",
       "0       GP   F   18       U     NaN       A   4.0   4.0   at_home   teacher   \n",
       "1       GP   F   17       U     GT3     NaN   1.0   1.0   at_home     other   \n",
       "2       GP   F   15       U     LE3       T   1.0   1.0   at_home     other   \n",
       "3       GP   F   15       U     GT3       T   4.0   2.0    health       NaN   \n",
       "4       GP   F   16       U     GT3       T   3.0   3.0     other     other   \n",
       "..     ...  ..  ...     ...     ...     ...   ...   ...       ...       ...   \n",
       "390     MS   M   20       U     LE3       A   2.0   2.0  services  services   \n",
       "391     MS   M   17       U     LE3       T   3.0   1.0  services  services   \n",
       "392     MS   M   21       R     GT3       T   1.0   1.0     other     other   \n",
       "393     MS   M   18       R     LE3       T   3.0   2.0  services     other   \n",
       "394     MS   M   19       U     LE3       T   1.0   1.0     other   at_home   \n",
       "\n",
       "     reason guardian  traveltime  studytime  failures schoolsup famsup paid  \\\n",
       "0    course   mother         2.0        2.0       0.0       yes     no   no   \n",
       "1    course   father         1.0        2.0       0.0        no    yes   no   \n",
       "2     other   mother         1.0        2.0       3.0       yes     no  NaN   \n",
       "3      home   mother         1.0        3.0       0.0        no    yes  yes   \n",
       "4      home   father         1.0        2.0       0.0        no    yes  yes   \n",
       "..      ...      ...         ...        ...       ...       ...    ...  ...   \n",
       "390  course      NaN         1.0        2.0       2.0        no    yes  yes   \n",
       "391  course   mother         2.0        1.0       0.0        no     no   no   \n",
       "392  course      NaN         1.0        1.0       3.0       NaN     no   no   \n",
       "393  course   mother         3.0        1.0       0.0        no     no   no   \n",
       "394     NaN   father         1.0        1.0       0.0       NaN     no   no   \n",
       "\n",
       "    activities nursery higher internet romantic  famrel  freetime  goout  \\\n",
       "0           no     yes    yes      NaN       no     4.0       3.0    4.0   \n",
       "1           no      no    yes      yes       no     5.0       3.0    3.0   \n",
       "2           no     yes    yes      yes      NaN     4.0       3.0    2.0   \n",
       "3          yes     yes    yes      yes      yes     3.0       2.0    2.0   \n",
       "4           no     yes    yes       no       no     4.0       3.0    2.0   \n",
       "..         ...     ...    ...      ...      ...     ...       ...    ...   \n",
       "390         no     yes    yes       no       no     5.0       5.0    4.0   \n",
       "391         no      no    yes      yes       no     2.0       4.0    5.0   \n",
       "392         no      no    NaN       no       no     5.0       5.0    3.0   \n",
       "393        NaN      no    yes      yes       no     4.0       4.0    1.0   \n",
       "394         no     yes    yes      yes       no     3.0       2.0    3.0   \n",
       "\n",
       "     health  absences  score  \n",
       "0       3.0       6.0   30.0  \n",
       "1       3.0       4.0   30.0  \n",
       "2       3.0      10.0   50.0  \n",
       "3       5.0       2.0   75.0  \n",
       "4       5.0       4.0   50.0  \n",
       "..      ...       ...    ...  \n",
       "390     4.0     212.0   45.0  \n",
       "391     2.0       3.0   80.0  \n",
       "392     3.0       3.0   35.0  \n",
       "393     5.0       0.0   50.0  \n",
       "394     5.0       5.0   45.0  \n",
       "\n",
       "[395 rows x 29 columns]"
      ]
     },
     "metadata": {},
     "output_type": "display_data"
    }
   ],
   "source": [
    "# Как мы видим, столбец 'studytime, granular' полностью повторяет столбец 'studytime' с коэффициентом -3.\n",
    "# Поэтому для дальнейшего анализа столбец 'studytime, granular' не нужен, можно удалить его из таблицы\n",
    "\n",
    "exam.drop(['studytime, granular'], inplace=True, axis=1)\n",
    "display(exam)"
   ]
  },
  {
   "cell_type": "code",
   "execution_count": 8,
   "metadata": {},
   "outputs": [
    {
     "data": {
      "text/html": [
       "<div>\n",
       "<style scoped>\n",
       "    .dataframe tbody tr th:only-of-type {\n",
       "        vertical-align: middle;\n",
       "    }\n",
       "\n",
       "    .dataframe tbody tr th {\n",
       "        vertical-align: top;\n",
       "    }\n",
       "\n",
       "    .dataframe thead th {\n",
       "        text-align: right;\n",
       "    }\n",
       "</style>\n",
       "<table border=\"1\" class=\"dataframe\">\n",
       "  <thead>\n",
       "    <tr style=\"text-align: right;\">\n",
       "      <th></th>\n",
       "      <th>school</th>\n",
       "      <th>sex</th>\n",
       "      <th>age</th>\n",
       "      <th>address</th>\n",
       "      <th>fam_size</th>\n",
       "      <th>p_status</th>\n",
       "      <th>m_edu</th>\n",
       "      <th>f_edu</th>\n",
       "      <th>m_job</th>\n",
       "      <th>f_job</th>\n",
       "      <th>reason</th>\n",
       "      <th>guardian</th>\n",
       "      <th>travel_time</th>\n",
       "      <th>study_time</th>\n",
       "      <th>failures</th>\n",
       "      <th>school_sup</th>\n",
       "      <th>fam_sup</th>\n",
       "      <th>paid</th>\n",
       "      <th>activities</th>\n",
       "      <th>nursery</th>\n",
       "      <th>higher</th>\n",
       "      <th>internet</th>\n",
       "      <th>romantic</th>\n",
       "      <th>fam_rel</th>\n",
       "      <th>free_time</th>\n",
       "      <th>go_out</th>\n",
       "      <th>health</th>\n",
       "      <th>absences</th>\n",
       "      <th>score</th>\n",
       "    </tr>\n",
       "  </thead>\n",
       "  <tbody>\n",
       "    <tr>\n",
       "      <th>0</th>\n",
       "      <td>GP</td>\n",
       "      <td>F</td>\n",
       "      <td>18</td>\n",
       "      <td>U</td>\n",
       "      <td>NaN</td>\n",
       "      <td>A</td>\n",
       "      <td>4.0</td>\n",
       "      <td>4.0</td>\n",
       "      <td>at_home</td>\n",
       "      <td>teacher</td>\n",
       "      <td>course</td>\n",
       "      <td>mother</td>\n",
       "      <td>2.0</td>\n",
       "      <td>2.0</td>\n",
       "      <td>0.0</td>\n",
       "      <td>yes</td>\n",
       "      <td>no</td>\n",
       "      <td>no</td>\n",
       "      <td>no</td>\n",
       "      <td>yes</td>\n",
       "      <td>yes</td>\n",
       "      <td>NaN</td>\n",
       "      <td>no</td>\n",
       "      <td>4.0</td>\n",
       "      <td>3.0</td>\n",
       "      <td>4.0</td>\n",
       "      <td>3.0</td>\n",
       "      <td>6.0</td>\n",
       "      <td>30.0</td>\n",
       "    </tr>\n",
       "    <tr>\n",
       "      <th>1</th>\n",
       "      <td>GP</td>\n",
       "      <td>F</td>\n",
       "      <td>17</td>\n",
       "      <td>U</td>\n",
       "      <td>GT3</td>\n",
       "      <td>NaN</td>\n",
       "      <td>1.0</td>\n",
       "      <td>1.0</td>\n",
       "      <td>at_home</td>\n",
       "      <td>other</td>\n",
       "      <td>course</td>\n",
       "      <td>father</td>\n",
       "      <td>1.0</td>\n",
       "      <td>2.0</td>\n",
       "      <td>0.0</td>\n",
       "      <td>no</td>\n",
       "      <td>yes</td>\n",
       "      <td>no</td>\n",
       "      <td>no</td>\n",
       "      <td>no</td>\n",
       "      <td>yes</td>\n",
       "      <td>yes</td>\n",
       "      <td>no</td>\n",
       "      <td>5.0</td>\n",
       "      <td>3.0</td>\n",
       "      <td>3.0</td>\n",
       "      <td>3.0</td>\n",
       "      <td>4.0</td>\n",
       "      <td>30.0</td>\n",
       "    </tr>\n",
       "    <tr>\n",
       "      <th>2</th>\n",
       "      <td>GP</td>\n",
       "      <td>F</td>\n",
       "      <td>15</td>\n",
       "      <td>U</td>\n",
       "      <td>LE3</td>\n",
       "      <td>T</td>\n",
       "      <td>1.0</td>\n",
       "      <td>1.0</td>\n",
       "      <td>at_home</td>\n",
       "      <td>other</td>\n",
       "      <td>other</td>\n",
       "      <td>mother</td>\n",
       "      <td>1.0</td>\n",
       "      <td>2.0</td>\n",
       "      <td>3.0</td>\n",
       "      <td>yes</td>\n",
       "      <td>no</td>\n",
       "      <td>NaN</td>\n",
       "      <td>no</td>\n",
       "      <td>yes</td>\n",
       "      <td>yes</td>\n",
       "      <td>yes</td>\n",
       "      <td>NaN</td>\n",
       "      <td>4.0</td>\n",
       "      <td>3.0</td>\n",
       "      <td>2.0</td>\n",
       "      <td>3.0</td>\n",
       "      <td>10.0</td>\n",
       "      <td>50.0</td>\n",
       "    </tr>\n",
       "    <tr>\n",
       "      <th>3</th>\n",
       "      <td>GP</td>\n",
       "      <td>F</td>\n",
       "      <td>15</td>\n",
       "      <td>U</td>\n",
       "      <td>GT3</td>\n",
       "      <td>T</td>\n",
       "      <td>4.0</td>\n",
       "      <td>2.0</td>\n",
       "      <td>health</td>\n",
       "      <td>NaN</td>\n",
       "      <td>home</td>\n",
       "      <td>mother</td>\n",
       "      <td>1.0</td>\n",
       "      <td>3.0</td>\n",
       "      <td>0.0</td>\n",
       "      <td>no</td>\n",
       "      <td>yes</td>\n",
       "      <td>yes</td>\n",
       "      <td>yes</td>\n",
       "      <td>yes</td>\n",
       "      <td>yes</td>\n",
       "      <td>yes</td>\n",
       "      <td>yes</td>\n",
       "      <td>3.0</td>\n",
       "      <td>2.0</td>\n",
       "      <td>2.0</td>\n",
       "      <td>5.0</td>\n",
       "      <td>2.0</td>\n",
       "      <td>75.0</td>\n",
       "    </tr>\n",
       "    <tr>\n",
       "      <th>4</th>\n",
       "      <td>GP</td>\n",
       "      <td>F</td>\n",
       "      <td>16</td>\n",
       "      <td>U</td>\n",
       "      <td>GT3</td>\n",
       "      <td>T</td>\n",
       "      <td>3.0</td>\n",
       "      <td>3.0</td>\n",
       "      <td>other</td>\n",
       "      <td>other</td>\n",
       "      <td>home</td>\n",
       "      <td>father</td>\n",
       "      <td>1.0</td>\n",
       "      <td>2.0</td>\n",
       "      <td>0.0</td>\n",
       "      <td>no</td>\n",
       "      <td>yes</td>\n",
       "      <td>yes</td>\n",
       "      <td>no</td>\n",
       "      <td>yes</td>\n",
       "      <td>yes</td>\n",
       "      <td>no</td>\n",
       "      <td>no</td>\n",
       "      <td>4.0</td>\n",
       "      <td>3.0</td>\n",
       "      <td>2.0</td>\n",
       "      <td>5.0</td>\n",
       "      <td>4.0</td>\n",
       "      <td>50.0</td>\n",
       "    </tr>\n",
       "    <tr>\n",
       "      <th>...</th>\n",
       "      <td>...</td>\n",
       "      <td>...</td>\n",
       "      <td>...</td>\n",
       "      <td>...</td>\n",
       "      <td>...</td>\n",
       "      <td>...</td>\n",
       "      <td>...</td>\n",
       "      <td>...</td>\n",
       "      <td>...</td>\n",
       "      <td>...</td>\n",
       "      <td>...</td>\n",
       "      <td>...</td>\n",
       "      <td>...</td>\n",
       "      <td>...</td>\n",
       "      <td>...</td>\n",
       "      <td>...</td>\n",
       "      <td>...</td>\n",
       "      <td>...</td>\n",
       "      <td>...</td>\n",
       "      <td>...</td>\n",
       "      <td>...</td>\n",
       "      <td>...</td>\n",
       "      <td>...</td>\n",
       "      <td>...</td>\n",
       "      <td>...</td>\n",
       "      <td>...</td>\n",
       "      <td>...</td>\n",
       "      <td>...</td>\n",
       "      <td>...</td>\n",
       "    </tr>\n",
       "    <tr>\n",
       "      <th>390</th>\n",
       "      <td>MS</td>\n",
       "      <td>M</td>\n",
       "      <td>20</td>\n",
       "      <td>U</td>\n",
       "      <td>LE3</td>\n",
       "      <td>A</td>\n",
       "      <td>2.0</td>\n",
       "      <td>2.0</td>\n",
       "      <td>services</td>\n",
       "      <td>services</td>\n",
       "      <td>course</td>\n",
       "      <td>NaN</td>\n",
       "      <td>1.0</td>\n",
       "      <td>2.0</td>\n",
       "      <td>2.0</td>\n",
       "      <td>no</td>\n",
       "      <td>yes</td>\n",
       "      <td>yes</td>\n",
       "      <td>no</td>\n",
       "      <td>yes</td>\n",
       "      <td>yes</td>\n",
       "      <td>no</td>\n",
       "      <td>no</td>\n",
       "      <td>5.0</td>\n",
       "      <td>5.0</td>\n",
       "      <td>4.0</td>\n",
       "      <td>4.0</td>\n",
       "      <td>212.0</td>\n",
       "      <td>45.0</td>\n",
       "    </tr>\n",
       "    <tr>\n",
       "      <th>391</th>\n",
       "      <td>MS</td>\n",
       "      <td>M</td>\n",
       "      <td>17</td>\n",
       "      <td>U</td>\n",
       "      <td>LE3</td>\n",
       "      <td>T</td>\n",
       "      <td>3.0</td>\n",
       "      <td>1.0</td>\n",
       "      <td>services</td>\n",
       "      <td>services</td>\n",
       "      <td>course</td>\n",
       "      <td>mother</td>\n",
       "      <td>2.0</td>\n",
       "      <td>1.0</td>\n",
       "      <td>0.0</td>\n",
       "      <td>no</td>\n",
       "      <td>no</td>\n",
       "      <td>no</td>\n",
       "      <td>no</td>\n",
       "      <td>no</td>\n",
       "      <td>yes</td>\n",
       "      <td>yes</td>\n",
       "      <td>no</td>\n",
       "      <td>2.0</td>\n",
       "      <td>4.0</td>\n",
       "      <td>5.0</td>\n",
       "      <td>2.0</td>\n",
       "      <td>3.0</td>\n",
       "      <td>80.0</td>\n",
       "    </tr>\n",
       "    <tr>\n",
       "      <th>392</th>\n",
       "      <td>MS</td>\n",
       "      <td>M</td>\n",
       "      <td>21</td>\n",
       "      <td>R</td>\n",
       "      <td>GT3</td>\n",
       "      <td>T</td>\n",
       "      <td>1.0</td>\n",
       "      <td>1.0</td>\n",
       "      <td>other</td>\n",
       "      <td>other</td>\n",
       "      <td>course</td>\n",
       "      <td>NaN</td>\n",
       "      <td>1.0</td>\n",
       "      <td>1.0</td>\n",
       "      <td>3.0</td>\n",
       "      <td>NaN</td>\n",
       "      <td>no</td>\n",
       "      <td>no</td>\n",
       "      <td>no</td>\n",
       "      <td>no</td>\n",
       "      <td>NaN</td>\n",
       "      <td>no</td>\n",
       "      <td>no</td>\n",
       "      <td>5.0</td>\n",
       "      <td>5.0</td>\n",
       "      <td>3.0</td>\n",
       "      <td>3.0</td>\n",
       "      <td>3.0</td>\n",
       "      <td>35.0</td>\n",
       "    </tr>\n",
       "    <tr>\n",
       "      <th>393</th>\n",
       "      <td>MS</td>\n",
       "      <td>M</td>\n",
       "      <td>18</td>\n",
       "      <td>R</td>\n",
       "      <td>LE3</td>\n",
       "      <td>T</td>\n",
       "      <td>3.0</td>\n",
       "      <td>2.0</td>\n",
       "      <td>services</td>\n",
       "      <td>other</td>\n",
       "      <td>course</td>\n",
       "      <td>mother</td>\n",
       "      <td>3.0</td>\n",
       "      <td>1.0</td>\n",
       "      <td>0.0</td>\n",
       "      <td>no</td>\n",
       "      <td>no</td>\n",
       "      <td>no</td>\n",
       "      <td>NaN</td>\n",
       "      <td>no</td>\n",
       "      <td>yes</td>\n",
       "      <td>yes</td>\n",
       "      <td>no</td>\n",
       "      <td>4.0</td>\n",
       "      <td>4.0</td>\n",
       "      <td>1.0</td>\n",
       "      <td>5.0</td>\n",
       "      <td>0.0</td>\n",
       "      <td>50.0</td>\n",
       "    </tr>\n",
       "    <tr>\n",
       "      <th>394</th>\n",
       "      <td>MS</td>\n",
       "      <td>M</td>\n",
       "      <td>19</td>\n",
       "      <td>U</td>\n",
       "      <td>LE3</td>\n",
       "      <td>T</td>\n",
       "      <td>1.0</td>\n",
       "      <td>1.0</td>\n",
       "      <td>other</td>\n",
       "      <td>at_home</td>\n",
       "      <td>NaN</td>\n",
       "      <td>father</td>\n",
       "      <td>1.0</td>\n",
       "      <td>1.0</td>\n",
       "      <td>0.0</td>\n",
       "      <td>NaN</td>\n",
       "      <td>no</td>\n",
       "      <td>no</td>\n",
       "      <td>no</td>\n",
       "      <td>yes</td>\n",
       "      <td>yes</td>\n",
       "      <td>yes</td>\n",
       "      <td>no</td>\n",
       "      <td>3.0</td>\n",
       "      <td>2.0</td>\n",
       "      <td>3.0</td>\n",
       "      <td>5.0</td>\n",
       "      <td>5.0</td>\n",
       "      <td>45.0</td>\n",
       "    </tr>\n",
       "  </tbody>\n",
       "</table>\n",
       "<p>395 rows × 29 columns</p>\n",
       "</div>"
      ],
      "text/plain": [
       "    school sex  age address fam_size p_status  m_edu  f_edu     m_job  \\\n",
       "0       GP   F   18       U      NaN        A    4.0    4.0   at_home   \n",
       "1       GP   F   17       U      GT3      NaN    1.0    1.0   at_home   \n",
       "2       GP   F   15       U      LE3        T    1.0    1.0   at_home   \n",
       "3       GP   F   15       U      GT3        T    4.0    2.0    health   \n",
       "4       GP   F   16       U      GT3        T    3.0    3.0     other   \n",
       "..     ...  ..  ...     ...      ...      ...    ...    ...       ...   \n",
       "390     MS   M   20       U      LE3        A    2.0    2.0  services   \n",
       "391     MS   M   17       U      LE3        T    3.0    1.0  services   \n",
       "392     MS   M   21       R      GT3        T    1.0    1.0     other   \n",
       "393     MS   M   18       R      LE3        T    3.0    2.0  services   \n",
       "394     MS   M   19       U      LE3        T    1.0    1.0     other   \n",
       "\n",
       "        f_job  reason guardian  travel_time  study_time  failures school_sup  \\\n",
       "0     teacher  course   mother          2.0         2.0       0.0        yes   \n",
       "1       other  course   father          1.0         2.0       0.0         no   \n",
       "2       other   other   mother          1.0         2.0       3.0        yes   \n",
       "3         NaN    home   mother          1.0         3.0       0.0         no   \n",
       "4       other    home   father          1.0         2.0       0.0         no   \n",
       "..        ...     ...      ...          ...         ...       ...        ...   \n",
       "390  services  course      NaN          1.0         2.0       2.0         no   \n",
       "391  services  course   mother          2.0         1.0       0.0         no   \n",
       "392     other  course      NaN          1.0         1.0       3.0        NaN   \n",
       "393     other  course   mother          3.0         1.0       0.0         no   \n",
       "394   at_home     NaN   father          1.0         1.0       0.0        NaN   \n",
       "\n",
       "    fam_sup paid activities nursery higher internet romantic  fam_rel  \\\n",
       "0        no   no         no     yes    yes      NaN       no      4.0   \n",
       "1       yes   no         no      no    yes      yes       no      5.0   \n",
       "2        no  NaN         no     yes    yes      yes      NaN      4.0   \n",
       "3       yes  yes        yes     yes    yes      yes      yes      3.0   \n",
       "4       yes  yes         no     yes    yes       no       no      4.0   \n",
       "..      ...  ...        ...     ...    ...      ...      ...      ...   \n",
       "390     yes  yes         no     yes    yes       no       no      5.0   \n",
       "391      no   no         no      no    yes      yes       no      2.0   \n",
       "392      no   no         no      no    NaN       no       no      5.0   \n",
       "393      no   no        NaN      no    yes      yes       no      4.0   \n",
       "394      no   no         no     yes    yes      yes       no      3.0   \n",
       "\n",
       "     free_time  go_out  health  absences  score  \n",
       "0          3.0     4.0     3.0       6.0   30.0  \n",
       "1          3.0     3.0     3.0       4.0   30.0  \n",
       "2          3.0     2.0     3.0      10.0   50.0  \n",
       "3          2.0     2.0     5.0       2.0   75.0  \n",
       "4          3.0     2.0     5.0       4.0   50.0  \n",
       "..         ...     ...     ...       ...    ...  \n",
       "390        5.0     4.0     4.0     212.0   45.0  \n",
       "391        4.0     5.0     2.0       3.0   80.0  \n",
       "392        5.0     3.0     3.0       3.0   35.0  \n",
       "393        4.0     1.0     5.0       0.0   50.0  \n",
       "394        2.0     3.0     5.0       5.0   45.0  \n",
       "\n",
       "[395 rows x 29 columns]"
      ]
     },
     "metadata": {},
     "output_type": "display_data"
    }
   ],
   "source": [
    "# Переименуем некоторые колонки для стандартизации и облегчения восприятия\n",
    "exam.columns = ['school', 'sex', 'age', 'address', 'fam_size', 'p_status', 'm_edu', 'f_edu',\n",
    "                'm_job', 'f_job', 'reason', 'guardian', 'travel_time', 'study_time',\n",
    "                'failures', 'school_sup', 'fam_sup', 'paid', 'activities', 'nursery',\n",
    "                'higher', 'internet', 'romantic', 'fam_rel', 'free_time', 'go_out',\n",
    "                'health', 'absences', 'score']\n",
    "display(exam)"
   ]
  },
  {
   "cell_type": "markdown",
   "metadata": {},
   "source": [
    "Начинаем проверять данные в числовых столбцах, используя раннее заданную функцию info_col."
   ]
  },
  {
   "cell_type": "code",
   "execution_count": 9,
   "metadata": {},
   "outputs": [
    {
     "name": "stdout",
     "output_type": "stream",
     "text": [
      "Информация о столбце age \n",
      "\n",
      "Какие значения содержатся:\n"
     ]
    },
    {
     "data": {
      "text/plain": [
       "16    104\n",
       "17     98\n",
       "18     82\n",
       "15     82\n",
       "19     24\n",
       "20      3\n",
       "22      1\n",
       "21      1\n",
       "Name: age, dtype: int64"
      ]
     },
     "metadata": {},
     "output_type": "display_data"
    },
    {
     "name": "stdout",
     "output_type": "stream",
     "text": [
      "Тип данных:\n",
      "<class 'pandas.core.frame.DataFrame'>\n",
      "RangeIndex: 395 entries, 0 to 394\n",
      "Data columns (total 1 columns):\n",
      " #   Column  Non-Null Count  Dtype\n",
      "---  ------  --------------  -----\n",
      " 0   age     395 non-null    int64\n",
      "dtypes: int64(1)\n",
      "memory usage: 3.2 KB\n"
     ]
    },
    {
     "data": {
      "text/plain": [
       "None"
      ]
     },
     "metadata": {},
     "output_type": "display_data"
    },
    {
     "data": {
      "text/plain": [
       "<AxesSubplot:>"
      ]
     },
     "metadata": {},
     "output_type": "display_data"
    },
    {
     "data": {
      "image/png": "[encoded data removed]",
      "text/plain": [
       "<Figure size 432x288 with 1 Axes>"
      ]
     },
     "metadata": {
      "needs_background": "light"
     },
     "output_type": "display_data"
    }
   ],
   "source": [
    "# Смотрим, какие значения содержит столбец age (возраст)\n",
    "info_col('age')"
   ]
  },
  {
   "cell_type": "markdown",
   "metadata": {},
   "source": [
    "В столбце 'age' содержатся данные о возрасте учеников. Согласно описанию, возраст от 15 до 22 лет, что соответствует данным в таблице. Данные на всех учеников заполнены, пропусков нет."
   ]
  },
  {
   "cell_type": "code",
   "execution_count": 10,
   "metadata": {},
   "outputs": [
    {
     "name": "stdout",
     "output_type": "stream",
     "text": [
      "Информация о столбце m_edu \n",
      "\n",
      "Какие значения содержатся:\n"
     ]
    },
    {
     "data": {
      "text/plain": [
       "4.0    131\n",
       "2.0    102\n",
       "3.0     97\n",
       "1.0     59\n",
       "0.0      3\n",
       "NaN      3\n",
       "Name: m_edu, dtype: int64"
      ]
     },
     "metadata": {},
     "output_type": "display_data"
    },
    {
     "name": "stdout",
     "output_type": "stream",
     "text": [
      "Тип данных:\n",
      "<class 'pandas.core.frame.DataFrame'>\n",
      "RangeIndex: 395 entries, 0 to 394\n",
      "Data columns (total 1 columns):\n",
      " #   Column  Non-Null Count  Dtype  \n",
      "---  ------  --------------  -----  \n",
      " 0   m_edu   392 non-null    float64\n",
      "dtypes: float64(1)\n",
      "memory usage: 3.2 KB\n"
     ]
    },
    {
     "data": {
      "text/plain": [
       "None"
      ]
     },
     "metadata": {},
     "output_type": "display_data"
    },
    {
     "data": {
      "text/plain": [
       "<AxesSubplot:>"
      ]
     },
     "metadata": {},
     "output_type": "display_data"
    },
    {
     "data": {
      "image/png": "[encoded data removed]",
      "text/plain": [
       "<Figure size 432x288 with 1 Axes>"
      ]
     },
     "metadata": {
      "needs_background": "light"
     },
     "output_type": "display_data"
    }
   ],
   "source": [
    "# Смотрим, какие значения содержит столбец m_edu (образование матери)\n",
    "info_col('m_edu')"
   ]
  },
  {
   "cell_type": "markdown",
   "metadata": {},
   "source": [
    "В столбце 'm_edu' содержатся данные об образовании матери. Значения должны принимать значения (0, 1, 2, 3, 4), что мы и наблюдаем. В столбце пропущены три значения."
   ]
  },
  {
   "cell_type": "code",
   "execution_count": 11,
   "metadata": {},
   "outputs": [
    {
     "name": "stdout",
     "output_type": "stream",
     "text": [
      "Информация о столбце f_edu \n",
      "\n",
      "Какие значения содержатся:\n"
     ]
    },
    {
     "data": {
      "text/plain": [
       "2.0     106\n",
       "3.0      96\n",
       "4.0      88\n",
       "1.0      78\n",
       "NaN      24\n",
       "0.0       2\n",
       "40.0      1\n",
       "Name: f_edu, dtype: int64"
      ]
     },
     "metadata": {},
     "output_type": "display_data"
    },
    {
     "name": "stdout",
     "output_type": "stream",
     "text": [
      "Тип данных:\n",
      "<class 'pandas.core.frame.DataFrame'>\n",
      "RangeIndex: 395 entries, 0 to 394\n",
      "Data columns (total 1 columns):\n",
      " #   Column  Non-Null Count  Dtype  \n",
      "---  ------  --------------  -----  \n",
      " 0   f_edu   371 non-null    float64\n",
      "dtypes: float64(1)\n",
      "memory usage: 3.2 KB\n"
     ]
    },
    {
     "data": {
      "text/plain": [
       "None"
      ]
     },
     "metadata": {},
     "output_type": "display_data"
    },
    {
     "data": {
      "text/plain": [
       "<AxesSubplot:>"
      ]
     },
     "metadata": {},
     "output_type": "display_data"
    },
    {
     "data": {
      "image/png": "[encoded data removed]",
      "text/plain": [
       "<Figure size 432x288 with 1 Axes>"
      ]
     },
     "metadata": {
      "needs_background": "light"
     },
     "output_type": "display_data"
    }
   ],
   "source": [
    "# Смотрим, какие значения содержит столбец f_edu (образование отца)\n",
    "info_col('f_edu')"
   ]
  },
  {
   "cell_type": "code",
   "execution_count": 12,
   "metadata": {},
   "outputs": [
    {
     "name": "stdout",
     "output_type": "stream",
     "text": [
      "Информация о столбце f_edu \n",
      "\n",
      "Какие значения содержатся:\n"
     ]
    },
    {
     "data": {
      "text/plain": [
       "2.0    106\n",
       "3.0     96\n",
       "4.0     88\n",
       "1.0     78\n",
       "NaN     24\n",
       "0.0      2\n",
       "Name: f_edu, dtype: int64"
      ]
     },
     "metadata": {},
     "output_type": "display_data"
    },
    {
     "name": "stdout",
     "output_type": "stream",
     "text": [
      "Тип данных:\n",
      "<class 'pandas.core.frame.DataFrame'>\n",
      "Int64Index: 394 entries, 0 to 394\n",
      "Data columns (total 1 columns):\n",
      " #   Column  Non-Null Count  Dtype  \n",
      "---  ------  --------------  -----  \n",
      " 0   f_edu   370 non-null    float64\n",
      "dtypes: float64(1)\n",
      "memory usage: 6.2 KB\n"
     ]
    },
    {
     "data": {
      "text/plain": [
       "None"
      ]
     },
     "metadata": {},
     "output_type": "display_data"
    },
    {
     "data": {
      "text/plain": [
       "<AxesSubplot:>"
      ]
     },
     "metadata": {},
     "output_type": "display_data"
    },
    {
     "data": {
      "image/png": "[encoded data removed]",
      "text/plain": [
       "<Figure size 432x288 with 1 Axes>"
      ]
     },
     "metadata": {
      "needs_background": "light"
     },
     "output_type": "display_data"
    }
   ],
   "source": [
    "# Значения в этом столбце также должны принимать значения (0, 1, 2, 3, 4). Значение 40 - явная ошибка.\n",
    "# Её нужно исправить. Так как достоверно неизвестно, какое значение должно быть, удаляем всю строку\n",
    "\n",
    "exam.drop(exam[exam.f_edu == 40].index, inplace = True)\n",
    "info_col('f_edu')"
   ]
  },
  {
   "cell_type": "markdown",
   "metadata": {},
   "source": [
    "Теперь значения в столбце 'f_edu' приведены в норму. К сожалению, отсутствующих данных тут гораздо больше, чем в предыдущем столбце - отсутствуют 24 значения."
   ]
  },
  {
   "cell_type": "code",
   "execution_count": 13,
   "metadata": {},
   "outputs": [
    {
     "name": "stdout",
     "output_type": "stream",
     "text": [
      "Информация о столбце travel_time \n",
      "\n",
      "Какие значения содержатся:\n"
     ]
    },
    {
     "data": {
      "text/plain": [
       "1.0    242\n",
       "2.0     96\n",
       "NaN     28\n",
       "3.0     21\n",
       "4.0      7\n",
       "Name: travel_time, dtype: int64"
      ]
     },
     "metadata": {},
     "output_type": "display_data"
    },
    {
     "name": "stdout",
     "output_type": "stream",
     "text": [
      "Тип данных:\n",
      "<class 'pandas.core.frame.DataFrame'>\n",
      "Int64Index: 394 entries, 0 to 394\n",
      "Data columns (total 1 columns):\n",
      " #   Column       Non-Null Count  Dtype  \n",
      "---  ------       --------------  -----  \n",
      " 0   travel_time  366 non-null    float64\n",
      "dtypes: float64(1)\n",
      "memory usage: 6.2 KB\n"
     ]
    },
    {
     "data": {
      "text/plain": [
       "None"
      ]
     },
     "metadata": {},
     "output_type": "display_data"
    },
    {
     "data": {
      "text/plain": [
       "<AxesSubplot:>"
      ]
     },
     "metadata": {},
     "output_type": "display_data"
    },
    {
     "data": {
      "image/png": "[encoded data removed]",
      "text/plain": [
       "<Figure size 432x288 with 1 Axes>"
      ]
     },
     "metadata": {
      "needs_background": "light"
     },
     "output_type": "display_data"
    }
   ],
   "source": [
    "# Смотрим, какие значения содержит столбец travel_time (время в пути до школы)\n",
    "info_col('travel_time')"
   ]
  },
  {
   "cell_type": "markdown",
   "metadata": {},
   "source": [
    "Столбец не содержит аномальных значений. Отсутствующих данных тут ещё больше - 28."
   ]
  },
  {
   "cell_type": "code",
   "execution_count": 14,
   "metadata": {},
   "outputs": [
    {
     "name": "stdout",
     "output_type": "stream",
     "text": [
      "Информация о столбце study_time \n",
      "\n",
      "Какие значения содержатся:\n"
     ]
    },
    {
     "data": {
      "text/plain": [
       "2.0    194\n",
       "1.0    103\n",
       "3.0     63\n",
       "4.0     27\n",
       "NaN      7\n",
       "Name: study_time, dtype: int64"
      ]
     },
     "metadata": {},
     "output_type": "display_data"
    },
    {
     "name": "stdout",
     "output_type": "stream",
     "text": [
      "Тип данных:\n",
      "<class 'pandas.core.frame.DataFrame'>\n",
      "Int64Index: 394 entries, 0 to 394\n",
      "Data columns (total 1 columns):\n",
      " #   Column      Non-Null Count  Dtype  \n",
      "---  ------      --------------  -----  \n",
      " 0   study_time  387 non-null    float64\n",
      "dtypes: float64(1)\n",
      "memory usage: 6.2 KB\n"
     ]
    },
    {
     "data": {
      "text/plain": [
       "None"
      ]
     },
     "metadata": {},
     "output_type": "display_data"
    },
    {
     "data": {
      "text/plain": [
       "<AxesSubplot:>"
      ]
     },
     "metadata": {},
     "output_type": "display_data"
    },
    {
     "data": {
      "image/png": "[encoded data removed]",
      "text/plain": [
       "<Figure size 432x288 with 1 Axes>"
      ]
     },
     "metadata": {
      "needs_background": "light"
     },
     "output_type": "display_data"
    }
   ],
   "source": [
    "# Смотрим, какие значения содержит столбец study_time (время на учёбу помимо школы)\n",
    "info_col('study_time')"
   ]
  },
  {
   "cell_type": "markdown",
   "metadata": {},
   "source": [
    "Столбец не содержит ошибочных значений. Пропущенных значений 7."
   ]
  },
  {
   "cell_type": "code",
   "execution_count": 15,
   "metadata": {},
   "outputs": [
    {
     "name": "stdout",
     "output_type": "stream",
     "text": [
      "Информация о столбце failures \n",
      "\n",
      "Какие значения содержатся:\n"
     ]
    },
    {
     "data": {
      "text/plain": [
       "0.0    292\n",
       "1.0     49\n",
       "NaN     22\n",
       "2.0     16\n",
       "3.0     15\n",
       "Name: failures, dtype: int64"
      ]
     },
     "metadata": {},
     "output_type": "display_data"
    },
    {
     "name": "stdout",
     "output_type": "stream",
     "text": [
      "Тип данных:\n",
      "<class 'pandas.core.frame.DataFrame'>\n",
      "Int64Index: 394 entries, 0 to 394\n",
      "Data columns (total 1 columns):\n",
      " #   Column    Non-Null Count  Dtype  \n",
      "---  ------    --------------  -----  \n",
      " 0   failures  372 non-null    float64\n",
      "dtypes: float64(1)\n",
      "memory usage: 6.2 KB\n"
     ]
    },
    {
     "data": {
      "text/plain": [
       "None"
      ]
     },
     "metadata": {},
     "output_type": "display_data"
    },
    {
     "data": {
      "text/plain": [
       "<AxesSubplot:>"
      ]
     },
     "metadata": {},
     "output_type": "display_data"
    },
    {
     "data": {
      "image/png": "[encoded data removed]",
      "text/plain": [
       "<Figure size 432x288 with 1 Axes>"
      ]
     },
     "metadata": {
      "needs_background": "light"
     },
     "output_type": "display_data"
    }
   ],
   "source": [
    "# Смотрим, какие значения содержит столбец failures (количество внеучебных неудач)\n",
    "info_col('failures')"
   ]
  },
  {
   "cell_type": "markdown",
   "metadata": {},
   "source": [
    "Столбец не содержит ошибочных значений. Пропущенных значений 22."
   ]
  },
  {
   "cell_type": "code",
   "execution_count": 16,
   "metadata": {},
   "outputs": [
    {
     "name": "stdout",
     "output_type": "stream",
     "text": [
      "Информация о столбце fam_rel \n",
      "\n",
      "Какие значения содержатся:\n"
     ]
    },
    {
     "data": {
      "text/plain": [
       " 4.0    182\n",
       " 5.0     98\n",
       " 3.0     62\n",
       " NaN     27\n",
       " 2.0     17\n",
       " 1.0      7\n",
       "-1.0      1\n",
       "Name: fam_rel, dtype: int64"
      ]
     },
     "metadata": {},
     "output_type": "display_data"
    },
    {
     "name": "stdout",
     "output_type": "stream",
     "text": [
      "Тип данных:\n",
      "<class 'pandas.core.frame.DataFrame'>\n",
      "Int64Index: 394 entries, 0 to 394\n",
      "Data columns (total 1 columns):\n",
      " #   Column   Non-Null Count  Dtype  \n",
      "---  ------   --------------  -----  \n",
      " 0   fam_rel  367 non-null    float64\n",
      "dtypes: float64(1)\n",
      "memory usage: 6.2 KB\n"
     ]
    },
    {
     "data": {
      "text/plain": [
       "None"
      ]
     },
     "metadata": {},
     "output_type": "display_data"
    },
    {
     "data": {
      "text/plain": [
       "<AxesSubplot:>"
      ]
     },
     "metadata": {},
     "output_type": "display_data"
    },
    {
     "data": {
      "image/png": "[encoded data removed]",
      "text/plain": [
       "<Figure size 432x288 with 1 Axes>"
      ]
     },
     "metadata": {
      "needs_background": "light"
     },
     "output_type": "display_data"
    }
   ],
   "source": [
    "# Смотрим, какие значения содержит столбец fam_rel (семейные отношения)\n",
    "info_col('fam_rel')"
   ]
  },
  {
   "cell_type": "code",
   "execution_count": 17,
   "metadata": {},
   "outputs": [
    {
     "name": "stdout",
     "output_type": "stream",
     "text": [
      "Информация о столбце fam_rel \n",
      "\n",
      "Какие значения содержатся:\n"
     ]
    },
    {
     "data": {
      "text/plain": [
       "4.0    182\n",
       "5.0     98\n",
       "3.0     62\n",
       "NaN     27\n",
       "2.0     17\n",
       "1.0      7\n",
       "Name: fam_rel, dtype: int64"
      ]
     },
     "metadata": {},
     "output_type": "display_data"
    },
    {
     "name": "stdout",
     "output_type": "stream",
     "text": [
      "Тип данных:\n",
      "<class 'pandas.core.frame.DataFrame'>\n",
      "Int64Index: 393 entries, 0 to 394\n",
      "Data columns (total 1 columns):\n",
      " #   Column   Non-Null Count  Dtype  \n",
      "---  ------   --------------  -----  \n",
      " 0   fam_rel  366 non-null    float64\n",
      "dtypes: float64(1)\n",
      "memory usage: 6.1 KB\n"
     ]
    },
    {
     "data": {
      "text/plain": [
       "None"
      ]
     },
     "metadata": {},
     "output_type": "display_data"
    },
    {
     "data": {
      "text/plain": [
       "<AxesSubplot:>"
      ]
     },
     "metadata": {},
     "output_type": "display_data"
    },
    {
     "data": {
      "image/png": "[encoded data removed]",
      "text/plain": [
       "<Figure size 432x288 with 1 Axes>"
      ]
     },
     "metadata": {
      "needs_background": "light"
     },
     "output_type": "display_data"
    }
   ],
   "source": [
    "# Значение -1 является ошибкой, так как значения должны быть 1, 2, 3, 4 или 5. Удаляем строку с этим значением\n",
    "exam.drop(exam[exam.fam_rel == -1].index, inplace = True)\n",
    "info_col('fam_rel')"
   ]
  },
  {
   "cell_type": "markdown",
   "metadata": {},
   "source": [
    "Теперь столбец не содержит ошибочных значений. Пропущенных значений 27"
   ]
  },
  {
   "cell_type": "code",
   "execution_count": 18,
   "metadata": {},
   "outputs": [
    {
     "name": "stdout",
     "output_type": "stream",
     "text": [
      "Информация о столбце free_time \n",
      "\n",
      "Какие значения содержатся:\n"
     ]
    },
    {
     "data": {
      "text/plain": [
       "3.0    153\n",
       "4.0    112\n",
       "2.0     61\n",
       "5.0     38\n",
       "1.0     18\n",
       "NaN     11\n",
       "Name: free_time, dtype: int64"
      ]
     },
     "metadata": {},
     "output_type": "display_data"
    },
    {
     "name": "stdout",
     "output_type": "stream",
     "text": [
      "Тип данных:\n",
      "<class 'pandas.core.frame.DataFrame'>\n",
      "Int64Index: 393 entries, 0 to 394\n",
      "Data columns (total 1 columns):\n",
      " #   Column     Non-Null Count  Dtype  \n",
      "---  ------     --------------  -----  \n",
      " 0   free_time  382 non-null    float64\n",
      "dtypes: float64(1)\n",
      "memory usage: 6.1 KB\n"
     ]
    },
    {
     "data": {
      "text/plain": [
       "None"
      ]
     },
     "metadata": {},
     "output_type": "display_data"
    },
    {
     "data": {
      "text/plain": [
       "<AxesSubplot:>"
      ]
     },
     "metadata": {},
     "output_type": "display_data"
    },
    {
     "data": {
      "image/png": "[encoded data removed]",
      "text/plain": [
       "<Figure size 432x288 with 1 Axes>"
      ]
     },
     "metadata": {
      "needs_background": "light"
     },
     "output_type": "display_data"
    }
   ],
   "source": [
    "# Смотрим, какие значения содержит столбец free_time (свободное время после школы)\n",
    "info_col('free_time')"
   ]
  },
  {
   "cell_type": "markdown",
   "metadata": {},
   "source": [
    "Столбец не содержит ошибочных значений. Пропущенных значений 11."
   ]
  },
  {
   "cell_type": "code",
   "execution_count": 19,
   "metadata": {},
   "outputs": [
    {
     "name": "stdout",
     "output_type": "stream",
     "text": [
      "Информация о столбце go_out \n",
      "\n",
      "Какие значения содержатся:\n"
     ]
    },
    {
     "data": {
      "text/plain": [
       "3.0    127\n",
       "2.0     99\n",
       "4.0     84\n",
       "5.0     52\n",
       "1.0     23\n",
       "NaN      8\n",
       "Name: go_out, dtype: int64"
      ]
     },
     "metadata": {},
     "output_type": "display_data"
    },
    {
     "name": "stdout",
     "output_type": "stream",
     "text": [
      "Тип данных:\n",
      "<class 'pandas.core.frame.DataFrame'>\n",
      "Int64Index: 393 entries, 0 to 394\n",
      "Data columns (total 1 columns):\n",
      " #   Column  Non-Null Count  Dtype  \n",
      "---  ------  --------------  -----  \n",
      " 0   go_out  385 non-null    float64\n",
      "dtypes: float64(1)\n",
      "memory usage: 6.1 KB\n"
     ]
    },
    {
     "data": {
      "text/plain": [
       "None"
      ]
     },
     "metadata": {},
     "output_type": "display_data"
    },
    {
     "data": {
      "text/plain": [
       "<AxesSubplot:>"
      ]
     },
     "metadata": {},
     "output_type": "display_data"
    },
    {
     "data": {
      "image/png": "[encoded data removed]",
      "text/plain": [
       "<Figure size 432x288 with 1 Axes>"
      ]
     },
     "metadata": {
      "needs_background": "light"
     },
     "output_type": "display_data"
    }
   ],
   "source": [
    "# Смотрим, какие значения содержит столбец go_out (время, проведённое с друзьями)\n",
    "info_col('go_out')"
   ]
  },
  {
   "cell_type": "markdown",
   "metadata": {},
   "source": [
    "Столбец не содержит ошибочных значений. Пропущенных значений 8."
   ]
  },
  {
   "cell_type": "code",
   "execution_count": 20,
   "metadata": {},
   "outputs": [
    {
     "name": "stdout",
     "output_type": "stream",
     "text": [
      "Информация о столбце health \n",
      "\n",
      "Какие значения содержатся:\n"
     ]
    },
    {
     "data": {
      "text/plain": [
       "5.0    137\n",
       "3.0     89\n",
       "4.0     62\n",
       "1.0     47\n",
       "2.0     43\n",
       "NaN     15\n",
       "Name: health, dtype: int64"
      ]
     },
     "metadata": {},
     "output_type": "display_data"
    },
    {
     "name": "stdout",
     "output_type": "stream",
     "text": [
      "Тип данных:\n",
      "<class 'pandas.core.frame.DataFrame'>\n",
      "Int64Index: 393 entries, 0 to 394\n",
      "Data columns (total 1 columns):\n",
      " #   Column  Non-Null Count  Dtype  \n",
      "---  ------  --------------  -----  \n",
      " 0   health  378 non-null    float64\n",
      "dtypes: float64(1)\n",
      "memory usage: 6.1 KB\n"
     ]
    },
    {
     "data": {
      "text/plain": [
       "None"
      ]
     },
     "metadata": {},
     "output_type": "display_data"
    },
    {
     "data": {
      "text/plain": [
       "<AxesSubplot:>"
      ]
     },
     "metadata": {},
     "output_type": "display_data"
    },
    {
     "data": {
      "image/png": "[encoded data removed]",
      "text/plain": [
       "<Figure size 432x288 with 1 Axes>"
      ]
     },
     "metadata": {
      "needs_background": "light"
     },
     "output_type": "display_data"
    }
   ],
   "source": [
    "# Смотрим, какие значения содержит столбец health (текущее состояние здоровья)\n",
    "info_col('health')"
   ]
  },
  {
   "cell_type": "markdown",
   "metadata": {},
   "source": [
    "Столбец не содержит ошибочных значений. Пропущенных значений 15."
   ]
  },
  {
   "cell_type": "code",
   "execution_count": 21,
   "metadata": {},
   "outputs": [
    {
     "name": "stdout",
     "output_type": "stream",
     "text": [
      "Информация о столбце absences \n",
      "\n",
      "Какие значения содержатся:\n"
     ]
    },
    {
     "data": {
      "text/plain": [
       "0.0      111\n",
       "2.0       60\n",
       "4.0       52\n",
       "6.0       31\n",
       "8.0       21\n",
       "10.0      17\n",
       "12.0      12\n",
       "NaN       12\n",
       "14.0      11\n",
       "3.0        8\n",
       "16.0       7\n",
       "7.0        6\n",
       "5.0        5\n",
       "18.0       5\n",
       "20.0       4\n",
       "1.0        3\n",
       "22.0       3\n",
       "9.0        3\n",
       "13.0       2\n",
       "15.0       2\n",
       "11.0       2\n",
       "25.0       1\n",
       "54.0       1\n",
       "385.0      1\n",
       "26.0       1\n",
       "56.0       1\n",
       "24.0       1\n",
       "212.0      1\n",
       "21.0       1\n",
       "75.0       1\n",
       "30.0       1\n",
       "19.0       1\n",
       "38.0       1\n",
       "40.0       1\n",
       "23.0       1\n",
       "17.0       1\n",
       "28.0       1\n",
       "Name: absences, dtype: int64"
      ]
     },
     "metadata": {},
     "output_type": "display_data"
    },
    {
     "name": "stdout",
     "output_type": "stream",
     "text": [
      "Тип данных:\n",
      "<class 'pandas.core.frame.DataFrame'>\n",
      "Int64Index: 393 entries, 0 to 394\n",
      "Data columns (total 1 columns):\n",
      " #   Column    Non-Null Count  Dtype  \n",
      "---  ------    --------------  -----  \n",
      " 0   absences  381 non-null    float64\n",
      "dtypes: float64(1)\n",
      "memory usage: 6.1 KB\n"
     ]
    },
    {
     "data": {
      "text/plain": [
       "None"
      ]
     },
     "metadata": {},
     "output_type": "display_data"
    },
    {
     "data": {
      "text/plain": [
       "<AxesSubplot:>"
      ]
     },
     "metadata": {},
     "output_type": "display_data"
    },
    {
     "data": {
      "image/png": "[encoded data removed]",
      "text/plain": [
       "<Figure size 432x288 with 1 Axes>"
      ]
     },
     "metadata": {
      "needs_background": "light"
     },
     "output_type": "display_data"
    }
   ],
   "source": [
    "# Смотрим, какие значения содержит столбец absences (количество пропущенных занятий)\n",
    "info_col('absences')"
   ]
  },
  {
   "cell_type": "code",
   "execution_count": 22,
   "metadata": {},
   "outputs": [
    {
     "name": "stdout",
     "output_type": "stream",
     "text": [
      "25-й перцентиль: 0.0, 75-й перцентиль: 8.0, IQR: 8.0,  Границы выбросов: [-12.0, 20.0].\n"
     ]
    }
   ],
   "source": [
    "# Так как числовых данных достаточно много и они лежат в большом промежутке, проверим, есть ли здесь выбросы с помощью\n",
    "# функции quan_info. Присвоим переменным low, high значения границ выбросов. \n",
    "quan_info('absences')"
   ]
  },
  {
   "cell_type": "code",
   "execution_count": 23,
   "metadata": {},
   "outputs": [
    {
     "data": {
      "text/plain": [
       "13"
      ]
     },
     "execution_count": 23,
     "metadata": {},
     "output_type": "execute_result"
    }
   ],
   "source": [
    "# Как видим, количество пропущенных занятий больше двадцати является выбросом.\n",
    "# Анализируем значения в столбце, видим, что значение 22 встречается три раза.\n",
    "# Большие значения встречаются по одному разу. Исходя из этого, считаем значения больше 22 \n",
    "# выбросами и удаляем их из таблицы\n",
    "\n",
    "# Проверяем, много ли таких учащихся.\n",
    "len(exam[exam.absences > 22])"
   ]
  },
  {
   "cell_type": "code",
   "execution_count": 24,
   "metadata": {},
   "outputs": [],
   "source": [
    "# Теперь удаляем всех учащихся, пропустивших больше двадцати двух занятий\n",
    "exam.drop(exam[exam.absences > 22].index, inplace = True)"
   ]
  },
  {
   "cell_type": "markdown",
   "metadata": {},
   "source": [
    "Из числовых колонок осталась только колонка score. Оставим её напоследок.\n",
    "Теперь подобным образом просмотрим данные в нечисловых колонках"
   ]
  },
  {
   "cell_type": "code",
   "execution_count": 25,
   "metadata": {},
   "outputs": [
    {
     "name": "stdout",
     "output_type": "stream",
     "text": [
      "Информация о столбце school \n",
      "\n",
      "Какие значения содержатся:\n"
     ]
    },
    {
     "data": {
      "text/plain": [
       "GP    335\n",
       "MS     45\n",
       "Name: school, dtype: int64"
      ]
     },
     "metadata": {},
     "output_type": "display_data"
    },
    {
     "name": "stdout",
     "output_type": "stream",
     "text": [
      "Тип данных:\n",
      "<class 'pandas.core.frame.DataFrame'>\n",
      "Int64Index: 380 entries, 0 to 394\n",
      "Data columns (total 1 columns):\n",
      " #   Column  Non-Null Count  Dtype \n",
      "---  ------  --------------  ----- \n",
      " 0   school  380 non-null    object\n",
      "dtypes: object(1)\n",
      "memory usage: 5.9+ KB\n"
     ]
    },
    {
     "data": {
      "text/plain": [
       "None"
      ]
     },
     "metadata": {},
     "output_type": "display_data"
    },
    {
     "data": {
      "text/plain": [
       "<AxesSubplot:>"
      ]
     },
     "metadata": {},
     "output_type": "display_data"
    },
    {
     "data": {
      "image/png": "[encoded data removed]",
      "text/plain": [
       "<Figure size 432x288 with 1 Axes>"
      ]
     },
     "metadata": {
      "needs_background": "light"
     },
     "output_type": "display_data"
    }
   ],
   "source": [
    "# Смотрим, какие значения содержит столбец school (аббревиатура школы)\n",
    "info_col('school')"
   ]
  },
  {
   "cell_type": "markdown",
   "metadata": {},
   "source": [
    "Колонка содержит только два значения. Данные заполнены полностью."
   ]
  },
  {
   "cell_type": "code",
   "execution_count": 26,
   "metadata": {},
   "outputs": [
    {
     "name": "stdout",
     "output_type": "stream",
     "text": [
      "Информация о столбце sex \n",
      "\n",
      "Какие значения содержатся:\n"
     ]
    },
    {
     "data": {
      "text/plain": [
       "F    196\n",
       "M    184\n",
       "Name: sex, dtype: int64"
      ]
     },
     "metadata": {},
     "output_type": "display_data"
    },
    {
     "name": "stdout",
     "output_type": "stream",
     "text": [
      "Тип данных:\n",
      "<class 'pandas.core.frame.DataFrame'>\n",
      "Int64Index: 380 entries, 0 to 394\n",
      "Data columns (total 1 columns):\n",
      " #   Column  Non-Null Count  Dtype \n",
      "---  ------  --------------  ----- \n",
      " 0   sex     380 non-null    object\n",
      "dtypes: object(1)\n",
      "memory usage: 5.9+ KB\n"
     ]
    },
    {
     "data": {
      "text/plain": [
       "None"
      ]
     },
     "metadata": {},
     "output_type": "display_data"
    },
    {
     "data": {
      "text/plain": [
       "<AxesSubplot:>"
      ]
     },
     "metadata": {},
     "output_type": "display_data"
    },
    {
     "data": {
      "image/png": "[encoded data removed]",
      "text/plain": [
       "<Figure size 432x288 with 1 Axes>"
      ]
     },
     "metadata": {
      "needs_background": "light"
     },
     "output_type": "display_data"
    }
   ],
   "source": [
    "# Смотрим, какие значения содержит столбец sex (пол ученика)\n",
    "info_col('sex')"
   ]
  },
  {
   "cell_type": "markdown",
   "metadata": {},
   "source": [
    "Колонка содержит только два значения. Данные заполнены полностью."
   ]
  },
  {
   "cell_type": "code",
   "execution_count": 27,
   "metadata": {},
   "outputs": [
    {
     "name": "stdout",
     "output_type": "stream",
     "text": [
      "Информация о столбце address \n",
      "\n",
      "Какие значения содержатся:\n"
     ]
    },
    {
     "data": {
      "text/plain": [
       "U      282\n",
       "R       81\n",
       "NaN     17\n",
       "Name: address, dtype: int64"
      ]
     },
     "metadata": {},
     "output_type": "display_data"
    },
    {
     "name": "stdout",
     "output_type": "stream",
     "text": [
      "Тип данных:\n",
      "<class 'pandas.core.frame.DataFrame'>\n",
      "Int64Index: 380 entries, 0 to 394\n",
      "Data columns (total 1 columns):\n",
      " #   Column   Non-Null Count  Dtype \n",
      "---  ------   --------------  ----- \n",
      " 0   address  363 non-null    object\n",
      "dtypes: object(1)\n",
      "memory usage: 5.9+ KB\n"
     ]
    },
    {
     "data": {
      "text/plain": [
       "None"
      ]
     },
     "metadata": {},
     "output_type": "display_data"
    },
    {
     "data": {
      "text/plain": [
       "<AxesSubplot:>"
      ]
     },
     "metadata": {},
     "output_type": "display_data"
    },
    {
     "data": {
      "image/png": "[encoded data removed]",
      "text/plain": [
       "<Figure size 432x288 with 1 Axes>"
      ]
     },
     "metadata": {
      "needs_background": "light"
     },
     "output_type": "display_data"
    }
   ],
   "source": [
    "# Смотрим, какие значения содержит столбец address (тип адреса ученика)\n",
    "info_col('address')"
   ]
  },
  {
   "cell_type": "markdown",
   "metadata": {},
   "source": [
    "Колонка содержит только два значения. В данных пропущено 17 значений."
   ]
  },
  {
   "cell_type": "code",
   "execution_count": 28,
   "metadata": {},
   "outputs": [
    {
     "name": "stdout",
     "output_type": "stream",
     "text": [
      "Информация о столбце fam_size \n",
      "\n",
      "Какие значения содержатся:\n"
     ]
    },
    {
     "data": {
      "text/plain": [
       "GT3    250\n",
       "LE3    104\n",
       "NaN     26\n",
       "Name: fam_size, dtype: int64"
      ]
     },
     "metadata": {},
     "output_type": "display_data"
    },
    {
     "name": "stdout",
     "output_type": "stream",
     "text": [
      "Тип данных:\n",
      "<class 'pandas.core.frame.DataFrame'>\n",
      "Int64Index: 380 entries, 0 to 394\n",
      "Data columns (total 1 columns):\n",
      " #   Column    Non-Null Count  Dtype \n",
      "---  ------    --------------  ----- \n",
      " 0   fam_size  354 non-null    object\n",
      "dtypes: object(1)\n",
      "memory usage: 5.9+ KB\n"
     ]
    },
    {
     "data": {
      "text/plain": [
       "None"
      ]
     },
     "metadata": {},
     "output_type": "display_data"
    },
    {
     "data": {
      "text/plain": [
       "<AxesSubplot:>"
      ]
     },
     "metadata": {},
     "output_type": "display_data"
    },
    {
     "data": {
      "image/png": "[encoded data removed]",
      "text/plain": [
       "<Figure size 432x288 with 1 Axes>"
      ]
     },
     "metadata": {
      "needs_background": "light"
     },
     "output_type": "display_data"
    }
   ],
   "source": [
    "# Смотрим, какие значения содержит столбец fam_size (размер семьи)\n",
    "info_col('fam_size')"
   ]
  },
  {
   "cell_type": "markdown",
   "metadata": {},
   "source": [
    "Колонка содержит только два значения. В данных пропущено 25 значений."
   ]
  },
  {
   "cell_type": "code",
   "execution_count": 29,
   "metadata": {},
   "outputs": [
    {
     "name": "stdout",
     "output_type": "stream",
     "text": [
      "Информация о столбце p_status \n",
      "\n",
      "Какие значения содержатся:\n"
     ]
    },
    {
     "data": {
      "text/plain": [
       "T      308\n",
       "NaN     40\n",
       "A       32\n",
       "Name: p_status, dtype: int64"
      ]
     },
     "metadata": {},
     "output_type": "display_data"
    },
    {
     "name": "stdout",
     "output_type": "stream",
     "text": [
      "Тип данных:\n",
      "<class 'pandas.core.frame.DataFrame'>\n",
      "Int64Index: 380 entries, 0 to 394\n",
      "Data columns (total 1 columns):\n",
      " #   Column    Non-Null Count  Dtype \n",
      "---  ------    --------------  ----- \n",
      " 0   p_status  340 non-null    object\n",
      "dtypes: object(1)\n",
      "memory usage: 5.9+ KB\n"
     ]
    },
    {
     "data": {
      "text/plain": [
       "None"
      ]
     },
     "metadata": {},
     "output_type": "display_data"
    },
    {
     "data": {
      "text/plain": [
       "<AxesSubplot:>"
      ]
     },
     "metadata": {},
     "output_type": "display_data"
    },
    {
     "data": {
      "image/png": "[encoded data removed]",
      "text/plain": [
       "<Figure size 432x288 with 1 Axes>"
      ]
     },
     "metadata": {
      "needs_background": "light"
     },
     "output_type": "display_data"
    }
   ],
   "source": [
    "# Смотрим, какие значения содержит столбец p_status (статус совместного жилья родителей)\n",
    "info_col('p_status')"
   ]
  },
  {
   "cell_type": "markdown",
   "metadata": {},
   "source": [
    "Колонка содержит только два значения. В данных пропущено 38 значений."
   ]
  },
  {
   "cell_type": "code",
   "execution_count": 30,
   "metadata": {},
   "outputs": [
    {
     "name": "stdout",
     "output_type": "stream",
     "text": [
      "Информация о столбце m_job \n",
      "\n",
      "Какие значения содержатся:\n"
     ]
    },
    {
     "data": {
      "text/plain": [
       "other       128\n",
       "services     90\n",
       "at_home      57\n",
       "teacher      54\n",
       "health       32\n",
       "NaN          19\n",
       "Name: m_job, dtype: int64"
      ]
     },
     "metadata": {},
     "output_type": "display_data"
    },
    {
     "name": "stdout",
     "output_type": "stream",
     "text": [
      "Тип данных:\n",
      "<class 'pandas.core.frame.DataFrame'>\n",
      "Int64Index: 380 entries, 0 to 394\n",
      "Data columns (total 1 columns):\n",
      " #   Column  Non-Null Count  Dtype \n",
      "---  ------  --------------  ----- \n",
      " 0   m_job   361 non-null    object\n",
      "dtypes: object(1)\n",
      "memory usage: 5.9+ KB\n"
     ]
    },
    {
     "data": {
      "text/plain": [
       "None"
      ]
     },
     "metadata": {},
     "output_type": "display_data"
    },
    {
     "data": {
      "text/plain": [
       "<AxesSubplot:>"
      ]
     },
     "metadata": {},
     "output_type": "display_data"
    },
    {
     "data": {
      "image/png": "[encoded data removed]",
      "text/plain": [
       "<Figure size 432x288 with 1 Axes>"
      ]
     },
     "metadata": {
      "needs_background": "light"
     },
     "output_type": "display_data"
    }
   ],
   "source": [
    "# Смотрим, какие значения содержит столбец m_job (работа матери)\n",
    "info_col('m_job')"
   ]
  },
  {
   "cell_type": "markdown",
   "metadata": {},
   "source": [
    "Как и положено, колонка содержит пять значений. В данных пропущено 17 значений."
   ]
  },
  {
   "cell_type": "code",
   "execution_count": 31,
   "metadata": {},
   "outputs": [
    {
     "name": "stdout",
     "output_type": "stream",
     "text": [
      "Информация о столбце f_job \n",
      "\n",
      "Какие значения содержатся:\n"
     ]
    },
    {
     "data": {
      "text/plain": [
       "other       191\n",
       "services     95\n",
       "NaN          36\n",
       "teacher      27\n",
       "at_home      16\n",
       "health       15\n",
       "Name: f_job, dtype: int64"
      ]
     },
     "metadata": {},
     "output_type": "display_data"
    },
    {
     "name": "stdout",
     "output_type": "stream",
     "text": [
      "Тип данных:\n",
      "<class 'pandas.core.frame.DataFrame'>\n",
      "Int64Index: 380 entries, 0 to 394\n",
      "Data columns (total 1 columns):\n",
      " #   Column  Non-Null Count  Dtype \n",
      "---  ------  --------------  ----- \n",
      " 0   f_job   344 non-null    object\n",
      "dtypes: object(1)\n",
      "memory usage: 5.9+ KB\n"
     ]
    },
    {
     "data": {
      "text/plain": [
       "None"
      ]
     },
     "metadata": {},
     "output_type": "display_data"
    },
    {
     "data": {
      "text/plain": [
       "<AxesSubplot:>"
      ]
     },
     "metadata": {},
     "output_type": "display_data"
    },
    {
     "data": {
      "image/png": "[encoded data removed]",
      "text/plain": [
       "<Figure size 432x288 with 1 Axes>"
      ]
     },
     "metadata": {
      "needs_background": "light"
     },
     "output_type": "display_data"
    }
   ],
   "source": [
    "# Смотрим, какие значения содержит столбец f_job (работа отца)\n",
    "info_col('f_job')"
   ]
  },
  {
   "cell_type": "markdown",
   "metadata": {},
   "source": [
    "Как и положено, колонка содержит пять значений. В данных пропущено 35 значений."
   ]
  },
  {
   "cell_type": "code",
   "execution_count": 32,
   "metadata": {},
   "outputs": [
    {
     "name": "stdout",
     "output_type": "stream",
     "text": [
      "Информация о столбце reason \n",
      "\n",
      "Какие значения содержатся:\n"
     ]
    },
    {
     "data": {
      "text/plain": [
       "course        135\n",
       "reputation     99\n",
       "home           96\n",
       "other          33\n",
       "NaN            17\n",
       "Name: reason, dtype: int64"
      ]
     },
     "metadata": {},
     "output_type": "display_data"
    },
    {
     "name": "stdout",
     "output_type": "stream",
     "text": [
      "Тип данных:\n",
      "<class 'pandas.core.frame.DataFrame'>\n",
      "Int64Index: 380 entries, 0 to 394\n",
      "Data columns (total 1 columns):\n",
      " #   Column  Non-Null Count  Dtype \n",
      "---  ------  --------------  ----- \n",
      " 0   reason  363 non-null    object\n",
      "dtypes: object(1)\n",
      "memory usage: 5.9+ KB\n"
     ]
    },
    {
     "data": {
      "text/plain": [
       "None"
      ]
     },
     "metadata": {},
     "output_type": "display_data"
    },
    {
     "data": {
      "text/plain": [
       "<AxesSubplot:>"
      ]
     },
     "metadata": {},
     "output_type": "display_data"
    },
    {
     "data": {
      "image/png": "[encoded data removed]",
      "text/plain": [
       "<Figure size 432x288 with 1 Axes>"
      ]
     },
     "metadata": {
      "needs_background": "light"
     },
     "output_type": "display_data"
    }
   ],
   "source": [
    "# Смотрим, какие значения содержит столбец reason (причина выбора школы)\n",
    "info_col('reason')"
   ]
  },
  {
   "cell_type": "markdown",
   "metadata": {},
   "source": [
    "Как и положено, колонка содержит четыре значения. В данных пропущено 17 значений."
   ]
  },
  {
   "cell_type": "code",
   "execution_count": 33,
   "metadata": {},
   "outputs": [
    {
     "name": "stdout",
     "output_type": "stream",
     "text": [
      "Информация о столбце guardian \n",
      "\n",
      "Какие значения содержатся:\n"
     ]
    },
    {
     "data": {
      "text/plain": [
       "mother    239\n",
       "father     85\n",
       "NaN        30\n",
       "other      26\n",
       "Name: guardian, dtype: int64"
      ]
     },
     "metadata": {},
     "output_type": "display_data"
    },
    {
     "name": "stdout",
     "output_type": "stream",
     "text": [
      "Тип данных:\n",
      "<class 'pandas.core.frame.DataFrame'>\n",
      "Int64Index: 380 entries, 0 to 394\n",
      "Data columns (total 1 columns):\n",
      " #   Column    Non-Null Count  Dtype \n",
      "---  ------    --------------  ----- \n",
      " 0   guardian  350 non-null    object\n",
      "dtypes: object(1)\n",
      "memory usage: 5.9+ KB\n"
     ]
    },
    {
     "data": {
      "text/plain": [
       "None"
      ]
     },
     "metadata": {},
     "output_type": "display_data"
    },
    {
     "data": {
      "text/plain": [
       "<AxesSubplot:>"
      ]
     },
     "metadata": {},
     "output_type": "display_data"
    },
    {
     "data": {
      "image/png": "[encoded data removed]",
      "text/plain": [
       "<Figure size 432x288 with 1 Axes>"
      ]
     },
     "metadata": {
      "needs_background": "light"
     },
     "output_type": "display_data"
    }
   ],
   "source": [
    "# Смотрим, какие значения содержит столбец guardian (опекун)\n",
    "info_col('guardian')"
   ]
  },
  {
   "cell_type": "markdown",
   "metadata": {},
   "source": [
    "Как и положено, колонка содержит три значения. В данных пропущено 30 значений."
   ]
  },
  {
   "cell_type": "code",
   "execution_count": 34,
   "metadata": {},
   "outputs": [
    {
     "name": "stdout",
     "output_type": "stream",
     "text": [
      "Информация о столбце school_sup \n",
      "\n",
      "Какие значения содержатся:\n"
     ]
    },
    {
     "data": {
      "text/plain": [
       "no     323\n",
       "yes     48\n",
       "NaN      9\n",
       "Name: school_sup, dtype: int64"
      ]
     },
     "metadata": {},
     "output_type": "display_data"
    },
    {
     "name": "stdout",
     "output_type": "stream",
     "text": [
      "Тип данных:\n",
      "<class 'pandas.core.frame.DataFrame'>\n",
      "Int64Index: 380 entries, 0 to 394\n",
      "Data columns (total 1 columns):\n",
      " #   Column      Non-Null Count  Dtype \n",
      "---  ------      --------------  ----- \n",
      " 0   school_sup  371 non-null    object\n",
      "dtypes: object(1)\n",
      "memory usage: 5.9+ KB\n"
     ]
    },
    {
     "data": {
      "text/plain": [
       "None"
      ]
     },
     "metadata": {},
     "output_type": "display_data"
    },
    {
     "data": {
      "text/plain": [
       "<AxesSubplot:>"
      ]
     },
     "metadata": {},
     "output_type": "display_data"
    },
    {
     "data": {
      "image/png": "[encoded data removed]",
      "text/plain": [
       "<Figure size 432x288 with 1 Axes>"
      ]
     },
     "metadata": {
      "needs_background": "light"
     },
     "output_type": "display_data"
    }
   ],
   "source": [
    "# Смотрим, какие значения содержит столбец school_sup (дополнительная образовательная поддержка)\n",
    "info_col('school_sup')"
   ]
  },
  {
   "cell_type": "markdown",
   "metadata": {},
   "source": [
    "Как и положено, колонка содержит два значения. В данных пропущено 9 значений."
   ]
  },
  {
   "cell_type": "code",
   "execution_count": 35,
   "metadata": {},
   "outputs": [
    {
     "name": "stdout",
     "output_type": "stream",
     "text": [
      "Информация о столбце fam_sup \n",
      "\n",
      "Какие значения содержатся:\n"
     ]
    },
    {
     "data": {
      "text/plain": [
       "yes    209\n",
       "no     135\n",
       "NaN     36\n",
       "Name: fam_sup, dtype: int64"
      ]
     },
     "metadata": {},
     "output_type": "display_data"
    },
    {
     "name": "stdout",
     "output_type": "stream",
     "text": [
      "Тип данных:\n",
      "<class 'pandas.core.frame.DataFrame'>\n",
      "Int64Index: 380 entries, 0 to 394\n",
      "Data columns (total 1 columns):\n",
      " #   Column   Non-Null Count  Dtype \n",
      "---  ------   --------------  ----- \n",
      " 0   fam_sup  344 non-null    object\n",
      "dtypes: object(1)\n",
      "memory usage: 5.9+ KB\n"
     ]
    },
    {
     "data": {
      "text/plain": [
       "None"
      ]
     },
     "metadata": {},
     "output_type": "display_data"
    },
    {
     "data": {
      "text/plain": [
       "<AxesSubplot:>"
      ]
     },
     "metadata": {},
     "output_type": "display_data"
    },
    {
     "data": {
      "image/png": "[encoded data removed]",
      "text/plain": [
       "<Figure size 432x288 with 1 Axes>"
      ]
     },
     "metadata": {
      "needs_background": "light"
     },
     "output_type": "display_data"
    }
   ],
   "source": [
    "# Смотрим, какие значения содержит столбец fam_sup (семейная образовательная поддержка)\n",
    "info_col('fam_sup')"
   ]
  },
  {
   "cell_type": "markdown",
   "metadata": {},
   "source": [
    "Как и положено, колонка содержит два значения. В данных пропущено 35 значений."
   ]
  },
  {
   "cell_type": "code",
   "execution_count": 36,
   "metadata": {},
   "outputs": [
    {
     "name": "stdout",
     "output_type": "stream",
     "text": [
      "Информация о столбце paid \n",
      "\n",
      "Какие значения содержатся:\n"
     ]
    },
    {
     "data": {
      "text/plain": [
       "no     193\n",
       "yes    147\n",
       "NaN     40\n",
       "Name: paid, dtype: int64"
      ]
     },
     "metadata": {},
     "output_type": "display_data"
    },
    {
     "name": "stdout",
     "output_type": "stream",
     "text": [
      "Тип данных:\n",
      "<class 'pandas.core.frame.DataFrame'>\n",
      "Int64Index: 380 entries, 0 to 394\n",
      "Data columns (total 1 columns):\n",
      " #   Column  Non-Null Count  Dtype \n",
      "---  ------  --------------  ----- \n",
      " 0   paid    340 non-null    object\n",
      "dtypes: object(1)\n",
      "memory usage: 5.9+ KB\n"
     ]
    },
    {
     "data": {
      "text/plain": [
       "None"
      ]
     },
     "metadata": {},
     "output_type": "display_data"
    },
    {
     "data": {
      "text/plain": [
       "<AxesSubplot:>"
      ]
     },
     "metadata": {},
     "output_type": "display_data"
    },
    {
     "data": {
      "image/png": "[encoded data removed]",
      "text/plain": [
       "<Figure size 432x288 with 1 Axes>"
      ]
     },
     "metadata": {
      "needs_background": "light"
     },
     "output_type": "display_data"
    }
   ],
   "source": [
    "# Смотрим, какие значения содержит столбец paid (дополнительные платные занятия)\n",
    "info_col('paid')"
   ]
  },
  {
   "cell_type": "markdown",
   "metadata": {},
   "source": [
    "Как и положено, колонка содержит два значения. В данных пропущено 39 значений."
   ]
  },
  {
   "cell_type": "code",
   "execution_count": 37,
   "metadata": {},
   "outputs": [
    {
     "name": "stdout",
     "output_type": "stream",
     "text": [
      "Информация о столбце activities \n",
      "\n",
      "Какие значения содержатся:\n"
     ]
    },
    {
     "data": {
      "text/plain": [
       "yes    190\n",
       "no     176\n",
       "NaN     14\n",
       "Name: activities, dtype: int64"
      ]
     },
     "metadata": {},
     "output_type": "display_data"
    },
    {
     "name": "stdout",
     "output_type": "stream",
     "text": [
      "Тип данных:\n",
      "<class 'pandas.core.frame.DataFrame'>\n",
      "Int64Index: 380 entries, 0 to 394\n",
      "Data columns (total 1 columns):\n",
      " #   Column      Non-Null Count  Dtype \n",
      "---  ------      --------------  ----- \n",
      " 0   activities  366 non-null    object\n",
      "dtypes: object(1)\n",
      "memory usage: 5.9+ KB\n"
     ]
    },
    {
     "data": {
      "text/plain": [
       "None"
      ]
     },
     "metadata": {},
     "output_type": "display_data"
    },
    {
     "data": {
      "text/plain": [
       "<AxesSubplot:>"
      ]
     },
     "metadata": {},
     "output_type": "display_data"
    },
    {
     "data": {
      "image/png": "[encoded data removed]",
      "text/plain": [
       "<Figure size 432x288 with 1 Axes>"
      ]
     },
     "metadata": {
      "needs_background": "light"
     },
     "output_type": "display_data"
    }
   ],
   "source": [
    "# Смотрим, какие значения содержит столбец activities (дополнительные внеучебные занятия)\n",
    "info_col('activities')"
   ]
  },
  {
   "cell_type": "markdown",
   "metadata": {},
   "source": [
    "Как и положено, колонка содержит два значения. В данных пропущено 14 значений."
   ]
  },
  {
   "cell_type": "code",
   "execution_count": 38,
   "metadata": {},
   "outputs": [
    {
     "name": "stdout",
     "output_type": "stream",
     "text": [
      "Информация о столбце nursery \n",
      "\n",
      "Какие значения содержатся:\n"
     ]
    },
    {
     "data": {
      "text/plain": [
       "yes    288\n",
       "no      76\n",
       "NaN     16\n",
       "Name: nursery, dtype: int64"
      ]
     },
     "metadata": {},
     "output_type": "display_data"
    },
    {
     "name": "stdout",
     "output_type": "stream",
     "text": [
      "Тип данных:\n",
      "<class 'pandas.core.frame.DataFrame'>\n",
      "Int64Index: 380 entries, 0 to 394\n",
      "Data columns (total 1 columns):\n",
      " #   Column   Non-Null Count  Dtype \n",
      "---  ------   --------------  ----- \n",
      " 0   nursery  364 non-null    object\n",
      "dtypes: object(1)\n",
      "memory usage: 5.9+ KB\n"
     ]
    },
    {
     "data": {
      "text/plain": [
       "None"
      ]
     },
     "metadata": {},
     "output_type": "display_data"
    },
    {
     "data": {
      "text/plain": [
       "<AxesSubplot:>"
      ]
     },
     "metadata": {},
     "output_type": "display_data"
    },
    {
     "data": {
      "image/png": "[encoded data removed]",
      "text/plain": [
       "<Figure size 432x288 with 1 Axes>"
      ]
     },
     "metadata": {
      "needs_background": "light"
     },
     "output_type": "display_data"
    }
   ],
   "source": [
    "# Смотрим, какие значения содержит столбец nursery (посещал детский сад)\n",
    "info_col('nursery')"
   ]
  },
  {
   "cell_type": "markdown",
   "metadata": {},
   "source": [
    "Как и положено, колонка содержит два значения. В данных пропущено 16 значений."
   ]
  },
  {
   "cell_type": "code",
   "execution_count": 39,
   "metadata": {},
   "outputs": [
    {
     "name": "stdout",
     "output_type": "stream",
     "text": [
      "Информация о столбце higher \n",
      "\n",
      "Какие значения содержатся:\n"
     ]
    },
    {
     "data": {
      "text/plain": [
       "yes    343\n",
       "NaN     19\n",
       "no      18\n",
       "Name: higher, dtype: int64"
      ]
     },
     "metadata": {},
     "output_type": "display_data"
    },
    {
     "name": "stdout",
     "output_type": "stream",
     "text": [
      "Тип данных:\n",
      "<class 'pandas.core.frame.DataFrame'>\n",
      "Int64Index: 380 entries, 0 to 394\n",
      "Data columns (total 1 columns):\n",
      " #   Column  Non-Null Count  Dtype \n",
      "---  ------  --------------  ----- \n",
      " 0   higher  361 non-null    object\n",
      "dtypes: object(1)\n",
      "memory usage: 5.9+ KB\n"
     ]
    },
    {
     "data": {
      "text/plain": [
       "None"
      ]
     },
     "metadata": {},
     "output_type": "display_data"
    },
    {
     "data": {
      "text/plain": [
       "<AxesSubplot:>"
      ]
     },
     "metadata": {},
     "output_type": "display_data"
    },
    {
     "data": {
      "image/png": "[encoded data removed]",
      "text/plain": [
       "<Figure size 432x288 with 1 Axes>"
      ]
     },
     "metadata": {
      "needs_background": "light"
     },
     "output_type": "display_data"
    }
   ],
   "source": [
    "# Смотрим, какие значения содержит столбец higher (хочет получить высшее образование)\n",
    "info_col('higher')"
   ]
  },
  {
   "cell_type": "markdown",
   "metadata": {},
   "source": [
    "Как и положено, колонка содержит два значения. В данных пропущено 19 значений."
   ]
  },
  {
   "cell_type": "code",
   "execution_count": 40,
   "metadata": {},
   "outputs": [
    {
     "name": "stdout",
     "output_type": "stream",
     "text": [
      "Информация о столбце internet \n",
      "\n",
      "Какие значения содержатся:\n"
     ]
    },
    {
     "data": {
      "text/plain": [
       "yes    292\n",
       "no      55\n",
       "NaN     33\n",
       "Name: internet, dtype: int64"
      ]
     },
     "metadata": {},
     "output_type": "display_data"
    },
    {
     "name": "stdout",
     "output_type": "stream",
     "text": [
      "Тип данных:\n",
      "<class 'pandas.core.frame.DataFrame'>\n",
      "Int64Index: 380 entries, 0 to 394\n",
      "Data columns (total 1 columns):\n",
      " #   Column    Non-Null Count  Dtype \n",
      "---  ------    --------------  ----- \n",
      " 0   internet  347 non-null    object\n",
      "dtypes: object(1)\n",
      "memory usage: 5.9+ KB\n"
     ]
    },
    {
     "data": {
      "text/plain": [
       "None"
      ]
     },
     "metadata": {},
     "output_type": "display_data"
    },
    {
     "data": {
      "text/plain": [
       "<AxesSubplot:>"
      ]
     },
     "metadata": {},
     "output_type": "display_data"
    },
    {
     "data": {
      "image/png": "[encoded data removed]",
      "text/plain": [
       "<Figure size 432x288 with 1 Axes>"
      ]
     },
     "metadata": {
      "needs_background": "light"
     },
     "output_type": "display_data"
    }
   ],
   "source": [
    "# Смотрим, какие значения содержит столбец internet (наличие интернета дома)\n",
    "info_col('internet')"
   ]
  },
  {
   "cell_type": "markdown",
   "metadata": {},
   "source": [
    "Как и положено, колонка содержит два значения. В данных пропущено 33 значения."
   ]
  },
  {
   "cell_type": "code",
   "execution_count": 41,
   "metadata": {},
   "outputs": [
    {
     "name": "stdout",
     "output_type": "stream",
     "text": [
      "Информация о столбце romantic \n",
      "\n",
      "Какие значения содержатся:\n"
     ]
    },
    {
     "data": {
      "text/plain": [
       "no     233\n",
       "yes    117\n",
       "NaN     30\n",
       "Name: romantic, dtype: int64"
      ]
     },
     "metadata": {},
     "output_type": "display_data"
    },
    {
     "name": "stdout",
     "output_type": "stream",
     "text": [
      "Тип данных:\n",
      "<class 'pandas.core.frame.DataFrame'>\n",
      "Int64Index: 380 entries, 0 to 394\n",
      "Data columns (total 1 columns):\n",
      " #   Column    Non-Null Count  Dtype \n",
      "---  ------    --------------  ----- \n",
      " 0   romantic  350 non-null    object\n",
      "dtypes: object(1)\n",
      "memory usage: 5.9+ KB\n"
     ]
    },
    {
     "data": {
      "text/plain": [
       "None"
      ]
     },
     "metadata": {},
     "output_type": "display_data"
    },
    {
     "data": {
      "text/plain": [
       "<AxesSubplot:>"
      ]
     },
     "metadata": {},
     "output_type": "display_data"
    },
    {
     "data": {
      "image/png": "[encoded data removed]",
      "text/plain": [
       "<Figure size 432x288 with 1 Axes>"
      ]
     },
     "metadata": {
      "needs_background": "light"
     },
     "output_type": "display_data"
    }
   ],
   "source": [
    "# Смотрим, какие значения содержит столбец romantic (в романтических отношениях)\n",
    "info_col('romantic')"
   ]
  },
  {
   "cell_type": "markdown",
   "metadata": {},
   "source": [
    "Как и положено, колонка содержит два значения. В данных пропущено 30 значений."
   ]
  },
  {
   "cell_type": "code",
   "execution_count": 42,
   "metadata": {},
   "outputs": [
    {
     "name": "stdout",
     "output_type": "stream",
     "text": [
      "Информация о столбце score \n",
      "\n",
      "Какие значения содержатся:\n"
     ]
    },
    {
     "data": {
      "text/plain": [
       "50.0     54\n",
       "55.0     43\n",
       "0.0      37\n",
       "75.0     33\n",
       "60.0     30\n",
       "65.0     30\n",
       "40.0     27\n",
       "70.0     27\n",
       "45.0     24\n",
       "80.0     16\n",
       "30.0     14\n",
       "90.0     11\n",
       "35.0      9\n",
       "25.0      7\n",
       "NaN       6\n",
       "85.0      5\n",
       "95.0      5\n",
       "100.0     1\n",
       "20.0      1\n",
       "Name: score, dtype: int64"
      ]
     },
     "metadata": {},
     "output_type": "display_data"
    },
    {
     "name": "stdout",
     "output_type": "stream",
     "text": [
      "Тип данных:\n",
      "<class 'pandas.core.frame.DataFrame'>\n",
      "Int64Index: 380 entries, 0 to 394\n",
      "Data columns (total 1 columns):\n",
      " #   Column  Non-Null Count  Dtype  \n",
      "---  ------  --------------  -----  \n",
      " 0   score   374 non-null    float64\n",
      "dtypes: float64(1)\n",
      "memory usage: 5.9 KB\n"
     ]
    },
    {
     "data": {
      "text/plain": [
       "None"
      ]
     },
     "metadata": {},
     "output_type": "display_data"
    },
    {
     "data": {
      "text/plain": [
       "<AxesSubplot:>"
      ]
     },
     "metadata": {},
     "output_type": "display_data"
    },
    {
     "data": {
      "image/png": "[encoded data removed]",
      "text/plain": [
       "<Figure size 432x288 with 1 Axes>"
      ]
     },
     "metadata": {
      "needs_background": "light"
     },
     "output_type": "display_data"
    }
   ],
   "source": [
    "# Последней посмотрим на колонку с оценками score (баллы по госэкзамену по математике)\n",
    "info_col('score')"
   ]
  },
  {
   "cell_type": "code",
   "execution_count": 43,
   "metadata": {},
   "outputs": [
    {
     "name": "stdout",
     "output_type": "stream",
     "text": [
      "Информация о столбце score \n",
      "\n",
      "Какие значения содержатся:\n"
     ]
    },
    {
     "data": {
      "text/plain": [
       "50.0     54\n",
       "55.0     43\n",
       "75.0     33\n",
       "65.0     30\n",
       "60.0     30\n",
       "40.0     27\n",
       "70.0     27\n",
       "45.0     24\n",
       "80.0     16\n",
       "30.0     14\n",
       "90.0     11\n",
       "35.0      9\n",
       "25.0      7\n",
       "95.0      5\n",
       "85.0      5\n",
       "100.0     1\n",
       "20.0      1\n",
       "Name: score, dtype: int64"
      ]
     },
     "metadata": {},
     "output_type": "display_data"
    },
    {
     "name": "stdout",
     "output_type": "stream",
     "text": [
      "Тип данных:\n",
      "<class 'pandas.core.frame.DataFrame'>\n",
      "Int64Index: 337 entries, 0 to 394\n",
      "Data columns (total 1 columns):\n",
      " #   Column  Non-Null Count  Dtype  \n",
      "---  ------  --------------  -----  \n",
      " 0   score   337 non-null    float64\n",
      "dtypes: float64(1)\n",
      "memory usage: 5.3 KB\n"
     ]
    },
    {
     "data": {
      "text/plain": [
       "None"
      ]
     },
     "metadata": {},
     "output_type": "display_data"
    },
    {
     "data": {
      "text/plain": [
       "<AxesSubplot:>"
      ]
     },
     "metadata": {},
     "output_type": "display_data"
    },
    {
     "data": {
      "image/png": "[encoded data removed]",
      "text/plain": [
       "<Figure size 432x288 with 1 Axes>"
      ]
     },
     "metadata": {
      "needs_background": "light"
     },
     "output_type": "display_data"
    }
   ],
   "source": [
    "# Оценка 0 за экзамен означает, что ученик экзамен не сдавал либо что данные не занесены в таблицу.\n",
    "# Исходя из этого, удаляем из таблицы строки с нулями.\n",
    "exam.drop(exam[exam.score == 0].index, inplace = True)\n",
    "# Исходя из требований алгоритма обучения модели, удаляем строки с пропусками. \n",
    "exam.drop(exam[exam.score.isnull()].index, inplace = True)\n",
    "# Всего удаляем 43 строки\n",
    "\n",
    "# Проверяем данные в столбце score\n",
    "info_col('score')"
   ]
  },
  {
   "cell_type": "code",
   "execution_count": 44,
   "metadata": {},
   "outputs": [
    {
     "name": "stdout",
     "output_type": "stream",
     "text": [
      "<class 'pandas.core.frame.DataFrame'>\n",
      "Int64Index: 337 entries, 0 to 394\n",
      "Data columns (total 29 columns):\n",
      " #   Column       Non-Null Count  Dtype  \n",
      "---  ------       --------------  -----  \n",
      " 0   school       337 non-null    object \n",
      " 1   sex          337 non-null    object \n",
      " 2   age          337 non-null    int64  \n",
      " 3   address      323 non-null    object \n",
      " 4   fam_size     314 non-null    object \n",
      " 5   p_status     301 non-null    object \n",
      " 6   m_edu        335 non-null    float64\n",
      " 7   f_edu        317 non-null    float64\n",
      " 8   m_job        320 non-null    object \n",
      " 9   f_job        305 non-null    object \n",
      " 10  reason       322 non-null    object \n",
      " 11  guardian     309 non-null    object \n",
      " 12  travel_time  314 non-null    float64\n",
      " 13  study_time   330 non-null    float64\n",
      " 14  failures     319 non-null    float64\n",
      " 15  school_sup   328 non-null    object \n",
      " 16  fam_sup      304 non-null    object \n",
      " 17  paid         301 non-null    object \n",
      " 18  activities   325 non-null    object \n",
      " 19  nursery      325 non-null    object \n",
      " 20  higher       319 non-null    object \n",
      " 21  internet     309 non-null    object \n",
      " 22  romantic     309 non-null    object \n",
      " 23  fam_rel      314 non-null    float64\n",
      " 24  free_time    331 non-null    float64\n",
      " 25  go_out       331 non-null    float64\n",
      " 26  health       324 non-null    float64\n",
      " 27  absences     327 non-null    float64\n",
      " 28  score        337 non-null    float64\n",
      "dtypes: float64(11), int64(1), object(17)\n",
      "memory usage: 79.0+ KB\n"
     ]
    }
   ],
   "source": [
    "# Печатаем информацию об итоговой таблице\n",
    "exam.info()"
   ]
  },
  {
   "cell_type": "markdown",
   "metadata": {},
   "source": [
    "Таким образом, всего из начальной таблицы было удалено 58 строк и один столбец. В большинстве столбцов есть пропуски данных, что необходимо учитывать при дальнейшей обработке и анализе. В целом данные довольно чистые, было удалено незначительное количество выбросов и значений, не входящих в заданный диапазон."
   ]
  },
  {
   "cell_type": "markdown",
   "metadata": {},
   "source": [
    "Следующим этапом будет анализ взаимосвязи данных в числовых столбцах с помощью корреляционного анализа. Нам необходимо понять, нужно ли оставлять все столбцы или какие-то из них можно удалить без вреда. "
   ]
  },
  {
   "cell_type": "code",
   "execution_count": 45,
   "metadata": {},
   "outputs": [],
   "source": [
    "# Сбрасываем индексы строк итоговой таблицы\n",
    "exam.reset_index(drop=True, inplace=True)\n",
    "\n",
    "# Сохраняем копию таблицы с очищенными данными и всеми столбцами\n",
    "exam_clear = exam.copy()"
   ]
  },
  {
   "cell_type": "code",
   "execution_count": 46,
   "metadata": {},
   "outputs": [
    {
     "data": {
      "text/html": [
       "<div>\n",
       "<style scoped>\n",
       "    .dataframe tbody tr th:only-of-type {\n",
       "        vertical-align: middle;\n",
       "    }\n",
       "\n",
       "    .dataframe tbody tr th {\n",
       "        vertical-align: top;\n",
       "    }\n",
       "\n",
       "    .dataframe thead th {\n",
       "        text-align: right;\n",
       "    }\n",
       "</style>\n",
       "<table border=\"1\" class=\"dataframe\">\n",
       "  <thead>\n",
       "    <tr style=\"text-align: right;\">\n",
       "      <th></th>\n",
       "      <th>age</th>\n",
       "      <th>m_edu</th>\n",
       "      <th>f_edu</th>\n",
       "      <th>travel_time</th>\n",
       "      <th>study_time</th>\n",
       "      <th>failures</th>\n",
       "      <th>fam_rel</th>\n",
       "      <th>free_time</th>\n",
       "      <th>go_out</th>\n",
       "      <th>health</th>\n",
       "      <th>absences</th>\n",
       "      <th>score</th>\n",
       "    </tr>\n",
       "  </thead>\n",
       "  <tbody>\n",
       "    <tr>\n",
       "      <th>age</th>\n",
       "      <td>1.000000</td>\n",
       "      <td>-0.133259</td>\n",
       "      <td>-0.140614</td>\n",
       "      <td>0.112924</td>\n",
       "      <td>-0.007217</td>\n",
       "      <td>0.216994</td>\n",
       "      <td>0.059025</td>\n",
       "      <td>0.006312</td>\n",
       "      <td>0.129042</td>\n",
       "      <td>-0.066423</td>\n",
       "      <td>0.240463</td>\n",
       "      <td>-0.127914</td>\n",
       "    </tr>\n",
       "    <tr>\n",
       "      <th>m_edu</th>\n",
       "      <td>-0.133259</td>\n",
       "      <td>1.000000</td>\n",
       "      <td>0.611864</td>\n",
       "      <td>-0.175609</td>\n",
       "      <td>0.086299</td>\n",
       "      <td>-0.206660</td>\n",
       "      <td>-0.021849</td>\n",
       "      <td>0.024266</td>\n",
       "      <td>0.069610</td>\n",
       "      <td>-0.042431</td>\n",
       "      <td>0.068529</td>\n",
       "      <td>0.194148</td>\n",
       "    </tr>\n",
       "    <tr>\n",
       "      <th>f_edu</th>\n",
       "      <td>-0.140614</td>\n",
       "      <td>0.611864</td>\n",
       "      <td>1.000000</td>\n",
       "      <td>-0.158422</td>\n",
       "      <td>-0.013800</td>\n",
       "      <td>-0.286205</td>\n",
       "      <td>-0.029311</td>\n",
       "      <td>-0.021854</td>\n",
       "      <td>0.048184</td>\n",
       "      <td>0.018380</td>\n",
       "      <td>-0.015949</td>\n",
       "      <td>0.131379</td>\n",
       "    </tr>\n",
       "    <tr>\n",
       "      <th>travel_time</th>\n",
       "      <td>0.112924</td>\n",
       "      <td>-0.175609</td>\n",
       "      <td>-0.158422</td>\n",
       "      <td>1.000000</td>\n",
       "      <td>-0.101584</td>\n",
       "      <td>0.105774</td>\n",
       "      <td>-0.041746</td>\n",
       "      <td>-0.008925</td>\n",
       "      <td>0.023520</td>\n",
       "      <td>0.001315</td>\n",
       "      <td>-0.032573</td>\n",
       "      <td>-0.076276</td>\n",
       "    </tr>\n",
       "    <tr>\n",
       "      <th>study_time</th>\n",
       "      <td>-0.007217</td>\n",
       "      <td>0.086299</td>\n",
       "      <td>-0.013800</td>\n",
       "      <td>-0.101584</td>\n",
       "      <td>1.000000</td>\n",
       "      <td>-0.150634</td>\n",
       "      <td>0.042758</td>\n",
       "      <td>-0.135732</td>\n",
       "      <td>-0.018354</td>\n",
       "      <td>-0.086888</td>\n",
       "      <td>-0.095908</td>\n",
       "      <td>0.145299</td>\n",
       "    </tr>\n",
       "    <tr>\n",
       "      <th>failures</th>\n",
       "      <td>0.216994</td>\n",
       "      <td>-0.206660</td>\n",
       "      <td>-0.286205</td>\n",
       "      <td>0.105774</td>\n",
       "      <td>-0.150634</td>\n",
       "      <td>1.000000</td>\n",
       "      <td>0.029298</td>\n",
       "      <td>0.137760</td>\n",
       "      <td>0.129644</td>\n",
       "      <td>0.055693</td>\n",
       "      <td>0.170226</td>\n",
       "      <td>-0.292221</td>\n",
       "    </tr>\n",
       "    <tr>\n",
       "      <th>fam_rel</th>\n",
       "      <td>0.059025</td>\n",
       "      <td>-0.021849</td>\n",
       "      <td>-0.029311</td>\n",
       "      <td>-0.041746</td>\n",
       "      <td>0.042758</td>\n",
       "      <td>0.029298</td>\n",
       "      <td>1.000000</td>\n",
       "      <td>0.156660</td>\n",
       "      <td>0.027282</td>\n",
       "      <td>0.120908</td>\n",
       "      <td>-0.120555</td>\n",
       "      <td>0.048191</td>\n",
       "    </tr>\n",
       "    <tr>\n",
       "      <th>free_time</th>\n",
       "      <td>0.006312</td>\n",
       "      <td>0.024266</td>\n",
       "      <td>-0.021854</td>\n",
       "      <td>-0.008925</td>\n",
       "      <td>-0.135732</td>\n",
       "      <td>0.137760</td>\n",
       "      <td>0.156660</td>\n",
       "      <td>1.000000</td>\n",
       "      <td>0.280094</td>\n",
       "      <td>0.079714</td>\n",
       "      <td>0.050801</td>\n",
       "      <td>-0.009714</td>\n",
       "    </tr>\n",
       "    <tr>\n",
       "      <th>go_out</th>\n",
       "      <td>0.129042</td>\n",
       "      <td>0.069610</td>\n",
       "      <td>0.048184</td>\n",
       "      <td>0.023520</td>\n",
       "      <td>-0.018354</td>\n",
       "      <td>0.129644</td>\n",
       "      <td>0.027282</td>\n",
       "      <td>0.280094</td>\n",
       "      <td>1.000000</td>\n",
       "      <td>0.004015</td>\n",
       "      <td>0.133956</td>\n",
       "      <td>-0.177642</td>\n",
       "    </tr>\n",
       "    <tr>\n",
       "      <th>health</th>\n",
       "      <td>-0.066423</td>\n",
       "      <td>-0.042431</td>\n",
       "      <td>0.018380</td>\n",
       "      <td>0.001315</td>\n",
       "      <td>-0.086888</td>\n",
       "      <td>0.055693</td>\n",
       "      <td>0.120908</td>\n",
       "      <td>0.079714</td>\n",
       "      <td>0.004015</td>\n",
       "      <td>1.000000</td>\n",
       "      <td>-0.061822</td>\n",
       "      <td>-0.069054</td>\n",
       "    </tr>\n",
       "    <tr>\n",
       "      <th>absences</th>\n",
       "      <td>0.240463</td>\n",
       "      <td>0.068529</td>\n",
       "      <td>-0.015949</td>\n",
       "      <td>-0.032573</td>\n",
       "      <td>-0.095908</td>\n",
       "      <td>0.170226</td>\n",
       "      <td>-0.120555</td>\n",
       "      <td>0.050801</td>\n",
       "      <td>0.133956</td>\n",
       "      <td>-0.061822</td>\n",
       "      <td>1.000000</td>\n",
       "      <td>-0.233326</td>\n",
       "    </tr>\n",
       "    <tr>\n",
       "      <th>score</th>\n",
       "      <td>-0.127914</td>\n",
       "      <td>0.194148</td>\n",
       "      <td>0.131379</td>\n",
       "      <td>-0.076276</td>\n",
       "      <td>0.145299</td>\n",
       "      <td>-0.292221</td>\n",
       "      <td>0.048191</td>\n",
       "      <td>-0.009714</td>\n",
       "      <td>-0.177642</td>\n",
       "      <td>-0.069054</td>\n",
       "      <td>-0.233326</td>\n",
       "      <td>1.000000</td>\n",
       "    </tr>\n",
       "  </tbody>\n",
       "</table>\n",
       "</div>"
      ],
      "text/plain": [
       "                  age     m_edu     f_edu  travel_time  study_time  failures  \\\n",
       "age          1.000000 -0.133259 -0.140614     0.112924   -0.007217  0.216994   \n",
       "m_edu       -0.133259  1.000000  0.611864    -0.175609    0.086299 -0.206660   \n",
       "f_edu       -0.140614  0.611864  1.000000    -0.158422   -0.013800 -0.286205   \n",
       "travel_time  0.112924 -0.175609 -0.158422     1.000000   -0.101584  0.105774   \n",
       "study_time  -0.007217  0.086299 -0.013800    -0.101584    1.000000 -0.150634   \n",
       "failures     0.216994 -0.206660 -0.286205     0.105774   -0.150634  1.000000   \n",
       "fam_rel      0.059025 -0.021849 -0.029311    -0.041746    0.042758  0.029298   \n",
       "free_time    0.006312  0.024266 -0.021854    -0.008925   -0.135732  0.137760   \n",
       "go_out       0.129042  0.069610  0.048184     0.023520   -0.018354  0.129644   \n",
       "health      -0.066423 -0.042431  0.018380     0.001315   -0.086888  0.055693   \n",
       "absences     0.240463  0.068529 -0.015949    -0.032573   -0.095908  0.170226   \n",
       "score       -0.127914  0.194148  0.131379    -0.076276    0.145299 -0.292221   \n",
       "\n",
       "              fam_rel  free_time    go_out    health  absences     score  \n",
       "age          0.059025   0.006312  0.129042 -0.066423  0.240463 -0.127914  \n",
       "m_edu       -0.021849   0.024266  0.069610 -0.042431  0.068529  0.194148  \n",
       "f_edu       -0.029311  -0.021854  0.048184  0.018380 -0.015949  0.131379  \n",
       "travel_time -0.041746  -0.008925  0.023520  0.001315 -0.032573 -0.076276  \n",
       "study_time   0.042758  -0.135732 -0.018354 -0.086888 -0.095908  0.145299  \n",
       "failures     0.029298   0.137760  0.129644  0.055693  0.170226 -0.292221  \n",
       "fam_rel      1.000000   0.156660  0.027282  0.120908 -0.120555  0.048191  \n",
       "free_time    0.156660   1.000000  0.280094  0.079714  0.050801 -0.009714  \n",
       "go_out       0.027282   0.280094  1.000000  0.004015  0.133956 -0.177642  \n",
       "health       0.120908   0.079714  0.004015  1.000000 -0.061822 -0.069054  \n",
       "absences    -0.120555   0.050801  0.133956 -0.061822  1.000000 -0.233326  \n",
       "score        0.048191  -0.009714 -0.177642 -0.069054 -0.233326  1.000000  "
      ]
     },
     "execution_count": 46,
     "metadata": {},
     "output_type": "execute_result"
    }
   ],
   "source": [
    "# Выводим на экран матрицу корреляционных коэффициентов.\n",
    "exam.corr()"
   ]
  },
  {
   "cell_type": "code",
   "execution_count": 47,
   "metadata": {},
   "outputs": [],
   "source": [
    "# Наш целевой параметер - столбец score. Просматривая значения в нём, видим, что данные достаточно слабо скоррелированы, \n",
    "# что объясняется особенностями данных в этих столбцах (строго ограниченное количество вариантов).\n",
    "# Однако видим, что четыре коэффициента имеют значения по модулю меньше 0.1\n",
    "# Для упрощения дальнейшего анализа удалим эти столбцы, так как они крайне мало влияют на параметр score\n",
    "exam.drop(['travel_time', 'fam_rel', 'free_time', 'health'], inplace=True, axis=1)\n",
    "\n",
    "# Кроме того, видим аномально высокий для получившейся таблицы коэффициент (0,611) между столбцами m_edu и f_edu.\n",
    "\n",
    "# Это можно объяснить тем, что люди подбирают себе партнёра с примерно равным уровнем образования.\n",
    "# Будем считать, что одного из этих столбцов нам достаточно для анализа. Удалим столбец f_edu,\n",
    "# поскольку у него наименьший коэффициент корреляции с score и в нём больше пропусков.\n",
    "exam.drop(['f_edu'], inplace=True, axis=1)"
   ]
  },
  {
   "cell_type": "code",
   "execution_count": 48,
   "metadata": {},
   "outputs": [
    {
     "data": {
      "text/html": [
       "<div>\n",
       "<style scoped>\n",
       "    .dataframe tbody tr th:only-of-type {\n",
       "        vertical-align: middle;\n",
       "    }\n",
       "\n",
       "    .dataframe tbody tr th {\n",
       "        vertical-align: top;\n",
       "    }\n",
       "\n",
       "    .dataframe thead th {\n",
       "        text-align: right;\n",
       "    }\n",
       "</style>\n",
       "<table border=\"1\" class=\"dataframe\">\n",
       "  <thead>\n",
       "    <tr style=\"text-align: right;\">\n",
       "      <th></th>\n",
       "      <th>age</th>\n",
       "      <th>m_edu</th>\n",
       "      <th>study_time</th>\n",
       "      <th>failures</th>\n",
       "      <th>go_out</th>\n",
       "      <th>absences</th>\n",
       "      <th>score</th>\n",
       "    </tr>\n",
       "  </thead>\n",
       "  <tbody>\n",
       "    <tr>\n",
       "      <th>age</th>\n",
       "      <td>1.000000</td>\n",
       "      <td>-0.133259</td>\n",
       "      <td>-0.007217</td>\n",
       "      <td>0.216994</td>\n",
       "      <td>0.129042</td>\n",
       "      <td>0.240463</td>\n",
       "      <td>-0.127914</td>\n",
       "    </tr>\n",
       "    <tr>\n",
       "      <th>m_edu</th>\n",
       "      <td>-0.133259</td>\n",
       "      <td>1.000000</td>\n",
       "      <td>0.086299</td>\n",
       "      <td>-0.206660</td>\n",
       "      <td>0.069610</td>\n",
       "      <td>0.068529</td>\n",
       "      <td>0.194148</td>\n",
       "    </tr>\n",
       "    <tr>\n",
       "      <th>study_time</th>\n",
       "      <td>-0.007217</td>\n",
       "      <td>0.086299</td>\n",
       "      <td>1.000000</td>\n",
       "      <td>-0.150634</td>\n",
       "      <td>-0.018354</td>\n",
       "      <td>-0.095908</td>\n",
       "      <td>0.145299</td>\n",
       "    </tr>\n",
       "    <tr>\n",
       "      <th>failures</th>\n",
       "      <td>0.216994</td>\n",
       "      <td>-0.206660</td>\n",
       "      <td>-0.150634</td>\n",
       "      <td>1.000000</td>\n",
       "      <td>0.129644</td>\n",
       "      <td>0.170226</td>\n",
       "      <td>-0.292221</td>\n",
       "    </tr>\n",
       "    <tr>\n",
       "      <th>go_out</th>\n",
       "      <td>0.129042</td>\n",
       "      <td>0.069610</td>\n",
       "      <td>-0.018354</td>\n",
       "      <td>0.129644</td>\n",
       "      <td>1.000000</td>\n",
       "      <td>0.133956</td>\n",
       "      <td>-0.177642</td>\n",
       "    </tr>\n",
       "    <tr>\n",
       "      <th>absences</th>\n",
       "      <td>0.240463</td>\n",
       "      <td>0.068529</td>\n",
       "      <td>-0.095908</td>\n",
       "      <td>0.170226</td>\n",
       "      <td>0.133956</td>\n",
       "      <td>1.000000</td>\n",
       "      <td>-0.233326</td>\n",
       "    </tr>\n",
       "    <tr>\n",
       "      <th>score</th>\n",
       "      <td>-0.127914</td>\n",
       "      <td>0.194148</td>\n",
       "      <td>0.145299</td>\n",
       "      <td>-0.292221</td>\n",
       "      <td>-0.177642</td>\n",
       "      <td>-0.233326</td>\n",
       "      <td>1.000000</td>\n",
       "    </tr>\n",
       "  </tbody>\n",
       "</table>\n",
       "</div>"
      ],
      "text/plain": [
       "                 age     m_edu  study_time  failures    go_out  absences  \\\n",
       "age         1.000000 -0.133259   -0.007217  0.216994  0.129042  0.240463   \n",
       "m_edu      -0.133259  1.000000    0.086299 -0.206660  0.069610  0.068529   \n",
       "study_time -0.007217  0.086299    1.000000 -0.150634 -0.018354 -0.095908   \n",
       "failures    0.216994 -0.206660   -0.150634  1.000000  0.129644  0.170226   \n",
       "go_out      0.129042  0.069610   -0.018354  0.129644  1.000000  0.133956   \n",
       "absences    0.240463  0.068529   -0.095908  0.170226  0.133956  1.000000   \n",
       "score      -0.127914  0.194148    0.145299 -0.292221 -0.177642 -0.233326   \n",
       "\n",
       "               score  \n",
       "age        -0.127914  \n",
       "m_edu       0.194148  \n",
       "study_time  0.145299  \n",
       "failures   -0.292221  \n",
       "go_out     -0.177642  \n",
       "absences   -0.233326  \n",
       "score       1.000000  "
      ]
     },
     "execution_count": 48,
     "metadata": {},
     "output_type": "execute_result"
    }
   ],
   "source": [
    "exam.corr()"
   ]
  },
  {
   "cell_type": "markdown",
   "metadata": {},
   "source": [
    "Таким образом, осталось 6 числовых столбцов для анализа.\n",
    "Отдельно выделим два столбца, корреляция с которыми выше 0.2 по модулю: failures (количество внеучебных неудач) и absences(количество пропущенных занятий). Это наиболее влияющие на итоговую оценку параметры."
   ]
  },
  {
   "cell_type": "markdown",
   "metadata": {},
   "source": [
    "Теперь проверим значения в остальных столбцах. Воспользуемся тестом Стьюдента. \n",
    "Проверим, есть ли статистическая разница в распределении оценок по номинативным признакам, с помощью теста Стьюдента. Проверим нулевую гипотезу о том, что распределения оценок учеников по различным параметрам неразличимы с помощью ранее объявленной функции get_stat_dif. Так как для множественных сравнений используем довольно строгую поправку Бонферони, используем значение уровня доверия 10 %"
   ]
  },
  {
   "cell_type": "code",
   "execution_count": 49,
   "metadata": {},
   "outputs": [
    {
     "name": "stdout",
     "output_type": "stream",
     "text": [
      "Найдены статистически значимые различия для столбца sex\n",
      "Найдены статистически значимые различия для столбца address\n",
      "Найдены статистически значимые различия для столбца m_job\n",
      "Найдены статистически значимые различия для столбца school_sup\n",
      "Найдены статистически значимые различия для столбца higher\n"
     ]
    }
   ],
   "source": [
    "for col in ['school', 'sex', 'address', 'fam_size', 'p_status', 'f_job', 'm_job', 'reason', 'guardian', 'school_sup',\n",
    "           'fam_sup', 'paid', 'activities', 'nursery', 'higher', 'internet', 'romantic']:\n",
    "    get_stat_dif(col)"
   ]
  },
  {
   "cell_type": "code",
   "execution_count": 50,
   "metadata": {},
   "outputs": [],
   "source": [
    "# С помощью теста Стьюдента нашли пять столбцов, которые стоит оставить в таблице. Удаляем остальные столбцы\n",
    "exam.drop(['school', 'fam_size', 'p_status', 'f_job', 'reason', 'guardian', 'fam_sup',\n",
    "           'paid', 'activities', 'nursery', 'internet', 'romantic'], inplace=True, axis=1)"
   ]
  },
  {
   "cell_type": "code",
   "execution_count": 51,
   "metadata": {},
   "outputs": [
    {
     "data": {
      "text/html": [
       "<div>\n",
       "<style scoped>\n",
       "    .dataframe tbody tr th:only-of-type {\n",
       "        vertical-align: middle;\n",
       "    }\n",
       "\n",
       "    .dataframe tbody tr th {\n",
       "        vertical-align: top;\n",
       "    }\n",
       "\n",
       "    .dataframe thead th {\n",
       "        text-align: right;\n",
       "    }\n",
       "</style>\n",
       "<table border=\"1\" class=\"dataframe\">\n",
       "  <thead>\n",
       "    <tr style=\"text-align: right;\">\n",
       "      <th></th>\n",
       "      <th>sex</th>\n",
       "      <th>age</th>\n",
       "      <th>address</th>\n",
       "      <th>m_edu</th>\n",
       "      <th>m_job</th>\n",
       "      <th>study_time</th>\n",
       "      <th>failures</th>\n",
       "      <th>school_sup</th>\n",
       "      <th>higher</th>\n",
       "      <th>go_out</th>\n",
       "      <th>absences</th>\n",
       "      <th>score</th>\n",
       "    </tr>\n",
       "  </thead>\n",
       "  <tbody>\n",
       "    <tr>\n",
       "      <th>0</th>\n",
       "      <td>F</td>\n",
       "      <td>18</td>\n",
       "      <td>U</td>\n",
       "      <td>4.0</td>\n",
       "      <td>at_home</td>\n",
       "      <td>2.0</td>\n",
       "      <td>0.0</td>\n",
       "      <td>yes</td>\n",
       "      <td>yes</td>\n",
       "      <td>4.0</td>\n",
       "      <td>6.0</td>\n",
       "      <td>30.0</td>\n",
       "    </tr>\n",
       "    <tr>\n",
       "      <th>1</th>\n",
       "      <td>F</td>\n",
       "      <td>17</td>\n",
       "      <td>U</td>\n",
       "      <td>1.0</td>\n",
       "      <td>at_home</td>\n",
       "      <td>2.0</td>\n",
       "      <td>0.0</td>\n",
       "      <td>no</td>\n",
       "      <td>yes</td>\n",
       "      <td>3.0</td>\n",
       "      <td>4.0</td>\n",
       "      <td>30.0</td>\n",
       "    </tr>\n",
       "    <tr>\n",
       "      <th>2</th>\n",
       "      <td>F</td>\n",
       "      <td>15</td>\n",
       "      <td>U</td>\n",
       "      <td>1.0</td>\n",
       "      <td>at_home</td>\n",
       "      <td>2.0</td>\n",
       "      <td>3.0</td>\n",
       "      <td>yes</td>\n",
       "      <td>yes</td>\n",
       "      <td>2.0</td>\n",
       "      <td>10.0</td>\n",
       "      <td>50.0</td>\n",
       "    </tr>\n",
       "    <tr>\n",
       "      <th>3</th>\n",
       "      <td>F</td>\n",
       "      <td>15</td>\n",
       "      <td>U</td>\n",
       "      <td>4.0</td>\n",
       "      <td>health</td>\n",
       "      <td>3.0</td>\n",
       "      <td>0.0</td>\n",
       "      <td>no</td>\n",
       "      <td>yes</td>\n",
       "      <td>2.0</td>\n",
       "      <td>2.0</td>\n",
       "      <td>75.0</td>\n",
       "    </tr>\n",
       "    <tr>\n",
       "      <th>4</th>\n",
       "      <td>F</td>\n",
       "      <td>16</td>\n",
       "      <td>U</td>\n",
       "      <td>3.0</td>\n",
       "      <td>other</td>\n",
       "      <td>2.0</td>\n",
       "      <td>0.0</td>\n",
       "      <td>no</td>\n",
       "      <td>yes</td>\n",
       "      <td>2.0</td>\n",
       "      <td>4.0</td>\n",
       "      <td>50.0</td>\n",
       "    </tr>\n",
       "    <tr>\n",
       "      <th>...</th>\n",
       "      <td>...</td>\n",
       "      <td>...</td>\n",
       "      <td>...</td>\n",
       "      <td>...</td>\n",
       "      <td>...</td>\n",
       "      <td>...</td>\n",
       "      <td>...</td>\n",
       "      <td>...</td>\n",
       "      <td>...</td>\n",
       "      <td>...</td>\n",
       "      <td>...</td>\n",
       "      <td>...</td>\n",
       "    </tr>\n",
       "    <tr>\n",
       "      <th>332</th>\n",
       "      <td>F</td>\n",
       "      <td>18</td>\n",
       "      <td>U</td>\n",
       "      <td>3.0</td>\n",
       "      <td>teacher</td>\n",
       "      <td>2.0</td>\n",
       "      <td>0.0</td>\n",
       "      <td>no</td>\n",
       "      <td>yes</td>\n",
       "      <td>4.0</td>\n",
       "      <td>0.0</td>\n",
       "      <td>40.0</td>\n",
       "    </tr>\n",
       "    <tr>\n",
       "      <th>333</th>\n",
       "      <td>M</td>\n",
       "      <td>17</td>\n",
       "      <td>U</td>\n",
       "      <td>3.0</td>\n",
       "      <td>services</td>\n",
       "      <td>1.0</td>\n",
       "      <td>0.0</td>\n",
       "      <td>no</td>\n",
       "      <td>yes</td>\n",
       "      <td>5.0</td>\n",
       "      <td>3.0</td>\n",
       "      <td>80.0</td>\n",
       "    </tr>\n",
       "    <tr>\n",
       "      <th>334</th>\n",
       "      <td>M</td>\n",
       "      <td>21</td>\n",
       "      <td>R</td>\n",
       "      <td>1.0</td>\n",
       "      <td>other</td>\n",
       "      <td>1.0</td>\n",
       "      <td>3.0</td>\n",
       "      <td>NaN</td>\n",
       "      <td>NaN</td>\n",
       "      <td>3.0</td>\n",
       "      <td>3.0</td>\n",
       "      <td>35.0</td>\n",
       "    </tr>\n",
       "    <tr>\n",
       "      <th>335</th>\n",
       "      <td>M</td>\n",
       "      <td>18</td>\n",
       "      <td>R</td>\n",
       "      <td>3.0</td>\n",
       "      <td>services</td>\n",
       "      <td>1.0</td>\n",
       "      <td>0.0</td>\n",
       "      <td>no</td>\n",
       "      <td>yes</td>\n",
       "      <td>1.0</td>\n",
       "      <td>0.0</td>\n",
       "      <td>50.0</td>\n",
       "    </tr>\n",
       "    <tr>\n",
       "      <th>336</th>\n",
       "      <td>M</td>\n",
       "      <td>19</td>\n",
       "      <td>U</td>\n",
       "      <td>1.0</td>\n",
       "      <td>other</td>\n",
       "      <td>1.0</td>\n",
       "      <td>0.0</td>\n",
       "      <td>NaN</td>\n",
       "      <td>yes</td>\n",
       "      <td>3.0</td>\n",
       "      <td>5.0</td>\n",
       "      <td>45.0</td>\n",
       "    </tr>\n",
       "  </tbody>\n",
       "</table>\n",
       "<p>337 rows × 12 columns</p>\n",
       "</div>"
      ],
      "text/plain": [
       "    sex  age address  m_edu     m_job  study_time  failures school_sup higher  \\\n",
       "0     F   18       U    4.0   at_home         2.0       0.0        yes    yes   \n",
       "1     F   17       U    1.0   at_home         2.0       0.0         no    yes   \n",
       "2     F   15       U    1.0   at_home         2.0       3.0        yes    yes   \n",
       "3     F   15       U    4.0    health         3.0       0.0         no    yes   \n",
       "4     F   16       U    3.0     other         2.0       0.0         no    yes   \n",
       "..   ..  ...     ...    ...       ...         ...       ...        ...    ...   \n",
       "332   F   18       U    3.0   teacher         2.0       0.0         no    yes   \n",
       "333   M   17       U    3.0  services         1.0       0.0         no    yes   \n",
       "334   M   21       R    1.0     other         1.0       3.0        NaN    NaN   \n",
       "335   M   18       R    3.0  services         1.0       0.0         no    yes   \n",
       "336   M   19       U    1.0     other         1.0       0.0        NaN    yes   \n",
       "\n",
       "     go_out  absences  score  \n",
       "0       4.0       6.0   30.0  \n",
       "1       3.0       4.0   30.0  \n",
       "2       2.0      10.0   50.0  \n",
       "3       2.0       2.0   75.0  \n",
       "4       2.0       4.0   50.0  \n",
       "..      ...       ...    ...  \n",
       "332     4.0       0.0   40.0  \n",
       "333     5.0       3.0   80.0  \n",
       "334     3.0       3.0   35.0  \n",
       "335     1.0       0.0   50.0  \n",
       "336     3.0       5.0   45.0  \n",
       "\n",
       "[337 rows x 12 columns]"
      ]
     },
     "metadata": {},
     "output_type": "display_data"
    }
   ],
   "source": [
    "# Итоговая таблица имеет вид\n",
    "display(exam)"
   ]
  },
  {
   "cell_type": "code",
   "execution_count": 52,
   "metadata": {},
   "outputs": [
    {
     "name": "stdout",
     "output_type": "stream",
     "text": [
      "<class 'pandas.core.frame.DataFrame'>\n",
      "RangeIndex: 337 entries, 0 to 336\n",
      "Data columns (total 12 columns):\n",
      " #   Column      Non-Null Count  Dtype  \n",
      "---  ------      --------------  -----  \n",
      " 0   sex         337 non-null    object \n",
      " 1   age         337 non-null    int64  \n",
      " 2   address     323 non-null    object \n",
      " 3   m_edu       335 non-null    float64\n",
      " 4   m_job       320 non-null    object \n",
      " 5   study_time  330 non-null    float64\n",
      " 6   failures    319 non-null    float64\n",
      " 7   school_sup  328 non-null    object \n",
      " 8   higher      319 non-null    object \n",
      " 9   go_out      331 non-null    float64\n",
      " 10  absences    327 non-null    float64\n",
      " 11  score       337 non-null    float64\n",
      "dtypes: float64(6), int64(1), object(5)\n",
      "memory usage: 31.7+ KB\n"
     ]
    }
   ],
   "source": [
    "# Информация об итоговой таблице.\n",
    "exam.info()"
   ]
  },
  {
   "cell_type": "markdown",
   "metadata": {},
   "source": [
    "В результате EDA для анализа влияния данных ученика на его оценку можно сделать следующие выводы:\n",
    "\n",
    "1) В таблице содержится достаточно много пропусков. Это нужно учитывать при дальнейшем анализе.\n",
    "\n",
    "2) Выбросов и явно ошибочных значений содержалось немного, то есть исходные данные достаточно чистые.\n",
    "\n",
    "3) Для дальнейшего построения модели предлагается использовать получившиеся 12 столбцов. Однако при желании добавить информацию для анализа можно воспользоваться таблицей со всеми столбцами и очищенными данными exam_clear.\n",
    "\n",
    "4) Из числовых столбцов, по всей видимости, нибольшее влияние на столбец score оказывают столбцы failures и absences."
   ]
  }
 ],
 "metadata": {
  "kernelspec": {
   "display_name": "Python 3",
   "language": "python",
   "name": "python3"
  },
  "language_info": {
   "codemirror_mode": {
    "name": "ipython",
    "version": 3
   },
   "file_extension": ".py",
   "mimetype": "text/x-python",
   "name": "python",
   "nbconvert_exporter": "python",
   "pygments_lexer": "ipython3",
   "version": "3.8.5"
  }
 },
 "nbformat": 4,
 "nbformat_minor": 4
}
