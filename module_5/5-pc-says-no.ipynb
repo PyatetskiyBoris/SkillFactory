{
 "cells": [
  {
   "cell_type": "code",
   "execution_count": 1,
   "id": "764c7d7e",
   "metadata": {
    "_cell_guid": "b1076dfc-b9ad-4769-8c92-a6c4dae69d19",
    "_uuid": "8f2839f25d086af736a60e9eeb907d3b93b6e0e5",
    "execution": {
     "iopub.execute_input": "2022-01-06T14:22:50.633036Z",
     "iopub.status.busy": "2022-01-06T14:22:50.632307Z",
     "iopub.status.idle": "2022-01-06T14:22:52.096401Z",
     "shell.execute_reply": "2022-01-06T14:22:52.095645Z",
     "shell.execute_reply.started": "2022-01-06T14:19:55.047098Z"
    },
    "papermill": {
     "duration": 1.58245,
     "end_time": "2022-01-06T14:22:52.096575",
     "exception": false,
     "start_time": "2022-01-06T14:22:50.514125",
     "status": "completed"
    },
    "tags": []
   },
   "outputs": [
    {
     "name": "stdout",
     "output_type": "stream",
     "text": [
      "/kaggle/input/sf-dst-scoring/sample_submission.csv\n",
      "/kaggle/input/sf-dst-scoring/train.csv\n",
      "/kaggle/input/sf-dst-scoring/test.csv\n"
     ]
    }
   ],
   "source": [
    "from pandas import Series\n",
    "import pandas as pd\n",
    "import numpy as np\n",
    "import datetime\n",
    "\n",
    "import matplotlib.pyplot as plt\n",
    "import seaborn as sns\n",
    "\n",
    "from sklearn.feature_selection import f_classif, mutual_info_classif\n",
    "from sklearn.preprocessing import LabelEncoder, OneHotEncoder, StandardScaler\n",
    "\n",
    "from sklearn.model_selection import train_test_split\n",
    "from sklearn.model_selection import GridSearchCV\n",
    "from sklearn.model_selection import cross_val_score\n",
    "from sklearn.linear_model import LogisticRegression\n",
    "\n",
    "\n",
    "from sklearn.metrics import confusion_matrix\n",
    "from sklearn.metrics import auc, roc_auc_score, roc_curve\n",
    "from sklearn.metrics import f1_score, accuracy_score, precision_score, recall_score\n",
    "from sklearn.metrics import balanced_accuracy_score\n",
    "\n",
    "import os\n",
    "for dirname, _, filenames in os.walk('/kaggle/input'):\n",
    "    for filename in filenames:\n",
    "        print(os.path.join(dirname, filename))"
   ]
  },
  {
   "cell_type": "code",
   "execution_count": 2,
   "id": "931d02e6",
   "metadata": {
    "execution": {
     "iopub.execute_input": "2022-01-06T14:22:52.361319Z",
     "iopub.status.busy": "2022-01-06T14:22:52.360555Z",
     "iopub.status.idle": "2022-01-06T14:22:52.375968Z",
     "shell.execute_reply": "2022-01-06T14:22:52.376550Z",
     "shell.execute_reply.started": "2022-01-06T14:19:55.061296Z"
    },
    "papermill": {
     "duration": 0.178084,
     "end_time": "2022-01-06T14:22:52.376741",
     "exception": false,
     "start_time": "2022-01-06T14:22:52.198657",
     "status": "completed"
    },
    "tags": []
   },
   "outputs": [],
   "source": [
    "# Функции, использующиеся при обработке данных\n",
    "\n",
    "\n",
    "# Функция для расчёта статистических параметров: iqr, квартили, границы выбросов, количество выбросов\n",
    "# Передаём на вход столбец DataFrame\n",
    "def quantile_info(column):\n",
    "    # Перцентили и IQR\n",
    "    perc25 = column.quantile(0.25)\n",
    "    perc75 = column.quantile(0.75)\n",
    "    iqr = perc75 - perc25\n",
    "    # Границы выбросов\n",
    "    low = perc25 - 1.5*iqr\n",
    "    high = perc75 + 1.5*iqr\n",
    "    # Количество выбросов в столбце\n",
    "    count_low = (column[(column<low)]).count()\n",
    "    count_high = (column[(column>high)]).count()\n",
    "    # Печатаем вычисленные значения на экране    \n",
    "    print(\n",
    "        f'25-й перцентиль: {perc25}\\n',\n",
    "        f'75-й перцентиль: {perc75}\\n',\n",
    "        f'IQR: {iqr}\\n',\n",
    "        f'Границы выбросов: [{low}, {high}]\\n',\n",
    "        f'Количество выбросов вниз: {count_low}\\n',\n",
    "        f'Количество выбросов вверх: {count_high}',\n",
    "        sep='')\n",
    "\n",
    "    \n",
    "# Функция для замены выбросов медианным значением\n",
    "def change_on_median(column):\n",
    "    # Перцентили и IQR\n",
    "    perc25 = column.quantile(0.25)\n",
    "    perc50 = column.quantile(0.5)\n",
    "    perc75 = column.quantile(0.75)\n",
    "    iqr = perc75 - perc25\n",
    "    # Границы выбросов\n",
    "    low = perc25 - 1.5*iqr\n",
    "    high = perc75 + 1.5*iqr\n",
    "    \n",
    "    return column.apply(lambda x: perc50 if (x < low) | (x > high) else x)\n",
    "\n",
    "\n",
    "# Функция, выводящая на экран график ROC_AUC\n",
    "def print_roc_auc(val, pred):\n",
    "    fpr, tpr, threshold = roc_curve(val, pred)\n",
    "    roc_auc = roc_auc_score(val, pred)\n",
    "    \n",
    "    plt.figure()\n",
    "    plt.plot([0, 1], label='Baseline', linestyle='--')\n",
    "    plt.plot(fpr, tpr, label = 'Regression')\n",
    "    plt.title('Logistic Regression ROC AUC = %0.3f' % roc_auc)\n",
    "    plt.ylabel('True Positive Rate')\n",
    "    plt.xlabel('False Positive Rate')\n",
    "    plt.legend(loc = 'lower right')\n",
    "    plt.show()\n",
    "    \n",
    "    \n",
    "# Функция, выводящая на экран значения метрик логистической регрессии\n",
    "def print_metrics(val, pred, acc=0):\n",
    "    # Выбираем, печатать ли метрику accuracy\n",
    "    if acc == 1:\n",
    "        print('accuracy:', '%0.4f' %accuracy_score(val, pred))\n",
    "        \n",
    "    print('balanced_accuracy:', '%0.4f' %balanced_accuracy_score(val, pred))\n",
    "    print('precision_score:', '%0.4f' %precision_score(val, pred))\n",
    "    print('recall_score:', '%0.4f' %recall_score(val, pred))\n",
    "    print('f1_score:', '%0.4f' %f1_score(val, pred))"
   ]
  },
  {
   "cell_type": "markdown",
   "id": "59764d7a",
   "metadata": {
    "papermill": {
     "duration": 0.097788,
     "end_time": "2022-01-06T14:22:52.573181",
     "exception": false,
     "start_time": "2022-01-06T14:22:52.475393",
     "status": "completed"
    },
    "tags": []
   },
   "source": [
    "## Загрузка начальных данных"
   ]
  },
  {
   "cell_type": "code",
   "execution_count": 3,
   "id": "3c6b6794",
   "metadata": {
    "execution": {
     "iopub.execute_input": "2022-01-06T14:22:52.775432Z",
     "iopub.status.busy": "2022-01-06T14:22:52.774696Z",
     "iopub.status.idle": "2022-01-06T14:22:53.147049Z",
     "shell.execute_reply": "2022-01-06T14:22:53.146449Z",
     "shell.execute_reply.started": "2022-01-06T14:19:55.079027Z"
    },
    "papermill": {
     "duration": 0.474039,
     "end_time": "2022-01-06T14:22:53.147207",
     "exception": false,
     "start_time": "2022-01-06T14:22:52.673168",
     "status": "completed"
    },
    "tags": []
   },
   "outputs": [],
   "source": [
    "# Загружаем таблицу c данными клиентов банка\n",
    "DATA_DIR = '/kaggle/input/sf-dst-scoring/'\n",
    "# Загружаем данные для обучения модели\n",
    "train = pd.read_csv(DATA_DIR+'/train.csv')\n",
    "# Загружаем данные для теста модели\n",
    "test = pd.read_csv(DATA_DIR+'/test.csv')\n",
    "# Загружаем файл с итоговыми данными\n",
    "sample_submission = pd.read_csv(DATA_DIR+'/sample_submission.csv')"
   ]
  },
  {
   "cell_type": "code",
   "execution_count": 4,
   "id": "f67feb5b",
   "metadata": {
    "execution": {
     "iopub.execute_input": "2022-01-06T14:22:53.354813Z",
     "iopub.status.busy": "2022-01-06T14:22:53.353466Z",
     "iopub.status.idle": "2022-01-06T14:22:53.356706Z",
     "shell.execute_reply": "2022-01-06T14:22:53.355983Z",
     "shell.execute_reply.started": "2022-01-06T14:19:55.279946Z"
    },
    "papermill": {
     "duration": 0.108575,
     "end_time": "2022-01-06T14:22:53.356877",
     "exception": false,
     "start_time": "2022-01-06T14:22:53.248302",
     "status": "completed"
    },
    "tags": []
   },
   "outputs": [],
   "source": [
    "# описание данных\n",
    "\n",
    "# client_id - идентификатор клиента\n",
    "# education - уровень образования\n",
    "# sex - пол заемщика\n",
    "# age - возраст заемщика\n",
    "# car - флаг наличия автомобиля\n",
    "# car_type - флаг автомобиля иномарки\n",
    "# deсline_app_cnt - количество отказанных прошлых заявок\n",
    "# good_work - флаг наличия “хорошей” работы\n",
    "# bki_request_cnt - количество запросов в БКИ\n",
    "# home_address - категоризатор домашнего адреса\n",
    "# work_address - категоризатор рабочего адреса\n",
    "# income - доход заемщика\n",
    "# foreign_passport - наличие загранпаспорта\n",
    "# sna - связь заемщика с клиентами банка\n",
    "# first_time - давность наличия информации о заемщике\n",
    "# score_bki - скоринговый балл по данным из БКИ\n",
    "# region_rating - рейтинг региона\n",
    "# app_date - дата подачи заявки\n",
    "# default - флаг дефолта по кредиту"
   ]
  },
  {
   "cell_type": "code",
   "execution_count": 5,
   "id": "d74f867b",
   "metadata": {
    "execution": {
     "iopub.execute_input": "2022-01-06T14:22:53.563902Z",
     "iopub.status.busy": "2022-01-06T14:22:53.563114Z",
     "iopub.status.idle": "2022-01-06T14:22:53.664281Z",
     "shell.execute_reply": "2022-01-06T14:22:53.663601Z",
     "shell.execute_reply.started": "2022-01-06T14:19:55.285693Z"
    },
    "papermill": {
     "duration": 0.205931,
     "end_time": "2022-01-06T14:22:53.664435",
     "exception": false,
     "start_time": "2022-01-06T14:22:53.458504",
     "status": "completed"
    },
    "tags": []
   },
   "outputs": [
    {
     "data": {
      "text/html": [
       "<div>\n",
       "<style scoped>\n",
       "    .dataframe tbody tr th:only-of-type {\n",
       "        vertical-align: middle;\n",
       "    }\n",
       "\n",
       "    .dataframe tbody tr th {\n",
       "        vertical-align: top;\n",
       "    }\n",
       "\n",
       "    .dataframe thead th {\n",
       "        text-align: right;\n",
       "    }\n",
       "</style>\n",
       "<table border=\"1\" class=\"dataframe\">\n",
       "  <thead>\n",
       "    <tr style=\"text-align: right;\">\n",
       "      <th></th>\n",
       "      <th>client_id</th>\n",
       "      <th>app_date</th>\n",
       "      <th>education</th>\n",
       "      <th>sex</th>\n",
       "      <th>age</th>\n",
       "      <th>car</th>\n",
       "      <th>car_type</th>\n",
       "      <th>decline_app_cnt</th>\n",
       "      <th>good_work</th>\n",
       "      <th>score_bki</th>\n",
       "      <th>bki_request_cnt</th>\n",
       "      <th>region_rating</th>\n",
       "      <th>home_address</th>\n",
       "      <th>work_address</th>\n",
       "      <th>income</th>\n",
       "      <th>sna</th>\n",
       "      <th>first_time</th>\n",
       "      <th>foreign_passport</th>\n",
       "      <th>default</th>\n",
       "    </tr>\n",
       "  </thead>\n",
       "  <tbody>\n",
       "    <tr>\n",
       "      <th>0</th>\n",
       "      <td>25905</td>\n",
       "      <td>01FEB2014</td>\n",
       "      <td>SCH</td>\n",
       "      <td>M</td>\n",
       "      <td>62</td>\n",
       "      <td>Y</td>\n",
       "      <td>Y</td>\n",
       "      <td>0</td>\n",
       "      <td>0</td>\n",
       "      <td>-2.008753</td>\n",
       "      <td>1</td>\n",
       "      <td>50</td>\n",
       "      <td>1</td>\n",
       "      <td>2</td>\n",
       "      <td>18000</td>\n",
       "      <td>4</td>\n",
       "      <td>1</td>\n",
       "      <td>N</td>\n",
       "      <td>0</td>\n",
       "    </tr>\n",
       "    <tr>\n",
       "      <th>1</th>\n",
       "      <td>63161</td>\n",
       "      <td>12MAR2014</td>\n",
       "      <td>SCH</td>\n",
       "      <td>F</td>\n",
       "      <td>59</td>\n",
       "      <td>N</td>\n",
       "      <td>N</td>\n",
       "      <td>0</td>\n",
       "      <td>0</td>\n",
       "      <td>-1.532276</td>\n",
       "      <td>3</td>\n",
       "      <td>50</td>\n",
       "      <td>2</td>\n",
       "      <td>3</td>\n",
       "      <td>19000</td>\n",
       "      <td>4</td>\n",
       "      <td>1</td>\n",
       "      <td>N</td>\n",
       "      <td>0</td>\n",
       "    </tr>\n",
       "    <tr>\n",
       "      <th>2</th>\n",
       "      <td>25887</td>\n",
       "      <td>01FEB2014</td>\n",
       "      <td>SCH</td>\n",
       "      <td>M</td>\n",
       "      <td>25</td>\n",
       "      <td>Y</td>\n",
       "      <td>N</td>\n",
       "      <td>2</td>\n",
       "      <td>0</td>\n",
       "      <td>-1.408142</td>\n",
       "      <td>1</td>\n",
       "      <td>80</td>\n",
       "      <td>1</td>\n",
       "      <td>2</td>\n",
       "      <td>30000</td>\n",
       "      <td>1</td>\n",
       "      <td>4</td>\n",
       "      <td>Y</td>\n",
       "      <td>0</td>\n",
       "    </tr>\n",
       "    <tr>\n",
       "      <th>3</th>\n",
       "      <td>16222</td>\n",
       "      <td>23JAN2014</td>\n",
       "      <td>SCH</td>\n",
       "      <td>F</td>\n",
       "      <td>53</td>\n",
       "      <td>N</td>\n",
       "      <td>N</td>\n",
       "      <td>0</td>\n",
       "      <td>0</td>\n",
       "      <td>-2.057471</td>\n",
       "      <td>2</td>\n",
       "      <td>50</td>\n",
       "      <td>2</td>\n",
       "      <td>3</td>\n",
       "      <td>10000</td>\n",
       "      <td>1</td>\n",
       "      <td>3</td>\n",
       "      <td>N</td>\n",
       "      <td>0</td>\n",
       "    </tr>\n",
       "    <tr>\n",
       "      <th>4</th>\n",
       "      <td>101655</td>\n",
       "      <td>18APR2014</td>\n",
       "      <td>GRD</td>\n",
       "      <td>M</td>\n",
       "      <td>48</td>\n",
       "      <td>N</td>\n",
       "      <td>N</td>\n",
       "      <td>0</td>\n",
       "      <td>1</td>\n",
       "      <td>-1.244723</td>\n",
       "      <td>1</td>\n",
       "      <td>60</td>\n",
       "      <td>2</td>\n",
       "      <td>3</td>\n",
       "      <td>30000</td>\n",
       "      <td>1</td>\n",
       "      <td>4</td>\n",
       "      <td>Y</td>\n",
       "      <td>0</td>\n",
       "    </tr>\n",
       "    <tr>\n",
       "      <th>5</th>\n",
       "      <td>41415</td>\n",
       "      <td>18FEB2014</td>\n",
       "      <td>SCH</td>\n",
       "      <td>M</td>\n",
       "      <td>27</td>\n",
       "      <td>Y</td>\n",
       "      <td>N</td>\n",
       "      <td>0</td>\n",
       "      <td>1</td>\n",
       "      <td>-2.032257</td>\n",
       "      <td>0</td>\n",
       "      <td>50</td>\n",
       "      <td>1</td>\n",
       "      <td>1</td>\n",
       "      <td>15000</td>\n",
       "      <td>2</td>\n",
       "      <td>3</td>\n",
       "      <td>N</td>\n",
       "      <td>0</td>\n",
       "    </tr>\n",
       "    <tr>\n",
       "      <th>6</th>\n",
       "      <td>28436</td>\n",
       "      <td>04FEB2014</td>\n",
       "      <td>SCH</td>\n",
       "      <td>M</td>\n",
       "      <td>39</td>\n",
       "      <td>N</td>\n",
       "      <td>N</td>\n",
       "      <td>0</td>\n",
       "      <td>0</td>\n",
       "      <td>-2.225004</td>\n",
       "      <td>0</td>\n",
       "      <td>60</td>\n",
       "      <td>1</td>\n",
       "      <td>2</td>\n",
       "      <td>28000</td>\n",
       "      <td>1</td>\n",
       "      <td>1</td>\n",
       "      <td>N</td>\n",
       "      <td>0</td>\n",
       "    </tr>\n",
       "    <tr>\n",
       "      <th>7</th>\n",
       "      <td>68769</td>\n",
       "      <td>17MAR2014</td>\n",
       "      <td>SCH</td>\n",
       "      <td>F</td>\n",
       "      <td>39</td>\n",
       "      <td>N</td>\n",
       "      <td>N</td>\n",
       "      <td>0</td>\n",
       "      <td>0</td>\n",
       "      <td>-1.522739</td>\n",
       "      <td>1</td>\n",
       "      <td>50</td>\n",
       "      <td>2</td>\n",
       "      <td>3</td>\n",
       "      <td>45000</td>\n",
       "      <td>3</td>\n",
       "      <td>3</td>\n",
       "      <td>N</td>\n",
       "      <td>0</td>\n",
       "    </tr>\n",
       "    <tr>\n",
       "      <th>8</th>\n",
       "      <td>38424</td>\n",
       "      <td>14FEB2014</td>\n",
       "      <td>SCH</td>\n",
       "      <td>F</td>\n",
       "      <td>50</td>\n",
       "      <td>Y</td>\n",
       "      <td>N</td>\n",
       "      <td>1</td>\n",
       "      <td>0</td>\n",
       "      <td>-1.676061</td>\n",
       "      <td>0</td>\n",
       "      <td>50</td>\n",
       "      <td>1</td>\n",
       "      <td>1</td>\n",
       "      <td>30000</td>\n",
       "      <td>1</td>\n",
       "      <td>4</td>\n",
       "      <td>N</td>\n",
       "      <td>0</td>\n",
       "    </tr>\n",
       "    <tr>\n",
       "      <th>9</th>\n",
       "      <td>4496</td>\n",
       "      <td>10JAN2014</td>\n",
       "      <td>UGR</td>\n",
       "      <td>F</td>\n",
       "      <td>54</td>\n",
       "      <td>N</td>\n",
       "      <td>N</td>\n",
       "      <td>0</td>\n",
       "      <td>0</td>\n",
       "      <td>-2.695176</td>\n",
       "      <td>1</td>\n",
       "      <td>50</td>\n",
       "      <td>2</td>\n",
       "      <td>3</td>\n",
       "      <td>24000</td>\n",
       "      <td>1</td>\n",
       "      <td>3</td>\n",
       "      <td>N</td>\n",
       "      <td>0</td>\n",
       "    </tr>\n",
       "  </tbody>\n",
       "</table>\n",
       "</div>"
      ],
      "text/plain": [
       "   client_id   app_date education sex  age car car_type  decline_app_cnt  \\\n",
       "0      25905  01FEB2014       SCH   M   62   Y        Y                0   \n",
       "1      63161  12MAR2014       SCH   F   59   N        N                0   \n",
       "2      25887  01FEB2014       SCH   M   25   Y        N                2   \n",
       "3      16222  23JAN2014       SCH   F   53   N        N                0   \n",
       "4     101655  18APR2014       GRD   M   48   N        N                0   \n",
       "5      41415  18FEB2014       SCH   M   27   Y        N                0   \n",
       "6      28436  04FEB2014       SCH   M   39   N        N                0   \n",
       "7      68769  17MAR2014       SCH   F   39   N        N                0   \n",
       "8      38424  14FEB2014       SCH   F   50   Y        N                1   \n",
       "9       4496  10JAN2014       UGR   F   54   N        N                0   \n",
       "\n",
       "   good_work  score_bki  bki_request_cnt  region_rating  home_address  \\\n",
       "0          0  -2.008753                1             50             1   \n",
       "1          0  -1.532276                3             50             2   \n",
       "2          0  -1.408142                1             80             1   \n",
       "3          0  -2.057471                2             50             2   \n",
       "4          1  -1.244723                1             60             2   \n",
       "5          1  -2.032257                0             50             1   \n",
       "6          0  -2.225004                0             60             1   \n",
       "7          0  -1.522739                1             50             2   \n",
       "8          0  -1.676061                0             50             1   \n",
       "9          0  -2.695176                1             50             2   \n",
       "\n",
       "   work_address  income  sna  first_time foreign_passport  default  \n",
       "0             2   18000    4           1                N        0  \n",
       "1             3   19000    4           1                N        0  \n",
       "2             2   30000    1           4                Y        0  \n",
       "3             3   10000    1           3                N        0  \n",
       "4             3   30000    1           4                Y        0  \n",
       "5             1   15000    2           3                N        0  \n",
       "6             2   28000    1           1                N        0  \n",
       "7             3   45000    3           3                N        0  \n",
       "8             1   30000    1           4                N        0  \n",
       "9             3   24000    1           3                N        0  "
      ]
     },
     "metadata": {},
     "output_type": "display_data"
    },
    {
     "name": "stdout",
     "output_type": "stream",
     "text": [
      "<class 'pandas.core.frame.DataFrame'>\n",
      "RangeIndex: 73799 entries, 0 to 73798\n",
      "Data columns (total 19 columns):\n",
      " #   Column            Non-Null Count  Dtype  \n",
      "---  ------            --------------  -----  \n",
      " 0   client_id         73799 non-null  int64  \n",
      " 1   app_date          73799 non-null  object \n",
      " 2   education         73492 non-null  object \n",
      " 3   sex               73799 non-null  object \n",
      " 4   age               73799 non-null  int64  \n",
      " 5   car               73799 non-null  object \n",
      " 6   car_type          73799 non-null  object \n",
      " 7   decline_app_cnt   73799 non-null  int64  \n",
      " 8   good_work         73799 non-null  int64  \n",
      " 9   score_bki         73799 non-null  float64\n",
      " 10  bki_request_cnt   73799 non-null  int64  \n",
      " 11  region_rating     73799 non-null  int64  \n",
      " 12  home_address      73799 non-null  int64  \n",
      " 13  work_address      73799 non-null  int64  \n",
      " 14  income            73799 non-null  int64  \n",
      " 15  sna               73799 non-null  int64  \n",
      " 16  first_time        73799 non-null  int64  \n",
      " 17  foreign_passport  73799 non-null  object \n",
      " 18  default           73799 non-null  int64  \n",
      "dtypes: float64(1), int64(12), object(6)\n",
      "memory usage: 10.7+ MB\n"
     ]
    },
    {
     "data": {
      "text/plain": [
       "None"
      ]
     },
     "metadata": {},
     "output_type": "display_data"
    }
   ],
   "source": [
    "# Смотрим исходные данные\n",
    "display(train.head(10))\n",
    "display(train.info())"
   ]
  },
  {
   "cell_type": "code",
   "execution_count": 6,
   "id": "01dd797e",
   "metadata": {
    "execution": {
     "iopub.execute_input": "2022-01-06T14:22:53.876598Z",
     "iopub.status.busy": "2022-01-06T14:22:53.875849Z",
     "iopub.status.idle": "2022-01-06T14:22:53.931115Z",
     "shell.execute_reply": "2022-01-06T14:22:53.930385Z",
     "shell.execute_reply.started": "2022-01-06T14:19:55.382490Z"
    },
    "papermill": {
     "duration": 0.162051,
     "end_time": "2022-01-06T14:22:53.931298",
     "exception": false,
     "start_time": "2022-01-06T14:22:53.769247",
     "status": "completed"
    },
    "tags": []
   },
   "outputs": [
    {
     "data": {
      "text/html": [
       "<div>\n",
       "<style scoped>\n",
       "    .dataframe tbody tr th:only-of-type {\n",
       "        vertical-align: middle;\n",
       "    }\n",
       "\n",
       "    .dataframe tbody tr th {\n",
       "        vertical-align: top;\n",
       "    }\n",
       "\n",
       "    .dataframe thead th {\n",
       "        text-align: right;\n",
       "    }\n",
       "</style>\n",
       "<table border=\"1\" class=\"dataframe\">\n",
       "  <thead>\n",
       "    <tr style=\"text-align: right;\">\n",
       "      <th></th>\n",
       "      <th>client_id</th>\n",
       "      <th>app_date</th>\n",
       "      <th>education</th>\n",
       "      <th>sex</th>\n",
       "      <th>age</th>\n",
       "      <th>car</th>\n",
       "      <th>car_type</th>\n",
       "      <th>decline_app_cnt</th>\n",
       "      <th>good_work</th>\n",
       "      <th>score_bki</th>\n",
       "      <th>bki_request_cnt</th>\n",
       "      <th>region_rating</th>\n",
       "      <th>home_address</th>\n",
       "      <th>work_address</th>\n",
       "      <th>income</th>\n",
       "      <th>sna</th>\n",
       "      <th>first_time</th>\n",
       "      <th>foreign_passport</th>\n",
       "    </tr>\n",
       "  </thead>\n",
       "  <tbody>\n",
       "    <tr>\n",
       "      <th>0</th>\n",
       "      <td>74835</td>\n",
       "      <td>22MAR2014</td>\n",
       "      <td>GRD</td>\n",
       "      <td>M</td>\n",
       "      <td>29</td>\n",
       "      <td>Y</td>\n",
       "      <td>Y</td>\n",
       "      <td>0</td>\n",
       "      <td>0</td>\n",
       "      <td>-2.271884</td>\n",
       "      <td>3</td>\n",
       "      <td>50</td>\n",
       "      <td>1</td>\n",
       "      <td>2</td>\n",
       "      <td>50000</td>\n",
       "      <td>1</td>\n",
       "      <td>4</td>\n",
       "      <td>N</td>\n",
       "    </tr>\n",
       "    <tr>\n",
       "      <th>1</th>\n",
       "      <td>17527</td>\n",
       "      <td>24JAN2014</td>\n",
       "      <td>SCH</td>\n",
       "      <td>F</td>\n",
       "      <td>39</td>\n",
       "      <td>N</td>\n",
       "      <td>N</td>\n",
       "      <td>5</td>\n",
       "      <td>0</td>\n",
       "      <td>-1.504999</td>\n",
       "      <td>2</td>\n",
       "      <td>50</td>\n",
       "      <td>1</td>\n",
       "      <td>2</td>\n",
       "      <td>5000</td>\n",
       "      <td>4</td>\n",
       "      <td>3</td>\n",
       "      <td>N</td>\n",
       "    </tr>\n",
       "    <tr>\n",
       "      <th>2</th>\n",
       "      <td>75683</td>\n",
       "      <td>23MAR2014</td>\n",
       "      <td>UGR</td>\n",
       "      <td>M</td>\n",
       "      <td>50</td>\n",
       "      <td>Y</td>\n",
       "      <td>Y</td>\n",
       "      <td>0</td>\n",
       "      <td>0</td>\n",
       "      <td>-1.691339</td>\n",
       "      <td>1</td>\n",
       "      <td>50</td>\n",
       "      <td>1</td>\n",
       "      <td>2</td>\n",
       "      <td>30000</td>\n",
       "      <td>1</td>\n",
       "      <td>3</td>\n",
       "      <td>Y</td>\n",
       "    </tr>\n",
       "    <tr>\n",
       "      <th>3</th>\n",
       "      <td>26883</td>\n",
       "      <td>03FEB2014</td>\n",
       "      <td>SCH</td>\n",
       "      <td>M</td>\n",
       "      <td>56</td>\n",
       "      <td>N</td>\n",
       "      <td>N</td>\n",
       "      <td>0</td>\n",
       "      <td>0</td>\n",
       "      <td>-2.374182</td>\n",
       "      <td>1</td>\n",
       "      <td>40</td>\n",
       "      <td>1</td>\n",
       "      <td>2</td>\n",
       "      <td>17000</td>\n",
       "      <td>1</td>\n",
       "      <td>3</td>\n",
       "      <td>N</td>\n",
       "    </tr>\n",
       "    <tr>\n",
       "      <th>4</th>\n",
       "      <td>28862</td>\n",
       "      <td>04FEB2014</td>\n",
       "      <td>GRD</td>\n",
       "      <td>F</td>\n",
       "      <td>38</td>\n",
       "      <td>N</td>\n",
       "      <td>N</td>\n",
       "      <td>0</td>\n",
       "      <td>0</td>\n",
       "      <td>-2.487502</td>\n",
       "      <td>0</td>\n",
       "      <td>80</td>\n",
       "      <td>2</td>\n",
       "      <td>3</td>\n",
       "      <td>120000</td>\n",
       "      <td>1</td>\n",
       "      <td>3</td>\n",
       "      <td>N</td>\n",
       "    </tr>\n",
       "    <tr>\n",
       "      <th>5</th>\n",
       "      <td>99881</td>\n",
       "      <td>17APR2014</td>\n",
       "      <td>SCH</td>\n",
       "      <td>F</td>\n",
       "      <td>55</td>\n",
       "      <td>N</td>\n",
       "      <td>N</td>\n",
       "      <td>0</td>\n",
       "      <td>0</td>\n",
       "      <td>-1.740224</td>\n",
       "      <td>7</td>\n",
       "      <td>50</td>\n",
       "      <td>3</td>\n",
       "      <td>3</td>\n",
       "      <td>30000</td>\n",
       "      <td>2</td>\n",
       "      <td>1</td>\n",
       "      <td>N</td>\n",
       "    </tr>\n",
       "    <tr>\n",
       "      <th>6</th>\n",
       "      <td>26630</td>\n",
       "      <td>02FEB2014</td>\n",
       "      <td>SCH</td>\n",
       "      <td>F</td>\n",
       "      <td>30</td>\n",
       "      <td>N</td>\n",
       "      <td>N</td>\n",
       "      <td>3</td>\n",
       "      <td>0</td>\n",
       "      <td>-1.387847</td>\n",
       "      <td>5</td>\n",
       "      <td>60</td>\n",
       "      <td>1</td>\n",
       "      <td>2</td>\n",
       "      <td>11000</td>\n",
       "      <td>4</td>\n",
       "      <td>3</td>\n",
       "      <td>N</td>\n",
       "    </tr>\n",
       "    <tr>\n",
       "      <th>7</th>\n",
       "      <td>79934</td>\n",
       "      <td>28MAR2014</td>\n",
       "      <td>GRD</td>\n",
       "      <td>M</td>\n",
       "      <td>41</td>\n",
       "      <td>Y</td>\n",
       "      <td>Y</td>\n",
       "      <td>0</td>\n",
       "      <td>0</td>\n",
       "      <td>-3.066047</td>\n",
       "      <td>3</td>\n",
       "      <td>60</td>\n",
       "      <td>1</td>\n",
       "      <td>3</td>\n",
       "      <td>80000</td>\n",
       "      <td>4</td>\n",
       "      <td>1</td>\n",
       "      <td>N</td>\n",
       "    </tr>\n",
       "    <tr>\n",
       "      <th>8</th>\n",
       "      <td>16605</td>\n",
       "      <td>23JAN2014</td>\n",
       "      <td>GRD</td>\n",
       "      <td>M</td>\n",
       "      <td>34</td>\n",
       "      <td>N</td>\n",
       "      <td>N</td>\n",
       "      <td>0</td>\n",
       "      <td>0</td>\n",
       "      <td>-3.117086</td>\n",
       "      <td>0</td>\n",
       "      <td>80</td>\n",
       "      <td>2</td>\n",
       "      <td>3</td>\n",
       "      <td>5000</td>\n",
       "      <td>1</td>\n",
       "      <td>2</td>\n",
       "      <td>N</td>\n",
       "    </tr>\n",
       "    <tr>\n",
       "      <th>9</th>\n",
       "      <td>105449</td>\n",
       "      <td>24APR2014</td>\n",
       "      <td>UGR</td>\n",
       "      <td>M</td>\n",
       "      <td>28</td>\n",
       "      <td>Y</td>\n",
       "      <td>Y</td>\n",
       "      <td>0</td>\n",
       "      <td>0</td>\n",
       "      <td>-2.185172</td>\n",
       "      <td>0</td>\n",
       "      <td>80</td>\n",
       "      <td>2</td>\n",
       "      <td>3</td>\n",
       "      <td>80000</td>\n",
       "      <td>1</td>\n",
       "      <td>3</td>\n",
       "      <td>Y</td>\n",
       "    </tr>\n",
       "  </tbody>\n",
       "</table>\n",
       "</div>"
      ],
      "text/plain": [
       "   client_id   app_date education sex  age car car_type  decline_app_cnt  \\\n",
       "0      74835  22MAR2014       GRD   M   29   Y        Y                0   \n",
       "1      17527  24JAN2014       SCH   F   39   N        N                5   \n",
       "2      75683  23MAR2014       UGR   M   50   Y        Y                0   \n",
       "3      26883  03FEB2014       SCH   M   56   N        N                0   \n",
       "4      28862  04FEB2014       GRD   F   38   N        N                0   \n",
       "5      99881  17APR2014       SCH   F   55   N        N                0   \n",
       "6      26630  02FEB2014       SCH   F   30   N        N                3   \n",
       "7      79934  28MAR2014       GRD   M   41   Y        Y                0   \n",
       "8      16605  23JAN2014       GRD   M   34   N        N                0   \n",
       "9     105449  24APR2014       UGR   M   28   Y        Y                0   \n",
       "\n",
       "   good_work  score_bki  bki_request_cnt  region_rating  home_address  \\\n",
       "0          0  -2.271884                3             50             1   \n",
       "1          0  -1.504999                2             50             1   \n",
       "2          0  -1.691339                1             50             1   \n",
       "3          0  -2.374182                1             40             1   \n",
       "4          0  -2.487502                0             80             2   \n",
       "5          0  -1.740224                7             50             3   \n",
       "6          0  -1.387847                5             60             1   \n",
       "7          0  -3.066047                3             60             1   \n",
       "8          0  -3.117086                0             80             2   \n",
       "9          0  -2.185172                0             80             2   \n",
       "\n",
       "   work_address  income  sna  first_time foreign_passport  \n",
       "0             2   50000    1           4                N  \n",
       "1             2    5000    4           3                N  \n",
       "2             2   30000    1           3                Y  \n",
       "3             2   17000    1           3                N  \n",
       "4             3  120000    1           3                N  \n",
       "5             3   30000    2           1                N  \n",
       "6             2   11000    4           3                N  \n",
       "7             3   80000    4           1                N  \n",
       "8             3    5000    1           2                N  \n",
       "9             3   80000    1           3                Y  "
      ]
     },
     "metadata": {},
     "output_type": "display_data"
    },
    {
     "name": "stdout",
     "output_type": "stream",
     "text": [
      "<class 'pandas.core.frame.DataFrame'>\n",
      "RangeIndex: 36349 entries, 0 to 36348\n",
      "Data columns (total 18 columns):\n",
      " #   Column            Non-Null Count  Dtype  \n",
      "---  ------            --------------  -----  \n",
      " 0   client_id         36349 non-null  int64  \n",
      " 1   app_date          36349 non-null  object \n",
      " 2   education         36178 non-null  object \n",
      " 3   sex               36349 non-null  object \n",
      " 4   age               36349 non-null  int64  \n",
      " 5   car               36349 non-null  object \n",
      " 6   car_type          36349 non-null  object \n",
      " 7   decline_app_cnt   36349 non-null  int64  \n",
      " 8   good_work         36349 non-null  int64  \n",
      " 9   score_bki         36349 non-null  float64\n",
      " 10  bki_request_cnt   36349 non-null  int64  \n",
      " 11  region_rating     36349 non-null  int64  \n",
      " 12  home_address      36349 non-null  int64  \n",
      " 13  work_address      36349 non-null  int64  \n",
      " 14  income            36349 non-null  int64  \n",
      " 15  sna               36349 non-null  int64  \n",
      " 16  first_time        36349 non-null  int64  \n",
      " 17  foreign_passport  36349 non-null  object \n",
      "dtypes: float64(1), int64(11), object(6)\n",
      "memory usage: 5.0+ MB\n"
     ]
    },
    {
     "data": {
      "text/plain": [
       "None"
      ]
     },
     "metadata": {},
     "output_type": "display_data"
    }
   ],
   "source": [
    "display(test.head(10))\n",
    "display(test.info())"
   ]
  },
  {
   "cell_type": "code",
   "execution_count": 7,
   "id": "3a212e8e",
   "metadata": {
    "execution": {
     "iopub.execute_input": "2022-01-06T14:22:54.156340Z",
     "iopub.status.busy": "2022-01-06T14:22:54.155489Z",
     "iopub.status.idle": "2022-01-06T14:22:54.169864Z",
     "shell.execute_reply": "2022-01-06T14:22:54.170554Z",
     "shell.execute_reply.started": "2022-01-06T14:19:55.438996Z"
    },
    "papermill": {
     "duration": 0.132447,
     "end_time": "2022-01-06T14:22:54.170745",
     "exception": false,
     "start_time": "2022-01-06T14:22:54.038298",
     "status": "completed"
    },
    "tags": []
   },
   "outputs": [
    {
     "data": {
      "text/html": [
       "<div>\n",
       "<style scoped>\n",
       "    .dataframe tbody tr th:only-of-type {\n",
       "        vertical-align: middle;\n",
       "    }\n",
       "\n",
       "    .dataframe tbody tr th {\n",
       "        vertical-align: top;\n",
       "    }\n",
       "\n",
       "    .dataframe thead th {\n",
       "        text-align: right;\n",
       "    }\n",
       "</style>\n",
       "<table border=\"1\" class=\"dataframe\">\n",
       "  <thead>\n",
       "    <tr style=\"text-align: right;\">\n",
       "      <th></th>\n",
       "      <th>client_id</th>\n",
       "      <th>default</th>\n",
       "    </tr>\n",
       "  </thead>\n",
       "  <tbody>\n",
       "    <tr>\n",
       "      <th>0</th>\n",
       "      <td>66799</td>\n",
       "      <td>0.441004</td>\n",
       "    </tr>\n",
       "    <tr>\n",
       "      <th>1</th>\n",
       "      <td>25379</td>\n",
       "      <td>0.138092</td>\n",
       "    </tr>\n",
       "    <tr>\n",
       "      <th>2</th>\n",
       "      <td>28825</td>\n",
       "      <td>0.373370</td>\n",
       "    </tr>\n",
       "    <tr>\n",
       "      <th>3</th>\n",
       "      <td>37530</td>\n",
       "      <td>0.476501</td>\n",
       "    </tr>\n",
       "    <tr>\n",
       "      <th>4</th>\n",
       "      <td>4264</td>\n",
       "      <td>0.304640</td>\n",
       "    </tr>\n",
       "    <tr>\n",
       "      <th>5</th>\n",
       "      <td>175</td>\n",
       "      <td>0.311599</td>\n",
       "    </tr>\n",
       "    <tr>\n",
       "      <th>6</th>\n",
       "      <td>57558</td>\n",
       "      <td>0.584807</td>\n",
       "    </tr>\n",
       "    <tr>\n",
       "      <th>7</th>\n",
       "      <td>88407</td>\n",
       "      <td>0.815792</td>\n",
       "    </tr>\n",
       "    <tr>\n",
       "      <th>8</th>\n",
       "      <td>79183</td>\n",
       "      <td>0.325037</td>\n",
       "    </tr>\n",
       "    <tr>\n",
       "      <th>9</th>\n",
       "      <td>69300</td>\n",
       "      <td>0.094011</td>\n",
       "    </tr>\n",
       "  </tbody>\n",
       "</table>\n",
       "</div>"
      ],
      "text/plain": [
       "   client_id   default\n",
       "0      66799  0.441004\n",
       "1      25379  0.138092\n",
       "2      28825  0.373370\n",
       "3      37530  0.476501\n",
       "4       4264  0.304640\n",
       "5        175  0.311599\n",
       "6      57558  0.584807\n",
       "7      88407  0.815792\n",
       "8      79183  0.325037\n",
       "9      69300  0.094011"
      ]
     },
     "metadata": {},
     "output_type": "display_data"
    },
    {
     "name": "stdout",
     "output_type": "stream",
     "text": [
      "<class 'pandas.core.frame.DataFrame'>\n",
      "RangeIndex: 24354 entries, 0 to 24353\n",
      "Data columns (total 2 columns):\n",
      " #   Column     Non-Null Count  Dtype  \n",
      "---  ------     --------------  -----  \n",
      " 0   client_id  24354 non-null  int64  \n",
      " 1   default    24354 non-null  float64\n",
      "dtypes: float64(1), int64(1)\n",
      "memory usage: 380.7 KB\n"
     ]
    },
    {
     "data": {
      "text/plain": [
       "None"
      ]
     },
     "metadata": {},
     "output_type": "display_data"
    }
   ],
   "source": [
    "display(sample_submission.head(10))\n",
    "display(sample_submission.info())"
   ]
  },
  {
   "cell_type": "code",
   "execution_count": 8,
   "id": "fc976497",
   "metadata": {
    "execution": {
     "iopub.execute_input": "2022-01-06T14:22:54.393058Z",
     "iopub.status.busy": "2022-01-06T14:22:54.392348Z",
     "iopub.status.idle": "2022-01-06T14:22:54.492681Z",
     "shell.execute_reply": "2022-01-06T14:22:54.492055Z",
     "shell.execute_reply.started": "2022-01-06T14:19:55.459407Z"
    },
    "papermill": {
     "duration": 0.214442,
     "end_time": "2022-01-06T14:22:54.492853",
     "exception": false,
     "start_time": "2022-01-06T14:22:54.278411",
     "status": "completed"
    },
    "tags": []
   },
   "outputs": [],
   "source": [
    "# Для корректной обработки признаков объединяем обучающую и тестовую выборки в один датасет\n",
    "train['sample'] = 1 # помечаем, где обучающая выборка\n",
    "test['sample'] = 0 # помечаем, где тестовая выборка\n",
    "# в тесте у нас нет значения default, мы его должны предсказать, \n",
    "# поэтому пока заполним произвольными значениями.\n",
    "# Пусть каждый седьмой клиент имеет default=1\n",
    "test['default'] = test['client_id'].apply(lambda x: 1 if x%7 == 0 else 0) \n",
    "\n",
    "data = test.append(train, sort=False).reset_index(drop=True) # объединяем"
   ]
  },
  {
   "cell_type": "code",
   "execution_count": 9,
   "id": "47cc7fd3",
   "metadata": {
    "execution": {
     "iopub.execute_input": "2022-01-06T14:22:54.772407Z",
     "iopub.status.busy": "2022-01-06T14:22:54.713980Z",
     "iopub.status.idle": "2022-01-06T14:22:54.788071Z",
     "shell.execute_reply": "2022-01-06T14:22:54.788724Z",
     "shell.execute_reply.started": "2022-01-06T14:19:55.532963Z"
    },
    "papermill": {
     "duration": 0.18857,
     "end_time": "2022-01-06T14:22:54.788932",
     "exception": false,
     "start_time": "2022-01-06T14:22:54.600362",
     "status": "completed"
    },
    "tags": []
   },
   "outputs": [
    {
     "name": "stdout",
     "output_type": "stream",
     "text": [
      "<class 'pandas.core.frame.DataFrame'>\n",
      "RangeIndex: 110148 entries, 0 to 110147\n",
      "Data columns (total 20 columns):\n",
      " #   Column            Non-Null Count   Dtype  \n",
      "---  ------            --------------   -----  \n",
      " 0   client_id         110148 non-null  int64  \n",
      " 1   app_date          110148 non-null  object \n",
      " 2   education         109670 non-null  object \n",
      " 3   sex               110148 non-null  object \n",
      " 4   age               110148 non-null  int64  \n",
      " 5   car               110148 non-null  object \n",
      " 6   car_type          110148 non-null  object \n",
      " 7   decline_app_cnt   110148 non-null  int64  \n",
      " 8   good_work         110148 non-null  int64  \n",
      " 9   score_bki         110148 non-null  float64\n",
      " 10  bki_request_cnt   110148 non-null  int64  \n",
      " 11  region_rating     110148 non-null  int64  \n",
      " 12  home_address      110148 non-null  int64  \n",
      " 13  work_address      110148 non-null  int64  \n",
      " 14  income            110148 non-null  int64  \n",
      " 15  sna               110148 non-null  int64  \n",
      " 16  first_time        110148 non-null  int64  \n",
      " 17  foreign_passport  110148 non-null  object \n",
      " 18  sample            110148 non-null  int64  \n",
      " 19  default           110148 non-null  int64  \n",
      "dtypes: float64(1), int64(13), object(6)\n",
      "memory usage: 16.8+ MB\n"
     ]
    }
   ],
   "source": [
    "# Информация по объединённому датасету\n",
    "data.info()"
   ]
  },
  {
   "cell_type": "markdown",
   "id": "0e3a6da1",
   "metadata": {
    "papermill": {
     "duration": 0.109065,
     "end_time": "2022-01-06T14:22:55.005314",
     "exception": false,
     "start_time": "2022-01-06T14:22:54.896249",
     "status": "completed"
    },
    "tags": []
   },
   "source": [
    "Теперь на основе этих данных построим наивную модель логистической регрессии, для понимания, какого результата можно добиться с минимальной обработкой данных."
   ]
  },
  {
   "cell_type": "markdown",
   "id": "c53d0029",
   "metadata": {
    "papermill": {
     "duration": 0.108432,
     "end_time": "2022-01-06T14:22:55.222110",
     "exception": false,
     "start_time": "2022-01-06T14:22:55.113678",
     "status": "completed"
    },
    "tags": []
   },
   "source": [
    "## Обработка данных для наивной модели"
   ]
  },
  {
   "cell_type": "code",
   "execution_count": 10,
   "id": "8c4159da",
   "metadata": {
    "execution": {
     "iopub.execute_input": "2022-01-06T14:22:55.440038Z",
     "iopub.status.busy": "2022-01-06T14:22:55.439309Z",
     "iopub.status.idle": "2022-01-06T14:22:55.449520Z",
     "shell.execute_reply": "2022-01-06T14:22:55.450088Z",
     "shell.execute_reply.started": "2022-01-06T14:19:55.623323Z"
    },
    "papermill": {
     "duration": 0.119603,
     "end_time": "2022-01-06T14:22:55.450303",
     "exception": false,
     "start_time": "2022-01-06T14:22:55.330700",
     "status": "completed"
    },
    "tags": []
   },
   "outputs": [],
   "source": [
    "# Скопируем датасет\n",
    "data_naiv = data.copy()"
   ]
  },
  {
   "cell_type": "code",
   "execution_count": 11,
   "id": "69382a0a",
   "metadata": {
    "execution": {
     "iopub.execute_input": "2022-01-06T14:22:55.672826Z",
     "iopub.status.busy": "2022-01-06T14:22:55.672008Z",
     "iopub.status.idle": "2022-01-06T14:22:55.835646Z",
     "shell.execute_reply": "2022-01-06T14:22:55.834729Z",
     "shell.execute_reply.started": "2022-01-06T14:19:55.634911Z"
    },
    "papermill": {
     "duration": 0.279609,
     "end_time": "2022-01-06T14:22:55.835812",
     "exception": false,
     "start_time": "2022-01-06T14:22:55.556203",
     "status": "completed"
    },
    "tags": []
   },
   "outputs": [
    {
     "data": {
      "image/png": "[encoded data removed]",
      "text/plain": [
       "<Figure size 432x288 with 1 Axes>"
      ]
     },
     "metadata": {},
     "output_type": "display_data"
    }
   ],
   "source": [
    "# В первую очередь посмотрим распределение целевой переменной default в обучающей выборке:\n",
    "labels = train.default.value_counts().index\n",
    "values = train.default.value_counts().values\n",
    "\n",
    "plt.title('Разбивка клиентов по \"default\"')\n",
    "plt.pie(values, labels=labels, explode=[0.3, 0], autopct='%1.1f%%')\n",
    "plt.axis('equal')\n",
    "plt.show()"
   ]
  },
  {
   "cell_type": "markdown",
   "id": "80ef6f21",
   "metadata": {
    "papermill": {
     "duration": 0.108862,
     "end_time": "2022-01-06T14:22:56.054564",
     "exception": false,
     "start_time": "2022-01-06T14:22:55.945702",
     "status": "completed"
    },
    "tags": []
   },
   "source": [
    "Как видно, клиентов с дефолтом значительно меньше, чем клиентов без дефолта. Поэтому в дальнейшем при обучении модели нужно будет применять методы для несбалансированных классов."
   ]
  },
  {
   "cell_type": "code",
   "execution_count": 12,
   "id": "03737399",
   "metadata": {
    "execution": {
     "iopub.execute_input": "2022-01-06T14:22:56.278355Z",
     "iopub.status.busy": "2022-01-06T14:22:56.277395Z",
     "iopub.status.idle": "2022-01-06T14:22:56.348618Z",
     "shell.execute_reply": "2022-01-06T14:22:56.349191Z",
     "shell.execute_reply.started": "2022-01-06T14:19:55.733821Z"
    },
    "papermill": {
     "duration": 0.184193,
     "end_time": "2022-01-06T14:22:56.349400",
     "exception": false,
     "start_time": "2022-01-06T14:22:56.165207",
     "status": "completed"
    },
    "tags": []
   },
   "outputs": [
    {
     "data": {
      "text/plain": [
       "client_id             0\n",
       "app_date              0\n",
       "education           478\n",
       "sex                   0\n",
       "age                   0\n",
       "car                   0\n",
       "car_type              0\n",
       "decline_app_cnt       0\n",
       "good_work             0\n",
       "score_bki             0\n",
       "bki_request_cnt       0\n",
       "region_rating         0\n",
       "home_address          0\n",
       "work_address          0\n",
       "income                0\n",
       "sna                   0\n",
       "first_time            0\n",
       "foreign_passport      0\n",
       "sample                0\n",
       "default               0\n",
       "dtype: int64"
      ]
     },
     "execution_count": 12,
     "metadata": {},
     "output_type": "execute_result"
    }
   ],
   "source": [
    "# Смотрим на количество пропусков по столбцам\n",
    "data_naiv.isna().sum()"
   ]
  },
  {
   "cell_type": "code",
   "execution_count": 13,
   "id": "9f962800",
   "metadata": {
    "execution": {
     "iopub.execute_input": "2022-01-06T14:22:56.570438Z",
     "iopub.status.busy": "2022-01-06T14:22:56.569688Z",
     "iopub.status.idle": "2022-01-06T14:22:56.838469Z",
     "shell.execute_reply": "2022-01-06T14:22:56.837726Z",
     "shell.execute_reply.started": "2022-01-06T14:19:55.818042Z"
    },
    "papermill": {
     "duration": 0.380233,
     "end_time": "2022-01-06T14:22:56.838625",
     "exception": false,
     "start_time": "2022-01-06T14:22:56.458392",
     "status": "completed"
    },
    "tags": []
   },
   "outputs": [
    {
     "data": {
      "image/png": "[encoded data removed]",
      "text/plain": [
       "<Figure size 432x288 with 1 Axes>"
      ]
     },
     "metadata": {
      "needs_background": "light"
     },
     "output_type": "display_data"
    }
   ],
   "source": [
    "# Как мы видим, пропуски встречаются только в информации об образовании клиентов.\n",
    "# Посмотрим на признак поближе.\n",
    "data_naiv['education'].value_counts(dropna=False).plot.barh()\n",
    "\n",
    "plt.show()"
   ]
  },
  {
   "cell_type": "markdown",
   "id": "73f2839f",
   "metadata": {
    "papermill": {
     "duration": 0.111007,
     "end_time": "2022-01-06T14:22:57.061839",
     "exception": false,
     "start_time": "2022-01-06T14:22:56.950832",
     "status": "completed"
    },
    "tags": []
   },
   "source": [
    "Что значат уровни образования:\n",
    "\n",
    "SCH - school - те, у кого среднее образование (только школа).\n",
    "\n",
    "UGR - undergraduate - бакалавры.\n",
    "\n",
    "GRD - магистры\n",
    "\n",
    "PGR - postgraduate - учёная степень PhD (кандидаты наук)\n",
    "\n",
    "ACD - высший уровень.\n",
    "\n",
    "Пропусков немного относительно общего количества записей (~0.4%), поэтому присоединим их \n",
    "к самой многочисленной категории SCH."
   ]
  },
  {
   "cell_type": "code",
   "execution_count": 14,
   "id": "aeb45dfc",
   "metadata": {
    "execution": {
     "iopub.execute_input": "2022-01-06T14:22:57.290981Z",
     "iopub.status.busy": "2022-01-06T14:22:57.290243Z",
     "iopub.status.idle": "2022-01-06T14:22:57.374667Z",
     "shell.execute_reply": "2022-01-06T14:22:57.373900Z",
     "shell.execute_reply.started": "2022-01-06T14:19:56.034142Z"
    },
    "papermill": {
     "duration": 0.198615,
     "end_time": "2022-01-06T14:22:57.374827",
     "exception": false,
     "start_time": "2022-01-06T14:22:57.176212",
     "status": "completed"
    },
    "tags": []
   },
   "outputs": [
    {
     "data": {
      "text/plain": [
       "client_id           0\n",
       "app_date            0\n",
       "education           0\n",
       "sex                 0\n",
       "age                 0\n",
       "car                 0\n",
       "car_type            0\n",
       "decline_app_cnt     0\n",
       "good_work           0\n",
       "score_bki           0\n",
       "bki_request_cnt     0\n",
       "region_rating       0\n",
       "home_address        0\n",
       "work_address        0\n",
       "income              0\n",
       "sna                 0\n",
       "first_time          0\n",
       "foreign_passport    0\n",
       "sample              0\n",
       "default             0\n",
       "dtype: int64"
      ]
     },
     "execution_count": 14,
     "metadata": {},
     "output_type": "execute_result"
    }
   ],
   "source": [
    "data_naiv['education'] = data_naiv['education'].fillna('SCH')\n",
    "# Проверяем количество пропусков по столбцам\n",
    "data_naiv.isna().sum()"
   ]
  },
  {
   "cell_type": "code",
   "execution_count": 15,
   "id": "232d2d14",
   "metadata": {
    "execution": {
     "iopub.execute_input": "2022-01-06T14:22:57.602836Z",
     "iopub.status.busy": "2022-01-06T14:22:57.602010Z",
     "iopub.status.idle": "2022-01-06T14:22:57.696979Z",
     "shell.execute_reply": "2022-01-06T14:22:57.695921Z",
     "shell.execute_reply.started": "2022-01-06T14:19:56.133218Z"
    },
    "papermill": {
     "duration": 0.209969,
     "end_time": "2022-01-06T14:22:57.697204",
     "exception": false,
     "start_time": "2022-01-06T14:22:57.487235",
     "status": "completed"
    },
    "tags": []
   },
   "outputs": [
    {
     "name": "stdout",
     "output_type": "stream",
     "text": [
      "Количество значений признаков в столбце client_id: 110148\n",
      "Тип значений признаков в столбце client_id: int64\n",
      "\n",
      "\n",
      "Количество значений признаков в столбце app_date: 120\n",
      "Тип значений признаков в столбце app_date: object\n",
      "\n",
      "\n",
      "Количество значений признаков в столбце education: 5\n",
      "Тип значений признаков в столбце education: object\n",
      "\n",
      "\n",
      "Количество значений признаков в столбце sex: 2\n",
      "(В современном безумном мире мы должны проверить)\n",
      "Тип значений признаков в столбце sex: object\n",
      "\n",
      "\n",
      "Количество значений признаков в столбце age: 52\n",
      "Тип значений признаков в столбце age: int64\n",
      "\n",
      "\n",
      "Количество значений признаков в столбце car: 2\n",
      "Тип значений признаков в столбце car: object\n",
      "\n",
      "\n",
      "Количество значений признаков в столбце car_type: 2\n",
      "Тип значений признаков в столбце car_type: object\n",
      "\n",
      "\n",
      "Количество значений признаков в столбце decline_app_cnt: 24\n",
      "Тип значений признаков в столбце decline_app_cnt: int64\n",
      "\n",
      "\n",
      "Количество значений признаков в столбце good_work: 2\n",
      "Тип значений признаков в столбце good_work: int64\n",
      "\n",
      "\n",
      "Количество значений признаков в столбце score_bki: 102618\n",
      "Тип значений признаков в столбце score_bki: float64\n",
      "\n",
      "\n",
      "Количество значений признаков в столбце bki_request_cnt: 40\n",
      "Тип значений признаков в столбце bki_request_cnt: int64\n",
      "\n",
      "\n",
      "Количество значений признаков в столбце region_rating: 7\n",
      "Тип значений признаков в столбце region_rating: int64\n",
      "\n",
      "\n",
      "Количество значений признаков в столбце home_address: 3\n",
      "Тип значений признаков в столбце home_address: int64\n",
      "\n",
      "\n",
      "Количество значений признаков в столбце work_address: 3\n",
      "Тип значений признаков в столбце work_address: int64\n",
      "\n",
      "\n",
      "Количество значений признаков в столбце income: 1207\n",
      "Тип значений признаков в столбце income: int64\n",
      "\n",
      "\n",
      "Количество значений признаков в столбце sna: 4\n",
      "Тип значений признаков в столбце sna: int64\n",
      "\n",
      "\n",
      "Количество значений признаков в столбце first_time: 4\n",
      "Тип значений признаков в столбце first_time: int64\n",
      "\n",
      "\n",
      "Количество значений признаков в столбце foreign_passport: 2\n",
      "Тип значений признаков в столбце foreign_passport: object\n",
      "\n",
      "\n",
      "Количество значений признаков в столбце sample: 2\n",
      "Тип значений признаков в столбце sample: int64\n",
      "\n",
      "\n",
      "Количество значений признаков в столбце default: 2\n",
      "Тип значений признаков в столбце default: int64\n",
      "\n",
      "\n"
     ]
    }
   ],
   "source": [
    "# Категориальные и числовые признаки обрабатываются по-разному.\n",
    "# Посмотрим, к каким категориям какие признаки относятся.\n",
    "for a in data_naiv.columns:\n",
    "    k = data_naiv[a].nunique()\n",
    "    print(f'Количество значений признаков в столбце {a}: {k}')\n",
    "    if a == 'sex':\n",
    "        print('(В современном безумном мире мы должны проверить)')\n",
    "    print(f'Тип значений признаков в столбце {a}: {data_naiv[a].dtypes}\\n\\n')\n",
    "    "
   ]
  },
  {
   "cell_type": "markdown",
   "id": "c9f3caa9",
   "metadata": {
    "papermill": {
     "duration": 0.10902,
     "end_time": "2022-01-06T14:22:57.917216",
     "exception": false,
     "start_time": "2022-01-06T14:22:57.808196",
     "status": "completed"
    },
    "tags": []
   },
   "source": [
    "Таким образом, исходя из типа данных и их описания, мы можем разделить признаки на категории следующим образом:\n",
    "\n",
    "- категориальные - education, region_rating, home_address, work_address, sna, first_time\n",
    "- бинарные - sex, car, car_type, good_work, foreign_passport\n",
    "- числовые - age, decline_app_cnt, score_bki, bki_request_cnt, income\n",
    "\n",
    "Отдельный случай со столбцом app_date, так как там содержится дата. В наивной модели не будем его учитывать"
   ]
  },
  {
   "cell_type": "code",
   "execution_count": 16,
   "id": "45339ede",
   "metadata": {
    "execution": {
     "iopub.execute_input": "2022-01-06T14:22:58.159132Z",
     "iopub.status.busy": "2022-01-06T14:22:58.154352Z",
     "iopub.status.idle": "2022-01-06T14:22:58.162526Z",
     "shell.execute_reply": "2022-01-06T14:22:58.161911Z",
     "shell.execute_reply.started": "2022-01-06T14:19:56.217077Z"
    },
    "papermill": {
     "duration": 0.130269,
     "end_time": "2022-01-06T14:22:58.162691",
     "exception": false,
     "start_time": "2022-01-06T14:22:58.032422",
     "status": "completed"
    },
    "tags": []
   },
   "outputs": [],
   "source": [
    "# Создадим списки колонок по категориям для удобства работы.\n",
    "# Столбцы default и client_id не включаем, так как первый - целевая переменная,\n",
    "# а второй - просто номер клиента\n",
    "num_cols = ['age', 'decline_app_cnt', 'score_bki', 'bki_request_cnt', 'income']\n",
    "bin_cols = ['sex', 'car', 'car_type', 'good_work', 'foreign_passport']\n",
    "cat_cols = ['education', 'region_rating', 'home_address', 'work_address', 'sna', 'first_time']\n",
    "\n",
    "# Удаляем столбец app_date и sample\n",
    "data_naiv = data_naiv.drop(['app_date', 'sample'], axis=1)"
   ]
  },
  {
   "cell_type": "code",
   "execution_count": 17,
   "id": "48e6190d",
   "metadata": {
    "execution": {
     "iopub.execute_input": "2022-01-06T14:22:58.420286Z",
     "iopub.status.busy": "2022-01-06T14:22:58.399191Z",
     "iopub.status.idle": "2022-01-06T14:22:58.543982Z",
     "shell.execute_reply": "2022-01-06T14:22:58.543242Z",
     "shell.execute_reply.started": "2022-01-06T14:19:56.231491Z"
    },
    "papermill": {
     "duration": 0.27175,
     "end_time": "2022-01-06T14:22:58.544142",
     "exception": false,
     "start_time": "2022-01-06T14:22:58.272392",
     "status": "completed"
    },
    "tags": []
   },
   "outputs": [
    {
     "data": {
      "text/html": [
       "<div>\n",
       "<style scoped>\n",
       "    .dataframe tbody tr th:only-of-type {\n",
       "        vertical-align: middle;\n",
       "    }\n",
       "\n",
       "    .dataframe tbody tr th {\n",
       "        vertical-align: top;\n",
       "    }\n",
       "\n",
       "    .dataframe thead th {\n",
       "        text-align: right;\n",
       "    }\n",
       "</style>\n",
       "<table border=\"1\" class=\"dataframe\">\n",
       "  <thead>\n",
       "    <tr style=\"text-align: right;\">\n",
       "      <th></th>\n",
       "      <th>client_id</th>\n",
       "      <th>education</th>\n",
       "      <th>sex</th>\n",
       "      <th>age</th>\n",
       "      <th>car</th>\n",
       "      <th>car_type</th>\n",
       "      <th>decline_app_cnt</th>\n",
       "      <th>good_work</th>\n",
       "      <th>score_bki</th>\n",
       "      <th>bki_request_cnt</th>\n",
       "      <th>region_rating</th>\n",
       "      <th>home_address</th>\n",
       "      <th>work_address</th>\n",
       "      <th>income</th>\n",
       "      <th>sna</th>\n",
       "      <th>first_time</th>\n",
       "      <th>foreign_passport</th>\n",
       "      <th>default</th>\n",
       "    </tr>\n",
       "  </thead>\n",
       "  <tbody>\n",
       "    <tr>\n",
       "      <th>0</th>\n",
       "      <td>74835</td>\n",
       "      <td>GRD</td>\n",
       "      <td>1</td>\n",
       "      <td>29</td>\n",
       "      <td>1</td>\n",
       "      <td>1</td>\n",
       "      <td>0</td>\n",
       "      <td>0</td>\n",
       "      <td>-2.271884</td>\n",
       "      <td>3</td>\n",
       "      <td>50</td>\n",
       "      <td>1</td>\n",
       "      <td>2</td>\n",
       "      <td>50000</td>\n",
       "      <td>1</td>\n",
       "      <td>4</td>\n",
       "      <td>0</td>\n",
       "      <td>0</td>\n",
       "    </tr>\n",
       "    <tr>\n",
       "      <th>1</th>\n",
       "      <td>17527</td>\n",
       "      <td>SCH</td>\n",
       "      <td>0</td>\n",
       "      <td>39</td>\n",
       "      <td>0</td>\n",
       "      <td>0</td>\n",
       "      <td>5</td>\n",
       "      <td>0</td>\n",
       "      <td>-1.504999</td>\n",
       "      <td>2</td>\n",
       "      <td>50</td>\n",
       "      <td>1</td>\n",
       "      <td>2</td>\n",
       "      <td>5000</td>\n",
       "      <td>4</td>\n",
       "      <td>3</td>\n",
       "      <td>0</td>\n",
       "      <td>0</td>\n",
       "    </tr>\n",
       "    <tr>\n",
       "      <th>2</th>\n",
       "      <td>75683</td>\n",
       "      <td>UGR</td>\n",
       "      <td>1</td>\n",
       "      <td>50</td>\n",
       "      <td>1</td>\n",
       "      <td>1</td>\n",
       "      <td>0</td>\n",
       "      <td>0</td>\n",
       "      <td>-1.691339</td>\n",
       "      <td>1</td>\n",
       "      <td>50</td>\n",
       "      <td>1</td>\n",
       "      <td>2</td>\n",
       "      <td>30000</td>\n",
       "      <td>1</td>\n",
       "      <td>3</td>\n",
       "      <td>1</td>\n",
       "      <td>0</td>\n",
       "    </tr>\n",
       "    <tr>\n",
       "      <th>3</th>\n",
       "      <td>26883</td>\n",
       "      <td>SCH</td>\n",
       "      <td>1</td>\n",
       "      <td>56</td>\n",
       "      <td>0</td>\n",
       "      <td>0</td>\n",
       "      <td>0</td>\n",
       "      <td>0</td>\n",
       "      <td>-2.374182</td>\n",
       "      <td>1</td>\n",
       "      <td>40</td>\n",
       "      <td>1</td>\n",
       "      <td>2</td>\n",
       "      <td>17000</td>\n",
       "      <td>1</td>\n",
       "      <td>3</td>\n",
       "      <td>0</td>\n",
       "      <td>0</td>\n",
       "    </tr>\n",
       "    <tr>\n",
       "      <th>4</th>\n",
       "      <td>28862</td>\n",
       "      <td>GRD</td>\n",
       "      <td>0</td>\n",
       "      <td>38</td>\n",
       "      <td>0</td>\n",
       "      <td>0</td>\n",
       "      <td>0</td>\n",
       "      <td>0</td>\n",
       "      <td>-2.487502</td>\n",
       "      <td>0</td>\n",
       "      <td>80</td>\n",
       "      <td>2</td>\n",
       "      <td>3</td>\n",
       "      <td>120000</td>\n",
       "      <td>1</td>\n",
       "      <td>3</td>\n",
       "      <td>0</td>\n",
       "      <td>0</td>\n",
       "    </tr>\n",
       "  </tbody>\n",
       "</table>\n",
       "</div>"
      ],
      "text/plain": [
       "   client_id education  sex  age  car  car_type  decline_app_cnt  good_work  \\\n",
       "0      74835       GRD    1   29    1         1                0          0   \n",
       "1      17527       SCH    0   39    0         0                5          0   \n",
       "2      75683       UGR    1   50    1         1                0          0   \n",
       "3      26883       SCH    1   56    0         0                0          0   \n",
       "4      28862       GRD    0   38    0         0                0          0   \n",
       "\n",
       "   score_bki  bki_request_cnt  region_rating  home_address  work_address  \\\n",
       "0  -2.271884                3             50             1             2   \n",
       "1  -1.504999                2             50             1             2   \n",
       "2  -1.691339                1             50             1             2   \n",
       "3  -2.374182                1             40             1             2   \n",
       "4  -2.487502                0             80             2             3   \n",
       "\n",
       "   income  sna  first_time  foreign_passport  default  \n",
       "0   50000    1           4                 0        0  \n",
       "1    5000    4           3                 0        0  \n",
       "2   30000    1           3                 1        0  \n",
       "3   17000    1           3                 0        0  \n",
       "4  120000    1           3                 0        0  "
      ]
     },
     "execution_count": 17,
     "metadata": {},
     "output_type": "execute_result"
    }
   ],
   "source": [
    "# Для начала переведём бинарные признаки в числа с помощью LabelEncoder\n",
    "label_encoder = LabelEncoder()\n",
    "\n",
    "for b in bin_cols:\n",
    "    data_naiv[b] = label_encoder.fit_transform(data_naiv[b])\n",
    "    \n",
    "# убедимся в преобразовании    \n",
    "data_naiv.head()"
   ]
  },
  {
   "cell_type": "code",
   "execution_count": 18,
   "id": "f51a1467",
   "metadata": {
    "execution": {
     "iopub.execute_input": "2022-01-06T14:22:58.771557Z",
     "iopub.status.busy": "2022-01-06T14:22:58.770825Z",
     "iopub.status.idle": "2022-01-06T14:23:00.315669Z",
     "shell.execute_reply": "2022-01-06T14:23:00.314897Z",
     "shell.execute_reply.started": "2022-01-06T14:19:56.405596Z"
    },
    "papermill": {
     "duration": 1.659565,
     "end_time": "2022-01-06T14:23:00.315843",
     "exception": false,
     "start_time": "2022-01-06T14:22:58.656278",
     "status": "completed"
    },
    "tags": []
   },
   "outputs": [
    {
     "data": {
      "image/png": "[encoded data removed]",
      "text/plain": [
       "<Figure size 432x288 with 1 Axes>"
      ]
     },
     "metadata": {
      "needs_background": "light"
     },
     "output_type": "display_data"
    },
    {
     "data": {
      "image/png": "[encoded data removed]",
      "text/plain": [
       "<Figure size 432x288 with 1 Axes>"
      ]
     },
     "metadata": {
      "needs_background": "light"
     },
     "output_type": "display_data"
    },
    {
     "data": {
      "image/png": "[encoded data removed]",
      "text/plain": [
       "<Figure size 432x288 with 1 Axes>"
      ]
     },
     "metadata": {
      "needs_background": "light"
     },
     "output_type": "display_data"
    },
    {
     "data": {
      "image/png": "[encoded data removed]",
      "text/plain": [
       "<Figure size 432x288 with 1 Axes>"
      ]
     },
     "metadata": {
      "needs_background": "light"
     },
     "output_type": "display_data"
    },
    {
     "data": {
      "image/png": "[encoded data removed]",
      "text/plain": [
       "<Figure size 432x288 with 1 Axes>"
      ]
     },
     "metadata": {
      "needs_background": "light"
     },
     "output_type": "display_data"
    }
   ],
   "source": [
    "# Посмотрим на распределение числовых переменных:\n",
    "for c in num_cols:\n",
    "    data_naiv[c].plot.hist(bins=26)\n",
    "    plt.title(c)\n",
    "    plt.show()"
   ]
  },
  {
   "cell_type": "markdown",
   "id": "64dc5160",
   "metadata": {
    "papermill": {
     "duration": 0.113782,
     "end_time": "2022-01-06T14:23:00.542897",
     "exception": false,
     "start_time": "2022-01-06T14:23:00.429115",
     "status": "completed"
    },
    "tags": []
   },
   "source": [
    "После построения гистограмм стало очевидно, что распределения почти всех числовых переменных имеют тяжёлый правый хвост.\n",
    "\n",
    "Для того, чтобы сделать распределение данных переменных более нормальным, можно работать с логарифмированными величинами этих переменных. Тогда мы сможем избежать чувствительности к сильным отклонениям в суммах у линейных моделей."
   ]
  },
  {
   "cell_type": "code",
   "execution_count": 19,
   "id": "54cb321b",
   "metadata": {
    "execution": {
     "iopub.execute_input": "2022-01-06T14:23:00.772328Z",
     "iopub.status.busy": "2022-01-06T14:23:00.771586Z",
     "iopub.status.idle": "2022-01-06T14:23:03.512050Z",
     "shell.execute_reply": "2022-01-06T14:23:03.511467Z",
     "shell.execute_reply.started": "2022-01-06T14:19:57.703117Z"
    },
    "papermill": {
     "duration": 2.856557,
     "end_time": "2022-01-06T14:23:03.512199",
     "exception": false,
     "start_time": "2022-01-06T14:23:00.655642",
     "status": "completed"
    },
    "tags": []
   },
   "outputs": [
    {
     "data": {
      "image/png": "[encoded data removed]",
      "text/plain": [
       "<Figure size 432x288 with 1 Axes>"
      ]
     },
     "metadata": {
      "needs_background": "light"
     },
     "output_type": "display_data"
    },
    {
     "data": {
      "image/png": "[encoded data removed]",
      "text/plain": [
       "<Figure size 432x288 with 1 Axes>"
      ]
     },
     "metadata": {
      "needs_background": "light"
     },
     "output_type": "display_data"
    },
    {
     "data": {
      "image/png": "[encoded data removed]",
      "text/plain": [
       "<Figure size 432x288 with 1 Axes>"
      ]
     },
     "metadata": {
      "needs_background": "light"
     },
     "output_type": "display_data"
    },
    {
     "data": {
      "image/png": "[encoded data removed]",
      "text/plain": [
       "<Figure size 432x288 with 1 Axes>"
      ]
     },
     "metadata": {
      "needs_background": "light"
     },
     "output_type": "display_data"
    },
    {
     "data": {
      "image/png": "[encoded data removed]",
      "text/plain": [
       "<Figure size 432x288 with 1 Axes>"
      ]
     },
     "metadata": {
      "needs_background": "light"
     },
     "output_type": "display_data"
    }
   ],
   "source": [
    "# прологарифмируем все числовые столбцы, кроме score_bki\n",
    "for d in num_cols:\n",
    "    data_naiv[d] = data_naiv[d].apply(lambda x: np.log(x + 1) if d != 'score_bki' else x)\n",
    "    data_naiv[d].plot.hist(bins=26)\n",
    "    plt.title(d)\n",
    "    plt.show()\n"
   ]
  },
  {
   "cell_type": "code",
   "execution_count": 20,
   "id": "7363d228",
   "metadata": {
    "execution": {
     "iopub.execute_input": "2022-01-06T14:23:03.746409Z",
     "iopub.status.busy": "2022-01-06T14:23:03.745692Z",
     "iopub.status.idle": "2022-01-06T14:23:03.825008Z",
     "shell.execute_reply": "2022-01-06T14:23:03.824419Z",
     "shell.execute_reply.started": "2022-01-06T14:20:00.165820Z"
    },
    "papermill": {
     "duration": 0.197544,
     "end_time": "2022-01-06T14:23:03.825164",
     "exception": false,
     "start_time": "2022-01-06T14:23:03.627620",
     "status": "completed"
    },
    "tags": []
   },
   "outputs": [
    {
     "data": {
      "text/plain": [
       "(110148, 38)"
      ]
     },
     "execution_count": 20,
     "metadata": {},
     "output_type": "execute_result"
    }
   ],
   "source": [
    "# Закодируем категориальные признаки с помощью OneHotEncoding\n",
    "X_naiv_cat =  pd.get_dummies(data_naiv, columns=cat_cols).values\n",
    "X_naiv_cat.shape"
   ]
  },
  {
   "cell_type": "code",
   "execution_count": 21,
   "id": "fed0946e",
   "metadata": {
    "execution": {
     "iopub.execute_input": "2022-01-06T14:23:04.067244Z",
     "iopub.status.busy": "2022-01-06T14:23:04.065932Z",
     "iopub.status.idle": "2022-01-06T14:23:04.087304Z",
     "shell.execute_reply": "2022-01-06T14:23:04.086665Z",
     "shell.execute_reply.started": "2022-01-06T14:20:00.231512Z"
    },
    "papermill": {
     "duration": 0.146462,
     "end_time": "2022-01-06T14:23:04.087474",
     "exception": false,
     "start_time": "2022-01-06T14:23:03.941012",
     "status": "completed"
    },
    "tags": []
   },
   "outputs": [],
   "source": [
    "# Объединим стандартизованные числовые, бинарные и закодированные категориальные\n",
    "# переменные в одно признаковое пространство, разделив при этом признаки\n",
    "# и целевую переменную.\n",
    "X_naiv = np.hstack([data_naiv[num_cols].values, data_naiv[bin_cols].values, X_naiv_cat])\n",
    "Y_naiv = data_naiv['default'].values"
   ]
  },
  {
   "cell_type": "code",
   "execution_count": 22,
   "id": "017161a0",
   "metadata": {
    "execution": {
     "iopub.execute_input": "2022-01-06T14:23:04.323624Z",
     "iopub.status.busy": "2022-01-06T14:23:04.322883Z",
     "iopub.status.idle": "2022-01-06T14:23:04.403012Z",
     "shell.execute_reply": "2022-01-06T14:23:04.402422Z",
     "shell.execute_reply.started": "2022-01-06T14:20:00.256985Z"
    },
    "papermill": {
     "duration": 0.200476,
     "end_time": "2022-01-06T14:23:04.403181",
     "exception": false,
     "start_time": "2022-01-06T14:23:04.202705",
     "status": "completed"
    },
    "tags": []
   },
   "outputs": [],
   "source": [
    "# Разделим данные для обучения на тренировочную и тестовую выборки следующим образом:\n",
    "X_train_naiv, X_test_naiv, Y_train_naiv, Y_test_naiv = train_test_split(X_naiv, Y_naiv, test_size=0.20, random_state=42)"
   ]
  },
  {
   "cell_type": "code",
   "execution_count": 23,
   "id": "865db2dc",
   "metadata": {
    "execution": {
     "iopub.execute_input": "2022-01-06T14:23:04.644143Z",
     "iopub.status.busy": "2022-01-06T14:23:04.643429Z",
     "iopub.status.idle": "2022-01-06T14:23:05.677676Z",
     "shell.execute_reply": "2022-01-06T14:23:05.676905Z",
     "shell.execute_reply.started": "2022-01-06T14:20:00.329695Z"
    },
    "papermill": {
     "duration": 1.157195,
     "end_time": "2022-01-06T14:23:05.677841",
     "exception": false,
     "start_time": "2022-01-06T14:23:04.520646",
     "status": "completed"
    },
    "tags": []
   },
   "outputs": [
    {
     "data": {
      "image/png": "[encoded data removed]",
      "text/plain": [
       "<Figure size 432x288 with 1 Axes>"
      ]
     },
     "metadata": {
      "needs_background": "light"
     },
     "output_type": "display_data"
    }
   ],
   "source": [
    "# Обучаем модель на стандартных настройках логистической регрессии\n",
    "# Логистическая регрессия\n",
    "model_naiv = LogisticRegression(max_iter=5000)\n",
    "model_naiv.fit(X_train_naiv, Y_train_naiv)\n",
    "\n",
    "probs_naiv = model_naiv.predict_proba(X_test_naiv)\n",
    "Y_pred_naiv = model_naiv.predict(X_test_naiv)\n",
    "probs_naiv = probs_naiv[:,1]\n",
    "\n",
    "# Выводим на экран график roc_auc\n",
    "print_roc_auc(Y_test_naiv, probs_naiv)"
   ]
  },
  {
   "cell_type": "code",
   "execution_count": 24,
   "id": "720e27bd",
   "metadata": {
    "execution": {
     "iopub.execute_input": "2022-01-06T14:23:05.922608Z",
     "iopub.status.busy": "2022-01-06T14:23:05.921845Z",
     "iopub.status.idle": "2022-01-06T14:23:05.957828Z",
     "shell.execute_reply": "2022-01-06T14:23:05.957164Z",
     "shell.execute_reply.started": "2022-01-06T14:20:01.280053Z"
    },
    "papermill": {
     "duration": 0.16129,
     "end_time": "2022-01-06T14:23:05.957990",
     "exception": false,
     "start_time": "2022-01-06T14:23:05.796700",
     "status": "completed"
    },
    "tags": []
   },
   "outputs": [
    {
     "name": "stdout",
     "output_type": "stream",
     "text": [
      "[[19123     0]\n",
      " [ 2907     0]]\n"
     ]
    }
   ],
   "source": [
    "# Матрица ошибок для нашего алгоритма\n",
    "print(confusion_matrix(Y_test_naiv, Y_pred_naiv))"
   ]
  },
  {
   "cell_type": "markdown",
   "id": "90556dae",
   "metadata": {
    "execution": {
     "iopub.execute_input": "2021-11-29T13:48:04.740781Z",
     "iopub.status.busy": "2021-11-29T13:48:04.740247Z",
     "iopub.status.idle": "2021-11-29T13:48:04.772762Z",
     "shell.execute_reply": "2021-11-29T13:48:04.772004Z",
     "shell.execute_reply.started": "2021-11-29T13:48:04.740731Z"
    },
    "papermill": {
     "duration": 0.120192,
     "end_time": "2022-01-06T14:23:06.198116",
     "exception": false,
     "start_time": "2022-01-06T14:23:06.077924",
     "status": "completed"
    },
    "tags": []
   },
   "source": [
    "Наша наивная модель все примеры причислила к классу default=0. Что вполне закономерно для такого разбаланса классов.\n",
    "\n",
    "Посмотрим остальные метрики качества для логистической регрессии"
   ]
  },
  {
   "cell_type": "code",
   "execution_count": 25,
   "id": "2dd82f6a",
   "metadata": {
    "execution": {
     "iopub.execute_input": "2022-01-06T14:23:06.442599Z",
     "iopub.status.busy": "2022-01-06T14:23:06.441884Z",
     "iopub.status.idle": "2022-01-06T14:23:06.499811Z",
     "shell.execute_reply": "2022-01-06T14:23:06.500545Z",
     "shell.execute_reply.started": "2022-01-06T14:20:01.321458Z"
    },
    "papermill": {
     "duration": 0.182683,
     "end_time": "2022-01-06T14:23:06.500733",
     "exception": false,
     "start_time": "2022-01-06T14:23:06.318050",
     "status": "completed"
    },
    "tags": []
   },
   "outputs": [
    {
     "name": "stdout",
     "output_type": "stream",
     "text": [
      "accuracy: 0.8680\n",
      "balanced_accuracy: 0.5000\n",
      "precision_score: 0.0000\n",
      "recall_score: 0.0000\n",
      "f1_score: 0.0000\n"
     ]
    },
    {
     "name": "stderr",
     "output_type": "stream",
     "text": [
      "/opt/conda/lib/python3.7/site-packages/sklearn/metrics/_classification.py:1221: UndefinedMetricWarning: Precision is ill-defined and being set to 0.0 due to no predicted samples. Use `zero_division` parameter to control this behavior.\n",
      "  _warn_prf(average, modifier, msg_start, len(result))\n"
     ]
    }
   ],
   "source": [
    "print_metrics(Y_test_naiv, Y_pred_naiv, acc=1)"
   ]
  },
  {
   "cell_type": "markdown",
   "id": "087d4efc",
   "metadata": {
    "execution": {
     "iopub.execute_input": "2021-11-29T13:49:20.182536Z",
     "iopub.status.busy": "2021-11-29T13:49:20.181909Z",
     "iopub.status.idle": "2021-11-29T13:49:20.202349Z",
     "shell.execute_reply": "2021-11-29T13:49:20.200972Z",
     "shell.execute_reply.started": "2021-11-29T13:49:20.182494Z"
    },
    "papermill": {
     "duration": 0.117602,
     "end_time": "2022-01-06T14:23:06.736378",
     "exception": false,
     "start_time": "2022-01-06T14:23:06.618776",
     "status": "completed"
    },
    "tags": []
   },
   "source": [
    "Так как наша модель не дала значений TN и FN, метрики precision, recall и f1 не посчитались.\n",
    "А вот метрика accuracy показала очень хорошее значение, что лишний раз подтверждает, что её нельзя использовать в случае несбалансированных классов. Поэтому в дальнейшем будем смотреть характеристику balanced_accuracy, которая гораздо лучше подходит для таких случаев."
   ]
  },
  {
   "cell_type": "markdown",
   "id": "fd316ebd",
   "metadata": {
    "papermill": {
     "duration": 0.117593,
     "end_time": "2022-01-06T14:23:06.972052",
     "exception": false,
     "start_time": "2022-01-06T14:23:06.854459",
     "status": "completed"
    },
    "tags": []
   },
   "source": [
    "Как видим, наивная модель не сильно отличается от случайного угадывания. Для улучшения характеристик модели необходимо проводить исследование и обработку данных."
   ]
  },
  {
   "cell_type": "markdown",
   "id": "15a8a92e",
   "metadata": {
    "papermill": {
     "duration": 0.11752,
     "end_time": "2022-01-06T14:23:07.207027",
     "exception": false,
     "start_time": "2022-01-06T14:23:07.089507",
     "status": "completed"
    },
    "tags": []
   },
   "source": [
    "## Анализ данных"
   ]
  },
  {
   "cell_type": "code",
   "execution_count": 26,
   "id": "79012da7",
   "metadata": {
    "execution": {
     "iopub.execute_input": "2022-01-06T14:23:07.467396Z",
     "iopub.status.busy": "2022-01-06T14:23:07.466368Z",
     "iopub.status.idle": "2022-01-06T14:23:07.545783Z",
     "shell.execute_reply": "2022-01-06T14:23:07.545048Z",
     "shell.execute_reply.started": "2022-01-06T14:20:01.385710Z"
    },
    "papermill": {
     "duration": 0.220813,
     "end_time": "2022-01-06T14:23:07.545939",
     "exception": false,
     "start_time": "2022-01-06T14:23:07.325126",
     "status": "completed"
    },
    "tags": []
   },
   "outputs": [
    {
     "data": {
      "text/html": [
       "<div>\n",
       "<style scoped>\n",
       "    .dataframe tbody tr th:only-of-type {\n",
       "        vertical-align: middle;\n",
       "    }\n",
       "\n",
       "    .dataframe tbody tr th {\n",
       "        vertical-align: top;\n",
       "    }\n",
       "\n",
       "    .dataframe thead th {\n",
       "        text-align: right;\n",
       "    }\n",
       "</style>\n",
       "<table border=\"1\" class=\"dataframe\">\n",
       "  <thead>\n",
       "    <tr style=\"text-align: right;\">\n",
       "      <th></th>\n",
       "      <th>client_id</th>\n",
       "      <th>app_date</th>\n",
       "      <th>education</th>\n",
       "      <th>sex</th>\n",
       "      <th>age</th>\n",
       "      <th>car</th>\n",
       "      <th>car_type</th>\n",
       "      <th>decline_app_cnt</th>\n",
       "      <th>good_work</th>\n",
       "      <th>score_bki</th>\n",
       "      <th>bki_request_cnt</th>\n",
       "      <th>region_rating</th>\n",
       "      <th>home_address</th>\n",
       "      <th>work_address</th>\n",
       "      <th>income</th>\n",
       "      <th>sna</th>\n",
       "      <th>first_time</th>\n",
       "      <th>foreign_passport</th>\n",
       "      <th>sample</th>\n",
       "      <th>default</th>\n",
       "    </tr>\n",
       "  </thead>\n",
       "  <tbody>\n",
       "    <tr>\n",
       "      <th>0</th>\n",
       "      <td>74835</td>\n",
       "      <td>22MAR2014</td>\n",
       "      <td>GRD</td>\n",
       "      <td>M</td>\n",
       "      <td>29</td>\n",
       "      <td>Y</td>\n",
       "      <td>Y</td>\n",
       "      <td>0</td>\n",
       "      <td>0</td>\n",
       "      <td>-2.271884</td>\n",
       "      <td>3</td>\n",
       "      <td>50</td>\n",
       "      <td>1</td>\n",
       "      <td>2</td>\n",
       "      <td>50000</td>\n",
       "      <td>1</td>\n",
       "      <td>4</td>\n",
       "      <td>N</td>\n",
       "      <td>0</td>\n",
       "      <td>0</td>\n",
       "    </tr>\n",
       "    <tr>\n",
       "      <th>1</th>\n",
       "      <td>17527</td>\n",
       "      <td>24JAN2014</td>\n",
       "      <td>SCH</td>\n",
       "      <td>F</td>\n",
       "      <td>39</td>\n",
       "      <td>N</td>\n",
       "      <td>N</td>\n",
       "      <td>5</td>\n",
       "      <td>0</td>\n",
       "      <td>-1.504999</td>\n",
       "      <td>2</td>\n",
       "      <td>50</td>\n",
       "      <td>1</td>\n",
       "      <td>2</td>\n",
       "      <td>5000</td>\n",
       "      <td>4</td>\n",
       "      <td>3</td>\n",
       "      <td>N</td>\n",
       "      <td>0</td>\n",
       "      <td>0</td>\n",
       "    </tr>\n",
       "    <tr>\n",
       "      <th>2</th>\n",
       "      <td>75683</td>\n",
       "      <td>23MAR2014</td>\n",
       "      <td>UGR</td>\n",
       "      <td>M</td>\n",
       "      <td>50</td>\n",
       "      <td>Y</td>\n",
       "      <td>Y</td>\n",
       "      <td>0</td>\n",
       "      <td>0</td>\n",
       "      <td>-1.691339</td>\n",
       "      <td>1</td>\n",
       "      <td>50</td>\n",
       "      <td>1</td>\n",
       "      <td>2</td>\n",
       "      <td>30000</td>\n",
       "      <td>1</td>\n",
       "      <td>3</td>\n",
       "      <td>Y</td>\n",
       "      <td>0</td>\n",
       "      <td>0</td>\n",
       "    </tr>\n",
       "    <tr>\n",
       "      <th>3</th>\n",
       "      <td>26883</td>\n",
       "      <td>03FEB2014</td>\n",
       "      <td>SCH</td>\n",
       "      <td>M</td>\n",
       "      <td>56</td>\n",
       "      <td>N</td>\n",
       "      <td>N</td>\n",
       "      <td>0</td>\n",
       "      <td>0</td>\n",
       "      <td>-2.374182</td>\n",
       "      <td>1</td>\n",
       "      <td>40</td>\n",
       "      <td>1</td>\n",
       "      <td>2</td>\n",
       "      <td>17000</td>\n",
       "      <td>1</td>\n",
       "      <td>3</td>\n",
       "      <td>N</td>\n",
       "      <td>0</td>\n",
       "      <td>0</td>\n",
       "    </tr>\n",
       "    <tr>\n",
       "      <th>4</th>\n",
       "      <td>28862</td>\n",
       "      <td>04FEB2014</td>\n",
       "      <td>GRD</td>\n",
       "      <td>F</td>\n",
       "      <td>38</td>\n",
       "      <td>N</td>\n",
       "      <td>N</td>\n",
       "      <td>0</td>\n",
       "      <td>0</td>\n",
       "      <td>-2.487502</td>\n",
       "      <td>0</td>\n",
       "      <td>80</td>\n",
       "      <td>2</td>\n",
       "      <td>3</td>\n",
       "      <td>120000</td>\n",
       "      <td>1</td>\n",
       "      <td>3</td>\n",
       "      <td>N</td>\n",
       "      <td>0</td>\n",
       "      <td>0</td>\n",
       "    </tr>\n",
       "    <tr>\n",
       "      <th>5</th>\n",
       "      <td>99881</td>\n",
       "      <td>17APR2014</td>\n",
       "      <td>SCH</td>\n",
       "      <td>F</td>\n",
       "      <td>55</td>\n",
       "      <td>N</td>\n",
       "      <td>N</td>\n",
       "      <td>0</td>\n",
       "      <td>0</td>\n",
       "      <td>-1.740224</td>\n",
       "      <td>7</td>\n",
       "      <td>50</td>\n",
       "      <td>3</td>\n",
       "      <td>3</td>\n",
       "      <td>30000</td>\n",
       "      <td>2</td>\n",
       "      <td>1</td>\n",
       "      <td>N</td>\n",
       "      <td>0</td>\n",
       "      <td>0</td>\n",
       "    </tr>\n",
       "    <tr>\n",
       "      <th>6</th>\n",
       "      <td>26630</td>\n",
       "      <td>02FEB2014</td>\n",
       "      <td>SCH</td>\n",
       "      <td>F</td>\n",
       "      <td>30</td>\n",
       "      <td>N</td>\n",
       "      <td>N</td>\n",
       "      <td>3</td>\n",
       "      <td>0</td>\n",
       "      <td>-1.387847</td>\n",
       "      <td>5</td>\n",
       "      <td>60</td>\n",
       "      <td>1</td>\n",
       "      <td>2</td>\n",
       "      <td>11000</td>\n",
       "      <td>4</td>\n",
       "      <td>3</td>\n",
       "      <td>N</td>\n",
       "      <td>0</td>\n",
       "      <td>0</td>\n",
       "    </tr>\n",
       "    <tr>\n",
       "      <th>7</th>\n",
       "      <td>79934</td>\n",
       "      <td>28MAR2014</td>\n",
       "      <td>GRD</td>\n",
       "      <td>M</td>\n",
       "      <td>41</td>\n",
       "      <td>Y</td>\n",
       "      <td>Y</td>\n",
       "      <td>0</td>\n",
       "      <td>0</td>\n",
       "      <td>-3.066047</td>\n",
       "      <td>3</td>\n",
       "      <td>60</td>\n",
       "      <td>1</td>\n",
       "      <td>3</td>\n",
       "      <td>80000</td>\n",
       "      <td>4</td>\n",
       "      <td>1</td>\n",
       "      <td>N</td>\n",
       "      <td>0</td>\n",
       "      <td>0</td>\n",
       "    </tr>\n",
       "    <tr>\n",
       "      <th>8</th>\n",
       "      <td>16605</td>\n",
       "      <td>23JAN2014</td>\n",
       "      <td>GRD</td>\n",
       "      <td>M</td>\n",
       "      <td>34</td>\n",
       "      <td>N</td>\n",
       "      <td>N</td>\n",
       "      <td>0</td>\n",
       "      <td>0</td>\n",
       "      <td>-3.117086</td>\n",
       "      <td>0</td>\n",
       "      <td>80</td>\n",
       "      <td>2</td>\n",
       "      <td>3</td>\n",
       "      <td>5000</td>\n",
       "      <td>1</td>\n",
       "      <td>2</td>\n",
       "      <td>N</td>\n",
       "      <td>0</td>\n",
       "      <td>0</td>\n",
       "    </tr>\n",
       "    <tr>\n",
       "      <th>9</th>\n",
       "      <td>105449</td>\n",
       "      <td>24APR2014</td>\n",
       "      <td>UGR</td>\n",
       "      <td>M</td>\n",
       "      <td>28</td>\n",
       "      <td>Y</td>\n",
       "      <td>Y</td>\n",
       "      <td>0</td>\n",
       "      <td>0</td>\n",
       "      <td>-2.185172</td>\n",
       "      <td>0</td>\n",
       "      <td>80</td>\n",
       "      <td>2</td>\n",
       "      <td>3</td>\n",
       "      <td>80000</td>\n",
       "      <td>1</td>\n",
       "      <td>3</td>\n",
       "      <td>Y</td>\n",
       "      <td>0</td>\n",
       "      <td>0</td>\n",
       "    </tr>\n",
       "  </tbody>\n",
       "</table>\n",
       "</div>"
      ],
      "text/plain": [
       "   client_id   app_date education sex  age car car_type  decline_app_cnt  \\\n",
       "0      74835  22MAR2014       GRD   M   29   Y        Y                0   \n",
       "1      17527  24JAN2014       SCH   F   39   N        N                5   \n",
       "2      75683  23MAR2014       UGR   M   50   Y        Y                0   \n",
       "3      26883  03FEB2014       SCH   M   56   N        N                0   \n",
       "4      28862  04FEB2014       GRD   F   38   N        N                0   \n",
       "5      99881  17APR2014       SCH   F   55   N        N                0   \n",
       "6      26630  02FEB2014       SCH   F   30   N        N                3   \n",
       "7      79934  28MAR2014       GRD   M   41   Y        Y                0   \n",
       "8      16605  23JAN2014       GRD   M   34   N        N                0   \n",
       "9     105449  24APR2014       UGR   M   28   Y        Y                0   \n",
       "\n",
       "   good_work  score_bki  bki_request_cnt  region_rating  home_address  \\\n",
       "0          0  -2.271884                3             50             1   \n",
       "1          0  -1.504999                2             50             1   \n",
       "2          0  -1.691339                1             50             1   \n",
       "3          0  -2.374182                1             40             1   \n",
       "4          0  -2.487502                0             80             2   \n",
       "5          0  -1.740224                7             50             3   \n",
       "6          0  -1.387847                5             60             1   \n",
       "7          0  -3.066047                3             60             1   \n",
       "8          0  -3.117086                0             80             2   \n",
       "9          0  -2.185172                0             80             2   \n",
       "\n",
       "   work_address  income  sna  first_time foreign_passport  sample  default  \n",
       "0             2   50000    1           4                N       0        0  \n",
       "1             2    5000    4           3                N       0        0  \n",
       "2             2   30000    1           3                Y       0        0  \n",
       "3             2   17000    1           3                N       0        0  \n",
       "4             3  120000    1           3                N       0        0  \n",
       "5             3   30000    2           1                N       0        0  \n",
       "6             2   11000    4           3                N       0        0  \n",
       "7             3   80000    4           1                N       0        0  \n",
       "8             3    5000    1           2                N       0        0  \n",
       "9             3   80000    1           3                Y       0        0  "
      ]
     },
     "metadata": {},
     "output_type": "display_data"
    },
    {
     "name": "stdout",
     "output_type": "stream",
     "text": [
      "<class 'pandas.core.frame.DataFrame'>\n",
      "RangeIndex: 110148 entries, 0 to 110147\n",
      "Data columns (total 20 columns):\n",
      " #   Column            Non-Null Count   Dtype  \n",
      "---  ------            --------------   -----  \n",
      " 0   client_id         110148 non-null  int64  \n",
      " 1   app_date          110148 non-null  object \n",
      " 2   education         109670 non-null  object \n",
      " 3   sex               110148 non-null  object \n",
      " 4   age               110148 non-null  int64  \n",
      " 5   car               110148 non-null  object \n",
      " 6   car_type          110148 non-null  object \n",
      " 7   decline_app_cnt   110148 non-null  int64  \n",
      " 8   good_work         110148 non-null  int64  \n",
      " 9   score_bki         110148 non-null  float64\n",
      " 10  bki_request_cnt   110148 non-null  int64  \n",
      " 11  region_rating     110148 non-null  int64  \n",
      " 12  home_address      110148 non-null  int64  \n",
      " 13  work_address      110148 non-null  int64  \n",
      " 14  income            110148 non-null  int64  \n",
      " 15  sna               110148 non-null  int64  \n",
      " 16  first_time        110148 non-null  int64  \n",
      " 17  foreign_passport  110148 non-null  object \n",
      " 18  sample            110148 non-null  int64  \n",
      " 19  default           110148 non-null  int64  \n",
      "dtypes: float64(1), int64(13), object(6)\n",
      "memory usage: 16.8+ MB\n"
     ]
    },
    {
     "data": {
      "text/plain": [
       "None"
      ]
     },
     "metadata": {},
     "output_type": "display_data"
    }
   ],
   "source": [
    "# Вспоним, как выглядит объединённый датасет\n",
    "display(data.head(10))\n",
    "display(data.info())"
   ]
  },
  {
   "cell_type": "markdown",
   "id": "4288f05c",
   "metadata": {
    "papermill": {
     "duration": 0.120883,
     "end_time": "2022-01-06T14:23:07.789023",
     "exception": false,
     "start_time": "2022-01-06T14:23:07.668140",
     "status": "completed"
    },
    "tags": []
   },
   "source": [
    "**Признак client_id**"
   ]
  },
  {
   "cell_type": "code",
   "execution_count": 27,
   "id": "097b7d0f",
   "metadata": {
    "execution": {
     "iopub.execute_input": "2022-01-06T14:23:08.046390Z",
     "iopub.status.busy": "2022-01-06T14:23:08.045244Z",
     "iopub.status.idle": "2022-01-06T14:23:08.058324Z",
     "shell.execute_reply": "2022-01-06T14:23:08.057695Z",
     "shell.execute_reply.started": "2022-01-06T14:20:01.495742Z"
    },
    "papermill": {
     "duration": 0.147488,
     "end_time": "2022-01-06T14:23:08.058479",
     "exception": false,
     "start_time": "2022-01-06T14:23:07.910991",
     "status": "completed"
    },
    "tags": []
   },
   "outputs": [
    {
     "data": {
      "text/plain": [
       "110148"
      ]
     },
     "execution_count": 27,
     "metadata": {},
     "output_type": "execute_result"
    }
   ],
   "source": [
    "# Посмотрим, сколько значений в этом столбце\n",
    "data['client_id'].nunique()"
   ]
  },
  {
   "cell_type": "markdown",
   "id": "926cd7d0",
   "metadata": {
    "papermill": {
     "duration": 0.121546,
     "end_time": "2022-01-06T14:23:08.303013",
     "exception": false,
     "start_time": "2022-01-06T14:23:08.181467",
     "status": "completed"
    },
    "tags": []
   },
   "source": [
    "Получается, здесь просто порядковый номер клиента. Никакой обработки для этого столбца не предполагается."
   ]
  },
  {
   "cell_type": "markdown",
   "id": "2e62116c",
   "metadata": {
    "papermill": {
     "duration": 0.120804,
     "end_time": "2022-01-06T14:23:08.545143",
     "exception": false,
     "start_time": "2022-01-06T14:23:08.424339",
     "status": "completed"
    },
    "tags": []
   },
   "source": [
    "**Признак app_date**"
   ]
  },
  {
   "cell_type": "code",
   "execution_count": 28,
   "id": "9e6daf1a",
   "metadata": {
    "execution": {
     "iopub.execute_input": "2022-01-06T14:23:08.790539Z",
     "iopub.status.busy": "2022-01-06T14:23:08.789787Z",
     "iopub.status.idle": "2022-01-06T14:23:08.842182Z",
     "shell.execute_reply": "2022-01-06T14:23:08.842724Z",
     "shell.execute_reply.started": "2022-01-06T14:20:01.512873Z"
    },
    "papermill": {
     "duration": 0.17661,
     "end_time": "2022-01-06T14:23:08.842914",
     "exception": false,
     "start_time": "2022-01-06T14:23:08.666304",
     "status": "completed"
    },
    "tags": []
   },
   "outputs": [
    {
     "data": {
      "text/plain": [
       "2014-03-18    1491\n",
       "2014-03-19    1363\n",
       "2014-03-17    1350\n",
       "2014-03-31    1317\n",
       "2014-04-07    1296\n",
       "              ... \n",
       "2014-04-20     359\n",
       "2014-01-07     349\n",
       "2014-01-03     313\n",
       "2014-01-02     204\n",
       "2014-01-01      56\n",
       "Name: app_date, Length: 120, dtype: int64"
      ]
     },
     "execution_count": 28,
     "metadata": {},
     "output_type": "execute_result"
    }
   ],
   "source": [
    "# Здесь содержится дата заявки клиента в виде строки. Преобразуем эти данные в формат даты\n",
    "data['app_date'] = pd.to_datetime(data['app_date'])\n",
    "data['app_date'].value_counts()"
   ]
  },
  {
   "cell_type": "markdown",
   "id": "66117c31",
   "metadata": {
    "execution": {
     "iopub.execute_input": "2021-11-28T12:08:35.001456Z",
     "iopub.status.busy": "2021-11-28T12:08:35.000786Z",
     "iopub.status.idle": "2021-11-28T12:08:35.010498Z",
     "shell.execute_reply": "2021-11-28T12:08:35.009593Z",
     "shell.execute_reply.started": "2021-11-28T12:08:35.001423Z"
    },
    "papermill": {
     "duration": 0.121564,
     "end_time": "2022-01-06T14:23:09.084348",
     "exception": false,
     "start_time": "2022-01-06T14:23:08.962784",
     "status": "completed"
    },
    "tags": []
   },
   "source": [
    "На основе даты создадим новые признаки."
   ]
  },
  {
   "cell_type": "code",
   "execution_count": 29,
   "id": "69d49d70",
   "metadata": {
    "execution": {
     "iopub.execute_input": "2022-01-06T14:23:09.333787Z",
     "iopub.status.busy": "2022-01-06T14:23:09.333018Z",
     "iopub.status.idle": "2022-01-06T14:23:09.340194Z",
     "shell.execute_reply": "2022-01-06T14:23:09.340897Z",
     "shell.execute_reply.started": "2022-01-06T14:20:01.562120Z"
    },
    "papermill": {
     "duration": 0.132908,
     "end_time": "2022-01-06T14:23:09.341104",
     "exception": false,
     "start_time": "2022-01-06T14:23:09.208196",
     "status": "completed"
    },
    "tags": []
   },
   "outputs": [
    {
     "name": "stdout",
     "output_type": "stream",
     "text": [
      "Самая ранняя дата: 2014-01-01 00:00:00\n",
      "Самая поздняя дата: 2014-04-30 00:00:00\n"
     ]
    }
   ],
   "source": [
    "# Посмотрим самую раннюю и самую позднюю даты в этом признаке\n",
    "print(f\"Самая ранняя дата: {data['app_date'].min()}\")\n",
    "print(f\"Самая поздняя дата: {data['app_date'].max()}\")"
   ]
  },
  {
   "cell_type": "markdown",
   "id": "fdb6ff50",
   "metadata": {
    "papermill": {
     "duration": 0.120307,
     "end_time": "2022-01-06T14:23:09.582872",
     "exception": false,
     "start_time": "2022-01-06T14:23:09.462565",
     "status": "completed"
    },
    "tags": []
   },
   "source": [
    "Все даты в 2014 году. Поэтому признак с годом создавать не будем, создадим следующие признаки:\n",
    "\n",
    "номер месяца, номер дня недели, номер дня месяца, номер дня года"
   ]
  },
  {
   "cell_type": "code",
   "execution_count": 30,
   "id": "43334bbc",
   "metadata": {
    "execution": {
     "iopub.execute_input": "2022-01-06T14:23:09.829120Z",
     "iopub.status.busy": "2022-01-06T14:23:09.828418Z",
     "iopub.status.idle": "2022-01-06T14:23:13.001034Z",
     "shell.execute_reply": "2022-01-06T14:23:13.001642Z",
     "shell.execute_reply.started": "2022-01-06T14:20:01.569256Z"
    },
    "papermill": {
     "duration": 3.298641,
     "end_time": "2022-01-06T14:23:13.001848",
     "exception": false,
     "start_time": "2022-01-06T14:23:09.703207",
     "status": "completed"
    },
    "tags": []
   },
   "outputs": [],
   "source": [
    "data['month'] = data['app_date'].apply(lambda t: t.month)\n",
    "data['day'] = data['app_date'].apply(lambda t: t.day)\n",
    "data['weekday'] = data['app_date'].apply(lambda t: t.isoweekday())\n",
    "data['yearday'] = data['app_date'].apply(lambda t: t.dayofyear)\n",
    "\n",
    "# И удалим признак app_date\n",
    "data = data.drop(['app_date'], axis=1)"
   ]
  },
  {
   "cell_type": "code",
   "execution_count": 31,
   "id": "e69fe262",
   "metadata": {
    "execution": {
     "iopub.execute_input": "2022-01-06T14:23:13.250115Z",
     "iopub.status.busy": "2022-01-06T14:23:13.249439Z",
     "iopub.status.idle": "2022-01-06T14:23:13.253603Z",
     "shell.execute_reply": "2022-01-06T14:23:13.254155Z",
     "shell.execute_reply.started": "2022-01-06T14:20:04.865711Z"
    },
    "papermill": {
     "duration": 0.129092,
     "end_time": "2022-01-06T14:23:13.254361",
     "exception": false,
     "start_time": "2022-01-06T14:23:13.125269",
     "status": "completed"
    },
    "tags": []
   },
   "outputs": [],
   "source": [
    "# Добавим вновь созданные признаки в списки колонок для облегчения работы\n",
    "# 'weekday' к категориальным\n",
    "cat_cols.append('weekday')\n",
    "\n",
    "# Остальные к числовым\n",
    "num_cols.append('month')\n",
    "num_cols.append('day')\n",
    "num_cols.append('yearday')"
   ]
  },
  {
   "cell_type": "markdown",
   "id": "3c497c32",
   "metadata": {
    "papermill": {
     "duration": 0.12229,
     "end_time": "2022-01-06T14:23:13.498408",
     "exception": false,
     "start_time": "2022-01-06T14:23:13.376118",
     "status": "completed"
    },
    "tags": []
   },
   "source": [
    "### Теперь обработаем числовые признаки\n",
    "К числовым мы отнесли следующие признаки:\n",
    "\n",
    "num_cols = ['age', 'decline_app_cnt', 'score_bki', 'bki_request_cnt', 'income']"
   ]
  },
  {
   "cell_type": "markdown",
   "id": "312be5b6",
   "metadata": {
    "papermill": {
     "duration": 0.120187,
     "end_time": "2022-01-06T14:23:13.738641",
     "exception": false,
     "start_time": "2022-01-06T14:23:13.618454",
     "status": "completed"
    },
    "tags": []
   },
   "source": [
    "Как мы помним, почти все признаки имеют сильное смещение. Поэтому для нормализации сначала прологарифмируем их, потом будем искать выбросы."
   ]
  },
  {
   "cell_type": "markdown",
   "id": "31b01a82",
   "metadata": {
    "papermill": {
     "duration": 0.12007,
     "end_time": "2022-01-06T14:23:13.980385",
     "exception": false,
     "start_time": "2022-01-06T14:23:13.860315",
     "status": "completed"
    },
    "tags": []
   },
   "source": [
    "**Признак age**"
   ]
  },
  {
   "cell_type": "code",
   "execution_count": 32,
   "id": "577672a1",
   "metadata": {
    "execution": {
     "iopub.execute_input": "2022-01-06T14:23:14.224221Z",
     "iopub.status.busy": "2022-01-06T14:23:14.223576Z",
     "iopub.status.idle": "2022-01-06T14:23:14.979750Z",
     "shell.execute_reply": "2022-01-06T14:23:14.980344Z",
     "shell.execute_reply.started": "2022-01-06T14:20:04.872297Z"
    },
    "papermill": {
     "duration": 0.879643,
     "end_time": "2022-01-06T14:23:14.980537",
     "exception": false,
     "start_time": "2022-01-06T14:23:14.100894",
     "status": "completed"
    },
    "tags": []
   },
   "outputs": [
    {
     "data": {
      "image/png": "[encoded data removed]",
      "text/plain": [
       "<Figure size 432x288 with 1 Axes>"
      ]
     },
     "metadata": {
      "needs_background": "light"
     },
     "output_type": "display_data"
    },
    {
     "name": "stdout",
     "output_type": "stream",
     "text": [
      "25-й перцентиль: 3.4339872044851463\n",
      "75-й перцентиль: 3.8918202981106265\n",
      "IQR: 0.4578330936254802\n",
      "Границы выбросов: [2.7472375640469258, 4.5785699385488465]\n",
      "Количество выбросов вниз: 0\n",
      "Количество выбросов вверх: 0\n"
     ]
    }
   ],
   "source": [
    "data['age'] = data['age'].apply(lambda x: np.log(x + 1))\n",
    "\n",
    "data['age'].hist(bins=100)\n",
    "plt.show()\n",
    "\n",
    "quantile_info(data['age'])"
   ]
  },
  {
   "cell_type": "markdown",
   "id": "bc9bb153",
   "metadata": {
    "papermill": {
     "duration": 0.1238,
     "end_time": "2022-01-06T14:23:15.228984",
     "exception": false,
     "start_time": "2022-01-06T14:23:15.105184",
     "status": "completed"
    },
    "tags": []
   },
   "source": [
    "Выбросы отсутствуют."
   ]
  },
  {
   "cell_type": "markdown",
   "id": "65bae133",
   "metadata": {
    "papermill": {
     "duration": 0.120665,
     "end_time": "2022-01-06T14:23:15.471449",
     "exception": false,
     "start_time": "2022-01-06T14:23:15.350784",
     "status": "completed"
    },
    "tags": []
   },
   "source": [
    "**Признак decline_app_cnt**"
   ]
  },
  {
   "cell_type": "code",
   "execution_count": 33,
   "id": "9d52d66e",
   "metadata": {
    "execution": {
     "iopub.execute_input": "2022-01-06T14:23:15.721674Z",
     "iopub.status.busy": "2022-01-06T14:23:15.720923Z",
     "iopub.status.idle": "2022-01-06T14:23:15.729224Z",
     "shell.execute_reply": "2022-01-06T14:23:15.728594Z",
     "shell.execute_reply.started": "2022-01-06T14:20:05.602465Z"
    },
    "papermill": {
     "duration": 0.134697,
     "end_time": "2022-01-06T14:23:15.729446",
     "exception": false,
     "start_time": "2022-01-06T14:23:15.594749",
     "status": "completed"
    },
    "tags": []
   },
   "outputs": [
    {
     "data": {
      "text/plain": [
       "0    91471\n",
       "1    12500\n",
       "2     3622\n",
       "3     1365\n",
       "4      606\n",
       "5      255\n",
       "6      156\n",
       "7       58\n",
       "8       37\n",
       "9       29\n",
       "Name: decline_app_cnt, dtype: int64"
      ]
     },
     "execution_count": 33,
     "metadata": {},
     "output_type": "execute_result"
    }
   ],
   "source": [
    "# Сначала посмотрим на значения признака\n",
    "data['decline_app_cnt'].value_counts().head(10)"
   ]
  },
  {
   "cell_type": "markdown",
   "id": "f8b6657c",
   "metadata": {
    "papermill": {
     "duration": 0.121699,
     "end_time": "2022-01-06T14:23:15.976146",
     "exception": false,
     "start_time": "2022-01-06T14:23:15.854447",
     "status": "completed"
    },
    "tags": []
   },
   "source": [
    "Как видим, подавляющее количество клиентов не получало отказов по предыдущим заявкам.\n",
    "Поэтому на основе этого признака создадим бинарный, показывающий, получал ли человек отказ ранее."
   ]
  },
  {
   "cell_type": "code",
   "execution_count": 34,
   "id": "c3a48088",
   "metadata": {
    "execution": {
     "iopub.execute_input": "2022-01-06T14:23:16.227987Z",
     "iopub.status.busy": "2022-01-06T14:23:16.227229Z",
     "iopub.status.idle": "2022-01-06T14:23:16.304549Z",
     "shell.execute_reply": "2022-01-06T14:23:16.303920Z",
     "shell.execute_reply.started": "2022-01-06T14:20:05.612751Z"
    },
    "papermill": {
     "duration": 0.206177,
     "end_time": "2022-01-06T14:23:16.304722",
     "exception": false,
     "start_time": "2022-01-06T14:23:16.098545",
     "status": "completed"
    },
    "tags": []
   },
   "outputs": [],
   "source": [
    "data['decline_app_bin'] = data['decline_app_cnt'].apply(lambda g: int(g != 0))\n",
    "\n",
    "# Добавляем признак в список бинарных\n",
    "bin_cols.append('decline_app_bin')"
   ]
  },
  {
   "cell_type": "markdown",
   "id": "64723ca4",
   "metadata": {
    "papermill": {
     "duration": 0.125249,
     "end_time": "2022-01-06T14:23:16.555936",
     "exception": false,
     "start_time": "2022-01-06T14:23:16.430687",
     "status": "completed"
    },
    "tags": []
   },
   "source": [
    "Теперь создадим ещё один признак, прологарифмировав значения признака.\n",
    "Сам признак оставим без изменений, потом создадим на его основе ещё пару признаков."
   ]
  },
  {
   "cell_type": "code",
   "execution_count": 35,
   "id": "db0a2516",
   "metadata": {
    "execution": {
     "iopub.execute_input": "2022-01-06T14:23:16.812342Z",
     "iopub.status.busy": "2022-01-06T14:23:16.810515Z",
     "iopub.status.idle": "2022-01-06T14:23:17.428741Z",
     "shell.execute_reply": "2022-01-06T14:23:17.429346Z",
     "shell.execute_reply.started": "2022-01-06T14:20:05.702010Z"
    },
    "papermill": {
     "duration": 0.749261,
     "end_time": "2022-01-06T14:23:17.429556",
     "exception": false,
     "start_time": "2022-01-06T14:23:16.680295",
     "status": "completed"
    },
    "tags": []
   },
   "outputs": [
    {
     "data": {
      "image/png": "[encoded data removed]",
      "text/plain": [
       "<Figure size 432x288 with 1 Axes>"
      ]
     },
     "metadata": {
      "needs_background": "light"
     },
     "output_type": "display_data"
    },
    {
     "name": "stdout",
     "output_type": "stream",
     "text": [
      "25-й перцентиль: 0.0\n",
      "75-й перцентиль: 0.0\n",
      "IQR: 0.0\n",
      "Границы выбросов: [0.0, 0.0]\n",
      "Количество выбросов вниз: 0\n",
      "Количество выбросов вверх: 18677\n"
     ]
    }
   ],
   "source": [
    "data['decline_app_log'] = data['decline_app_cnt'].apply(lambda x: np.log(x + 1))\n",
    "\n",
    "data['decline_app_log'].hist(bins=50)\n",
    "plt.show()\n",
    "\n",
    "quantile_info(data['decline_app_log'])\n",
    "\n",
    "# Добавляем новый признак в список числовых\n",
    "num_cols.append('decline_app_log')"
   ]
  },
  {
   "cell_type": "markdown",
   "id": "0017c507",
   "metadata": {
    "papermill": {
     "duration": 0.125295,
     "end_time": "2022-01-06T14:23:17.680370",
     "exception": false,
     "start_time": "2022-01-06T14:23:17.555075",
     "status": "completed"
    },
    "tags": []
   },
   "source": [
    "Выбросы оставим, потому что иначе в столбце останутся одни нулевые значения"
   ]
  },
  {
   "cell_type": "markdown",
   "id": "9402ea41",
   "metadata": {
    "papermill": {
     "duration": 0.125278,
     "end_time": "2022-01-06T14:23:17.930697",
     "exception": false,
     "start_time": "2022-01-06T14:23:17.805419",
     "status": "completed"
    },
    "tags": []
   },
   "source": [
    "**Признак bki_request_cnt**"
   ]
  },
  {
   "cell_type": "code",
   "execution_count": 36,
   "id": "7647c66f",
   "metadata": {
    "execution": {
     "iopub.execute_input": "2022-01-06T14:23:18.193954Z",
     "iopub.status.busy": "2022-01-06T14:23:18.193213Z",
     "iopub.status.idle": "2022-01-06T14:23:18.198529Z",
     "shell.execute_reply": "2022-01-06T14:23:18.199191Z",
     "shell.execute_reply.started": "2022-01-06T14:20:06.269048Z"
    },
    "papermill": {
     "duration": 0.138108,
     "end_time": "2022-01-06T14:23:18.199402",
     "exception": false,
     "start_time": "2022-01-06T14:23:18.061294",
     "status": "completed"
    },
    "tags": []
   },
   "outputs": [
    {
     "data": {
      "text/plain": [
       "0    28908\n",
       "1    27295\n",
       "2    20481\n",
       "3    13670\n",
       "4     8406\n",
       "5     4960\n",
       "6     2500\n",
       "7     1292\n",
       "8      735\n",
       "9      459\n",
       "Name: bki_request_cnt, dtype: int64"
      ]
     },
     "execution_count": 36,
     "metadata": {},
     "output_type": "execute_result"
    }
   ],
   "source": [
    "# Сначала посмотрим на значения признака\n",
    "data['bki_request_cnt'].value_counts().head(10)"
   ]
  },
  {
   "cell_type": "markdown",
   "id": "59233378",
   "metadata": {
    "papermill": {
     "duration": 0.127036,
     "end_time": "2022-01-06T14:23:18.456430",
     "exception": false,
     "start_time": "2022-01-06T14:23:18.329394",
     "status": "completed"
    },
    "tags": []
   },
   "source": [
    "Разница в количестве ненулевых и нулевых значений не такая большая, как в признаке decline_app_cnt.\n",
    "Но, тем не менее, на основе этого признака создадим бинарный, показывающий, обращался ли человек в БКИ ранее. Может, это будет полезно для нашей модели."
   ]
  },
  {
   "cell_type": "code",
   "execution_count": 37,
   "id": "dd5ab0d7",
   "metadata": {
    "execution": {
     "iopub.execute_input": "2022-01-06T14:23:18.714389Z",
     "iopub.status.busy": "2022-01-06T14:23:18.713668Z",
     "iopub.status.idle": "2022-01-06T14:23:18.796417Z",
     "shell.execute_reply": "2022-01-06T14:23:18.795790Z",
     "shell.execute_reply.started": "2022-01-06T14:20:06.280013Z"
    },
    "papermill": {
     "duration": 0.214246,
     "end_time": "2022-01-06T14:23:18.796574",
     "exception": false,
     "start_time": "2022-01-06T14:23:18.582328",
     "status": "completed"
    },
    "tags": []
   },
   "outputs": [
    {
     "data": {
      "text/plain": [
       "1    81240\n",
       "0    28908\n",
       "Name: bki_request_bin, dtype: int64"
      ]
     },
     "execution_count": 37,
     "metadata": {},
     "output_type": "execute_result"
    }
   ],
   "source": [
    "data['bki_request_bin'] = data['bki_request_cnt'].apply(lambda h: int(h != 0))\n",
    "\n",
    "# Добавляем признак в список бинарных\n",
    "bin_cols.append('bki_request_bin')\n",
    "\n",
    "data['bki_request_bin'].value_counts()"
   ]
  },
  {
   "cell_type": "markdown",
   "id": "c23a574c",
   "metadata": {
    "papermill": {
     "duration": 0.12574,
     "end_time": "2022-01-06T14:23:19.048156",
     "exception": false,
     "start_time": "2022-01-06T14:23:18.922416",
     "status": "completed"
    },
    "tags": []
   },
   "source": [
    "Теперь создадим ещё один признак, прологарифмировав значения признака.\n",
    "Сам признак оставим без изменений, потом создадим на его основе ещё пару признаков."
   ]
  },
  {
   "cell_type": "code",
   "execution_count": 38,
   "id": "8728494a",
   "metadata": {
    "execution": {
     "iopub.execute_input": "2022-01-06T14:23:19.300523Z",
     "iopub.status.busy": "2022-01-06T14:23:19.299745Z",
     "iopub.status.idle": "2022-01-06T14:23:20.048632Z",
     "shell.execute_reply": "2022-01-06T14:23:20.048007Z",
     "shell.execute_reply.started": "2022-01-06T14:20:06.374576Z"
    },
    "papermill": {
     "duration": 0.874958,
     "end_time": "2022-01-06T14:23:20.048807",
     "exception": false,
     "start_time": "2022-01-06T14:23:19.173849",
     "status": "completed"
    },
    "tags": []
   },
   "outputs": [
    {
     "data": {
      "image/png": "[encoded data removed]",
      "text/plain": [
       "<Figure size 432x288 with 1 Axes>"
      ]
     },
     "metadata": {
      "needs_background": "light"
     },
     "output_type": "display_data"
    },
    {
     "name": "stdout",
     "output_type": "stream",
     "text": [
      "25-й перцентиль: 0.0\n",
      "75-й перцентиль: 1.3862943611198906\n",
      "IQR: 1.3862943611198906\n",
      "Границы выбросов: [-2.0794415416798357, 3.465735902799726]\n",
      "Количество выбросов вниз: 0\n",
      "Количество выбросов вверх: 15\n"
     ]
    }
   ],
   "source": [
    "data['bki_request_log'] = data['bki_request_cnt'].apply(lambda x: np.log(x + 1))\n",
    "\n",
    "data['bki_request_log'].hist(bins=50)\n",
    "plt.show()\n",
    "\n",
    "quantile_info(data['bki_request_log'])"
   ]
  },
  {
   "cell_type": "code",
   "execution_count": 39,
   "id": "ee3fe744",
   "metadata": {
    "execution": {
     "iopub.execute_input": "2022-01-06T14:23:20.313426Z",
     "iopub.status.busy": "2022-01-06T14:23:20.312632Z",
     "iopub.status.idle": "2022-01-06T14:23:20.399331Z",
     "shell.execute_reply": "2022-01-06T14:23:20.398643Z",
     "shell.execute_reply.started": "2022-01-06T14:20:06.953473Z"
    },
    "papermill": {
     "duration": 0.221034,
     "end_time": "2022-01-06T14:23:20.399502",
     "exception": false,
     "start_time": "2022-01-06T14:23:20.178468",
     "status": "completed"
    },
    "tags": []
   },
   "outputs": [],
   "source": [
    "# В столбце содержится 15 выбросов. Заменим их на меданные значения\n",
    "data['bki_request_log'] = change_on_median(data['bki_request_log'])\n",
    "\n",
    "# Добавляем новый признак в список числовых\n",
    "num_cols.append('bki_request_log')"
   ]
  },
  {
   "cell_type": "markdown",
   "id": "2fef3cab",
   "metadata": {
    "papermill": {
     "duration": 0.125706,
     "end_time": "2022-01-06T14:23:20.651466",
     "exception": false,
     "start_time": "2022-01-06T14:23:20.525760",
     "status": "completed"
    },
    "tags": []
   },
   "source": [
    "**Признак score_bki**"
   ]
  },
  {
   "cell_type": "code",
   "execution_count": 40,
   "id": "60682741",
   "metadata": {
    "execution": {
     "iopub.execute_input": "2022-01-06T14:23:20.933966Z",
     "iopub.status.busy": "2022-01-06T14:23:20.912292Z",
     "iopub.status.idle": "2022-01-06T14:23:21.265421Z",
     "shell.execute_reply": "2022-01-06T14:23:21.265950Z",
     "shell.execute_reply.started": "2022-01-06T14:20:07.046541Z"
    },
    "papermill": {
     "duration": 0.489816,
     "end_time": "2022-01-06T14:23:21.266144",
     "exception": false,
     "start_time": "2022-01-06T14:23:20.776328",
     "status": "completed"
    },
    "tags": []
   },
   "outputs": [
    {
     "data": {
      "image/png": "[encoded data removed]",
      "text/plain": [
       "<Figure size 432x288 with 1 Axes>"
      ]
     },
     "metadata": {
      "needs_background": "light"
     },
     "output_type": "display_data"
    },
    {
     "name": "stdout",
     "output_type": "stream",
     "text": [
      "25-й перцентиль: -2.2604336700000003\n",
      "75-й перцентиль: -1.5678881525\n",
      "IQR: 0.6925455175000004\n",
      "Границы выбросов: [-3.299251946250001, -0.5290698762499992]\n",
      "Количество выбросов вниз: 82\n",
      "Количество выбросов вверх: 436\n"
     ]
    }
   ],
   "source": [
    "# Посмотрим на характеристики распределения\n",
    "data['score_bki'].hist(bins=50)\n",
    "plt.show()\n",
    "\n",
    "quantile_info(data['score_bki'])"
   ]
  },
  {
   "cell_type": "code",
   "execution_count": 41,
   "id": "ae1c7a14",
   "metadata": {
    "execution": {
     "iopub.execute_input": "2022-01-06T14:23:21.555886Z",
     "iopub.status.busy": "2022-01-06T14:23:21.554205Z",
     "iopub.status.idle": "2022-01-06T14:23:21.648368Z",
     "shell.execute_reply": "2022-01-06T14:23:21.649197Z",
     "shell.execute_reply.started": "2022-01-06T14:20:07.357658Z"
    },
    "papermill": {
     "duration": 0.255227,
     "end_time": "2022-01-06T14:23:21.649514",
     "exception": false,
     "start_time": "2022-01-06T14:23:21.394287",
     "status": "completed"
    },
    "tags": []
   },
   "outputs": [],
   "source": [
    "# Создадим признак, заменив выбросы на медианное значение\n",
    "data['score_bki_clear'] = change_on_median(data['score_bki'])\n",
    "\n",
    "# Добавляем новый признак в список числовых\n",
    "num_cols.append('score_bki_clear')"
   ]
  },
  {
   "cell_type": "markdown",
   "id": "eeca0c1b",
   "metadata": {
    "papermill": {
     "duration": 0.13934,
     "end_time": "2022-01-06T14:23:21.933656",
     "exception": false,
     "start_time": "2022-01-06T14:23:21.794316",
     "status": "completed"
    },
    "tags": []
   },
   "source": [
    "**Признак income**"
   ]
  },
  {
   "cell_type": "code",
   "execution_count": 42,
   "id": "4267ec73",
   "metadata": {
    "execution": {
     "iopub.execute_input": "2022-01-06T14:23:22.254020Z",
     "iopub.status.busy": "2022-01-06T14:23:22.228101Z",
     "iopub.status.idle": "2022-01-06T14:23:22.842089Z",
     "shell.execute_reply": "2022-01-06T14:23:22.841518Z",
     "shell.execute_reply.started": "2022-01-06T14:20:07.450612Z"
    },
    "papermill": {
     "duration": 0.777146,
     "end_time": "2022-01-06T14:23:22.842241",
     "exception": false,
     "start_time": "2022-01-06T14:23:22.065095",
     "status": "completed"
    },
    "tags": []
   },
   "outputs": [
    {
     "data": {
      "image/png": "[encoded data removed]",
      "text/plain": [
       "<Figure size 432x288 with 1 Axes>"
      ]
     },
     "metadata": {
      "needs_background": "light"
     },
     "output_type": "display_data"
    },
    {
     "name": "stdout",
     "output_type": "stream",
     "text": [
      "25-й перцентиль: 9.90353755128617\n",
      "75-й перцентиль: 10.778977123006351\n",
      "IQR: 0.8754395717201806\n",
      "Границы выбросов: [8.590378193705899, 12.092136480586621]\n",
      "Количество выбросов вниз: 875\n",
      "Количество выбросов вверх: 1734\n"
     ]
    }
   ],
   "source": [
    "# Прологарифмируем и посмотрим наличие выбросов\n",
    "data['income'] = data['income'].apply(lambda x: np.log(x + 1))\n",
    "data['income'].hist(bins=50)\n",
    "plt.show()\n",
    "\n",
    "quantile_info(data['income'])"
   ]
  },
  {
   "cell_type": "code",
   "execution_count": 43,
   "id": "daab5879",
   "metadata": {
    "execution": {
     "iopub.execute_input": "2022-01-06T14:23:23.144036Z",
     "iopub.status.busy": "2022-01-06T14:23:23.142881Z",
     "iopub.status.idle": "2022-01-06T14:23:23.231225Z",
     "shell.execute_reply": "2022-01-06T14:23:23.230654Z",
     "shell.execute_reply.started": "2022-01-06T14:20:08.041221Z"
    },
    "papermill": {
     "duration": 0.261418,
     "end_time": "2022-01-06T14:23:23.231400",
     "exception": false,
     "start_time": "2022-01-06T14:23:22.969982",
     "status": "completed"
    },
    "tags": []
   },
   "outputs": [],
   "source": [
    "# Заменим все выбросы на медианное значение\n",
    "data['income'] = change_on_median(data['income'])"
   ]
  },
  {
   "cell_type": "code",
   "execution_count": 44,
   "id": "2bdbcb76",
   "metadata": {
    "execution": {
     "iopub.execute_input": "2022-01-06T14:23:23.495992Z",
     "iopub.status.busy": "2022-01-06T14:23:23.495298Z",
     "iopub.status.idle": "2022-01-06T14:23:23.508589Z",
     "shell.execute_reply": "2022-01-06T14:23:23.509118Z",
     "shell.execute_reply.started": "2022-01-06T14:20:08.131916Z"
    },
    "papermill": {
     "duration": 0.147757,
     "end_time": "2022-01-06T14:23:23.509338",
     "exception": false,
     "start_time": "2022-01-06T14:23:23.361581",
     "status": "completed"
    },
    "tags": []
   },
   "outputs": [],
   "source": [
    "# создание признаков из информации в БКИ\n",
    "data['uno'] = (data['bki_request_cnt'] - data['decline_app_cnt']) * data['score_bki']\n",
    "data['uno_log'] = (data['bki_request_log'] - data['decline_app_log']) * data['score_bki_clear']\n",
    "\n",
    "data['dos'] = data['bki_request_cnt'] * data['decline_app_cnt'] * data['score_bki']\n",
    "data['dos_log'] = data['bki_request_log'] * data['decline_app_log'] * data['score_bki_clear']\n",
    "\n",
    "# Добавляем новые признаки в список числовых\n",
    "num_cols.append('uno')\n",
    "num_cols.append('uno_log')\n",
    "num_cols.append('dos')\n",
    "num_cols.append('dos_log')"
   ]
  },
  {
   "cell_type": "markdown",
   "id": "76668a1b",
   "metadata": {
    "papermill": {
     "duration": 0.127561,
     "end_time": "2022-01-06T14:23:23.764096",
     "exception": false,
     "start_time": "2022-01-06T14:23:23.636535",
     "status": "completed"
    },
    "tags": []
   },
   "source": [
    "### Теперь обработаем категориальные признаки\n",
    "Изначально к категориальным мы отнесли следующие признаки:\n",
    "\n",
    "cat_cols = ['education', 'region_rating', 'home_address', 'work_address', 'sna', 'first_time']"
   ]
  },
  {
   "cell_type": "code",
   "execution_count": 45,
   "id": "866e0a42",
   "metadata": {
    "execution": {
     "iopub.execute_input": "2022-01-06T14:23:24.022718Z",
     "iopub.status.busy": "2022-01-06T14:23:24.022008Z",
     "iopub.status.idle": "2022-01-06T14:23:24.055386Z",
     "shell.execute_reply": "2022-01-06T14:23:24.054763Z",
     "shell.execute_reply.started": "2022-01-06T14:20:08.148257Z"
    },
    "papermill": {
     "duration": 0.16414,
     "end_time": "2022-01-06T14:23:24.055548",
     "exception": false,
     "start_time": "2022-01-06T14:23:23.891408",
     "status": "completed"
    },
    "tags": []
   },
   "outputs": [
    {
     "data": {
      "text/html": [
       "<div>\n",
       "<style scoped>\n",
       "    .dataframe tbody tr th:only-of-type {\n",
       "        vertical-align: middle;\n",
       "    }\n",
       "\n",
       "    .dataframe tbody tr th {\n",
       "        vertical-align: top;\n",
       "    }\n",
       "\n",
       "    .dataframe thead th {\n",
       "        text-align: right;\n",
       "    }\n",
       "</style>\n",
       "<table border=\"1\" class=\"dataframe\">\n",
       "  <thead>\n",
       "    <tr style=\"text-align: right;\">\n",
       "      <th></th>\n",
       "      <th>education</th>\n",
       "      <th>region_rating</th>\n",
       "      <th>home_address</th>\n",
       "      <th>work_address</th>\n",
       "      <th>sna</th>\n",
       "      <th>first_time</th>\n",
       "      <th>weekday</th>\n",
       "    </tr>\n",
       "  </thead>\n",
       "  <tbody>\n",
       "    <tr>\n",
       "      <th>0</th>\n",
       "      <td>GRD</td>\n",
       "      <td>50</td>\n",
       "      <td>1</td>\n",
       "      <td>2</td>\n",
       "      <td>1</td>\n",
       "      <td>4</td>\n",
       "      <td>6</td>\n",
       "    </tr>\n",
       "    <tr>\n",
       "      <th>1</th>\n",
       "      <td>SCH</td>\n",
       "      <td>50</td>\n",
       "      <td>1</td>\n",
       "      <td>2</td>\n",
       "      <td>4</td>\n",
       "      <td>3</td>\n",
       "      <td>5</td>\n",
       "    </tr>\n",
       "    <tr>\n",
       "      <th>2</th>\n",
       "      <td>UGR</td>\n",
       "      <td>50</td>\n",
       "      <td>1</td>\n",
       "      <td>2</td>\n",
       "      <td>1</td>\n",
       "      <td>3</td>\n",
       "      <td>7</td>\n",
       "    </tr>\n",
       "    <tr>\n",
       "      <th>3</th>\n",
       "      <td>SCH</td>\n",
       "      <td>40</td>\n",
       "      <td>1</td>\n",
       "      <td>2</td>\n",
       "      <td>1</td>\n",
       "      <td>3</td>\n",
       "      <td>1</td>\n",
       "    </tr>\n",
       "    <tr>\n",
       "      <th>4</th>\n",
       "      <td>GRD</td>\n",
       "      <td>80</td>\n",
       "      <td>2</td>\n",
       "      <td>3</td>\n",
       "      <td>1</td>\n",
       "      <td>3</td>\n",
       "      <td>2</td>\n",
       "    </tr>\n",
       "    <tr>\n",
       "      <th>5</th>\n",
       "      <td>SCH</td>\n",
       "      <td>50</td>\n",
       "      <td>3</td>\n",
       "      <td>3</td>\n",
       "      <td>2</td>\n",
       "      <td>1</td>\n",
       "      <td>4</td>\n",
       "    </tr>\n",
       "    <tr>\n",
       "      <th>6</th>\n",
       "      <td>SCH</td>\n",
       "      <td>60</td>\n",
       "      <td>1</td>\n",
       "      <td>2</td>\n",
       "      <td>4</td>\n",
       "      <td>3</td>\n",
       "      <td>7</td>\n",
       "    </tr>\n",
       "    <tr>\n",
       "      <th>7</th>\n",
       "      <td>GRD</td>\n",
       "      <td>60</td>\n",
       "      <td>1</td>\n",
       "      <td>3</td>\n",
       "      <td>4</td>\n",
       "      <td>1</td>\n",
       "      <td>5</td>\n",
       "    </tr>\n",
       "    <tr>\n",
       "      <th>8</th>\n",
       "      <td>GRD</td>\n",
       "      <td>80</td>\n",
       "      <td>2</td>\n",
       "      <td>3</td>\n",
       "      <td>1</td>\n",
       "      <td>2</td>\n",
       "      <td>4</td>\n",
       "    </tr>\n",
       "    <tr>\n",
       "      <th>9</th>\n",
       "      <td>UGR</td>\n",
       "      <td>80</td>\n",
       "      <td>2</td>\n",
       "      <td>3</td>\n",
       "      <td>1</td>\n",
       "      <td>3</td>\n",
       "      <td>4</td>\n",
       "    </tr>\n",
       "  </tbody>\n",
       "</table>\n",
       "</div>"
      ],
      "text/plain": [
       "  education  region_rating  home_address  work_address  sna  first_time  \\\n",
       "0       GRD             50             1             2    1           4   \n",
       "1       SCH             50             1             2    4           3   \n",
       "2       UGR             50             1             2    1           3   \n",
       "3       SCH             40             1             2    1           3   \n",
       "4       GRD             80             2             3    1           3   \n",
       "5       SCH             50             3             3    2           1   \n",
       "6       SCH             60             1             2    4           3   \n",
       "7       GRD             60             1             3    4           1   \n",
       "8       GRD             80             2             3    1           2   \n",
       "9       UGR             80             2             3    1           3   \n",
       "\n",
       "   weekday  \n",
       "0        6  \n",
       "1        5  \n",
       "2        7  \n",
       "3        1  \n",
       "4        2  \n",
       "5        4  \n",
       "6        7  \n",
       "7        5  \n",
       "8        4  \n",
       "9        4  "
      ]
     },
     "execution_count": 45,
     "metadata": {},
     "output_type": "execute_result"
    }
   ],
   "source": [
    "# Посмотрим на них поближе:\n",
    "data[cat_cols].head(10)"
   ]
  },
  {
   "cell_type": "code",
   "execution_count": 46,
   "id": "ec9f36de",
   "metadata": {
    "execution": {
     "iopub.execute_input": "2022-01-06T14:23:24.328696Z",
     "iopub.status.busy": "2022-01-06T14:23:24.327942Z",
     "iopub.status.idle": "2022-01-06T14:23:24.332380Z",
     "shell.execute_reply": "2022-01-06T14:23:24.332954Z",
     "shell.execute_reply.started": "2022-01-06T14:20:08.178663Z"
    },
    "papermill": {
     "duration": 0.148206,
     "end_time": "2022-01-06T14:23:24.333143",
     "exception": false,
     "start_time": "2022-01-06T14:23:24.184937",
     "status": "completed"
    },
    "tags": []
   },
   "outputs": [],
   "source": [
    "# Как мы помним, в столбце education содержатся пропуски.\n",
    "# Заполним их тем же способом, что и для наивной модели.\n",
    "data['education'] = data['education'].fillna('SCH')"
   ]
  },
  {
   "cell_type": "code",
   "execution_count": 47,
   "id": "1e166df9",
   "metadata": {
    "execution": {
     "iopub.execute_input": "2022-01-06T14:23:24.615532Z",
     "iopub.status.busy": "2022-01-06T14:23:24.614774Z",
     "iopub.status.idle": "2022-01-06T14:23:26.107884Z",
     "shell.execute_reply": "2022-01-06T14:23:26.108478Z",
     "shell.execute_reply.started": "2022-01-06T14:20:08.198598Z"
    },
    "papermill": {
     "duration": 1.643247,
     "end_time": "2022-01-06T14:23:26.108674",
     "exception": false,
     "start_time": "2022-01-06T14:23:24.465427",
     "status": "completed"
    },
    "tags": []
   },
   "outputs": [
    {
     "data": {
      "image/png": "[encoded data removed]",
      "text/plain": [
       "<Figure size 432x288 with 1 Axes>"
      ]
     },
     "metadata": {
      "needs_background": "light"
     },
     "output_type": "display_data"
    },
    {
     "data": {
      "image/png": "[encoded data removed]",
      "text/plain": [
       "<Figure size 432x288 with 1 Axes>"
      ]
     },
     "metadata": {
      "needs_background": "light"
     },
     "output_type": "display_data"
    },
    {
     "data": {
      "image/png": "[encoded data removed]",
      "text/plain": [
       "<Figure size 432x288 with 1 Axes>"
      ]
     },
     "metadata": {
      "needs_background": "light"
     },
     "output_type": "display_data"
    },
    {
     "data": {
      "image/png": "[encoded data removed]",
      "text/plain": [
       "<Figure size 432x288 with 1 Axes>"
      ]
     },
     "metadata": {
      "needs_background": "light"
     },
     "output_type": "display_data"
    },
    {
     "data": {
      "image/png": "[encoded data removed]",
      "text/plain": [
       "<Figure size 432x288 with 1 Axes>"
      ]
     },
     "metadata": {
      "needs_background": "light"
     },
     "output_type": "display_data"
    },
    {
     "data": {
      "image/png": "[encoded data removed]",
      "text/plain": [
       "<Figure size 432x288 with 1 Axes>"
      ]
     },
     "metadata": {
      "needs_background": "light"
     },
     "output_type": "display_data"
    },
    {
     "data": {
      "image/png": "[encoded data removed]",
      "text/plain": [
       "<Figure size 432x288 with 1 Axes>"
      ]
     },
     "metadata": {
      "needs_background": "light"
     },
     "output_type": "display_data"
    }
   ],
   "source": [
    "# Посмотрим распределения категориальных переменных в выборке:\n",
    "for e in cat_cols:\n",
    "    data[e].value_counts(dropna=False).plot.barh()\n",
    "    plt.title(e)\n",
    "    plt.show()"
   ]
  },
  {
   "cell_type": "markdown",
   "id": "e409ad50",
   "metadata": {
    "papermill": {
     "duration": 0.133978,
     "end_time": "2022-01-06T14:23:26.376080",
     "exception": false,
     "start_time": "2022-01-06T14:23:26.242102",
     "status": "completed"
    },
    "tags": []
   },
   "source": [
    "К сожалению, без дополнительной информации мы не можем сделать выводов о содержании данных столбцов, поэтому оставим эти данные без обработки. Позже закодируем их с помощью OneHotEncoder."
   ]
  },
  {
   "cell_type": "markdown",
   "id": "36daec0d",
   "metadata": {
    "papermill": {
     "duration": 0.13414,
     "end_time": "2022-01-06T14:23:26.646992",
     "exception": false,
     "start_time": "2022-01-06T14:23:26.512852",
     "status": "completed"
    },
    "tags": []
   },
   "source": [
    "### Теперь обработаем бинарные признаки\n",
    "К бинарным мы отнесли следующие признаки:\n",
    "\n",
    "bin_cols = ['sex', 'car', 'car_type', 'good_work', 'foreign_passport']"
   ]
  },
  {
   "cell_type": "code",
   "execution_count": 48,
   "id": "1252b2f0",
   "metadata": {
    "execution": {
     "iopub.execute_input": "2022-01-06T14:23:26.916504Z",
     "iopub.status.busy": "2022-01-06T14:23:26.915437Z",
     "iopub.status.idle": "2022-01-06T14:23:26.932649Z",
     "shell.execute_reply": "2022-01-06T14:23:26.933325Z",
     "shell.execute_reply.started": "2022-01-06T14:20:09.524989Z"
    },
    "papermill": {
     "duration": 0.153817,
     "end_time": "2022-01-06T14:23:26.933516",
     "exception": false,
     "start_time": "2022-01-06T14:23:26.779699",
     "status": "completed"
    },
    "tags": []
   },
   "outputs": [
    {
     "data": {
      "text/html": [
       "<div>\n",
       "<style scoped>\n",
       "    .dataframe tbody tr th:only-of-type {\n",
       "        vertical-align: middle;\n",
       "    }\n",
       "\n",
       "    .dataframe tbody tr th {\n",
       "        vertical-align: top;\n",
       "    }\n",
       "\n",
       "    .dataframe thead th {\n",
       "        text-align: right;\n",
       "    }\n",
       "</style>\n",
       "<table border=\"1\" class=\"dataframe\">\n",
       "  <thead>\n",
       "    <tr style=\"text-align: right;\">\n",
       "      <th></th>\n",
       "      <th>sex</th>\n",
       "      <th>car</th>\n",
       "      <th>car_type</th>\n",
       "      <th>good_work</th>\n",
       "      <th>foreign_passport</th>\n",
       "      <th>decline_app_bin</th>\n",
       "      <th>bki_request_bin</th>\n",
       "    </tr>\n",
       "  </thead>\n",
       "  <tbody>\n",
       "    <tr>\n",
       "      <th>0</th>\n",
       "      <td>M</td>\n",
       "      <td>Y</td>\n",
       "      <td>Y</td>\n",
       "      <td>0</td>\n",
       "      <td>N</td>\n",
       "      <td>0</td>\n",
       "      <td>1</td>\n",
       "    </tr>\n",
       "    <tr>\n",
       "      <th>1</th>\n",
       "      <td>F</td>\n",
       "      <td>N</td>\n",
       "      <td>N</td>\n",
       "      <td>0</td>\n",
       "      <td>N</td>\n",
       "      <td>1</td>\n",
       "      <td>1</td>\n",
       "    </tr>\n",
       "    <tr>\n",
       "      <th>2</th>\n",
       "      <td>M</td>\n",
       "      <td>Y</td>\n",
       "      <td>Y</td>\n",
       "      <td>0</td>\n",
       "      <td>Y</td>\n",
       "      <td>0</td>\n",
       "      <td>1</td>\n",
       "    </tr>\n",
       "    <tr>\n",
       "      <th>3</th>\n",
       "      <td>M</td>\n",
       "      <td>N</td>\n",
       "      <td>N</td>\n",
       "      <td>0</td>\n",
       "      <td>N</td>\n",
       "      <td>0</td>\n",
       "      <td>1</td>\n",
       "    </tr>\n",
       "    <tr>\n",
       "      <th>4</th>\n",
       "      <td>F</td>\n",
       "      <td>N</td>\n",
       "      <td>N</td>\n",
       "      <td>0</td>\n",
       "      <td>N</td>\n",
       "      <td>0</td>\n",
       "      <td>0</td>\n",
       "    </tr>\n",
       "  </tbody>\n",
       "</table>\n",
       "</div>"
      ],
      "text/plain": [
       "  sex car car_type  good_work foreign_passport  decline_app_bin  \\\n",
       "0   M   Y        Y          0                N                0   \n",
       "1   F   N        N          0                N                1   \n",
       "2   M   Y        Y          0                Y                0   \n",
       "3   M   N        N          0                N                0   \n",
       "4   F   N        N          0                N                0   \n",
       "\n",
       "   bki_request_bin  \n",
       "0                1  \n",
       "1                1  \n",
       "2                1  \n",
       "3                1  \n",
       "4                0  "
      ]
     },
     "execution_count": 48,
     "metadata": {},
     "output_type": "execute_result"
    }
   ],
   "source": [
    "# Посмотрим на них поближе:\n",
    "data[bin_cols].head()"
   ]
  },
  {
   "cell_type": "code",
   "execution_count": 49,
   "id": "4e4db53a",
   "metadata": {
    "execution": {
     "iopub.execute_input": "2022-01-06T14:23:27.206171Z",
     "iopub.status.busy": "2022-01-06T14:23:27.204921Z",
     "iopub.status.idle": "2022-01-06T14:23:27.382633Z",
     "shell.execute_reply": "2022-01-06T14:23:27.383309Z",
     "shell.execute_reply.started": "2022-01-06T14:20:09.541760Z"
    },
    "papermill": {
     "duration": 0.316587,
     "end_time": "2022-01-06T14:23:27.383530",
     "exception": false,
     "start_time": "2022-01-06T14:23:27.066943",
     "status": "completed"
    },
    "tags": []
   },
   "outputs": [
    {
     "data": {
      "text/html": [
       "<div>\n",
       "<style scoped>\n",
       "    .dataframe tbody tr th:only-of-type {\n",
       "        vertical-align: middle;\n",
       "    }\n",
       "\n",
       "    .dataframe tbody tr th {\n",
       "        vertical-align: top;\n",
       "    }\n",
       "\n",
       "    .dataframe thead th {\n",
       "        text-align: right;\n",
       "    }\n",
       "</style>\n",
       "<table border=\"1\" class=\"dataframe\">\n",
       "  <thead>\n",
       "    <tr style=\"text-align: right;\">\n",
       "      <th></th>\n",
       "      <th>sex</th>\n",
       "      <th>car</th>\n",
       "      <th>car_type</th>\n",
       "      <th>good_work</th>\n",
       "      <th>foreign_passport</th>\n",
       "      <th>decline_app_bin</th>\n",
       "      <th>bki_request_bin</th>\n",
       "    </tr>\n",
       "  </thead>\n",
       "  <tbody>\n",
       "    <tr>\n",
       "      <th>0</th>\n",
       "      <td>1</td>\n",
       "      <td>1</td>\n",
       "      <td>1</td>\n",
       "      <td>0</td>\n",
       "      <td>0</td>\n",
       "      <td>0</td>\n",
       "      <td>1</td>\n",
       "    </tr>\n",
       "    <tr>\n",
       "      <th>1</th>\n",
       "      <td>0</td>\n",
       "      <td>0</td>\n",
       "      <td>0</td>\n",
       "      <td>0</td>\n",
       "      <td>0</td>\n",
       "      <td>1</td>\n",
       "      <td>1</td>\n",
       "    </tr>\n",
       "    <tr>\n",
       "      <th>2</th>\n",
       "      <td>1</td>\n",
       "      <td>1</td>\n",
       "      <td>1</td>\n",
       "      <td>0</td>\n",
       "      <td>1</td>\n",
       "      <td>0</td>\n",
       "      <td>1</td>\n",
       "    </tr>\n",
       "    <tr>\n",
       "      <th>3</th>\n",
       "      <td>1</td>\n",
       "      <td>0</td>\n",
       "      <td>0</td>\n",
       "      <td>0</td>\n",
       "      <td>0</td>\n",
       "      <td>0</td>\n",
       "      <td>1</td>\n",
       "    </tr>\n",
       "    <tr>\n",
       "      <th>4</th>\n",
       "      <td>0</td>\n",
       "      <td>0</td>\n",
       "      <td>0</td>\n",
       "      <td>0</td>\n",
       "      <td>0</td>\n",
       "      <td>0</td>\n",
       "      <td>0</td>\n",
       "    </tr>\n",
       "  </tbody>\n",
       "</table>\n",
       "</div>"
      ],
      "text/plain": [
       "   sex  car  car_type  good_work  foreign_passport  decline_app_bin  \\\n",
       "0    1    1         1          0                 0                0   \n",
       "1    0    0         0          0                 0                1   \n",
       "2    1    1         1          0                 1                0   \n",
       "3    1    0         0          0                 0                0   \n",
       "4    0    0         0          0                 0                0   \n",
       "\n",
       "   bki_request_bin  \n",
       "0                1  \n",
       "1                1  \n",
       "2                1  \n",
       "3                1  \n",
       "4                0  "
      ]
     },
     "execution_count": 49,
     "metadata": {},
     "output_type": "execute_result"
    }
   ],
   "source": [
    "# Переведём бинарные признаки в числа с помощью LabelEncoder\n",
    "label_encoder = LabelEncoder()\n",
    "\n",
    "for f in bin_cols:\n",
    "    data[f] = label_encoder.fit_transform(data[f])\n",
    "    \n",
    "# убедимся в преобразовании    \n",
    "data[bin_cols].head()"
   ]
  },
  {
   "cell_type": "markdown",
   "id": "37e068e3",
   "metadata": {
    "papermill": {
     "duration": 0.134908,
     "end_time": "2022-01-06T14:23:27.656687",
     "exception": false,
     "start_time": "2022-01-06T14:23:27.521779",
     "status": "completed"
    },
    "tags": []
   },
   "source": [
    "Объединим признаки car и car_type в один, категориальный:\n",
    "\n",
    "0 - нет машины\n",
    "\n",
    "1 - есть отечественная машина\n",
    "\n",
    "2 - есть иномарка"
   ]
  },
  {
   "cell_type": "code",
   "execution_count": 50,
   "id": "43c8ebdb",
   "metadata": {
    "execution": {
     "iopub.execute_input": "2022-01-06T14:23:27.931290Z",
     "iopub.status.busy": "2022-01-06T14:23:27.930540Z",
     "iopub.status.idle": "2022-01-06T14:23:27.944265Z",
     "shell.execute_reply": "2022-01-06T14:23:27.943587Z",
     "shell.execute_reply.started": "2022-01-06T14:20:09.727103Z"
    },
    "papermill": {
     "duration": 0.153767,
     "end_time": "2022-01-06T14:23:27.944437",
     "exception": false,
     "start_time": "2022-01-06T14:23:27.790670",
     "status": "completed"
    },
    "tags": []
   },
   "outputs": [],
   "source": [
    "data['car'] = data['car'] + data['car_type']\n",
    "data.drop('car_type', axis=1, inplace=True)\n",
    "# Удалим признак из бинарных и переведём его в категориальные\n",
    "bin_cols.remove('car_type')\n",
    "bin_cols.remove('car')\n",
    "cat_cols.append('car')"
   ]
  },
  {
   "cell_type": "markdown",
   "id": "2f7ad261",
   "metadata": {
    "execution": {
     "iopub.execute_input": "2021-11-28T12:50:44.857335Z",
     "iopub.status.busy": "2021-11-28T12:50:44.857093Z",
     "iopub.status.idle": "2021-11-28T12:50:44.860398Z",
     "shell.execute_reply": "2021-11-28T12:50:44.859822Z",
     "shell.execute_reply.started": "2021-11-28T12:50:44.857307Z"
    },
    "papermill": {
     "duration": 0.135225,
     "end_time": "2022-01-06T14:23:28.220442",
     "exception": false,
     "start_time": "2022-01-06T14:23:28.085217",
     "status": "completed"
    },
    "tags": []
   },
   "source": [
    "# Теперь оценим важность признаков и посмотрим матрицу корреляций"
   ]
  },
  {
   "cell_type": "markdown",
   "id": "de8d3548",
   "metadata": {
    "papermill": {
     "duration": 0.135744,
     "end_time": "2022-01-06T14:23:28.491298",
     "exception": false,
     "start_time": "2022-01-06T14:23:28.355554",
     "status": "completed"
    },
    "tags": []
   },
   "source": [
    "Для оценки значимости категориальных и бинарных переменных будем использовать функцию mutual_info_classif из библиотеки sklearn. mutual_info_classif сначала требует, чтобы категориальные значения были сопоставлены с целочисленными значениями, поэтому необходимо преобразовать столбец education к целочисленным значениям"
   ]
  },
  {
   "cell_type": "code",
   "execution_count": 51,
   "id": "c8c898b9",
   "metadata": {
    "execution": {
     "iopub.execute_input": "2022-01-06T14:23:28.763187Z",
     "iopub.status.busy": "2022-01-06T14:23:28.762505Z",
     "iopub.status.idle": "2022-01-06T14:23:28.834115Z",
     "shell.execute_reply": "2022-01-06T14:23:28.834787Z",
     "shell.execute_reply.started": "2022-01-06T14:20:09.741552Z"
    },
    "papermill": {
     "duration": 0.208245,
     "end_time": "2022-01-06T14:23:28.834983",
     "exception": false,
     "start_time": "2022-01-06T14:23:28.626738",
     "status": "completed"
    },
    "tags": []
   },
   "outputs": [
    {
     "data": {
      "text/plain": [
       "4    58476\n",
       "3    34768\n",
       "2    14748\n",
       "1     1865\n",
       "0      291\n",
       "Name: education, dtype: int64"
      ]
     },
     "execution_count": 51,
     "metadata": {},
     "output_type": "execute_result"
    }
   ],
   "source": [
    "edu_dict = {'ACD':0, 'PGR':1, 'UGR':2, 'GRD':3, 'SCH':4}\n",
    "data['education'] = data['education'].apply(lambda x: edu_dict[x])\n",
    "data['education'].value_counts(dropna=False)"
   ]
  },
  {
   "cell_type": "code",
   "execution_count": 52,
   "id": "513b15ae",
   "metadata": {
    "execution": {
     "iopub.execute_input": "2022-01-06T14:23:29.107286Z",
     "iopub.status.busy": "2022-01-06T14:23:29.106584Z",
     "iopub.status.idle": "2022-01-06T14:23:29.645021Z",
     "shell.execute_reply": "2022-01-06T14:23:29.644438Z",
     "shell.execute_reply.started": "2022-01-06T14:20:09.819818Z"
    },
    "papermill": {
     "duration": 0.676632,
     "end_time": "2022-01-06T14:23:29.645180",
     "exception": false,
     "start_time": "2022-01-06T14:23:28.968548",
     "status": "completed"
    },
    "tags": []
   },
   "outputs": [
    {
     "data": {
      "text/plain": [
       "<AxesSubplot:>"
      ]
     },
     "execution_count": 52,
     "metadata": {},
     "output_type": "execute_result"
    },
    {
     "data": {
      "image/png": "[encoded data removed]",
      "text/plain": [
       "<Figure size 432x288 with 1 Axes>"
      ]
     },
     "metadata": {
      "needs_background": "light"
     },
     "output_type": "display_data"
    }
   ],
   "source": [
    "imp_cat = Series(mutual_info_classif(data[bin_cols + cat_cols], data['default'],\n",
    "                                     discrete_features=True), index = bin_cols + cat_cols)\n",
    "imp_cat.sort_values(inplace = True)\n",
    "imp_cat.plot(kind = 'barh')"
   ]
  },
  {
   "cell_type": "markdown",
   "id": "8d6235ab",
   "metadata": {
    "execution": {
     "iopub.execute_input": "2021-11-27T14:35:48.643993Z",
     "iopub.status.busy": "2021-11-27T14:35:48.643753Z",
     "iopub.status.idle": "2021-11-27T14:35:48.661872Z",
     "shell.execute_reply": "2021-11-27T14:35:48.66031Z",
     "shell.execute_reply.started": "2021-11-27T14:35:48.643964Z"
    },
    "papermill": {
     "duration": 0.13557,
     "end_time": "2022-01-06T14:23:29.919291",
     "exception": false,
     "start_time": "2022-01-06T14:23:29.783721",
     "status": "completed"
    },
    "tags": []
   },
   "source": [
    "\n"
   ]
  },
  {
   "cell_type": "code",
   "execution_count": 53,
   "id": "2b9c1f41",
   "metadata": {
    "execution": {
     "iopub.execute_input": "2022-01-06T14:23:30.194286Z",
     "iopub.status.busy": "2022-01-06T14:23:30.193543Z",
     "iopub.status.idle": "2022-01-06T14:23:31.927696Z",
     "shell.execute_reply": "2022-01-06T14:23:31.928235Z",
     "shell.execute_reply.started": "2022-01-06T14:20:10.297616Z"
    },
    "papermill": {
     "duration": 1.873048,
     "end_time": "2022-01-06T14:23:31.928463",
     "exception": false,
     "start_time": "2022-01-06T14:23:30.055415",
     "status": "completed"
    },
    "tags": []
   },
   "outputs": [
    {
     "data": {
      "image/png": "[encoded data removed]",
      "text/plain": [
       "<Figure size 1008x576 with 2 Axes>"
      ]
     },
     "metadata": {
      "needs_background": "light"
     },
     "output_type": "display_data"
    }
   ],
   "source": [
    "# Cильная корреляция между переменными вредна для\n",
    "# линейных моделей из-за неустойчивости полученных оценок.\n",
    "# Оценим корреляцию Пирсона для численных переменных:\n",
    "plt.figure(figsize=(14, 8))\n",
    "sns.heatmap(data[num_cols].corr().abs(), vmin=0, vmax=1, annot=True)\n",
    "plt.show()\n",
    "\n",
    "# Критерием для удаления признаков будем считать корреляцию выше 0,7"
   ]
  },
  {
   "cell_type": "markdown",
   "id": "2cd02263",
   "metadata": {
    "papermill": {
     "duration": 0.139041,
     "end_time": "2022-01-06T14:23:32.206228",
     "exception": false,
     "start_time": "2022-01-06T14:23:32.067187",
     "status": "completed"
    },
    "tags": []
   },
   "source": [
    "Для оценки значимости числовых переменных будем использовать функцию f_classif из библиотеки sklearn. \n",
    "\n",
    "Возможности модуля sklearn.feature_selection могут быть использованы не только для выбора важных признаков, но и для уменьшения размерности, улучшения предсказательной силы моделей, либо для повышения их производительности на очень многомерных наборах данных.\n",
    "\n",
    "В основе метода оценки значимости переменных лежит однофакторный дисперсионный анализ (ANOVA). Основу процедуры составляет обобщение результатов двух выборочных t-тестов для независимых выборок (2-sample t). \n",
    "\n",
    "В качестве меры значимости мы будем использовать значение f-статистики. Чем значение статистики выше, тем меньше вероятность того, что средние значения не отличаются, и тем важнее данный признак для нашей линейной модели."
   ]
  },
  {
   "cell_type": "code",
   "execution_count": 54,
   "id": "34ac9ffd",
   "metadata": {
    "execution": {
     "iopub.execute_input": "2022-01-06T14:23:32.494284Z",
     "iopub.status.busy": "2022-01-06T14:23:32.493571Z",
     "iopub.status.idle": "2022-01-06T14:23:32.881941Z",
     "shell.execute_reply": "2022-01-06T14:23:32.881355Z",
     "shell.execute_reply.started": "2022-01-06T14:20:11.835298Z"
    },
    "papermill": {
     "duration": 0.535548,
     "end_time": "2022-01-06T14:23:32.882098",
     "exception": false,
     "start_time": "2022-01-06T14:23:32.346550",
     "status": "completed"
    },
    "tags": []
   },
   "outputs": [
    {
     "data": {
      "text/plain": [
       "<AxesSubplot:>"
      ]
     },
     "execution_count": 54,
     "metadata": {},
     "output_type": "execute_result"
    },
    {
     "data": {
      "image/png": "[encoded data removed]",
      "text/plain": [
       "<Figure size 432x288 with 1 Axes>"
      ]
     },
     "metadata": {
      "needs_background": "light"
     },
     "output_type": "display_data"
    }
   ],
   "source": [
    "imp_num = pd.Series(f_classif(data[num_cols], data['default'])[0], index = num_cols)\n",
    "imp_num.sort_values(inplace = True)\n",
    "imp_num.plot(kind = 'barh')"
   ]
  },
  {
   "cell_type": "markdown",
   "id": "dec4ae46",
   "metadata": {
    "papermill": {
     "duration": 0.14417,
     "end_time": "2022-01-06T14:23:33.169548",
     "exception": false,
     "start_time": "2022-01-06T14:23:33.025378",
     "status": "completed"
    },
    "tags": []
   },
   "source": [
    "На основании матрицы корреляций и оценки важности признаков удалим из датасета следующие столбцы:\n",
    "\n",
    "weekday, uno,dos_log, uno_log, day, month, bki_request_cnt, decline_app_cnt, score_bki\n"
   ]
  },
  {
   "cell_type": "code",
   "execution_count": 55,
   "id": "4d03eaa3",
   "metadata": {
    "execution": {
     "iopub.execute_input": "2022-01-06T14:23:33.459322Z",
     "iopub.status.busy": "2022-01-06T14:23:33.458609Z",
     "iopub.status.idle": "2022-01-06T14:23:33.483321Z",
     "shell.execute_reply": "2022-01-06T14:23:33.484028Z",
     "shell.execute_reply.started": "2022-01-06T14:20:12.142207Z"
    },
    "papermill": {
     "duration": 0.171194,
     "end_time": "2022-01-06T14:23:33.484221",
     "exception": false,
     "start_time": "2022-01-06T14:23:33.313027",
     "status": "completed"
    },
    "tags": []
   },
   "outputs": [
    {
     "name": "stdout",
     "output_type": "stream",
     "text": [
      "<class 'pandas.core.frame.DataFrame'>\n",
      "RangeIndex: 110148 entries, 0 to 110147\n",
      "Data columns (total 22 columns):\n",
      " #   Column            Non-Null Count   Dtype  \n",
      "---  ------            --------------   -----  \n",
      " 0   client_id         110148 non-null  int64  \n",
      " 1   education         110148 non-null  int64  \n",
      " 2   sex               110148 non-null  int64  \n",
      " 3   age               110148 non-null  float64\n",
      " 4   car               110148 non-null  int64  \n",
      " 5   good_work         110148 non-null  int64  \n",
      " 6   region_rating     110148 non-null  int64  \n",
      " 7   home_address      110148 non-null  int64  \n",
      " 8   work_address      110148 non-null  int64  \n",
      " 9   income            110148 non-null  float64\n",
      " 10  sna               110148 non-null  int64  \n",
      " 11  first_time        110148 non-null  int64  \n",
      " 12  foreign_passport  110148 non-null  int64  \n",
      " 13  sample            110148 non-null  int64  \n",
      " 14  default           110148 non-null  int64  \n",
      " 15  yearday           110148 non-null  int64  \n",
      " 16  decline_app_bin   110148 non-null  int64  \n",
      " 17  decline_app_log   110148 non-null  float64\n",
      " 18  bki_request_bin   110148 non-null  int64  \n",
      " 19  bki_request_log   110148 non-null  float64\n",
      " 20  score_bki_clear   110148 non-null  float64\n",
      " 21  dos               110148 non-null  float64\n",
      "dtypes: float64(6), int64(16)\n",
      "memory usage: 18.5 MB\n"
     ]
    }
   ],
   "source": [
    "data.drop(['weekday', 'uno', 'dos_log', 'uno_log', 'day', 'month', 'bki_request_cnt', 'decline_app_cnt', 'score_bki'], axis=1, inplace=True)\n",
    "data.info()"
   ]
  },
  {
   "cell_type": "code",
   "execution_count": 56,
   "id": "1a7ccae8",
   "metadata": {
    "execution": {
     "iopub.execute_input": "2022-01-06T14:23:33.778309Z",
     "iopub.status.busy": "2022-01-06T14:23:33.777590Z",
     "iopub.status.idle": "2022-01-06T14:23:33.780187Z",
     "shell.execute_reply": "2022-01-06T14:23:33.780748Z",
     "shell.execute_reply.started": "2022-01-06T14:20:12.166624Z"
    },
    "papermill": {
     "duration": 0.154693,
     "end_time": "2022-01-06T14:23:33.780928",
     "exception": false,
     "start_time": "2022-01-06T14:23:33.626235",
     "status": "completed"
    },
    "tags": []
   },
   "outputs": [],
   "source": [
    "num_cols.remove('uno')\n",
    "num_cols.remove('uno_log')\n",
    "num_cols.remove('dos_log')\n",
    "num_cols.remove('day')\n",
    "num_cols.remove('month')\n",
    "num_cols.remove('bki_request_cnt')\n",
    "num_cols.remove('decline_app_cnt')\n",
    "num_cols.remove('score_bki')\n",
    "cat_cols.remove('weekday')"
   ]
  },
  {
   "cell_type": "code",
   "execution_count": 57,
   "id": "8a801944",
   "metadata": {
    "execution": {
     "iopub.execute_input": "2022-01-06T14:23:34.097883Z",
     "iopub.status.busy": "2022-01-06T14:23:34.097099Z",
     "iopub.status.idle": "2022-01-06T14:23:34.166107Z",
     "shell.execute_reply": "2022-01-06T14:23:34.166925Z",
     "shell.execute_reply.started": "2022-01-06T14:20:12.172499Z"
    },
    "papermill": {
     "duration": 0.245378,
     "end_time": "2022-01-06T14:23:34.167144",
     "exception": false,
     "start_time": "2022-01-06T14:23:33.921766",
     "status": "completed"
    },
    "tags": []
   },
   "outputs": [
    {
     "name": "stdout",
     "output_type": "stream",
     "text": [
      "<class 'pandas.core.frame.DataFrame'>\n",
      "RangeIndex: 110148 entries, 0 to 110147\n",
      "Data columns (total 49 columns):\n",
      " #   Column              Non-Null Count   Dtype  \n",
      "---  ------              --------------   -----  \n",
      " 0   client_id           110148 non-null  int64  \n",
      " 1   age                 110148 non-null  float64\n",
      " 2   income              110148 non-null  float64\n",
      " 3   sample              110148 non-null  int64  \n",
      " 4   default             110148 non-null  int64  \n",
      " 5   yearday             110148 non-null  int64  \n",
      " 6   decline_app_log     110148 non-null  float64\n",
      " 7   bki_request_log     110148 non-null  float64\n",
      " 8   score_bki_clear     110148 non-null  float64\n",
      " 9   dos                 110148 non-null  float64\n",
      " 10  education_0         110148 non-null  uint8  \n",
      " 11  education_1         110148 non-null  uint8  \n",
      " 12  education_2         110148 non-null  uint8  \n",
      " 13  education_3         110148 non-null  uint8  \n",
      " 14  education_4         110148 non-null  uint8  \n",
      " 15  region_rating_20    110148 non-null  uint8  \n",
      " 16  region_rating_30    110148 non-null  uint8  \n",
      " 17  region_rating_40    110148 non-null  uint8  \n",
      " 18  region_rating_50    110148 non-null  uint8  \n",
      " 19  region_rating_60    110148 non-null  uint8  \n",
      " 20  region_rating_70    110148 non-null  uint8  \n",
      " 21  region_rating_80    110148 non-null  uint8  \n",
      " 22  home_address_1      110148 non-null  uint8  \n",
      " 23  home_address_2      110148 non-null  uint8  \n",
      " 24  home_address_3      110148 non-null  uint8  \n",
      " 25  work_address_1      110148 non-null  uint8  \n",
      " 26  work_address_2      110148 non-null  uint8  \n",
      " 27  work_address_3      110148 non-null  uint8  \n",
      " 28  sna_1               110148 non-null  uint8  \n",
      " 29  sna_2               110148 non-null  uint8  \n",
      " 30  sna_3               110148 non-null  uint8  \n",
      " 31  sna_4               110148 non-null  uint8  \n",
      " 32  first_time_1        110148 non-null  uint8  \n",
      " 33  first_time_2        110148 non-null  uint8  \n",
      " 34  first_time_3        110148 non-null  uint8  \n",
      " 35  first_time_4        110148 non-null  uint8  \n",
      " 36  car_0               110148 non-null  uint8  \n",
      " 37  car_1               110148 non-null  uint8  \n",
      " 38  car_2               110148 non-null  uint8  \n",
      " 39  sex_0               110148 non-null  uint8  \n",
      " 40  sex_1               110148 non-null  uint8  \n",
      " 41  good_work_0         110148 non-null  uint8  \n",
      " 42  good_work_1         110148 non-null  uint8  \n",
      " 43  foreign_passport_0  110148 non-null  uint8  \n",
      " 44  foreign_passport_1  110148 non-null  uint8  \n",
      " 45  decline_app_bin_0   110148 non-null  uint8  \n",
      " 46  decline_app_bin_1   110148 non-null  uint8  \n",
      " 47  bki_request_bin_0   110148 non-null  uint8  \n",
      " 48  bki_request_bin_1   110148 non-null  uint8  \n",
      "dtypes: float64(6), int64(4), uint8(39)\n",
      "memory usage: 12.5 MB\n"
     ]
    }
   ],
   "source": [
    "# Закодируем категориальные и бинарные признаки с помощью OneHotEncoding\n",
    "data =  pd.get_dummies(data, columns=cat_cols+bin_cols)\n",
    "data.info()"
   ]
  },
  {
   "cell_type": "code",
   "execution_count": 58,
   "id": "2ee0b2a5",
   "metadata": {
    "execution": {
     "iopub.execute_input": "2022-01-06T14:23:34.468397Z",
     "iopub.status.busy": "2022-01-06T14:23:34.467678Z",
     "iopub.status.idle": "2022-01-06T14:23:34.513319Z",
     "shell.execute_reply": "2022-01-06T14:23:34.512732Z",
     "shell.execute_reply.started": "2022-01-06T14:20:12.242404Z"
    },
    "papermill": {
     "duration": 0.195356,
     "end_time": "2022-01-06T14:23:34.513516",
     "exception": false,
     "start_time": "2022-01-06T14:23:34.318160",
     "status": "completed"
    },
    "tags": []
   },
   "outputs": [],
   "source": [
    "# Выделим в выборке обучающую часть и тестовую по признаку sample\n",
    "train_data = data.query('sample == 1').drop(['sample', 'client_id'], axis=1)\n",
    "test_data = data.query('sample == 0').drop(['sample', 'client_id'], axis=1)"
   ]
  },
  {
   "cell_type": "markdown",
   "id": "140d99a3",
   "metadata": {
    "papermill": {
     "duration": 0.140773,
     "end_time": "2022-01-06T14:23:34.796682",
     "exception": false,
     "start_time": "2022-01-06T14:23:34.655909",
     "status": "completed"
    },
    "tags": []
   },
   "source": [
    "**Перед тем как отправлять наши данные на обучение, разделим обучающую выборку на обучающую и валидационную части, для проверки разных моделей. \n",
    "Это поможет нам проверить, как хорошо наша модель работает, до отправки submission на kaggle.\n",
    "Заодно стандартизируем числовые признаки.**"
   ]
  },
  {
   "cell_type": "code",
   "execution_count": 59,
   "id": "e8ae2cef",
   "metadata": {
    "execution": {
     "iopub.execute_input": "2022-01-06T14:23:35.088576Z",
     "iopub.status.busy": "2022-01-06T14:23:35.087764Z",
     "iopub.status.idle": "2022-01-06T14:23:35.142442Z",
     "shell.execute_reply": "2022-01-06T14:23:35.143032Z",
     "shell.execute_reply.started": "2022-01-06T14:20:12.279741Z"
    },
    "papermill": {
     "duration": 0.205535,
     "end_time": "2022-01-06T14:23:35.143228",
     "exception": false,
     "start_time": "2022-01-06T14:23:34.937693",
     "status": "completed"
    },
    "tags": []
   },
   "outputs": [],
   "source": [
    "# Функция, разделяющая датасет на обучающую и валидационную части со стандартизацией числовых признаков\n",
    "# Принимает на вход DataFrame, возвращает 4 массива numpy\n",
    "y = train_data['default'].copy()\n",
    "x = train_data.copy().drop(['default'], axis=1)\n",
    "    \n",
    "x_train_pd, x_valid_pd, y_train, y_valid = train_test_split(x, y, test_size=0.20, random_state=42)\n",
    "    \n",
    "# Cтандартизируем числовые признаки\n",
    "scaler = StandardScaler()\n",
    "x_train_num = scaler.fit_transform(x_train_pd[num_cols].values)\n",
    "x_valid_num = scaler.transform(x_valid_pd[num_cols].values)\n",
    "    \n",
    "# И соберём все признаки в numpy array\n",
    "X_train = np.hstack([x_train_num, x_train_pd.drop(columns=num_cols).values])\n",
    "X_valid = np.hstack([x_valid_num, x_valid_pd.drop(columns=num_cols).values])\n",
    "    \n",
    "Y_train = y_train.values\n",
    "Y_valid = y_valid.values\n"
   ]
  },
  {
   "cell_type": "code",
   "execution_count": 60,
   "id": "0d200f43",
   "metadata": {
    "execution": {
     "iopub.execute_input": "2022-01-06T14:23:35.437071Z",
     "iopub.status.busy": "2022-01-06T14:23:35.436330Z",
     "iopub.status.idle": "2022-01-06T14:23:35.439400Z",
     "shell.execute_reply": "2022-01-06T14:23:35.440021Z",
     "shell.execute_reply.started": "2022-01-06T14:20:12.326200Z"
    },
    "papermill": {
     "duration": 0.153007,
     "end_time": "2022-01-06T14:23:35.440212",
     "exception": false,
     "start_time": "2022-01-06T14:23:35.287205",
     "status": "completed"
    },
    "tags": []
   },
   "outputs": [
    {
     "data": {
      "text/plain": [
       "((59039, 46), (14760, 46), (59039,), (14760,))"
      ]
     },
     "execution_count": 60,
     "metadata": {},
     "output_type": "execute_result"
    }
   ],
   "source": [
    "X_train.shape, X_valid.shape, Y_train.shape, Y_valid.shape"
   ]
  },
  {
   "cell_type": "markdown",
   "id": "7fafb9b8",
   "metadata": {
    "papermill": {
     "duration": 0.141692,
     "end_time": "2022-01-06T14:23:35.726285",
     "exception": false,
     "start_time": "2022-01-06T14:23:35.584593",
     "status": "completed"
    },
    "tags": []
   },
   "source": [
    "# Модели логистической регрессии"
   ]
  },
  {
   "cell_type": "markdown",
   "id": "aadb7ab9",
   "metadata": {
    "papermill": {
     "duration": 0.14121,
     "end_time": "2022-01-06T14:23:36.008967",
     "exception": false,
     "start_time": "2022-01-06T14:23:35.867757",
     "status": "completed"
    },
    "tags": []
   },
   "source": [
    "### Модель логистической регрессии с параметрами по умолчанию"
   ]
  },
  {
   "cell_type": "code",
   "execution_count": 61,
   "id": "3b8a0eff",
   "metadata": {
    "execution": {
     "iopub.execute_input": "2022-01-06T14:23:36.297869Z",
     "iopub.status.busy": "2022-01-06T14:23:36.297139Z",
     "iopub.status.idle": "2022-01-06T14:23:39.490465Z",
     "shell.execute_reply": "2022-01-06T14:23:39.489819Z",
     "shell.execute_reply.started": "2022-01-06T14:20:12.335539Z"
    },
    "papermill": {
     "duration": 3.340206,
     "end_time": "2022-01-06T14:23:39.490625",
     "exception": false,
     "start_time": "2022-01-06T14:23:36.150419",
     "status": "completed"
    },
    "tags": []
   },
   "outputs": [
    {
     "data": {
      "image/png": "[encoded data removed]",
      "text/plain": [
       "<Figure size 432x288 with 1 Axes>"
      ]
     },
     "metadata": {
      "needs_background": "light"
     },
     "output_type": "display_data"
    }
   ],
   "source": [
    "# Обучаем модель на стандартных настройках логистической регрессии\n",
    "model_simple = LogisticRegression(max_iter=5000)\n",
    "model_simple.fit(X_train, Y_train)\n",
    "\n",
    "probs_simple = model_simple.predict_proba(X_valid)\n",
    "Y_pred_simple = model_simple.predict(X_valid)\n",
    "probs_simple = probs_simple[:,1]\n",
    "\n",
    "# Выводим на экран график roc_auc\n",
    "print_roc_auc(Y_valid, probs_simple)"
   ]
  },
  {
   "cell_type": "code",
   "execution_count": 62,
   "id": "c12a0ff9",
   "metadata": {
    "execution": {
     "iopub.execute_input": "2022-01-06T14:23:39.784563Z",
     "iopub.status.busy": "2022-01-06T14:23:39.783386Z",
     "iopub.status.idle": "2022-01-06T14:23:39.810514Z",
     "shell.execute_reply": "2022-01-06T14:23:39.811090Z",
     "shell.execute_reply.started": "2022-01-06T14:20:15.072234Z"
    },
    "papermill": {
     "duration": 0.174557,
     "end_time": "2022-01-06T14:23:39.811318",
     "exception": false,
     "start_time": "2022-01-06T14:23:39.636761",
     "status": "completed"
    },
    "tags": []
   },
   "outputs": [
    {
     "data": {
      "text/plain": [
       "array([[12877,    56],\n",
       "       [ 1793,    34]])"
      ]
     },
     "execution_count": 62,
     "metadata": {},
     "output_type": "execute_result"
    }
   ],
   "source": [
    "confusion_matrix(Y_valid, Y_pred_simple)"
   ]
  },
  {
   "cell_type": "code",
   "execution_count": 63,
   "id": "f563c51b",
   "metadata": {
    "execution": {
     "iopub.execute_input": "2022-01-06T14:23:40.109104Z",
     "iopub.status.busy": "2022-01-06T14:23:40.108369Z",
     "iopub.status.idle": "2022-01-06T14:23:40.146733Z",
     "shell.execute_reply": "2022-01-06T14:23:40.147610Z",
     "shell.execute_reply.started": "2022-01-06T14:20:15.105635Z"
    },
    "papermill": {
     "duration": 0.191642,
     "end_time": "2022-01-06T14:23:40.147874",
     "exception": false,
     "start_time": "2022-01-06T14:23:39.956232",
     "status": "completed"
    },
    "tags": []
   },
   "outputs": [
    {
     "name": "stdout",
     "output_type": "stream",
     "text": [
      "balanced_accuracy: 0.5071\n",
      "precision_score: 0.3778\n",
      "recall_score: 0.0186\n",
      "f1_score: 0.0355\n"
     ]
    }
   ],
   "source": [
    "# Как видим, новая модель уже пытается различать классы.\n",
    "# Посмотрим остальные метрики качества модели\n",
    "print_metrics(Y_valid, Y_pred_simple)"
   ]
  },
  {
   "cell_type": "markdown",
   "id": "f8cc7613",
   "metadata": {
    "papermill": {
     "duration": 0.145979,
     "end_time": "2022-01-06T14:23:40.441794",
     "exception": false,
     "start_time": "2022-01-06T14:23:40.295815",
     "status": "completed"
    },
    "tags": []
   },
   "source": [
    "Метрики качества очень плохи. Вспомним, что у нас несбалансированные классы: значений default=1 гораздо меньше, чем default=0. Построим новую модель с балансировкой классов"
   ]
  },
  {
   "cell_type": "markdown",
   "id": "30924f5e",
   "metadata": {
    "papermill": {
     "duration": 0.145079,
     "end_time": "2022-01-06T14:23:40.732052",
     "exception": false,
     "start_time": "2022-01-06T14:23:40.586973",
     "status": "completed"
    },
    "tags": []
   },
   "source": [
    "### Модель логистической регрессии с балансировкой классов"
   ]
  },
  {
   "cell_type": "code",
   "execution_count": 64,
   "id": "e1ff1ce1",
   "metadata": {
    "execution": {
     "iopub.execute_input": "2022-01-06T14:23:41.030719Z",
     "iopub.status.busy": "2022-01-06T14:23:41.029975Z",
     "iopub.status.idle": "2022-01-06T14:23:42.188450Z",
     "shell.execute_reply": "2022-01-06T14:23:42.189131Z",
     "shell.execute_reply.started": "2022-01-06T14:20:15.150681Z"
    },
    "papermill": {
     "duration": 1.312881,
     "end_time": "2022-01-06T14:23:42.189379",
     "exception": false,
     "start_time": "2022-01-06T14:23:40.876498",
     "status": "completed"
    },
    "tags": []
   },
   "outputs": [
    {
     "data": {
      "image/png": "[encoded data removed]",
      "text/plain": [
       "<Figure size 432x288 with 1 Axes>"
      ]
     },
     "metadata": {
      "needs_background": "light"
     },
     "output_type": "display_data"
    }
   ],
   "source": [
    "# Обучаем модель логистической регрессии \n",
    "model_balance = LogisticRegression(class_weight='balanced', solver='liblinear',max_iter=5000)\n",
    "model_balance.fit(X_train, Y_train)\n",
    "probs_balance = model_balance.predict_proba(X_valid)\n",
    "Y_pred_balance = model_balance.predict(X_valid)\n",
    "\n",
    "probs_balance = probs_balance[:,1]\n",
    "\n",
    "\n",
    "fpr, tpr, threshold = roc_curve(Y_valid, probs_balance)\n",
    "roc_auc = roc_auc_score(Y_valid, probs_balance)\n",
    "\n",
    "# Выводим на экран график roc_auc\n",
    "print_roc_auc(Y_valid, probs_balance)"
   ]
  },
  {
   "cell_type": "code",
   "execution_count": 65,
   "id": "fa60bb0e",
   "metadata": {
    "execution": {
     "iopub.execute_input": "2022-01-06T14:23:42.487385Z",
     "iopub.status.busy": "2022-01-06T14:23:42.486672Z",
     "iopub.status.idle": "2022-01-06T14:23:42.513219Z",
     "shell.execute_reply": "2022-01-06T14:23:42.513828Z",
     "shell.execute_reply.started": "2022-01-06T14:20:15.981847Z"
    },
    "papermill": {
     "duration": 0.174944,
     "end_time": "2022-01-06T14:23:42.514024",
     "exception": false,
     "start_time": "2022-01-06T14:23:42.339080",
     "status": "completed"
    },
    "tags": []
   },
   "outputs": [
    {
     "data": {
      "text/plain": [
       "array([[8616, 4317],\n",
       "       [ 580, 1247]])"
      ]
     },
     "execution_count": 65,
     "metadata": {},
     "output_type": "execute_result"
    }
   ],
   "source": [
    "confusion_matrix(Y_valid, Y_pred_balance)"
   ]
  },
  {
   "cell_type": "code",
   "execution_count": 66,
   "id": "a24c7910",
   "metadata": {
    "execution": {
     "iopub.execute_input": "2022-01-06T14:23:42.805923Z",
     "iopub.status.busy": "2022-01-06T14:23:42.805218Z",
     "iopub.status.idle": "2022-01-06T14:23:42.851470Z",
     "shell.execute_reply": "2022-01-06T14:23:42.852621Z",
     "shell.execute_reply.started": "2022-01-06T14:20:16.018135Z"
    },
    "papermill": {
     "duration": 0.194716,
     "end_time": "2022-01-06T14:23:42.852891",
     "exception": false,
     "start_time": "2022-01-06T14:23:42.658175",
     "status": "completed"
    },
    "tags": []
   },
   "outputs": [
    {
     "name": "stdout",
     "output_type": "stream",
     "text": [
      "balanced_accuracy: 0.6744\n",
      "precision_score: 0.2241\n",
      "recall_score: 0.6825\n",
      "f1_score: 0.3374\n"
     ]
    }
   ],
   "source": [
    "# Судя по матрице ошибок, новая модель работает лучше.\n",
    "# Посмотрим другие метрики качества нашей модели\n",
    "print_metrics(Y_valid, Y_pred_balance)"
   ]
  },
  {
   "cell_type": "markdown",
   "id": "8918d463",
   "metadata": {
    "papermill": {
     "duration": 0.14612,
     "end_time": "2022-01-06T14:23:43.145569",
     "exception": false,
     "start_time": "2022-01-06T14:23:42.999449",
     "status": "completed"
    },
    "tags": []
   },
   "source": [
    "Действительно, метрики качества показали существенный рост.\n",
    "\n",
    "Однако попробуем ещё один способ балансировки классов - undersampling"
   ]
  },
  {
   "cell_type": "markdown",
   "id": "f0104310",
   "metadata": {
    "papermill": {
     "duration": 0.146082,
     "end_time": "2022-01-06T14:23:43.438376",
     "exception": false,
     "start_time": "2022-01-06T14:23:43.292294",
     "status": "completed"
    },
    "tags": []
   },
   "source": [
    "# Модель с undersampling"
   ]
  },
  {
   "cell_type": "code",
   "execution_count": 67,
   "id": "beb36ccc",
   "metadata": {
    "execution": {
     "iopub.execute_input": "2022-01-06T14:23:43.739282Z",
     "iopub.status.busy": "2022-01-06T14:23:43.738092Z",
     "iopub.status.idle": "2022-01-06T14:23:43.759720Z",
     "shell.execute_reply": "2022-01-06T14:23:43.760281Z",
     "shell.execute_reply.started": "2022-01-06T14:20:16.076035Z"
    },
    "papermill": {
     "duration": 0.175349,
     "end_time": "2022-01-06T14:23:43.760478",
     "exception": false,
     "start_time": "2022-01-06T14:23:43.585129",
     "status": "completed"
    },
    "tags": []
   },
   "outputs": [
    {
     "data": {
      "text/plain": [
       "((59039, 47), (14760, 47))"
      ]
     },
     "execution_count": 67,
     "metadata": {},
     "output_type": "execute_result"
    }
   ],
   "source": [
    "#Разделим обучающую выборку на обучающую и валидационную\n",
    "train_u, valid_u = train_test_split(train_data, test_size=0.20, random_state=42)\n",
    "train_u.shape, valid_u.shape"
   ]
  },
  {
   "cell_type": "markdown",
   "id": "9edd55ec",
   "metadata": {
    "papermill": {
     "duration": 0.152186,
     "end_time": "2022-01-06T14:23:44.059375",
     "exception": false,
     "start_time": "2022-01-06T14:23:43.907189",
     "status": "completed"
    },
    "tags": []
   },
   "source": [
    "Сравняем количество классов в обучающей выборке, удалив большое количество примеров с default=0"
   ]
  },
  {
   "cell_type": "code",
   "execution_count": 68,
   "id": "ed467d13",
   "metadata": {
    "execution": {
     "iopub.execute_input": "2022-01-06T14:23:44.357226Z",
     "iopub.status.busy": "2022-01-06T14:23:44.356084Z",
     "iopub.status.idle": "2022-01-06T14:23:44.380179Z",
     "shell.execute_reply": "2022-01-06T14:23:44.380748Z",
     "shell.execute_reply.started": "2022-01-06T14:20:16.097500Z"
    },
    "papermill": {
     "duration": 0.175775,
     "end_time": "2022-01-06T14:23:44.380951",
     "exception": false,
     "start_time": "2022-01-06T14:23:44.205176",
     "status": "completed"
    },
    "tags": []
   },
   "outputs": [
    {
     "data": {
      "text/plain": [
       "1    7545\n",
       "0    7545\n",
       "Name: default, dtype: int64"
      ]
     },
     "execution_count": 68,
     "metadata": {},
     "output_type": "execute_result"
    }
   ],
   "source": [
    "train_under_1 = train_u[train_u['default'] == 1].copy()\n",
    "count_1 = len(train_under_1)\n",
    "\n",
    "train_under_0 = train_u[train_u['default'] == 0].iloc[:count_1,:].copy()\n",
    "\n",
    "train_under = pd.concat([train_under_1, train_under_0])\n",
    "\n",
    "# Проверим количество классов\n",
    "train_under['default'].value_counts()"
   ]
  },
  {
   "cell_type": "code",
   "execution_count": 69,
   "id": "99a2735c",
   "metadata": {
    "execution": {
     "iopub.execute_input": "2022-01-06T14:23:44.687141Z",
     "iopub.status.busy": "2022-01-06T14:23:44.686416Z",
     "iopub.status.idle": "2022-01-06T14:23:44.693394Z",
     "shell.execute_reply": "2022-01-06T14:23:44.694032Z",
     "shell.execute_reply.started": "2022-01-06T14:20:16.119307Z"
    },
    "papermill": {
     "duration": 0.162903,
     "end_time": "2022-01-06T14:23:44.694224",
     "exception": false,
     "start_time": "2022-01-06T14:23:44.531321",
     "status": "completed"
    },
    "tags": []
   },
   "outputs": [],
   "source": [
    "# Выделим из выборок признаки и целевую переменную\n",
    "X_train_under_pd = train_under.drop(['default'], axis=1).copy()\n",
    "Y_train_under = train_under['default'].copy().values\n",
    "\n",
    "X_valid_under_pd = valid_u.drop(['default'], axis=1).copy()\n",
    "Y_valid_under = valid_u['default'].copy().values"
   ]
  },
  {
   "cell_type": "code",
   "execution_count": 70,
   "id": "f17b8f19",
   "metadata": {
    "execution": {
     "iopub.execute_input": "2022-01-06T14:23:44.990157Z",
     "iopub.status.busy": "2022-01-06T14:23:44.989501Z",
     "iopub.status.idle": "2022-01-06T14:23:45.013480Z",
     "shell.execute_reply": "2022-01-06T14:23:45.012474Z",
     "shell.execute_reply.started": "2022-01-06T14:20:16.132364Z"
    },
    "papermill": {
     "duration": 0.172248,
     "end_time": "2022-01-06T14:23:45.013716",
     "exception": false,
     "start_time": "2022-01-06T14:23:44.841468",
     "status": "completed"
    },
    "tags": []
   },
   "outputs": [],
   "source": [
    "# Cтандартизируем числовые признаки\n",
    "scaler_under = StandardScaler()\n",
    "X_train_u_num = scaler_under.fit_transform(X_train_under_pd[num_cols].values)\n",
    "X_valid_u_num = scaler_under.transform(X_valid_under_pd[num_cols].values)\n",
    "    \n",
    "# И соберём все признаки в numpy array\n",
    "X_train_under = np.hstack([X_train_u_num, X_train_under_pd.drop(columns=num_cols).values])\n",
    "X_valid_under = np.hstack([X_valid_u_num, X_valid_under_pd.drop(columns=num_cols).values])"
   ]
  },
  {
   "cell_type": "code",
   "execution_count": 71,
   "id": "8a37fa78",
   "metadata": {
    "execution": {
     "iopub.execute_input": "2022-01-06T14:23:45.353071Z",
     "iopub.status.busy": "2022-01-06T14:23:45.352330Z",
     "iopub.status.idle": "2022-01-06T14:23:45.745636Z",
     "shell.execute_reply": "2022-01-06T14:23:45.745017Z",
     "shell.execute_reply.started": "2022-01-06T14:20:16.149870Z"
    },
    "papermill": {
     "duration": 0.5536,
     "end_time": "2022-01-06T14:23:45.745819",
     "exception": false,
     "start_time": "2022-01-06T14:23:45.192219",
     "status": "completed"
    },
    "tags": []
   },
   "outputs": [
    {
     "data": {
      "image/png": "[encoded data removed]",
      "text/plain": [
       "<Figure size 432x288 with 1 Axes>"
      ]
     },
     "metadata": {
      "needs_background": "light"
     },
     "output_type": "display_data"
    }
   ],
   "source": [
    "# Обучаем модель логистической регрессии\n",
    "model_under = LogisticRegression(solver='liblinear', max_iter=5000)\n",
    "model_under.fit(X_train_under, Y_train_under)\n",
    "\n",
    "probs_under = model_under.predict_proba(X_valid_under)\n",
    "Y_pred_under = model_under.predict(X_valid_under)\n",
    "probs_under = probs_under[:,1]\n",
    "\n",
    "\n",
    "fpr, tpr, threshold = roc_curve(Y_valid_under, probs_under)\n",
    "roc_auc = roc_auc_score(Y_valid_under, probs_under)\n",
    "\n",
    "# Выводим на экран график roc_auc\n",
    "print_roc_auc(Y_valid_under, probs_under)"
   ]
  },
  {
   "cell_type": "code",
   "execution_count": 72,
   "id": "51ad3074",
   "metadata": {
    "execution": {
     "iopub.execute_input": "2022-01-06T14:23:46.066033Z",
     "iopub.status.busy": "2022-01-06T14:23:46.065242Z",
     "iopub.status.idle": "2022-01-06T14:23:46.092478Z",
     "shell.execute_reply": "2022-01-06T14:23:46.091820Z",
     "shell.execute_reply.started": "2022-01-06T14:20:16.498678Z"
    },
    "papermill": {
     "duration": 0.186841,
     "end_time": "2022-01-06T14:23:46.092639",
     "exception": false,
     "start_time": "2022-01-06T14:23:45.905798",
     "status": "completed"
    },
    "tags": []
   },
   "outputs": [
    {
     "data": {
      "text/plain": [
       "array([[8610, 4323],\n",
       "       [ 574, 1253]])"
      ]
     },
     "execution_count": 72,
     "metadata": {},
     "output_type": "execute_result"
    }
   ],
   "source": [
    "confusion_matrix(Y_valid_under, Y_pred_under)"
   ]
  },
  {
   "cell_type": "code",
   "execution_count": 73,
   "id": "1254b1a9",
   "metadata": {
    "execution": {
     "iopub.execute_input": "2022-01-06T14:23:46.426709Z",
     "iopub.status.busy": "2022-01-06T14:23:46.425568Z",
     "iopub.status.idle": "2022-01-06T14:23:46.469496Z",
     "shell.execute_reply": "2022-01-06T14:23:46.468853Z",
     "shell.execute_reply.started": "2022-01-06T14:20:16.529729Z"
    },
    "papermill": {
     "duration": 0.209719,
     "end_time": "2022-01-06T14:23:46.469657",
     "exception": false,
     "start_time": "2022-01-06T14:23:46.259938",
     "status": "completed"
    },
    "tags": []
   },
   "outputs": [
    {
     "name": "stdout",
     "output_type": "stream",
     "text": [
      "balanced_accuracy: 0.6758\n",
      "precision_score: 0.2247\n",
      "recall_score: 0.6858\n",
      "f1_score: 0.3385\n"
     ]
    }
   ],
   "source": [
    "# Метрики качества нашей модели\n",
    "print_metrics(Y_valid_under, Y_pred_under)"
   ]
  },
  {
   "cell_type": "markdown",
   "id": "40fd0e5f",
   "metadata": {
    "papermill": {
     "duration": 0.160354,
     "end_time": "2022-01-06T14:23:46.787198",
     "exception": false,
     "start_time": "2022-01-06T14:23:46.626844",
     "status": "completed"
    },
    "tags": []
   },
   "source": [
    "У новой модели метрики чуть получше, чем у предыдущей. Её и возьмём за основу для дальнейших исследований."
   ]
  },
  {
   "cell_type": "markdown",
   "id": "1ce029e3",
   "metadata": {
    "papermill": {
     "duration": 0.150216,
     "end_time": "2022-01-06T14:23:47.103738",
     "exception": false,
     "start_time": "2022-01-06T14:23:46.953522",
     "status": "completed"
    },
    "tags": []
   },
   "source": [
    "### Работа с выбранной моделью"
   ]
  },
  {
   "cell_type": "markdown",
   "id": "780ad7c0",
   "metadata": {
    "papermill": {
     "duration": 0.147628,
     "end_time": "2022-01-06T14:23:47.400796",
     "exception": false,
     "start_time": "2022-01-06T14:23:47.253168",
     "status": "completed"
    },
    "tags": []
   },
   "source": [
    "С помощью функции GridSearchCV найдём оптимальные гиперпараметры для нашей модели и посмотрим, улучшатся ли метрики"
   ]
  },
  {
   "cell_type": "code",
   "execution_count": 74,
   "id": "811861ce",
   "metadata": {
    "execution": {
     "iopub.execute_input": "2022-01-06T14:23:47.704689Z",
     "iopub.status.busy": "2022-01-06T14:23:47.703939Z",
     "iopub.status.idle": "2022-01-06T14:24:09.752628Z",
     "shell.execute_reply": "2022-01-06T14:24:09.754545Z",
     "shell.execute_reply.started": "2022-01-06T14:20:16.578111Z"
    },
    "papermill": {
     "duration": 22.203024,
     "end_time": "2022-01-06T14:24:09.754894",
     "exception": false,
     "start_time": "2022-01-06T14:23:47.551870",
     "status": "completed"
    },
    "tags": []
   },
   "outputs": [
    {
     "name": "stdout",
     "output_type": "stream",
     "text": [
      "Наилучшие гиперпараметры:\n",
      "\tC: 1.0\n",
      "\tclass_weight: None\n",
      "\tdual: False\n",
      "\tfit_intercept: True\n",
      "\tintercept_scaling: 1\n",
      "\tl1_ratio: None\n",
      "\tmax_iter: 50\n",
      "\tmulti_class: 'auto'\n",
      "\tn_jobs: None\n",
      "\tpenalty: 'none'\n",
      "\trandom_state: None\n",
      "\tsolver: 'newton-cg'\n",
      "\ttol: 0.001\n",
      "\tverbose: 0\n",
      "\twarm_start: False\n",
      "\n",
      "Получившиеся метрики:\n",
      "balanced_accuracy: 0.6756\n",
      "precision_score: 0.2247\n",
      "recall_score: 0.6853\n",
      "f1_score: 0.3384\n"
     ]
    }
   ],
   "source": [
    "# Выключим предупреждения\n",
    "import warnings\n",
    "warnings.filterwarnings(\"ignore\")\n",
    "\n",
    "model = model_under\n",
    "\n",
    "iter_ = 50\n",
    "epsilon_stop = 1e-3\n",
    "\n",
    "# Создадим список гиперпараметров\n",
    "param_grid = [\n",
    "    {'penalty': ['l1'], \n",
    "     'solver': ['liblinear', 'saga'], \n",
    "     'class_weight': [None, 'balanced'], \n",
    "     'multi_class': ['auto','ovr'], \n",
    "     'max_iter': [iter_],\n",
    "     'tol': [epsilon_stop]},\n",
    "    \n",
    "    {'penalty': ['none'], \n",
    "     'solver': ['newton-cg', 'saga'], \n",
    "     'class_weight': [None, 'balanced'], \n",
    "     'multi_class': ['auto','ovr'], \n",
    "     'max_iter': [iter_],\n",
    "     'tol': [epsilon_stop]},\n",
    "]\n",
    "\n",
    "gridsearch = GridSearchCV(model, param_grid, scoring='f1', n_jobs=12, cv=5)\n",
    "gridsearch.fit(X_train_under, Y_train_under)\n",
    "model = gridsearch.best_estimator_\n",
    "\n",
    "# Печатаем получившиеся наилучшие гиперпараметры\n",
    "print('Наилучшие гиперпараметры:')\n",
    "best_parameters = model.get_params()\n",
    "for param_name in sorted(best_parameters.keys()):\n",
    "        print('\\t%s: %r' % (param_name, best_parameters[param_name]))\n",
    "        \n",
    "# Печатаем метрики с этими наилучшими гиперпараметрами\n",
    "preds = model.predict(X_valid_under)\n",
    "y_pred_prob = model.predict_proba(X_valid_under)[:,1]\n",
    "y_pred = model.predict(X_valid_under)\n",
    "\n",
    "print('\\nПолучившиеся метрики:')\n",
    "print_metrics(Y_valid_under, y_pred)"
   ]
  },
  {
   "cell_type": "markdown",
   "id": "277eff76",
   "metadata": {
    "papermill": {
     "duration": 0.152967,
     "end_time": "2022-01-06T14:24:10.079129",
     "exception": false,
     "start_time": "2022-01-06T14:24:09.926162",
     "status": "completed"
    },
    "tags": []
   },
   "source": [
    "Как видим, метрики практически не изменились. Тогда оставим гиперпараметры по умолчанию."
   ]
  },
  {
   "cell_type": "code",
   "execution_count": 75,
   "id": "5b3a6719",
   "metadata": {
    "execution": {
     "iopub.execute_input": "2022-01-06T14:24:10.392320Z",
     "iopub.status.busy": "2022-01-06T14:24:10.391565Z",
     "iopub.status.idle": "2022-01-06T14:24:10.410666Z",
     "shell.execute_reply": "2022-01-06T14:24:10.411344Z",
     "shell.execute_reply.started": "2022-01-06T14:20:36.485729Z"
    },
    "papermill": {
     "duration": 0.179887,
     "end_time": "2022-01-06T14:24:10.411543",
     "exception": false,
     "start_time": "2022-01-06T14:24:10.231656",
     "status": "completed"
    },
    "tags": []
   },
   "outputs": [
    {
     "data": {
      "text/plain": [
       "1    9372\n",
       "0    9372\n",
       "Name: default, dtype: int64"
      ]
     },
     "execution_count": 75,
     "metadata": {},
     "output_type": "execute_result"
    }
   ],
   "source": [
    "# undersampling для всей тренировочной выборки\n",
    "train_finish_1 = train_data[train_data['default'] == 1].copy()\n",
    "count_1 = len(train_finish_1)\n",
    "\n",
    "train_finish_0 = train_data[train_data['default'] == 0].iloc[:count_1,:].copy()\n",
    "\n",
    "train_finish = pd.concat([train_finish_1, train_finish_0])\n",
    "\n",
    "# Проверим количество классов\n",
    "train_finish['default'].value_counts()"
   ]
  },
  {
   "cell_type": "code",
   "execution_count": 76,
   "id": "7cd94b0b",
   "metadata": {
    "execution": {
     "iopub.execute_input": "2022-01-06T14:24:10.717109Z",
     "iopub.status.busy": "2022-01-06T14:24:10.716394Z",
     "iopub.status.idle": "2022-01-06T14:24:10.723671Z",
     "shell.execute_reply": "2022-01-06T14:24:10.723005Z",
     "shell.execute_reply.started": "2022-01-06T14:20:36.531425Z"
    },
    "papermill": {
     "duration": 0.161305,
     "end_time": "2022-01-06T14:24:10.723831",
     "exception": false,
     "start_time": "2022-01-06T14:24:10.562526",
     "status": "completed"
    },
    "tags": []
   },
   "outputs": [],
   "source": [
    "# Выделим из выборки признаки и целевую переменную\n",
    "X_train_finish_pd = train_under.drop(['default'], axis=1).copy()\n",
    "Y_train_finish = train_under['default'].copy().values"
   ]
  },
  {
   "cell_type": "code",
   "execution_count": 77,
   "id": "5869d490",
   "metadata": {
    "execution": {
     "iopub.execute_input": "2022-01-06T14:24:11.094045Z",
     "iopub.status.busy": "2022-01-06T14:24:11.093324Z",
     "iopub.status.idle": "2022-01-06T14:24:11.102226Z",
     "shell.execute_reply": "2022-01-06T14:24:11.101632Z",
     "shell.execute_reply.started": "2022-01-06T14:20:36.540453Z"
    },
    "papermill": {
     "duration": 0.224804,
     "end_time": "2022-01-06T14:24:11.102413",
     "exception": false,
     "start_time": "2022-01-06T14:24:10.877609",
     "status": "completed"
    },
    "tags": []
   },
   "outputs": [],
   "source": [
    "# Cтандартизируем числовые признаки\n",
    "scaler_finish = StandardScaler()\n",
    "X_train_finish_num = scaler_finish.fit_transform(X_train_finish_pd[num_cols].values)\n",
    "    \n",
    "# И соберём все признаки в numpy array\n",
    "X_train_finish = np.hstack([X_train_finish_num, X_train_finish_pd.drop(columns=num_cols).values])"
   ]
  },
  {
   "cell_type": "code",
   "execution_count": 78,
   "id": "b2800191",
   "metadata": {
    "execution": {
     "iopub.execute_input": "2022-01-06T14:24:11.412113Z",
     "iopub.status.busy": "2022-01-06T14:24:11.409916Z",
     "iopub.status.idle": "2022-01-06T14:24:11.510803Z",
     "shell.execute_reply": "2022-01-06T14:24:11.510133Z",
     "shell.execute_reply.started": "2022-01-06T14:20:36.560755Z"
    },
    "papermill": {
     "duration": 0.254959,
     "end_time": "2022-01-06T14:24:11.510975",
     "exception": false,
     "start_time": "2022-01-06T14:24:11.256016",
     "status": "completed"
    },
    "tags": []
   },
   "outputs": [
    {
     "data": {
      "text/plain": [
       "LogisticRegression(max_iter=5000, solver='liblinear')"
      ]
     },
     "execution_count": 78,
     "metadata": {},
     "output_type": "execute_result"
    }
   ],
   "source": [
    "# Обучим итоговую модель на этих данных\n",
    "model_finish = LogisticRegression(solver='liblinear', max_iter=5000)\n",
    "model_finish.fit(X_train_finish, Y_train_finish)"
   ]
  },
  {
   "cell_type": "code",
   "execution_count": 79,
   "id": "4771a34e",
   "metadata": {
    "execution": {
     "iopub.execute_input": "2022-01-06T14:24:11.818565Z",
     "iopub.status.busy": "2022-01-06T14:24:11.817785Z",
     "iopub.status.idle": "2022-01-06T14:24:11.834673Z",
     "shell.execute_reply": "2022-01-06T14:24:11.835280Z",
     "shell.execute_reply.started": "2022-01-06T14:20:36.653229Z"
    },
    "papermill": {
     "duration": 0.171642,
     "end_time": "2022-01-06T14:24:11.835480",
     "exception": false,
     "start_time": "2022-01-06T14:24:11.663838",
     "status": "completed"
    },
    "tags": []
   },
   "outputs": [],
   "source": [
    "# Подготовим тестовые данные для работы с моделью\n",
    "\n",
    "# Удалим столбец default с фиктивными значениями\n",
    "X_test_pd = test_data.drop(['default'], axis=1)\n",
    "\n",
    "# Стандартизуем числовые данные по всем данным в тренировочном датасете\n",
    "\n",
    "X_test_num = scaler_finish.transform(X_test_pd[num_cols].values)\n",
    "\n",
    "# И соберём все признаки в numpy array\n",
    "X_test = np.hstack([X_test_num, X_test_pd.drop(columns=num_cols).values])"
   ]
  },
  {
   "cell_type": "markdown",
   "id": "6ec3d196",
   "metadata": {
    "papermill": {
     "duration": 0.149101,
     "end_time": "2022-01-06T14:24:12.134201",
     "exception": false,
     "start_time": "2022-01-06T14:24:11.985100",
     "status": "completed"
    },
    "tags": []
   },
   "source": [
    "# Создание файла submission"
   ]
  },
  {
   "cell_type": "code",
   "execution_count": 80,
   "id": "93923cc3",
   "metadata": {
    "execution": {
     "iopub.execute_input": "2022-01-06T14:24:12.439423Z",
     "iopub.status.busy": "2022-01-06T14:24:12.438697Z",
     "iopub.status.idle": "2022-01-06T14:24:12.459893Z",
     "shell.execute_reply": "2022-01-06T14:24:12.459190Z",
     "shell.execute_reply.started": "2022-01-06T14:20:36.668503Z"
    },
    "papermill": {
     "duration": 0.174109,
     "end_time": "2022-01-06T14:24:12.460046",
     "exception": false,
     "start_time": "2022-01-06T14:24:12.285937",
     "status": "completed"
    },
    "tags": []
   },
   "outputs": [
    {
     "data": {
      "text/html": [
       "<div>\n",
       "<style scoped>\n",
       "    .dataframe tbody tr th:only-of-type {\n",
       "        vertical-align: middle;\n",
       "    }\n",
       "\n",
       "    .dataframe tbody tr th {\n",
       "        vertical-align: top;\n",
       "    }\n",
       "\n",
       "    .dataframe thead th {\n",
       "        text-align: right;\n",
       "    }\n",
       "</style>\n",
       "<table border=\"1\" class=\"dataframe\">\n",
       "  <thead>\n",
       "    <tr style=\"text-align: right;\">\n",
       "      <th></th>\n",
       "      <th>client_id</th>\n",
       "      <th>app_date</th>\n",
       "      <th>education</th>\n",
       "      <th>sex</th>\n",
       "      <th>age</th>\n",
       "      <th>car</th>\n",
       "      <th>car_type</th>\n",
       "      <th>decline_app_cnt</th>\n",
       "      <th>good_work</th>\n",
       "      <th>score_bki</th>\n",
       "      <th>bki_request_cnt</th>\n",
       "      <th>region_rating</th>\n",
       "      <th>home_address</th>\n",
       "      <th>work_address</th>\n",
       "      <th>income</th>\n",
       "      <th>sna</th>\n",
       "      <th>first_time</th>\n",
       "      <th>foreign_passport</th>\n",
       "      <th>sample</th>\n",
       "      <th>default</th>\n",
       "    </tr>\n",
       "  </thead>\n",
       "  <tbody>\n",
       "    <tr>\n",
       "      <th>0</th>\n",
       "      <td>74835</td>\n",
       "      <td>22MAR2014</td>\n",
       "      <td>GRD</td>\n",
       "      <td>M</td>\n",
       "      <td>29</td>\n",
       "      <td>Y</td>\n",
       "      <td>Y</td>\n",
       "      <td>0</td>\n",
       "      <td>0</td>\n",
       "      <td>-2.271884</td>\n",
       "      <td>3</td>\n",
       "      <td>50</td>\n",
       "      <td>1</td>\n",
       "      <td>2</td>\n",
       "      <td>50000</td>\n",
       "      <td>1</td>\n",
       "      <td>4</td>\n",
       "      <td>N</td>\n",
       "      <td>0</td>\n",
       "      <td>0</td>\n",
       "    </tr>\n",
       "    <tr>\n",
       "      <th>1</th>\n",
       "      <td>17527</td>\n",
       "      <td>24JAN2014</td>\n",
       "      <td>SCH</td>\n",
       "      <td>F</td>\n",
       "      <td>39</td>\n",
       "      <td>N</td>\n",
       "      <td>N</td>\n",
       "      <td>5</td>\n",
       "      <td>0</td>\n",
       "      <td>-1.504999</td>\n",
       "      <td>2</td>\n",
       "      <td>50</td>\n",
       "      <td>1</td>\n",
       "      <td>2</td>\n",
       "      <td>5000</td>\n",
       "      <td>4</td>\n",
       "      <td>3</td>\n",
       "      <td>N</td>\n",
       "      <td>0</td>\n",
       "      <td>0</td>\n",
       "    </tr>\n",
       "    <tr>\n",
       "      <th>2</th>\n",
       "      <td>75683</td>\n",
       "      <td>23MAR2014</td>\n",
       "      <td>UGR</td>\n",
       "      <td>M</td>\n",
       "      <td>50</td>\n",
       "      <td>Y</td>\n",
       "      <td>Y</td>\n",
       "      <td>0</td>\n",
       "      <td>0</td>\n",
       "      <td>-1.691339</td>\n",
       "      <td>1</td>\n",
       "      <td>50</td>\n",
       "      <td>1</td>\n",
       "      <td>2</td>\n",
       "      <td>30000</td>\n",
       "      <td>1</td>\n",
       "      <td>3</td>\n",
       "      <td>Y</td>\n",
       "      <td>0</td>\n",
       "      <td>0</td>\n",
       "    </tr>\n",
       "    <tr>\n",
       "      <th>3</th>\n",
       "      <td>26883</td>\n",
       "      <td>03FEB2014</td>\n",
       "      <td>SCH</td>\n",
       "      <td>M</td>\n",
       "      <td>56</td>\n",
       "      <td>N</td>\n",
       "      <td>N</td>\n",
       "      <td>0</td>\n",
       "      <td>0</td>\n",
       "      <td>-2.374182</td>\n",
       "      <td>1</td>\n",
       "      <td>40</td>\n",
       "      <td>1</td>\n",
       "      <td>2</td>\n",
       "      <td>17000</td>\n",
       "      <td>1</td>\n",
       "      <td>3</td>\n",
       "      <td>N</td>\n",
       "      <td>0</td>\n",
       "      <td>0</td>\n",
       "    </tr>\n",
       "    <tr>\n",
       "      <th>4</th>\n",
       "      <td>28862</td>\n",
       "      <td>04FEB2014</td>\n",
       "      <td>GRD</td>\n",
       "      <td>F</td>\n",
       "      <td>38</td>\n",
       "      <td>N</td>\n",
       "      <td>N</td>\n",
       "      <td>0</td>\n",
       "      <td>0</td>\n",
       "      <td>-2.487502</td>\n",
       "      <td>0</td>\n",
       "      <td>80</td>\n",
       "      <td>2</td>\n",
       "      <td>3</td>\n",
       "      <td>120000</td>\n",
       "      <td>1</td>\n",
       "      <td>3</td>\n",
       "      <td>N</td>\n",
       "      <td>0</td>\n",
       "      <td>0</td>\n",
       "    </tr>\n",
       "  </tbody>\n",
       "</table>\n",
       "</div>"
      ],
      "text/plain": [
       "   client_id   app_date education sex  age car car_type  decline_app_cnt  \\\n",
       "0      74835  22MAR2014       GRD   M   29   Y        Y                0   \n",
       "1      17527  24JAN2014       SCH   F   39   N        N                5   \n",
       "2      75683  23MAR2014       UGR   M   50   Y        Y                0   \n",
       "3      26883  03FEB2014       SCH   M   56   N        N                0   \n",
       "4      28862  04FEB2014       GRD   F   38   N        N                0   \n",
       "\n",
       "   good_work  score_bki  bki_request_cnt  region_rating  home_address  \\\n",
       "0          0  -2.271884                3             50             1   \n",
       "1          0  -1.504999                2             50             1   \n",
       "2          0  -1.691339                1             50             1   \n",
       "3          0  -2.374182                1             40             1   \n",
       "4          0  -2.487502                0             80             2   \n",
       "\n",
       "   work_address  income  sna  first_time foreign_passport  sample  default  \n",
       "0             2   50000    1           4                N       0        0  \n",
       "1             2    5000    4           3                N       0        0  \n",
       "2             2   30000    1           3                Y       0        0  \n",
       "3             2   17000    1           3                N       0        0  \n",
       "4             3  120000    1           3                N       0        0  "
      ]
     },
     "execution_count": 80,
     "metadata": {},
     "output_type": "execute_result"
    }
   ],
   "source": [
    "test.head()"
   ]
  },
  {
   "cell_type": "code",
   "execution_count": 81,
   "id": "a88d76d7",
   "metadata": {
    "execution": {
     "iopub.execute_input": "2022-01-06T14:24:12.767838Z",
     "iopub.status.busy": "2022-01-06T14:24:12.765990Z",
     "iopub.status.idle": "2022-01-06T14:24:12.778457Z",
     "shell.execute_reply": "2022-01-06T14:24:12.779505Z",
     "shell.execute_reply.started": "2022-01-06T14:20:36.689354Z"
    },
    "papermill": {
     "duration": 0.166444,
     "end_time": "2022-01-06T14:24:12.779827",
     "exception": false,
     "start_time": "2022-01-06T14:24:12.613383",
     "status": "completed"
    },
    "tags": []
   },
   "outputs": [],
   "source": [
    "Y_sub = model_finish.predict_proba(X_test)\n",
    "test['default'] = Y_sub[:,1]"
   ]
  },
  {
   "cell_type": "code",
   "execution_count": 82,
   "id": "e547ef1d",
   "metadata": {
    "execution": {
     "iopub.execute_input": "2022-01-06T14:24:13.142695Z",
     "iopub.status.busy": "2022-01-06T14:24:13.141896Z",
     "iopub.status.idle": "2022-01-06T14:24:13.158693Z",
     "shell.execute_reply": "2022-01-06T14:24:13.159288Z",
     "shell.execute_reply.started": "2022-01-06T14:20:36.716676Z"
    },
    "papermill": {
     "duration": 0.17302,
     "end_time": "2022-01-06T14:24:13.159486",
     "exception": false,
     "start_time": "2022-01-06T14:24:12.986466",
     "status": "completed"
    },
    "tags": []
   },
   "outputs": [
    {
     "data": {
      "text/html": [
       "<div>\n",
       "<style scoped>\n",
       "    .dataframe tbody tr th:only-of-type {\n",
       "        vertical-align: middle;\n",
       "    }\n",
       "\n",
       "    .dataframe tbody tr th {\n",
       "        vertical-align: top;\n",
       "    }\n",
       "\n",
       "    .dataframe thead th {\n",
       "        text-align: right;\n",
       "    }\n",
       "</style>\n",
       "<table border=\"1\" class=\"dataframe\">\n",
       "  <thead>\n",
       "    <tr style=\"text-align: right;\">\n",
       "      <th></th>\n",
       "      <th>client_id</th>\n",
       "      <th>default</th>\n",
       "    </tr>\n",
       "  </thead>\n",
       "  <tbody>\n",
       "    <tr>\n",
       "      <th>0</th>\n",
       "      <td>74835</td>\n",
       "      <td>0.214057</td>\n",
       "    </tr>\n",
       "    <tr>\n",
       "      <th>1</th>\n",
       "      <td>17527</td>\n",
       "      <td>0.778156</td>\n",
       "    </tr>\n",
       "    <tr>\n",
       "      <th>2</th>\n",
       "      <td>75683</td>\n",
       "      <td>0.313301</td>\n",
       "    </tr>\n",
       "    <tr>\n",
       "      <th>3</th>\n",
       "      <td>26883</td>\n",
       "      <td>0.416034</td>\n",
       "    </tr>\n",
       "    <tr>\n",
       "      <th>4</th>\n",
       "      <td>28862</td>\n",
       "      <td>0.135334</td>\n",
       "    </tr>\n",
       "    <tr>\n",
       "      <th>5</th>\n",
       "      <td>99881</td>\n",
       "      <td>0.625384</td>\n",
       "    </tr>\n",
       "    <tr>\n",
       "      <th>6</th>\n",
       "      <td>26630</td>\n",
       "      <td>0.787564</td>\n",
       "    </tr>\n",
       "    <tr>\n",
       "      <th>7</th>\n",
       "      <td>79934</td>\n",
       "      <td>0.178790</td>\n",
       "    </tr>\n",
       "    <tr>\n",
       "      <th>8</th>\n",
       "      <td>16605</td>\n",
       "      <td>0.127234</td>\n",
       "    </tr>\n",
       "    <tr>\n",
       "      <th>9</th>\n",
       "      <td>105449</td>\n",
       "      <td>0.138884</td>\n",
       "    </tr>\n",
       "  </tbody>\n",
       "</table>\n",
       "</div>"
      ],
      "text/plain": [
       "   client_id   default\n",
       "0      74835  0.214057\n",
       "1      17527  0.778156\n",
       "2      75683  0.313301\n",
       "3      26883  0.416034\n",
       "4      28862  0.135334\n",
       "5      99881  0.625384\n",
       "6      26630  0.787564\n",
       "7      79934  0.178790\n",
       "8      16605  0.127234\n",
       "9     105449  0.138884"
      ]
     },
     "metadata": {},
     "output_type": "display_data"
    },
    {
     "data": {
      "text/plain": [
       "(36349, 2)"
      ]
     },
     "metadata": {},
     "output_type": "display_data"
    }
   ],
   "source": [
    "submission = test[['client_id','default']]\n",
    "display(submission.head(10))\n",
    "display(submission.shape)"
   ]
  },
  {
   "cell_type": "code",
   "execution_count": 83,
   "id": "0d2b22f8",
   "metadata": {
    "execution": {
     "iopub.execute_input": "2022-01-06T14:24:13.471578Z",
     "iopub.status.busy": "2022-01-06T14:24:13.470853Z",
     "iopub.status.idle": "2022-01-06T14:24:13.608679Z",
     "shell.execute_reply": "2022-01-06T14:24:13.608030Z",
     "shell.execute_reply.started": "2022-01-06T14:20:36.741328Z"
    },
    "papermill": {
     "duration": 0.295798,
     "end_time": "2022-01-06T14:24:13.608838",
     "exception": false,
     "start_time": "2022-01-06T14:24:13.313040",
     "status": "completed"
    },
    "tags": []
   },
   "outputs": [],
   "source": [
    "submission.to_csv('submission.csv', index=False)"
   ]
  }
 ],
 "metadata": {
  "kernelspec": {
   "display_name": "Python 3",
   "language": "python",
   "name": "python3"
  },
  "language_info": {
   "codemirror_mode": {
    "name": "ipython",
    "version": 3
   },
   "file_extension": ".py",
   "mimetype": "text/x-python",
   "name": "python",
   "nbconvert_exporter": "python",
   "pygments_lexer": "ipython3",
   "version": "3.7.10"
  },
  "papermill": {
   "default_parameters": {},
   "duration": 94.623709,
   "end_time": "2022-01-06T14:24:14.873018",
   "environment_variables": {},
   "exception": null,
   "input_path": "__notebook__.ipynb",
   "output_path": "__notebook__.ipynb",
   "parameters": {},
   "start_time": "2022-01-06T14:22:40.249309",
   "version": "2.3.3"
  }
 },
 "nbformat": 4,
 "nbformat_minor": 5
}
