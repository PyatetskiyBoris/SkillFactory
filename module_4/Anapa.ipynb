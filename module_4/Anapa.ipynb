{
 "cells": [
  {
   "cell_type": "code",
   "execution_count": 1,
   "metadata": {},
   "outputs": [],
   "source": [
    "import pandas as pd\n",
    "import numpy as np\n",
    "from datetime import datetime\n",
    "\n",
    "import seaborn as sns\n",
    "\n",
    "pd.set_option('display.float_format', '{:.2f}'.format)\n"
   ]
  },
  {
   "cell_type": "code",
   "execution_count": 2,
   "metadata": {},
   "outputs": [
    {
     "data": {
      "text/html": [
       "<div>\n",
       "<style scoped>\n",
       "    .dataframe tbody tr th:only-of-type {\n",
       "        vertical-align: middle;\n",
       "    }\n",
       "\n",
       "    .dataframe tbody tr th {\n",
       "        vertical-align: top;\n",
       "    }\n",
       "\n",
       "    .dataframe thead th {\n",
       "        text-align: right;\n",
       "    }\n",
       "</style>\n",
       "<table border=\"1\" class=\"dataframe\">\n",
       "  <thead>\n",
       "    <tr style=\"text-align: right;\">\n",
       "      <th></th>\n",
       "      <th>flight_id</th>\n",
       "      <th>flight_no</th>\n",
       "      <th>aircraft_code</th>\n",
       "      <th>departure_airport</th>\n",
       "      <th>arrival_airport</th>\n",
       "      <th>scheduled_departure</th>\n",
       "      <th>actual_departure</th>\n",
       "      <th>scheduled_arrival</th>\n",
       "      <th>actual_arrival</th>\n",
       "      <th>flight_time</th>\n",
       "      <th>economy_count</th>\n",
       "      <th>economy_income</th>\n",
       "      <th>business_count</th>\n",
       "      <th>business_income</th>\n",
       "      <th>total_count</th>\n",
       "      <th>total_income</th>\n",
       "      <th>fuel_consumption</th>\n",
       "      <th>fuel_cost</th>\n",
       "      <th>revenue</th>\n",
       "    </tr>\n",
       "  </thead>\n",
       "  <tbody>\n",
       "    <tr>\n",
       "      <th>0</th>\n",
       "      <td>136119</td>\n",
       "      <td>PG0252</td>\n",
       "      <td>733</td>\n",
       "      <td>AAQ</td>\n",
       "      <td>SVO</td>\n",
       "      <td>2017-01-03T10:05:00Z</td>\n",
       "      <td>2017-01-03T10:08:00Z</td>\n",
       "      <td>2017-01-03T11:45:00Z</td>\n",
       "      <td>2017-01-03T11:49:00Z</td>\n",
       "      <td>1.68</td>\n",
       "      <td>102.00</td>\n",
       "      <td>1250400.00</td>\n",
       "      <td>11.00</td>\n",
       "      <td>402600.00</td>\n",
       "      <td>113.00</td>\n",
       "      <td>1653000.00</td>\n",
       "      <td>3.52</td>\n",
       "      <td>145781.24</td>\n",
       "      <td>1507218.76</td>\n",
       "    </tr>\n",
       "    <tr>\n",
       "      <th>1</th>\n",
       "      <td>136120</td>\n",
       "      <td>PG0252</td>\n",
       "      <td>733</td>\n",
       "      <td>AAQ</td>\n",
       "      <td>SVO</td>\n",
       "      <td>2017-02-24T10:05:00Z</td>\n",
       "      <td>2017-02-24T10:07:00Z</td>\n",
       "      <td>2017-02-24T11:45:00Z</td>\n",
       "      <td>2017-02-24T11:46:00Z</td>\n",
       "      <td>1.65</td>\n",
       "      <td>98.00</td>\n",
       "      <td>1202800.00</td>\n",
       "      <td>11.00</td>\n",
       "      <td>402600.00</td>\n",
       "      <td>109.00</td>\n",
       "      <td>1605400.00</td>\n",
       "      <td>3.39</td>\n",
       "      <td>134233.77</td>\n",
       "      <td>1471166.23</td>\n",
       "    </tr>\n",
       "    <tr>\n",
       "      <th>2</th>\n",
       "      <td>136122</td>\n",
       "      <td>PG0252</td>\n",
       "      <td>733</td>\n",
       "      <td>AAQ</td>\n",
       "      <td>SVO</td>\n",
       "      <td>2017-01-08T10:05:00Z</td>\n",
       "      <td>2017-01-08T10:08:00Z</td>\n",
       "      <td>2017-01-08T11:45:00Z</td>\n",
       "      <td>2017-01-08T11:48:00Z</td>\n",
       "      <td>1.67</td>\n",
       "      <td>87.00</td>\n",
       "      <td>1065000.00</td>\n",
       "      <td>10.00</td>\n",
       "      <td>366000.00</td>\n",
       "      <td>97.00</td>\n",
       "      <td>1431000.00</td>\n",
       "      <td>3.02</td>\n",
       "      <td>125139.65</td>\n",
       "      <td>1305860.35</td>\n",
       "    </tr>\n",
       "    <tr>\n",
       "      <th>3</th>\n",
       "      <td>136130</td>\n",
       "      <td>PG0252</td>\n",
       "      <td>733</td>\n",
       "      <td>AAQ</td>\n",
       "      <td>SVO</td>\n",
       "      <td>2017-02-13T10:05:00Z</td>\n",
       "      <td>2017-02-13T10:07:00Z</td>\n",
       "      <td>2017-02-13T11:45:00Z</td>\n",
       "      <td>2017-02-13T11:46:00Z</td>\n",
       "      <td>1.65</td>\n",
       "      <td>97.00</td>\n",
       "      <td>1190600.00</td>\n",
       "      <td>10.00</td>\n",
       "      <td>366000.00</td>\n",
       "      <td>107.00</td>\n",
       "      <td>1556600.00</td>\n",
       "      <td>3.33</td>\n",
       "      <td>131770.76</td>\n",
       "      <td>1424829.24</td>\n",
       "    </tr>\n",
       "    <tr>\n",
       "      <th>4</th>\n",
       "      <td>136131</td>\n",
       "      <td>PG0252</td>\n",
       "      <td>733</td>\n",
       "      <td>AAQ</td>\n",
       "      <td>SVO</td>\n",
       "      <td>2017-01-28T10:05:00Z</td>\n",
       "      <td>2017-01-28T10:07:00Z</td>\n",
       "      <td>2017-01-28T11:45:00Z</td>\n",
       "      <td>2017-01-28T11:46:00Z</td>\n",
       "      <td>1.65</td>\n",
       "      <td>112.00</td>\n",
       "      <td>1373600.00</td>\n",
       "      <td>12.00</td>\n",
       "      <td>439200.00</td>\n",
       "      <td>124.00</td>\n",
       "      <td>1812800.00</td>\n",
       "      <td>3.86</td>\n",
       "      <td>159972.33</td>\n",
       "      <td>1652827.67</td>\n",
       "    </tr>\n",
       "    <tr>\n",
       "      <th>...</th>\n",
       "      <td>...</td>\n",
       "      <td>...</td>\n",
       "      <td>...</td>\n",
       "      <td>...</td>\n",
       "      <td>...</td>\n",
       "      <td>...</td>\n",
       "      <td>...</td>\n",
       "      <td>...</td>\n",
       "      <td>...</td>\n",
       "      <td>...</td>\n",
       "      <td>...</td>\n",
       "      <td>...</td>\n",
       "      <td>...</td>\n",
       "      <td>...</td>\n",
       "      <td>...</td>\n",
       "      <td>...</td>\n",
       "      <td>...</td>\n",
       "      <td>...</td>\n",
       "      <td>...</td>\n",
       "    </tr>\n",
       "    <tr>\n",
       "      <th>122</th>\n",
       "      <td>136936</td>\n",
       "      <td>PG0480</td>\n",
       "      <td>SU9</td>\n",
       "      <td>AAQ</td>\n",
       "      <td>EGO</td>\n",
       "      <td>2017-01-02T09:25:00Z</td>\n",
       "      <td>2017-01-02T09:28:00Z</td>\n",
       "      <td>2017-01-02T10:15:00Z</td>\n",
       "      <td>2017-01-02T10:18:00Z</td>\n",
       "      <td>0.83</td>\n",
       "      <td>73.00</td>\n",
       "      <td>462300.00</td>\n",
       "      <td>9.00</td>\n",
       "      <td>170100.00</td>\n",
       "      <td>82.00</td>\n",
       "      <td>632400.00</td>\n",
       "      <td>1.23</td>\n",
       "      <td>50941.27</td>\n",
       "      <td>581458.73</td>\n",
       "    </tr>\n",
       "    <tr>\n",
       "      <th>123</th>\n",
       "      <td>136937</td>\n",
       "      <td>PG0480</td>\n",
       "      <td>SU9</td>\n",
       "      <td>AAQ</td>\n",
       "      <td>EGO</td>\n",
       "      <td>2017-01-03T09:25:00Z</td>\n",
       "      <td>2017-01-03T09:29:00Z</td>\n",
       "      <td>2017-01-03T10:15:00Z</td>\n",
       "      <td>2017-01-03T10:19:00Z</td>\n",
       "      <td>0.83</td>\n",
       "      <td>72.00</td>\n",
       "      <td>456000.00</td>\n",
       "      <td>9.00</td>\n",
       "      <td>170100.00</td>\n",
       "      <td>81.00</td>\n",
       "      <td>626100.00</td>\n",
       "      <td>1.21</td>\n",
       "      <td>50320.03</td>\n",
       "      <td>575779.97</td>\n",
       "    </tr>\n",
       "    <tr>\n",
       "      <th>124</th>\n",
       "      <td>136951</td>\n",
       "      <td>PG0480</td>\n",
       "      <td>SU9</td>\n",
       "      <td>AAQ</td>\n",
       "      <td>EGO</td>\n",
       "      <td>2017-02-02T09:25:00Z</td>\n",
       "      <td>2017-02-02T09:28:00Z</td>\n",
       "      <td>2017-02-02T10:15:00Z</td>\n",
       "      <td>2017-02-02T10:17:00Z</td>\n",
       "      <td>0.82</td>\n",
       "      <td>78.00</td>\n",
       "      <td>493800.00</td>\n",
       "      <td>12.00</td>\n",
       "      <td>226800.00</td>\n",
       "      <td>90.00</td>\n",
       "      <td>720600.00</td>\n",
       "      <td>1.35</td>\n",
       "      <td>53371.63</td>\n",
       "      <td>667228.37</td>\n",
       "    </tr>\n",
       "    <tr>\n",
       "      <th>125</th>\n",
       "      <td>136953</td>\n",
       "      <td>PG0480</td>\n",
       "      <td>SU9</td>\n",
       "      <td>AAQ</td>\n",
       "      <td>EGO</td>\n",
       "      <td>2017-02-27T09:25:00Z</td>\n",
       "      <td>2017-02-27T09:27:00Z</td>\n",
       "      <td>2017-02-27T10:15:00Z</td>\n",
       "      <td>2017-02-27T10:17:00Z</td>\n",
       "      <td>0.83</td>\n",
       "      <td>85.00</td>\n",
       "      <td>538500.00</td>\n",
       "      <td>12.00</td>\n",
       "      <td>226800.00</td>\n",
       "      <td>97.00</td>\n",
       "      <td>765300.00</td>\n",
       "      <td>1.45</td>\n",
       "      <td>57522.76</td>\n",
       "      <td>707777.24</td>\n",
       "    </tr>\n",
       "    <tr>\n",
       "      <th>126</th>\n",
       "      <td>136956</td>\n",
       "      <td>PG0480</td>\n",
       "      <td>SU9</td>\n",
       "      <td>AAQ</td>\n",
       "      <td>EGO</td>\n",
       "      <td>2017-02-04T09:25:00Z</td>\n",
       "      <td>2017-02-04T09:33:00Z</td>\n",
       "      <td>2017-02-04T10:15:00Z</td>\n",
       "      <td>2017-02-04T10:23:00Z</td>\n",
       "      <td>0.83</td>\n",
       "      <td>85.00</td>\n",
       "      <td>538500.00</td>\n",
       "      <td>11.00</td>\n",
       "      <td>207900.00</td>\n",
       "      <td>96.00</td>\n",
       "      <td>746400.00</td>\n",
       "      <td>1.44</td>\n",
       "      <td>56929.74</td>\n",
       "      <td>689470.26</td>\n",
       "    </tr>\n",
       "  </tbody>\n",
       "</table>\n",
       "<p>127 rows × 19 columns</p>\n",
       "</div>"
      ],
      "text/plain": [
       "     flight_id flight_no aircraft_code departure_airport arrival_airport  \\\n",
       "0       136119    PG0252           733               AAQ             SVO   \n",
       "1       136120    PG0252           733               AAQ             SVO   \n",
       "2       136122    PG0252           733               AAQ             SVO   \n",
       "3       136130    PG0252           733               AAQ             SVO   \n",
       "4       136131    PG0252           733               AAQ             SVO   \n",
       "..         ...       ...           ...               ...             ...   \n",
       "122     136936    PG0480           SU9               AAQ             EGO   \n",
       "123     136937    PG0480           SU9               AAQ             EGO   \n",
       "124     136951    PG0480           SU9               AAQ             EGO   \n",
       "125     136953    PG0480           SU9               AAQ             EGO   \n",
       "126     136956    PG0480           SU9               AAQ             EGO   \n",
       "\n",
       "      scheduled_departure      actual_departure     scheduled_arrival  \\\n",
       "0    2017-01-03T10:05:00Z  2017-01-03T10:08:00Z  2017-01-03T11:45:00Z   \n",
       "1    2017-02-24T10:05:00Z  2017-02-24T10:07:00Z  2017-02-24T11:45:00Z   \n",
       "2    2017-01-08T10:05:00Z  2017-01-08T10:08:00Z  2017-01-08T11:45:00Z   \n",
       "3    2017-02-13T10:05:00Z  2017-02-13T10:07:00Z  2017-02-13T11:45:00Z   \n",
       "4    2017-01-28T10:05:00Z  2017-01-28T10:07:00Z  2017-01-28T11:45:00Z   \n",
       "..                    ...                   ...                   ...   \n",
       "122  2017-01-02T09:25:00Z  2017-01-02T09:28:00Z  2017-01-02T10:15:00Z   \n",
       "123  2017-01-03T09:25:00Z  2017-01-03T09:29:00Z  2017-01-03T10:15:00Z   \n",
       "124  2017-02-02T09:25:00Z  2017-02-02T09:28:00Z  2017-02-02T10:15:00Z   \n",
       "125  2017-02-27T09:25:00Z  2017-02-27T09:27:00Z  2017-02-27T10:15:00Z   \n",
       "126  2017-02-04T09:25:00Z  2017-02-04T09:33:00Z  2017-02-04T10:15:00Z   \n",
       "\n",
       "           actual_arrival  flight_time  economy_count  economy_income  \\\n",
       "0    2017-01-03T11:49:00Z         1.68         102.00      1250400.00   \n",
       "1    2017-02-24T11:46:00Z         1.65          98.00      1202800.00   \n",
       "2    2017-01-08T11:48:00Z         1.67          87.00      1065000.00   \n",
       "3    2017-02-13T11:46:00Z         1.65          97.00      1190600.00   \n",
       "4    2017-01-28T11:46:00Z         1.65         112.00      1373600.00   \n",
       "..                    ...          ...            ...             ...   \n",
       "122  2017-01-02T10:18:00Z         0.83          73.00       462300.00   \n",
       "123  2017-01-03T10:19:00Z         0.83          72.00       456000.00   \n",
       "124  2017-02-02T10:17:00Z         0.82          78.00       493800.00   \n",
       "125  2017-02-27T10:17:00Z         0.83          85.00       538500.00   \n",
       "126  2017-02-04T10:23:00Z         0.83          85.00       538500.00   \n",
       "\n",
       "     business_count  business_income  total_count  total_income  \\\n",
       "0             11.00        402600.00       113.00    1653000.00   \n",
       "1             11.00        402600.00       109.00    1605400.00   \n",
       "2             10.00        366000.00        97.00    1431000.00   \n",
       "3             10.00        366000.00       107.00    1556600.00   \n",
       "4             12.00        439200.00       124.00    1812800.00   \n",
       "..              ...              ...          ...           ...   \n",
       "122            9.00        170100.00        82.00     632400.00   \n",
       "123            9.00        170100.00        81.00     626100.00   \n",
       "124           12.00        226800.00        90.00     720600.00   \n",
       "125           12.00        226800.00        97.00     765300.00   \n",
       "126           11.00        207900.00        96.00     746400.00   \n",
       "\n",
       "     fuel_consumption  fuel_cost    revenue  \n",
       "0                3.52  145781.24 1507218.76  \n",
       "1                3.39  134233.77 1471166.23  \n",
       "2                3.02  125139.65 1305860.35  \n",
       "3                3.33  131770.76 1424829.24  \n",
       "4                3.86  159972.33 1652827.67  \n",
       "..                ...        ...        ...  \n",
       "122              1.23   50941.27  581458.73  \n",
       "123              1.21   50320.03  575779.97  \n",
       "124              1.35   53371.63  667228.37  \n",
       "125              1.45   57522.76  707777.24  \n",
       "126              1.44   56929.74  689470.26  \n",
       "\n",
       "[127 rows x 19 columns]"
      ]
     },
     "execution_count": 2,
     "metadata": {},
     "output_type": "execute_result"
    }
   ],
   "source": [
    "data = pd.read_csv('D:/Python_CSV/Anapa_flights.csv')\n",
    "data"
   ]
  },
  {
   "cell_type": "code",
   "execution_count": 3,
   "metadata": {},
   "outputs": [],
   "source": [
    "# Делаем второй датасет, в котором убираем данные о рейсах в Новокузнецк, поскольку о них нет данных\n",
    "df = data[data.arrival_airport != 'NOZ'].copy()"
   ]
  },
  {
   "cell_type": "code",
   "execution_count": 4,
   "metadata": {},
   "outputs": [],
   "source": [
    "#Обрабатываем столбец со временем отправления. Достаём даты из текстовых строк\n",
    "df['actual_departure'] = df['actual_departure'].apply(lambda s: s[:10])\n",
    "df['actual_departure'] = df['actual_departure'].apply(lambda t: datetime.strptime(t, '%Y-%m-%d'))"
   ]
  },
  {
   "cell_type": "code",
   "execution_count": 5,
   "metadata": {},
   "outputs": [
    {
     "name": "stderr",
     "output_type": "stream",
     "text": [
      "<ipython-input-5-0bd88cabe96b>:24: SettingWithCopyWarning: \n",
      "A value is trying to be set on a copy of a slice from a DataFrame\n",
      "\n",
      "See the caveats in the documentation: https://pandas.pydata.org/pandas-docs/stable/user_guide/indexing.html#returning-a-view-versus-a-copy\n",
      "  df['week'][df['week'] == 52] = 1\n"
     ]
    }
   ],
   "source": [
    "# Функция, меняющая номер дня на его название \n",
    "def weekday_name(n):\n",
    "    if n == 0:\n",
    "        return 'Monday'\n",
    "    if n == 1:\n",
    "        return 'Tuesday'\n",
    "    if n == 2:\n",
    "        return 'Wednesday'\n",
    "    if n == 3:\n",
    "        return 'Thursday'\n",
    "    if n == 4:\n",
    "        return 'Friday'\n",
    "    if n == 5:\n",
    "        return 'Saturday'\n",
    "    if n == 6:\n",
    "        return 'Sunday'\n",
    "    \n",
    "# Добавляем столбцы с номером месяца, номером дня и днём недели вылета    \n",
    "df['month'] = df['actual_departure'].apply(lambda x: x.month)\n",
    "df['day'] = df['actual_departure'].apply(lambda y: y.day)\n",
    "df['weekday'] = df['actual_departure'].apply(lambda z: z.weekday())\n",
    "df['weekday'] = df['weekday'].apply(weekday_name)\n",
    "df['week'] = df['actual_departure'].apply(lambda z: z.isocalendar()[1])\n",
    "df['week'][df['week'] == 52] = 1"
   ]
  },
  {
   "cell_type": "code",
   "execution_count": 6,
   "metadata": {},
   "outputs": [],
   "source": [
    "# Разделяем датасет на два для разных самолётов\n",
    "df_SU = df[df['aircraft_code'] == 'SU9'].copy()\n",
    "df_733 = df[df['aircraft_code'] == '733'].copy()"
   ]
  },
  {
   "cell_type": "markdown",
   "metadata": {},
   "source": [
    "## Первый способ отбора рейсов.\n",
    "Самый простой. Отменяем все рейсы ниже какого-то значения прибыльности. Например, рейсы, выручка которых меньше 0.95 от средней выручки по всем рейсам в этот город."
   ]
  },
  {
   "cell_type": "code",
   "execution_count": 7,
   "metadata": {},
   "outputs": [
    {
     "data": {
      "text/html": [
       "<div>\n",
       "<style scoped>\n",
       "    .dataframe tbody tr th:only-of-type {\n",
       "        vertical-align: middle;\n",
       "    }\n",
       "\n",
       "    .dataframe tbody tr th {\n",
       "        vertical-align: top;\n",
       "    }\n",
       "\n",
       "    .dataframe thead th {\n",
       "        text-align: right;\n",
       "    }\n",
       "</style>\n",
       "<table border=\"1\" class=\"dataframe\">\n",
       "  <thead>\n",
       "    <tr style=\"text-align: right;\">\n",
       "      <th></th>\n",
       "      <th>flight_id</th>\n",
       "      <th>aircraft_code</th>\n",
       "      <th>actual_departure</th>\n",
       "      <th>revenue</th>\n",
       "    </tr>\n",
       "  </thead>\n",
       "  <tbody>\n",
       "    <tr>\n",
       "      <th>2</th>\n",
       "      <td>136122</td>\n",
       "      <td>733</td>\n",
       "      <td>2017-01-08</td>\n",
       "      <td>1305860.35</td>\n",
       "    </tr>\n",
       "    <tr>\n",
       "      <th>12</th>\n",
       "      <td>136178</td>\n",
       "      <td>733</td>\n",
       "      <td>2017-01-29</td>\n",
       "      <td>1306880.16</td>\n",
       "    </tr>\n",
       "    <tr>\n",
       "      <th>14</th>\n",
       "      <td>136185</td>\n",
       "      <td>733</td>\n",
       "      <td>2017-01-14</td>\n",
       "      <td>1385829.66</td>\n",
       "    </tr>\n",
       "    <tr>\n",
       "      <th>15</th>\n",
       "      <td>136202</td>\n",
       "      <td>733</td>\n",
       "      <td>2017-01-05</td>\n",
       "      <td>1366590.06</td>\n",
       "    </tr>\n",
       "    <tr>\n",
       "      <th>16</th>\n",
       "      <td>136204</td>\n",
       "      <td>733</td>\n",
       "      <td>2017-02-23</td>\n",
       "      <td>1326029.24</td>\n",
       "    </tr>\n",
       "    <tr>\n",
       "      <th>21</th>\n",
       "      <td>136250</td>\n",
       "      <td>733</td>\n",
       "      <td>2017-02-08</td>\n",
       "      <td>1285881.26</td>\n",
       "    </tr>\n",
       "    <tr>\n",
       "      <th>28</th>\n",
       "      <td>136282</td>\n",
       "      <td>733</td>\n",
       "      <td>2017-01-16</td>\n",
       "      <td>1382049.46</td>\n",
       "    </tr>\n",
       "    <tr>\n",
       "      <th>33</th>\n",
       "      <td>136320</td>\n",
       "      <td>733</td>\n",
       "      <td>2017-02-19</td>\n",
       "      <td>1413860.74</td>\n",
       "    </tr>\n",
       "    <tr>\n",
       "      <th>35</th>\n",
       "      <td>136345</td>\n",
       "      <td>733</td>\n",
       "      <td>2017-01-24</td>\n",
       "      <td>1378269.26</td>\n",
       "    </tr>\n",
       "    <tr>\n",
       "      <th>38</th>\n",
       "      <td>136360</td>\n",
       "      <td>733</td>\n",
       "      <td>2017-02-05</td>\n",
       "      <td>1335944.26</td>\n",
       "    </tr>\n",
       "    <tr>\n",
       "      <th>39</th>\n",
       "      <td>136366</td>\n",
       "      <td>733</td>\n",
       "      <td>2017-01-11</td>\n",
       "      <td>1394519.76</td>\n",
       "    </tr>\n",
       "    <tr>\n",
       "      <th>40</th>\n",
       "      <td>136383</td>\n",
       "      <td>733</td>\n",
       "      <td>2017-01-25</td>\n",
       "      <td>1356449.46</td>\n",
       "    </tr>\n",
       "    <tr>\n",
       "      <th>45</th>\n",
       "      <td>136420</td>\n",
       "      <td>733</td>\n",
       "      <td>2017-01-01</td>\n",
       "      <td>1407829.66</td>\n",
       "    </tr>\n",
       "    <tr>\n",
       "      <th>54</th>\n",
       "      <td>136464</td>\n",
       "      <td>733</td>\n",
       "      <td>2017-01-09</td>\n",
       "      <td>1268990.06</td>\n",
       "    </tr>\n",
       "    <tr>\n",
       "      <th>57</th>\n",
       "      <td>136485</td>\n",
       "      <td>733</td>\n",
       "      <td>2017-01-27</td>\n",
       "      <td>1383249.46</td>\n",
       "    </tr>\n",
       "    <tr>\n",
       "      <th>58</th>\n",
       "      <td>136486</td>\n",
       "      <td>733</td>\n",
       "      <td>2017-02-02</td>\n",
       "      <td>1373629.24</td>\n",
       "    </tr>\n",
       "  </tbody>\n",
       "</table>\n",
       "</div>"
      ],
      "text/plain": [
       "    flight_id aircraft_code actual_departure    revenue\n",
       "2      136122           733       2017-01-08 1305860.35\n",
       "12     136178           733       2017-01-29 1306880.16\n",
       "14     136185           733       2017-01-14 1385829.66\n",
       "15     136202           733       2017-01-05 1366590.06\n",
       "16     136204           733       2017-02-23 1326029.24\n",
       "21     136250           733       2017-02-08 1285881.26\n",
       "28     136282           733       2017-01-16 1382049.46\n",
       "33     136320           733       2017-02-19 1413860.74\n",
       "35     136345           733       2017-01-24 1378269.26\n",
       "38     136360           733       2017-02-05 1335944.26\n",
       "39     136366           733       2017-01-11 1394519.76\n",
       "40     136383           733       2017-01-25 1356449.46\n",
       "45     136420           733       2017-01-01 1407829.66\n",
       "54     136464           733       2017-01-09 1268990.06\n",
       "57     136485           733       2017-01-27 1383249.46\n",
       "58     136486           733       2017-02-02 1373629.24"
      ]
     },
     "execution_count": 7,
     "metadata": {},
     "output_type": "execute_result"
    }
   ],
   "source": [
    "#Рейсы Boeing 737-300\n",
    "df_733[df_733['revenue'] < 0.95 * df_733['revenue'].mean()][['flight_id', 'aircraft_code', 'actual_departure', 'revenue']]"
   ]
  },
  {
   "cell_type": "code",
   "execution_count": 8,
   "metadata": {},
   "outputs": [
    {
     "data": {
      "text/html": [
       "<div>\n",
       "<style scoped>\n",
       "    .dataframe tbody tr th:only-of-type {\n",
       "        vertical-align: middle;\n",
       "    }\n",
       "\n",
       "    .dataframe tbody tr th {\n",
       "        vertical-align: top;\n",
       "    }\n",
       "\n",
       "    .dataframe thead th {\n",
       "        text-align: right;\n",
       "    }\n",
       "</style>\n",
       "<table border=\"1\" class=\"dataframe\">\n",
       "  <thead>\n",
       "    <tr style=\"text-align: right;\">\n",
       "      <th></th>\n",
       "      <th>flight_id</th>\n",
       "      <th>aircraft_code</th>\n",
       "      <th>actual_departure</th>\n",
       "      <th>revenue</th>\n",
       "    </tr>\n",
       "  </thead>\n",
       "  <tbody>\n",
       "    <tr>\n",
       "      <th>72</th>\n",
       "      <td>136609</td>\n",
       "      <td>SU9</td>\n",
       "      <td>2017-01-08</td>\n",
       "      <td>588979.97</td>\n",
       "    </tr>\n",
       "    <tr>\n",
       "      <th>74</th>\n",
       "      <td>136620</td>\n",
       "      <td>SU9</td>\n",
       "      <td>2017-02-17</td>\n",
       "      <td>566651.57</td>\n",
       "    </tr>\n",
       "    <tr>\n",
       "      <th>77</th>\n",
       "      <td>136642</td>\n",
       "      <td>SU9</td>\n",
       "      <td>2017-01-30</td>\n",
       "      <td>491240.96</td>\n",
       "    </tr>\n",
       "    <tr>\n",
       "      <th>78</th>\n",
       "      <td>136645</td>\n",
       "      <td>SU9</td>\n",
       "      <td>2017-01-05</td>\n",
       "      <td>582058.73</td>\n",
       "    </tr>\n",
       "    <tr>\n",
       "      <th>83</th>\n",
       "      <td>136666</td>\n",
       "      <td>SU9</td>\n",
       "      <td>2017-02-09</td>\n",
       "      <td>612907.42</td>\n",
       "    </tr>\n",
       "    <tr>\n",
       "      <th>86</th>\n",
       "      <td>136678</td>\n",
       "      <td>SU9</td>\n",
       "      <td>2017-01-28</td>\n",
       "      <td>581501.20</td>\n",
       "    </tr>\n",
       "    <tr>\n",
       "      <th>96</th>\n",
       "      <td>136767</td>\n",
       "      <td>SU9</td>\n",
       "      <td>2017-01-23</td>\n",
       "      <td>599737.50</td>\n",
       "    </tr>\n",
       "    <tr>\n",
       "      <th>102</th>\n",
       "      <td>136807</td>\n",
       "      <td>SU9</td>\n",
       "      <td>2017-02-23</td>\n",
       "      <td>490674.77</td>\n",
       "    </tr>\n",
       "    <tr>\n",
       "      <th>105</th>\n",
       "      <td>136823</td>\n",
       "      <td>SU9</td>\n",
       "      <td>2017-02-05</td>\n",
       "      <td>574144.59</td>\n",
       "    </tr>\n",
       "    <tr>\n",
       "      <th>107</th>\n",
       "      <td>136838</td>\n",
       "      <td>SU9</td>\n",
       "      <td>2017-01-24</td>\n",
       "      <td>616773.79</td>\n",
       "    </tr>\n",
       "    <tr>\n",
       "      <th>109</th>\n",
       "      <td>136844</td>\n",
       "      <td>SU9</td>\n",
       "      <td>2017-02-28</td>\n",
       "      <td>528251.57</td>\n",
       "    </tr>\n",
       "    <tr>\n",
       "      <th>116</th>\n",
       "      <td>136887</td>\n",
       "      <td>SU9</td>\n",
       "      <td>2017-01-20</td>\n",
       "      <td>546743.67</td>\n",
       "    </tr>\n",
       "    <tr>\n",
       "      <th>117</th>\n",
       "      <td>136888</td>\n",
       "      <td>SU9</td>\n",
       "      <td>2017-02-14</td>\n",
       "      <td>579251.57</td>\n",
       "    </tr>\n",
       "    <tr>\n",
       "      <th>120</th>\n",
       "      <td>136922</td>\n",
       "      <td>SU9</td>\n",
       "      <td>2017-02-11</td>\n",
       "      <td>562730.62</td>\n",
       "    </tr>\n",
       "    <tr>\n",
       "      <th>122</th>\n",
       "      <td>136936</td>\n",
       "      <td>SU9</td>\n",
       "      <td>2017-01-02</td>\n",
       "      <td>581458.73</td>\n",
       "    </tr>\n",
       "    <tr>\n",
       "      <th>123</th>\n",
       "      <td>136937</td>\n",
       "      <td>SU9</td>\n",
       "      <td>2017-01-03</td>\n",
       "      <td>575779.97</td>\n",
       "    </tr>\n",
       "  </tbody>\n",
       "</table>\n",
       "</div>"
      ],
      "text/plain": [
       "     flight_id aircraft_code actual_departure   revenue\n",
       "72      136609           SU9       2017-01-08 588979.97\n",
       "74      136620           SU9       2017-02-17 566651.57\n",
       "77      136642           SU9       2017-01-30 491240.96\n",
       "78      136645           SU9       2017-01-05 582058.73\n",
       "83      136666           SU9       2017-02-09 612907.42\n",
       "86      136678           SU9       2017-01-28 581501.20\n",
       "96      136767           SU9       2017-01-23 599737.50\n",
       "102     136807           SU9       2017-02-23 490674.77\n",
       "105     136823           SU9       2017-02-05 574144.59\n",
       "107     136838           SU9       2017-01-24 616773.79\n",
       "109     136844           SU9       2017-02-28 528251.57\n",
       "116     136887           SU9       2017-01-20 546743.67\n",
       "117     136888           SU9       2017-02-14 579251.57\n",
       "120     136922           SU9       2017-02-11 562730.62\n",
       "122     136936           SU9       2017-01-02 581458.73\n",
       "123     136937           SU9       2017-01-03 575779.97"
      ]
     },
     "execution_count": 8,
     "metadata": {},
     "output_type": "execute_result"
    }
   ],
   "source": [
    "#Рейсы Sukhoi Superjet-100\n",
    "df_SU[df_SU['revenue'] < 0.95 * df_SU['revenue'].mean()][['flight_id', 'aircraft_code', 'actual_departure', 'revenue']]"
   ]
  },
  {
   "cell_type": "markdown",
   "metadata": {},
   "source": [
    "Определённое значение прибыльности можно установить только получения всей информации о затратах и прибыли от полёта."
   ]
  },
  {
   "cell_type": "markdown",
   "metadata": {},
   "source": [
    "## Второй способ отбора рейсов\n",
    "Разбивка рейсов по конкретным дням недели и отмена самых неприбыльных в конкретные дни"
   ]
  },
  {
   "cell_type": "markdown",
   "metadata": {},
   "source": [
    "Рейсы Boeing 737-300"
   ]
  },
  {
   "cell_type": "code",
   "execution_count": 9,
   "metadata": {},
   "outputs": [
    {
     "data": {
      "text/plain": [
       "<AxesSubplot:xlabel='weekday', ylabel='revenue'>"
      ]
     },
     "execution_count": 9,
     "metadata": {},
     "output_type": "execute_result"
    },
    {
     "data": {
      "image/png": "[encoded data removed]",
      "text/plain": [
       "<Figure size 432x288 with 1 Axes>"
      ]
     },
     "metadata": {
      "needs_background": "light"
     },
     "output_type": "display_data"
    }
   ],
   "source": [
    "\n",
    "sns.boxplot(x = 'weekday', y = 'revenue', data = df_733)"
   ]
  },
  {
   "cell_type": "code",
   "execution_count": 10,
   "metadata": {},
   "outputs": [
    {
     "data": {
      "text/html": [
       "<div>\n",
       "<style scoped>\n",
       "    .dataframe tbody tr th:only-of-type {\n",
       "        vertical-align: middle;\n",
       "    }\n",
       "\n",
       "    .dataframe tbody tr th {\n",
       "        vertical-align: top;\n",
       "    }\n",
       "\n",
       "    .dataframe thead th {\n",
       "        text-align: right;\n",
       "    }\n",
       "</style>\n",
       "<table border=\"1\" class=\"dataframe\">\n",
       "  <thead>\n",
       "    <tr style=\"text-align: right;\">\n",
       "      <th></th>\n",
       "      <th>flight_id</th>\n",
       "      <th>aircraft_code</th>\n",
       "      <th>actual_departure</th>\n",
       "      <th>revenue</th>\n",
       "    </tr>\n",
       "  </thead>\n",
       "  <tbody>\n",
       "    <tr>\n",
       "      <th>35</th>\n",
       "      <td>136345</td>\n",
       "      <td>733</td>\n",
       "      <td>2017-01-24</td>\n",
       "      <td>1378269.26</td>\n",
       "    </tr>\n",
       "  </tbody>\n",
       "</table>\n",
       "</div>"
      ],
      "text/plain": [
       "    flight_id aircraft_code actual_departure    revenue\n",
       "35     136345           733       2017-01-24 1378269.26"
      ]
     },
     "execution_count": 10,
     "metadata": {},
     "output_type": "execute_result"
    }
   ],
   "source": [
    "#В первую очередь необходимо отменить рейс во вторник, являющийся явным выбросом\n",
    "Tuesday = df_733[df_733['weekday'] == 'Tuesday']\n",
    "Tuesday[Tuesday['revenue'] == Tuesday['revenue'].min()][['flight_id', 'aircraft_code', 'actual_departure', 'revenue']]"
   ]
  },
  {
   "cell_type": "markdown",
   "metadata": {},
   "source": [
    "Как мы видим, самые неприбыльные дни - воскресенье и понедельник. Кроме того, очень большой разброс по доходности в среду и четверг. Можно отменить рейсы в эти дни, которые дают доход меньше какого-то значения. Для примера, в воскресенье меньше медианы, в среду и четверг меньше 1-го квартиля."
   ]
  },
  {
   "cell_type": "code",
   "execution_count": 11,
   "metadata": {},
   "outputs": [
    {
     "data": {
      "text/html": [
       "<div>\n",
       "<style scoped>\n",
       "    .dataframe tbody tr th:only-of-type {\n",
       "        vertical-align: middle;\n",
       "    }\n",
       "\n",
       "    .dataframe tbody tr th {\n",
       "        vertical-align: top;\n",
       "    }\n",
       "\n",
       "    .dataframe thead th {\n",
       "        text-align: right;\n",
       "    }\n",
       "</style>\n",
       "<table border=\"1\" class=\"dataframe\">\n",
       "  <thead>\n",
       "    <tr style=\"text-align: right;\">\n",
       "      <th></th>\n",
       "      <th>flight_id</th>\n",
       "      <th>aircraft_code</th>\n",
       "      <th>actual_departure</th>\n",
       "      <th>revenue</th>\n",
       "    </tr>\n",
       "  </thead>\n",
       "  <tbody>\n",
       "    <tr>\n",
       "      <th>2</th>\n",
       "      <td>136122</td>\n",
       "      <td>733</td>\n",
       "      <td>2017-01-08</td>\n",
       "      <td>1305860.35</td>\n",
       "    </tr>\n",
       "    <tr>\n",
       "      <th>12</th>\n",
       "      <td>136178</td>\n",
       "      <td>733</td>\n",
       "      <td>2017-01-29</td>\n",
       "      <td>1306880.16</td>\n",
       "    </tr>\n",
       "    <tr>\n",
       "      <th>38</th>\n",
       "      <td>136360</td>\n",
       "      <td>733</td>\n",
       "      <td>2017-02-05</td>\n",
       "      <td>1335944.26</td>\n",
       "    </tr>\n",
       "    <tr>\n",
       "      <th>45</th>\n",
       "      <td>136420</td>\n",
       "      <td>733</td>\n",
       "      <td>2017-01-01</td>\n",
       "      <td>1407829.66</td>\n",
       "    </tr>\n",
       "  </tbody>\n",
       "</table>\n",
       "</div>"
      ],
      "text/plain": [
       "    flight_id aircraft_code actual_departure    revenue\n",
       "2      136122           733       2017-01-08 1305860.35\n",
       "12     136178           733       2017-01-29 1306880.16\n",
       "38     136360           733       2017-02-05 1335944.26\n",
       "45     136420           733       2017-01-01 1407829.66"
      ]
     },
     "execution_count": 11,
     "metadata": {},
     "output_type": "execute_result"
    }
   ],
   "source": [
    "Sunday = df_733[df_733['weekday'] == 'Sunday']\n",
    "Sunday[Sunday['revenue'] < Sunday['revenue'].describe()['50%']][['flight_id', 'aircraft_code', 'actual_departure', 'revenue']]"
   ]
  },
  {
   "cell_type": "code",
   "execution_count": 12,
   "metadata": {},
   "outputs": [
    {
     "data": {
      "text/html": [
       "<div>\n",
       "<style scoped>\n",
       "    .dataframe tbody tr th:only-of-type {\n",
       "        vertical-align: middle;\n",
       "    }\n",
       "\n",
       "    .dataframe tbody tr th {\n",
       "        vertical-align: top;\n",
       "    }\n",
       "\n",
       "    .dataframe thead th {\n",
       "        text-align: right;\n",
       "    }\n",
       "</style>\n",
       "<table border=\"1\" class=\"dataframe\">\n",
       "  <thead>\n",
       "    <tr style=\"text-align: right;\">\n",
       "      <th></th>\n",
       "      <th>flight_id</th>\n",
       "      <th>aircraft_code</th>\n",
       "      <th>actual_departure</th>\n",
       "      <th>revenue</th>\n",
       "    </tr>\n",
       "  </thead>\n",
       "  <tbody>\n",
       "    <tr>\n",
       "      <th>21</th>\n",
       "      <td>136250</td>\n",
       "      <td>733</td>\n",
       "      <td>2017-02-08</td>\n",
       "      <td>1285881.26</td>\n",
       "    </tr>\n",
       "    <tr>\n",
       "      <th>40</th>\n",
       "      <td>136383</td>\n",
       "      <td>733</td>\n",
       "      <td>2017-01-25</td>\n",
       "      <td>1356449.46</td>\n",
       "    </tr>\n",
       "  </tbody>\n",
       "</table>\n",
       "</div>"
      ],
      "text/plain": [
       "    flight_id aircraft_code actual_departure    revenue\n",
       "21     136250           733       2017-02-08 1285881.26\n",
       "40     136383           733       2017-01-25 1356449.46"
      ]
     },
     "execution_count": 12,
     "metadata": {},
     "output_type": "execute_result"
    }
   ],
   "source": [
    "Wednesday = df_733[df_733['weekday'] == 'Wednesday']\n",
    "Wednesday[Wednesday['revenue'] < Wednesday['revenue'].describe()['25%']][['flight_id', 'aircraft_code', 'actual_departure', 'revenue']]"
   ]
  },
  {
   "cell_type": "code",
   "execution_count": 13,
   "metadata": {
    "scrolled": true
   },
   "outputs": [
    {
     "data": {
      "text/html": [
       "<div>\n",
       "<style scoped>\n",
       "    .dataframe tbody tr th:only-of-type {\n",
       "        vertical-align: middle;\n",
       "    }\n",
       "\n",
       "    .dataframe tbody tr th {\n",
       "        vertical-align: top;\n",
       "    }\n",
       "\n",
       "    .dataframe thead th {\n",
       "        text-align: right;\n",
       "    }\n",
       "</style>\n",
       "<table border=\"1\" class=\"dataframe\">\n",
       "  <thead>\n",
       "    <tr style=\"text-align: right;\">\n",
       "      <th></th>\n",
       "      <th>flight_id</th>\n",
       "      <th>aircraft_code</th>\n",
       "      <th>actual_departure</th>\n",
       "      <th>revenue</th>\n",
       "    </tr>\n",
       "  </thead>\n",
       "  <tbody>\n",
       "    <tr>\n",
       "      <th>15</th>\n",
       "      <td>136202</td>\n",
       "      <td>733</td>\n",
       "      <td>2017-01-05</td>\n",
       "      <td>1366590.06</td>\n",
       "    </tr>\n",
       "    <tr>\n",
       "      <th>16</th>\n",
       "      <td>136204</td>\n",
       "      <td>733</td>\n",
       "      <td>2017-02-23</td>\n",
       "      <td>1326029.24</td>\n",
       "    </tr>\n",
       "  </tbody>\n",
       "</table>\n",
       "</div>"
      ],
      "text/plain": [
       "    flight_id aircraft_code actual_departure    revenue\n",
       "15     136202           733       2017-01-05 1366590.06\n",
       "16     136204           733       2017-02-23 1326029.24"
      ]
     },
     "execution_count": 13,
     "metadata": {},
     "output_type": "execute_result"
    }
   ],
   "source": [
    "Thursday = df_733[df_733['weekday'] == 'Thursday']\n",
    "Thursday[Thursday['revenue'] < Thursday['revenue'].describe()['25%']][['flight_id', 'aircraft_code', 'actual_departure', 'revenue']]"
   ]
  },
  {
   "cell_type": "markdown",
   "metadata": {},
   "source": [
    "Рейсы Sukhoi Superjet-100"
   ]
  },
  {
   "cell_type": "code",
   "execution_count": 14,
   "metadata": {
    "scrolled": true
   },
   "outputs": [
    {
     "data": {
      "text/plain": [
       "<AxesSubplot:xlabel='weekday', ylabel='revenue'>"
      ]
     },
     "execution_count": 14,
     "metadata": {},
     "output_type": "execute_result"
    },
    {
     "data": {
      "image/png": "[encoded data removed]",
      "text/plain": [
       "<Figure size 432x288 with 1 Axes>"
      ]
     },
     "metadata": {
      "needs_background": "light"
     },
     "output_type": "display_data"
    }
   ],
   "source": [
    "sns.boxplot(x = 'weekday', y = 'revenue', data = df_SU)"
   ]
  },
  {
   "cell_type": "code",
   "execution_count": 15,
   "metadata": {},
   "outputs": [
    {
     "data": {
      "text/html": [
       "<div>\n",
       "<style scoped>\n",
       "    .dataframe tbody tr th:only-of-type {\n",
       "        vertical-align: middle;\n",
       "    }\n",
       "\n",
       "    .dataframe tbody tr th {\n",
       "        vertical-align: top;\n",
       "    }\n",
       "\n",
       "    .dataframe thead th {\n",
       "        text-align: right;\n",
       "    }\n",
       "</style>\n",
       "<table border=\"1\" class=\"dataframe\">\n",
       "  <thead>\n",
       "    <tr style=\"text-align: right;\">\n",
       "      <th></th>\n",
       "      <th>flight_id</th>\n",
       "      <th>aircraft_code</th>\n",
       "      <th>actual_departure</th>\n",
       "      <th>revenue</th>\n",
       "    </tr>\n",
       "  </thead>\n",
       "  <tbody>\n",
       "    <tr>\n",
       "      <th>110</th>\n",
       "      <td>136855</td>\n",
       "      <td>SU9</td>\n",
       "      <td>2017-01-11</td>\n",
       "      <td>648252.56</td>\n",
       "    </tr>\n",
       "  </tbody>\n",
       "</table>\n",
       "</div>"
      ],
      "text/plain": [
       "     flight_id aircraft_code actual_departure   revenue\n",
       "110     136855           SU9       2017-01-11 648252.56"
      ]
     },
     "execution_count": 15,
     "metadata": {},
     "output_type": "execute_result"
    }
   ],
   "source": [
    "#Отменяем рейс в среду, являющийся явным выбросом\n",
    "Wednesday_SU = df_SU[df_SU['weekday'] == 'Wednesday']\n",
    "Wednesday_SU[Wednesday_SU['revenue'] == Wednesday_SU['revenue'].min()][['flight_id', 'aircraft_code', 'actual_departure', 'revenue']]"
   ]
  },
  {
   "cell_type": "code",
   "execution_count": 16,
   "metadata": {},
   "outputs": [
    {
     "data": {
      "text/html": [
       "<div>\n",
       "<style scoped>\n",
       "    .dataframe tbody tr th:only-of-type {\n",
       "        vertical-align: middle;\n",
       "    }\n",
       "\n",
       "    .dataframe tbody tr th {\n",
       "        vertical-align: top;\n",
       "    }\n",
       "\n",
       "    .dataframe thead th {\n",
       "        text-align: right;\n",
       "    }\n",
       "</style>\n",
       "<table border=\"1\" class=\"dataframe\">\n",
       "  <thead>\n",
       "    <tr style=\"text-align: right;\">\n",
       "      <th></th>\n",
       "      <th>flight_id</th>\n",
       "      <th>aircraft_code</th>\n",
       "      <th>actual_departure</th>\n",
       "      <th>revenue</th>\n",
       "    </tr>\n",
       "  </thead>\n",
       "  <tbody>\n",
       "    <tr>\n",
       "      <th>109</th>\n",
       "      <td>136844</td>\n",
       "      <td>SU9</td>\n",
       "      <td>2017-02-28</td>\n",
       "      <td>528251.57</td>\n",
       "    </tr>\n",
       "    <tr>\n",
       "      <th>123</th>\n",
       "      <td>136937</td>\n",
       "      <td>SU9</td>\n",
       "      <td>2017-01-03</td>\n",
       "      <td>575779.97</td>\n",
       "    </tr>\n",
       "  </tbody>\n",
       "</table>\n",
       "</div>"
      ],
      "text/plain": [
       "     flight_id aircraft_code actual_departure   revenue\n",
       "109     136844           SU9       2017-02-28 528251.57\n",
       "123     136937           SU9       2017-01-03 575779.97"
      ]
     },
     "execution_count": 16,
     "metadata": {},
     "output_type": "execute_result"
    }
   ],
   "source": [
    "# В остальные дни можно отменить рейсы, прибыльность которых меньше 1-го квартиля\n",
    "Tuesday_SU = df_SU[df_SU['weekday'] == 'Tuesday']\n",
    "Tuesday_SU[Tuesday_SU['revenue'] < Tuesday_SU['revenue'].describe()['25%']][['flight_id', 'aircraft_code', 'actual_departure', 'revenue']]"
   ]
  },
  {
   "cell_type": "code",
   "execution_count": 17,
   "metadata": {},
   "outputs": [
    {
     "data": {
      "text/html": [
       "<div>\n",
       "<style scoped>\n",
       "    .dataframe tbody tr th:only-of-type {\n",
       "        vertical-align: middle;\n",
       "    }\n",
       "\n",
       "    .dataframe tbody tr th {\n",
       "        vertical-align: top;\n",
       "    }\n",
       "\n",
       "    .dataframe thead th {\n",
       "        text-align: right;\n",
       "    }\n",
       "</style>\n",
       "<table border=\"1\" class=\"dataframe\">\n",
       "  <thead>\n",
       "    <tr style=\"text-align: right;\">\n",
       "      <th></th>\n",
       "      <th>flight_id</th>\n",
       "      <th>aircraft_code</th>\n",
       "      <th>actual_departure</th>\n",
       "      <th>revenue</th>\n",
       "    </tr>\n",
       "  </thead>\n",
       "  <tbody>\n",
       "    <tr>\n",
       "      <th>72</th>\n",
       "      <td>136609</td>\n",
       "      <td>SU9</td>\n",
       "      <td>2017-01-08</td>\n",
       "      <td>588979.97</td>\n",
       "    </tr>\n",
       "    <tr>\n",
       "      <th>105</th>\n",
       "      <td>136823</td>\n",
       "      <td>SU9</td>\n",
       "      <td>2017-02-05</td>\n",
       "      <td>574144.59</td>\n",
       "    </tr>\n",
       "  </tbody>\n",
       "</table>\n",
       "</div>"
      ],
      "text/plain": [
       "     flight_id aircraft_code actual_departure   revenue\n",
       "72      136609           SU9       2017-01-08 588979.97\n",
       "105     136823           SU9       2017-02-05 574144.59"
      ]
     },
     "execution_count": 17,
     "metadata": {},
     "output_type": "execute_result"
    }
   ],
   "source": [
    "Sunday_SU = df_SU[df_SU['weekday'] == 'Sunday']\n",
    "Sunday_SU[Sunday_SU['revenue'] < Sunday_SU['revenue'].describe()['25%']][['flight_id', 'aircraft_code', 'actual_departure', 'revenue']]"
   ]
  },
  {
   "cell_type": "code",
   "execution_count": 18,
   "metadata": {},
   "outputs": [
    {
     "data": {
      "text/html": [
       "<div>\n",
       "<style scoped>\n",
       "    .dataframe tbody tr th:only-of-type {\n",
       "        vertical-align: middle;\n",
       "    }\n",
       "\n",
       "    .dataframe tbody tr th {\n",
       "        vertical-align: top;\n",
       "    }\n",
       "\n",
       "    .dataframe thead th {\n",
       "        text-align: right;\n",
       "    }\n",
       "</style>\n",
       "<table border=\"1\" class=\"dataframe\">\n",
       "  <thead>\n",
       "    <tr style=\"text-align: right;\">\n",
       "      <th></th>\n",
       "      <th>flight_id</th>\n",
       "      <th>aircraft_code</th>\n",
       "      <th>actual_departure</th>\n",
       "      <th>revenue</th>\n",
       "    </tr>\n",
       "  </thead>\n",
       "  <tbody>\n",
       "    <tr>\n",
       "      <th>74</th>\n",
       "      <td>136620</td>\n",
       "      <td>SU9</td>\n",
       "      <td>2017-02-17</td>\n",
       "      <td>566651.57</td>\n",
       "    </tr>\n",
       "    <tr>\n",
       "      <th>116</th>\n",
       "      <td>136887</td>\n",
       "      <td>SU9</td>\n",
       "      <td>2017-01-20</td>\n",
       "      <td>546743.67</td>\n",
       "    </tr>\n",
       "  </tbody>\n",
       "</table>\n",
       "</div>"
      ],
      "text/plain": [
       "     flight_id aircraft_code actual_departure   revenue\n",
       "74      136620           SU9       2017-02-17 566651.57\n",
       "116     136887           SU9       2017-01-20 546743.67"
      ]
     },
     "execution_count": 18,
     "metadata": {},
     "output_type": "execute_result"
    }
   ],
   "source": [
    "Friday_SU = df_SU[df_SU['weekday'] == 'Friday']\n",
    "Friday_SU[Friday_SU['revenue'] < Friday_SU['revenue'].describe()['25%']][['flight_id', 'aircraft_code', 'actual_departure', 'revenue']]"
   ]
  },
  {
   "cell_type": "code",
   "execution_count": 19,
   "metadata": {},
   "outputs": [
    {
     "data": {
      "text/html": [
       "<div>\n",
       "<style scoped>\n",
       "    .dataframe tbody tr th:only-of-type {\n",
       "        vertical-align: middle;\n",
       "    }\n",
       "\n",
       "    .dataframe tbody tr th {\n",
       "        vertical-align: top;\n",
       "    }\n",
       "\n",
       "    .dataframe thead th {\n",
       "        text-align: right;\n",
       "    }\n",
       "</style>\n",
       "<table border=\"1\" class=\"dataframe\">\n",
       "  <thead>\n",
       "    <tr style=\"text-align: right;\">\n",
       "      <th></th>\n",
       "      <th>flight_id</th>\n",
       "      <th>aircraft_code</th>\n",
       "      <th>actual_departure</th>\n",
       "      <th>revenue</th>\n",
       "    </tr>\n",
       "  </thead>\n",
       "  <tbody>\n",
       "    <tr>\n",
       "      <th>86</th>\n",
       "      <td>136678</td>\n",
       "      <td>SU9</td>\n",
       "      <td>2017-01-28</td>\n",
       "      <td>581501.20</td>\n",
       "    </tr>\n",
       "    <tr>\n",
       "      <th>120</th>\n",
       "      <td>136922</td>\n",
       "      <td>SU9</td>\n",
       "      <td>2017-02-11</td>\n",
       "      <td>562730.62</td>\n",
       "    </tr>\n",
       "  </tbody>\n",
       "</table>\n",
       "</div>"
      ],
      "text/plain": [
       "     flight_id aircraft_code actual_departure   revenue\n",
       "86      136678           SU9       2017-01-28 581501.20\n",
       "120     136922           SU9       2017-02-11 562730.62"
      ]
     },
     "execution_count": 19,
     "metadata": {},
     "output_type": "execute_result"
    }
   ],
   "source": [
    "Saturday_SU = df_SU[df_SU['weekday'] == 'Saturday']\n",
    "Saturday_SU[Saturday_SU['revenue'] < Saturday_SU['revenue'].describe()['25%']][['flight_id', 'aircraft_code', 'actual_departure', 'revenue']]"
   ]
  },
  {
   "cell_type": "code",
   "execution_count": 20,
   "metadata": {},
   "outputs": [
    {
     "data": {
      "text/html": [
       "<div>\n",
       "<style scoped>\n",
       "    .dataframe tbody tr th:only-of-type {\n",
       "        vertical-align: middle;\n",
       "    }\n",
       "\n",
       "    .dataframe tbody tr th {\n",
       "        vertical-align: top;\n",
       "    }\n",
       "\n",
       "    .dataframe thead th {\n",
       "        text-align: right;\n",
       "    }\n",
       "</style>\n",
       "<table border=\"1\" class=\"dataframe\">\n",
       "  <thead>\n",
       "    <tr style=\"text-align: right;\">\n",
       "      <th></th>\n",
       "      <th>flight_id</th>\n",
       "      <th>aircraft_code</th>\n",
       "      <th>actual_departure</th>\n",
       "      <th>revenue</th>\n",
       "    </tr>\n",
       "  </thead>\n",
       "  <tbody>\n",
       "    <tr>\n",
       "      <th>77</th>\n",
       "      <td>136642</td>\n",
       "      <td>SU9</td>\n",
       "      <td>2017-01-30</td>\n",
       "      <td>491240.96</td>\n",
       "    </tr>\n",
       "    <tr>\n",
       "      <th>122</th>\n",
       "      <td>136936</td>\n",
       "      <td>SU9</td>\n",
       "      <td>2017-01-02</td>\n",
       "      <td>581458.73</td>\n",
       "    </tr>\n",
       "  </tbody>\n",
       "</table>\n",
       "</div>"
      ],
      "text/plain": [
       "     flight_id aircraft_code actual_departure   revenue\n",
       "77      136642           SU9       2017-01-30 491240.96\n",
       "122     136936           SU9       2017-01-02 581458.73"
      ]
     },
     "execution_count": 20,
     "metadata": {},
     "output_type": "execute_result"
    }
   ],
   "source": [
    "Monday_SU = df_SU[df_SU['weekday'] == 'Monday']\n",
    "Monday_SU[Monday_SU['revenue'] < Monday_SU['revenue'].describe()['25%']][['flight_id', 'aircraft_code', 'actual_departure', 'revenue']]"
   ]
  },
  {
   "cell_type": "code",
   "execution_count": 21,
   "metadata": {},
   "outputs": [
    {
     "data": {
      "text/html": [
       "<div>\n",
       "<style scoped>\n",
       "    .dataframe tbody tr th:only-of-type {\n",
       "        vertical-align: middle;\n",
       "    }\n",
       "\n",
       "    .dataframe tbody tr th {\n",
       "        vertical-align: top;\n",
       "    }\n",
       "\n",
       "    .dataframe thead th {\n",
       "        text-align: right;\n",
       "    }\n",
       "</style>\n",
       "<table border=\"1\" class=\"dataframe\">\n",
       "  <thead>\n",
       "    <tr style=\"text-align: right;\">\n",
       "      <th></th>\n",
       "      <th>flight_id</th>\n",
       "      <th>aircraft_code</th>\n",
       "      <th>actual_departure</th>\n",
       "      <th>revenue</th>\n",
       "    </tr>\n",
       "  </thead>\n",
       "  <tbody>\n",
       "    <tr>\n",
       "      <th>78</th>\n",
       "      <td>136645</td>\n",
       "      <td>SU9</td>\n",
       "      <td>2017-01-05</td>\n",
       "      <td>582058.73</td>\n",
       "    </tr>\n",
       "    <tr>\n",
       "      <th>102</th>\n",
       "      <td>136807</td>\n",
       "      <td>SU9</td>\n",
       "      <td>2017-02-23</td>\n",
       "      <td>490674.77</td>\n",
       "    </tr>\n",
       "  </tbody>\n",
       "</table>\n",
       "</div>"
      ],
      "text/plain": [
       "     flight_id aircraft_code actual_departure   revenue\n",
       "78      136645           SU9       2017-01-05 582058.73\n",
       "102     136807           SU9       2017-02-23 490674.77"
      ]
     },
     "execution_count": 21,
     "metadata": {},
     "output_type": "execute_result"
    }
   ],
   "source": [
    "Thursday_SU = df_SU[df_SU['weekday'] == 'Thursday']\n",
    "Thursday_SU[Thursday_SU['revenue'] < Thursday_SU['revenue'].describe()['25%']][['flight_id', 'aircraft_code', 'actual_departure', 'revenue']]"
   ]
  },
  {
   "cell_type": "markdown",
   "metadata": {},
   "source": [
    "## Третий способ отбора рейсов"
   ]
  },
  {
   "cell_type": "markdown",
   "metadata": {},
   "source": [
    "Такой же, как и второй, только сортировка идёт по номеру недели в году. Будем отменять самые неприбыльные рейсы в течение каждой недели. Допустим, отменим все рейсы, доход от которых ниже первого квартиля."
   ]
  },
  {
   "cell_type": "markdown",
   "metadata": {},
   "source": [
    "Рейсы Boeing 737-300"
   ]
  },
  {
   "cell_type": "code",
   "execution_count": 22,
   "metadata": {},
   "outputs": [
    {
     "data": {
      "text/plain": [
       "<AxesSubplot:xlabel='week', ylabel='revenue'>"
      ]
     },
     "execution_count": 22,
     "metadata": {},
     "output_type": "execute_result"
    },
    {
     "data": {
      "image/png": "[encoded data removed]",
      "text/plain": [
       "<Figure size 432x288 with 1 Axes>"
      ]
     },
     "metadata": {
      "needs_background": "light"
     },
     "output_type": "display_data"
    }
   ],
   "source": [
    "sns.boxplot(x = 'week', y = 'revenue', data = df_733)"
   ]
  },
  {
   "cell_type": "code",
   "execution_count": 23,
   "metadata": {},
   "outputs": [
    {
     "data": {
      "text/plain": [
       "week\n",
       "1   1397519.76\n",
       "2   1390174.71\n",
       "3   1516748.46\n",
       "4   1367359.36\n",
       "5   1414481.99\n",
       "6   1452281.99\n",
       "7   1446797.74\n",
       "8   1429113.49\n",
       "9   1455950.48\n",
       "Name: revenue, dtype: float64"
      ]
     },
     "execution_count": 23,
     "metadata": {},
     "output_type": "execute_result"
    }
   ],
   "source": [
    "# Вспомогательная таблица, считающая 1-й квантиль для каждой недели\n",
    "W_733 = df_733.groupby(['week'])['revenue'].quantile(0.25)\n",
    "W_733"
   ]
  },
  {
   "cell_type": "code",
   "execution_count": 24,
   "metadata": {},
   "outputs": [
    {
     "name": "stderr",
     "output_type": "stream",
     "text": [
      "<ipython-input-24-0ac0913e0181>:3: UserWarning: Boolean Series key will be reindexed to match DataFrame index.\n",
      "  display(df_733[df_733['week'] == i][df_733['revenue'] < W_733[i]][['flight_id', 'aircraft_code', 'actual_departure', 'revenue']])\n"
     ]
    },
    {
     "data": {
      "text/html": [
       "<div>\n",
       "<style scoped>\n",
       "    .dataframe tbody tr th:only-of-type {\n",
       "        vertical-align: middle;\n",
       "    }\n",
       "\n",
       "    .dataframe tbody tr th {\n",
       "        vertical-align: top;\n",
       "    }\n",
       "\n",
       "    .dataframe thead th {\n",
       "        text-align: right;\n",
       "    }\n",
       "</style>\n",
       "<table border=\"1\" class=\"dataframe\">\n",
       "  <thead>\n",
       "    <tr style=\"text-align: right;\">\n",
       "      <th></th>\n",
       "      <th>flight_id</th>\n",
       "      <th>aircraft_code</th>\n",
       "      <th>actual_departure</th>\n",
       "      <th>revenue</th>\n",
       "    </tr>\n",
       "  </thead>\n",
       "  <tbody>\n",
       "    <tr>\n",
       "      <th>2</th>\n",
       "      <td>136122</td>\n",
       "      <td>733</td>\n",
       "      <td>2017-01-08</td>\n",
       "      <td>1305860.35</td>\n",
       "    </tr>\n",
       "    <tr>\n",
       "      <th>15</th>\n",
       "      <td>136202</td>\n",
       "      <td>733</td>\n",
       "      <td>2017-01-05</td>\n",
       "      <td>1366590.06</td>\n",
       "    </tr>\n",
       "  </tbody>\n",
       "</table>\n",
       "</div>"
      ],
      "text/plain": [
       "    flight_id aircraft_code actual_departure    revenue\n",
       "2      136122           733       2017-01-08 1305860.35\n",
       "15     136202           733       2017-01-05 1366590.06"
      ]
     },
     "metadata": {},
     "output_type": "display_data"
    },
    {
     "name": "stderr",
     "output_type": "stream",
     "text": [
      "<ipython-input-24-0ac0913e0181>:3: UserWarning: Boolean Series key will be reindexed to match DataFrame index.\n",
      "  display(df_733[df_733['week'] == i][df_733['revenue'] < W_733[i]][['flight_id', 'aircraft_code', 'actual_departure', 'revenue']])\n"
     ]
    },
    {
     "data": {
      "text/html": [
       "<div>\n",
       "<style scoped>\n",
       "    .dataframe tbody tr th:only-of-type {\n",
       "        vertical-align: middle;\n",
       "    }\n",
       "\n",
       "    .dataframe tbody tr th {\n",
       "        vertical-align: top;\n",
       "    }\n",
       "\n",
       "    .dataframe thead th {\n",
       "        text-align: right;\n",
       "    }\n",
       "</style>\n",
       "<table border=\"1\" class=\"dataframe\">\n",
       "  <thead>\n",
       "    <tr style=\"text-align: right;\">\n",
       "      <th></th>\n",
       "      <th>flight_id</th>\n",
       "      <th>aircraft_code</th>\n",
       "      <th>actual_departure</th>\n",
       "      <th>revenue</th>\n",
       "    </tr>\n",
       "  </thead>\n",
       "  <tbody>\n",
       "    <tr>\n",
       "      <th>14</th>\n",
       "      <td>136185</td>\n",
       "      <td>733</td>\n",
       "      <td>2017-01-14</td>\n",
       "      <td>1385829.66</td>\n",
       "    </tr>\n",
       "    <tr>\n",
       "      <th>54</th>\n",
       "      <td>136464</td>\n",
       "      <td>733</td>\n",
       "      <td>2017-01-09</td>\n",
       "      <td>1268990.06</td>\n",
       "    </tr>\n",
       "  </tbody>\n",
       "</table>\n",
       "</div>"
      ],
      "text/plain": [
       "    flight_id aircraft_code actual_departure    revenue\n",
       "14     136185           733       2017-01-14 1385829.66\n",
       "54     136464           733       2017-01-09 1268990.06"
      ]
     },
     "metadata": {},
     "output_type": "display_data"
    },
    {
     "name": "stderr",
     "output_type": "stream",
     "text": [
      "<ipython-input-24-0ac0913e0181>:3: UserWarning: Boolean Series key will be reindexed to match DataFrame index.\n",
      "  display(df_733[df_733['week'] == i][df_733['revenue'] < W_733[i]][['flight_id', 'aircraft_code', 'actual_departure', 'revenue']])\n"
     ]
    },
    {
     "data": {
      "text/html": [
       "<div>\n",
       "<style scoped>\n",
       "    .dataframe tbody tr th:only-of-type {\n",
       "        vertical-align: middle;\n",
       "    }\n",
       "\n",
       "    .dataframe tbody tr th {\n",
       "        vertical-align: top;\n",
       "    }\n",
       "\n",
       "    .dataframe thead th {\n",
       "        text-align: right;\n",
       "    }\n",
       "</style>\n",
       "<table border=\"1\" class=\"dataframe\">\n",
       "  <thead>\n",
       "    <tr style=\"text-align: right;\">\n",
       "      <th></th>\n",
       "      <th>flight_id</th>\n",
       "      <th>aircraft_code</th>\n",
       "      <th>actual_departure</th>\n",
       "      <th>revenue</th>\n",
       "    </tr>\n",
       "  </thead>\n",
       "  <tbody>\n",
       "    <tr>\n",
       "      <th>28</th>\n",
       "      <td>136282</td>\n",
       "      <td>733</td>\n",
       "      <td>2017-01-16</td>\n",
       "      <td>1382049.46</td>\n",
       "    </tr>\n",
       "    <tr>\n",
       "      <th>31</th>\n",
       "      <td>136310</td>\n",
       "      <td>733</td>\n",
       "      <td>2017-01-22</td>\n",
       "      <td>1503258.37</td>\n",
       "    </tr>\n",
       "  </tbody>\n",
       "</table>\n",
       "</div>"
      ],
      "text/plain": [
       "    flight_id aircraft_code actual_departure    revenue\n",
       "28     136282           733       2017-01-16 1382049.46\n",
       "31     136310           733       2017-01-22 1503258.37"
      ]
     },
     "metadata": {},
     "output_type": "display_data"
    },
    {
     "name": "stderr",
     "output_type": "stream",
     "text": [
      "<ipython-input-24-0ac0913e0181>:3: UserWarning: Boolean Series key will be reindexed to match DataFrame index.\n",
      "  display(df_733[df_733['week'] == i][df_733['revenue'] < W_733[i]][['flight_id', 'aircraft_code', 'actual_departure', 'revenue']])\n"
     ]
    },
    {
     "data": {
      "text/html": [
       "<div>\n",
       "<style scoped>\n",
       "    .dataframe tbody tr th:only-of-type {\n",
       "        vertical-align: middle;\n",
       "    }\n",
       "\n",
       "    .dataframe tbody tr th {\n",
       "        vertical-align: top;\n",
       "    }\n",
       "\n",
       "    .dataframe thead th {\n",
       "        text-align: right;\n",
       "    }\n",
       "</style>\n",
       "<table border=\"1\" class=\"dataframe\">\n",
       "  <thead>\n",
       "    <tr style=\"text-align: right;\">\n",
       "      <th></th>\n",
       "      <th>flight_id</th>\n",
       "      <th>aircraft_code</th>\n",
       "      <th>actual_departure</th>\n",
       "      <th>revenue</th>\n",
       "    </tr>\n",
       "  </thead>\n",
       "  <tbody>\n",
       "    <tr>\n",
       "      <th>12</th>\n",
       "      <td>136178</td>\n",
       "      <td>733</td>\n",
       "      <td>2017-01-29</td>\n",
       "      <td>1306880.16</td>\n",
       "    </tr>\n",
       "    <tr>\n",
       "      <th>40</th>\n",
       "      <td>136383</td>\n",
       "      <td>733</td>\n",
       "      <td>2017-01-25</td>\n",
       "      <td>1356449.46</td>\n",
       "    </tr>\n",
       "  </tbody>\n",
       "</table>\n",
       "</div>"
      ],
      "text/plain": [
       "    flight_id aircraft_code actual_departure    revenue\n",
       "12     136178           733       2017-01-29 1306880.16\n",
       "40     136383           733       2017-01-25 1356449.46"
      ]
     },
     "metadata": {},
     "output_type": "display_data"
    },
    {
     "name": "stderr",
     "output_type": "stream",
     "text": [
      "<ipython-input-24-0ac0913e0181>:3: UserWarning: Boolean Series key will be reindexed to match DataFrame index.\n",
      "  display(df_733[df_733['week'] == i][df_733['revenue'] < W_733[i]][['flight_id', 'aircraft_code', 'actual_departure', 'revenue']])\n"
     ]
    },
    {
     "data": {
      "text/html": [
       "<div>\n",
       "<style scoped>\n",
       "    .dataframe tbody tr th:only-of-type {\n",
       "        vertical-align: middle;\n",
       "    }\n",
       "\n",
       "    .dataframe tbody tr th {\n",
       "        vertical-align: top;\n",
       "    }\n",
       "\n",
       "    .dataframe thead th {\n",
       "        text-align: right;\n",
       "    }\n",
       "</style>\n",
       "<table border=\"1\" class=\"dataframe\">\n",
       "  <thead>\n",
       "    <tr style=\"text-align: right;\">\n",
       "      <th></th>\n",
       "      <th>flight_id</th>\n",
       "      <th>aircraft_code</th>\n",
       "      <th>actual_departure</th>\n",
       "      <th>revenue</th>\n",
       "    </tr>\n",
       "  </thead>\n",
       "  <tbody>\n",
       "    <tr>\n",
       "      <th>38</th>\n",
       "      <td>136360</td>\n",
       "      <td>733</td>\n",
       "      <td>2017-02-05</td>\n",
       "      <td>1335944.26</td>\n",
       "    </tr>\n",
       "    <tr>\n",
       "      <th>58</th>\n",
       "      <td>136486</td>\n",
       "      <td>733</td>\n",
       "      <td>2017-02-02</td>\n",
       "      <td>1373629.24</td>\n",
       "    </tr>\n",
       "  </tbody>\n",
       "</table>\n",
       "</div>"
      ],
      "text/plain": [
       "    flight_id aircraft_code actual_departure    revenue\n",
       "38     136360           733       2017-02-05 1335944.26\n",
       "58     136486           733       2017-02-02 1373629.24"
      ]
     },
     "metadata": {},
     "output_type": "display_data"
    },
    {
     "name": "stderr",
     "output_type": "stream",
     "text": [
      "<ipython-input-24-0ac0913e0181>:3: UserWarning: Boolean Series key will be reindexed to match DataFrame index.\n",
      "  display(df_733[df_733['week'] == i][df_733['revenue'] < W_733[i]][['flight_id', 'aircraft_code', 'actual_departure', 'revenue']])\n"
     ]
    },
    {
     "data": {
      "text/html": [
       "<div>\n",
       "<style scoped>\n",
       "    .dataframe tbody tr th:only-of-type {\n",
       "        vertical-align: middle;\n",
       "    }\n",
       "\n",
       "    .dataframe tbody tr th {\n",
       "        vertical-align: top;\n",
       "    }\n",
       "\n",
       "    .dataframe thead th {\n",
       "        text-align: right;\n",
       "    }\n",
       "</style>\n",
       "<table border=\"1\" class=\"dataframe\">\n",
       "  <thead>\n",
       "    <tr style=\"text-align: right;\">\n",
       "      <th></th>\n",
       "      <th>flight_id</th>\n",
       "      <th>aircraft_code</th>\n",
       "      <th>actual_departure</th>\n",
       "      <th>revenue</th>\n",
       "    </tr>\n",
       "  </thead>\n",
       "  <tbody>\n",
       "    <tr>\n",
       "      <th>21</th>\n",
       "      <td>136250</td>\n",
       "      <td>733</td>\n",
       "      <td>2017-02-08</td>\n",
       "      <td>1285881.26</td>\n",
       "    </tr>\n",
       "    <tr>\n",
       "      <th>34</th>\n",
       "      <td>136322</td>\n",
       "      <td>733</td>\n",
       "      <td>2017-02-06</td>\n",
       "      <td>1434597.74</td>\n",
       "    </tr>\n",
       "  </tbody>\n",
       "</table>\n",
       "</div>"
      ],
      "text/plain": [
       "    flight_id aircraft_code actual_departure    revenue\n",
       "21     136250           733       2017-02-08 1285881.26\n",
       "34     136322           733       2017-02-06 1434597.74"
      ]
     },
     "metadata": {},
     "output_type": "display_data"
    },
    {
     "name": "stderr",
     "output_type": "stream",
     "text": [
      "<ipython-input-24-0ac0913e0181>:3: UserWarning: Boolean Series key will be reindexed to match DataFrame index.\n",
      "  display(df_733[df_733['week'] == i][df_733['revenue'] < W_733[i]][['flight_id', 'aircraft_code', 'actual_departure', 'revenue']])\n"
     ]
    },
    {
     "data": {
      "text/html": [
       "<div>\n",
       "<style scoped>\n",
       "    .dataframe tbody tr th:only-of-type {\n",
       "        vertical-align: middle;\n",
       "    }\n",
       "\n",
       "    .dataframe tbody tr th {\n",
       "        vertical-align: top;\n",
       "    }\n",
       "\n",
       "    .dataframe thead th {\n",
       "        text-align: right;\n",
       "    }\n",
       "</style>\n",
       "<table border=\"1\" class=\"dataframe\">\n",
       "  <thead>\n",
       "    <tr style=\"text-align: right;\">\n",
       "      <th></th>\n",
       "      <th>flight_id</th>\n",
       "      <th>aircraft_code</th>\n",
       "      <th>actual_departure</th>\n",
       "      <th>revenue</th>\n",
       "    </tr>\n",
       "  </thead>\n",
       "  <tbody>\n",
       "    <tr>\n",
       "      <th>3</th>\n",
       "      <td>136130</td>\n",
       "      <td>733</td>\n",
       "      <td>2017-02-13</td>\n",
       "      <td>1424829.24</td>\n",
       "    </tr>\n",
       "    <tr>\n",
       "      <th>33</th>\n",
       "      <td>136320</td>\n",
       "      <td>733</td>\n",
       "      <td>2017-02-19</td>\n",
       "      <td>1413860.74</td>\n",
       "    </tr>\n",
       "  </tbody>\n",
       "</table>\n",
       "</div>"
      ],
      "text/plain": [
       "    flight_id aircraft_code actual_departure    revenue\n",
       "3      136130           733       2017-02-13 1424829.24\n",
       "33     136320           733       2017-02-19 1413860.74"
      ]
     },
     "metadata": {},
     "output_type": "display_data"
    },
    {
     "name": "stderr",
     "output_type": "stream",
     "text": [
      "<ipython-input-24-0ac0913e0181>:3: UserWarning: Boolean Series key will be reindexed to match DataFrame index.\n",
      "  display(df_733[df_733['week'] == i][df_733['revenue'] < W_733[i]][['flight_id', 'aircraft_code', 'actual_departure', 'revenue']])\n"
     ]
    },
    {
     "data": {
      "text/html": [
       "<div>\n",
       "<style scoped>\n",
       "    .dataframe tbody tr th:only-of-type {\n",
       "        vertical-align: middle;\n",
       "    }\n",
       "\n",
       "    .dataframe tbody tr th {\n",
       "        vertical-align: top;\n",
       "    }\n",
       "\n",
       "    .dataframe thead th {\n",
       "        text-align: right;\n",
       "    }\n",
       "</style>\n",
       "<table border=\"1\" class=\"dataframe\">\n",
       "  <thead>\n",
       "    <tr style=\"text-align: right;\">\n",
       "      <th></th>\n",
       "      <th>flight_id</th>\n",
       "      <th>aircraft_code</th>\n",
       "      <th>actual_departure</th>\n",
       "      <th>revenue</th>\n",
       "    </tr>\n",
       "  </thead>\n",
       "  <tbody>\n",
       "    <tr>\n",
       "      <th>16</th>\n",
       "      <td>136204</td>\n",
       "      <td>733</td>\n",
       "      <td>2017-02-23</td>\n",
       "      <td>1326029.24</td>\n",
       "    </tr>\n",
       "    <tr>\n",
       "      <th>37</th>\n",
       "      <td>136351</td>\n",
       "      <td>733</td>\n",
       "      <td>2017-02-26</td>\n",
       "      <td>1426092.24</td>\n",
       "    </tr>\n",
       "  </tbody>\n",
       "</table>\n",
       "</div>"
      ],
      "text/plain": [
       "    flight_id aircraft_code actual_departure    revenue\n",
       "16     136204           733       2017-02-23 1326029.24\n",
       "37     136351           733       2017-02-26 1426092.24"
      ]
     },
     "metadata": {},
     "output_type": "display_data"
    },
    {
     "name": "stderr",
     "output_type": "stream",
     "text": [
      "<ipython-input-24-0ac0913e0181>:3: UserWarning: Boolean Series key will be reindexed to match DataFrame index.\n",
      "  display(df_733[df_733['week'] == i][df_733['revenue'] < W_733[i]][['flight_id', 'aircraft_code', 'actual_departure', 'revenue']])\n"
     ]
    },
    {
     "data": {
      "text/html": [
       "<div>\n",
       "<style scoped>\n",
       "    .dataframe tbody tr th:only-of-type {\n",
       "        vertical-align: middle;\n",
       "    }\n",
       "\n",
       "    .dataframe tbody tr th {\n",
       "        vertical-align: top;\n",
       "    }\n",
       "\n",
       "    .dataframe thead th {\n",
       "        text-align: right;\n",
       "    }\n",
       "</style>\n",
       "<table border=\"1\" class=\"dataframe\">\n",
       "  <thead>\n",
       "    <tr style=\"text-align: right;\">\n",
       "      <th></th>\n",
       "      <th>flight_id</th>\n",
       "      <th>aircraft_code</th>\n",
       "      <th>actual_departure</th>\n",
       "      <th>revenue</th>\n",
       "    </tr>\n",
       "  </thead>\n",
       "  <tbody>\n",
       "    <tr>\n",
       "      <th>23</th>\n",
       "      <td>136266</td>\n",
       "      <td>733</td>\n",
       "      <td>2017-02-27</td>\n",
       "      <td>1433397.74</td>\n",
       "    </tr>\n",
       "  </tbody>\n",
       "</table>\n",
       "</div>"
      ],
      "text/plain": [
       "    flight_id aircraft_code actual_departure    revenue\n",
       "23     136266           733       2017-02-27 1433397.74"
      ]
     },
     "metadata": {},
     "output_type": "display_data"
    }
   ],
   "source": [
    "# Рейсы, прибыль от которых меньше 1-го квартиля\n",
    "for i in W_733.index:\n",
    "    display(df_733[df_733['week'] == i][df_733['revenue'] < W_733[i]][['flight_id', 'aircraft_code', 'actual_departure', 'revenue']])"
   ]
  },
  {
   "cell_type": "markdown",
   "metadata": {},
   "source": [
    "Рейсы Sukhoi Superjet-100"
   ]
  },
  {
   "cell_type": "code",
   "execution_count": 25,
   "metadata": {},
   "outputs": [
    {
     "data": {
      "text/plain": [
       "<AxesSubplot:xlabel='week', ylabel='revenue'>"
      ]
     },
     "execution_count": 25,
     "metadata": {},
     "output_type": "execute_result"
    },
    {
     "data": {
      "image/png": "[encoded data removed]",
      "text/plain": [
       "<Figure size 432x288 with 1 Axes>"
      ]
     },
     "metadata": {
      "needs_background": "light"
     },
     "output_type": "display_data"
    }
   ],
   "source": [
    "sns.boxplot(x = 'week', y = 'revenue', data = df_733)"
   ]
  },
  {
   "cell_type": "code",
   "execution_count": 26,
   "metadata": {},
   "outputs": [
    {
     "data": {
      "text/plain": [
       "week\n",
       "1   581908.73\n",
       "2   668128.24\n",
       "3   696522.06\n",
       "4   608255.65\n",
       "5   620686.48\n",
       "6   625207.42\n",
       "7   643514.40\n",
       "8   643814.40\n",
       "9   573132.99\n",
       "Name: revenue, dtype: float64"
      ]
     },
     "execution_count": 26,
     "metadata": {},
     "output_type": "execute_result"
    }
   ],
   "source": [
    "# Вспомогательная таблица, считающая 1-й квантиль для каждой недели\n",
    "W_SU = df_SU.groupby(['week'])['revenue'].quantile(0.25)\n",
    "W_SU"
   ]
  },
  {
   "cell_type": "code",
   "execution_count": 27,
   "metadata": {},
   "outputs": [
    {
     "name": "stderr",
     "output_type": "stream",
     "text": [
      "<ipython-input-27-e120290072db>:3: UserWarning: Boolean Series key will be reindexed to match DataFrame index.\n",
      "  display(df_SU[df_SU['week'] == j][df_SU['revenue'] < W_SU[j]][['flight_id', 'aircraft_code', 'actual_departure', 'revenue']])\n"
     ]
    },
    {
     "data": {
      "text/html": [
       "<div>\n",
       "<style scoped>\n",
       "    .dataframe tbody tr th:only-of-type {\n",
       "        vertical-align: middle;\n",
       "    }\n",
       "\n",
       "    .dataframe tbody tr th {\n",
       "        vertical-align: top;\n",
       "    }\n",
       "\n",
       "    .dataframe thead th {\n",
       "        text-align: right;\n",
       "    }\n",
       "</style>\n",
       "<table border=\"1\" class=\"dataframe\">\n",
       "  <thead>\n",
       "    <tr style=\"text-align: right;\">\n",
       "      <th></th>\n",
       "      <th>flight_id</th>\n",
       "      <th>aircraft_code</th>\n",
       "      <th>actual_departure</th>\n",
       "      <th>revenue</th>\n",
       "    </tr>\n",
       "  </thead>\n",
       "  <tbody>\n",
       "    <tr>\n",
       "      <th>122</th>\n",
       "      <td>136936</td>\n",
       "      <td>SU9</td>\n",
       "      <td>2017-01-02</td>\n",
       "      <td>581458.73</td>\n",
       "    </tr>\n",
       "    <tr>\n",
       "      <th>123</th>\n",
       "      <td>136937</td>\n",
       "      <td>SU9</td>\n",
       "      <td>2017-01-03</td>\n",
       "      <td>575779.97</td>\n",
       "    </tr>\n",
       "  </tbody>\n",
       "</table>\n",
       "</div>"
      ],
      "text/plain": [
       "     flight_id aircraft_code actual_departure   revenue\n",
       "122     136936           SU9       2017-01-02 581458.73\n",
       "123     136937           SU9       2017-01-03 575779.97"
      ]
     },
     "metadata": {},
     "output_type": "display_data"
    },
    {
     "name": "stderr",
     "output_type": "stream",
     "text": [
      "<ipython-input-27-e120290072db>:3: UserWarning: Boolean Series key will be reindexed to match DataFrame index.\n",
      "  display(df_SU[df_SU['week'] == j][df_SU['revenue'] < W_SU[j]][['flight_id', 'aircraft_code', 'actual_departure', 'revenue']])\n"
     ]
    },
    {
     "data": {
      "text/html": [
       "<div>\n",
       "<style scoped>\n",
       "    .dataframe tbody tr th:only-of-type {\n",
       "        vertical-align: middle;\n",
       "    }\n",
       "\n",
       "    .dataframe tbody tr th {\n",
       "        vertical-align: top;\n",
       "    }\n",
       "\n",
       "    .dataframe thead th {\n",
       "        text-align: right;\n",
       "    }\n",
       "</style>\n",
       "<table border=\"1\" class=\"dataframe\">\n",
       "  <thead>\n",
       "    <tr style=\"text-align: right;\">\n",
       "      <th></th>\n",
       "      <th>flight_id</th>\n",
       "      <th>aircraft_code</th>\n",
       "      <th>actual_departure</th>\n",
       "      <th>revenue</th>\n",
       "    </tr>\n",
       "  </thead>\n",
       "  <tbody>\n",
       "    <tr>\n",
       "      <th>88</th>\n",
       "      <td>136709</td>\n",
       "      <td>SU9</td>\n",
       "      <td>2017-01-15</td>\n",
       "      <td>635652.56</td>\n",
       "    </tr>\n",
       "    <tr>\n",
       "      <th>110</th>\n",
       "      <td>136855</td>\n",
       "      <td>SU9</td>\n",
       "      <td>2017-01-11</td>\n",
       "      <td>648252.56</td>\n",
       "    </tr>\n",
       "  </tbody>\n",
       "</table>\n",
       "</div>"
      ],
      "text/plain": [
       "     flight_id aircraft_code actual_departure   revenue\n",
       "88      136709           SU9       2017-01-15 635652.56\n",
       "110     136855           SU9       2017-01-11 648252.56"
      ]
     },
     "metadata": {},
     "output_type": "display_data"
    },
    {
     "name": "stderr",
     "output_type": "stream",
     "text": [
      "<ipython-input-27-e120290072db>:3: UserWarning: Boolean Series key will be reindexed to match DataFrame index.\n",
      "  display(df_SU[df_SU['week'] == j][df_SU['revenue'] < W_SU[j]][['flight_id', 'aircraft_code', 'actual_departure', 'revenue']])\n"
     ]
    },
    {
     "data": {
      "text/html": [
       "<div>\n",
       "<style scoped>\n",
       "    .dataframe tbody tr th:only-of-type {\n",
       "        vertical-align: middle;\n",
       "    }\n",
       "\n",
       "    .dataframe tbody tr th {\n",
       "        vertical-align: top;\n",
       "    }\n",
       "\n",
       "    .dataframe thead th {\n",
       "        text-align: right;\n",
       "    }\n",
       "</style>\n",
       "<table border=\"1\" class=\"dataframe\">\n",
       "  <thead>\n",
       "    <tr style=\"text-align: right;\">\n",
       "      <th></th>\n",
       "      <th>flight_id</th>\n",
       "      <th>aircraft_code</th>\n",
       "      <th>actual_departure</th>\n",
       "      <th>revenue</th>\n",
       "    </tr>\n",
       "  </thead>\n",
       "  <tbody>\n",
       "    <tr>\n",
       "      <th>84</th>\n",
       "      <td>136669</td>\n",
       "      <td>SU9</td>\n",
       "      <td>2017-01-17</td>\n",
       "      <td>693682.68</td>\n",
       "    </tr>\n",
       "    <tr>\n",
       "      <th>116</th>\n",
       "      <td>136887</td>\n",
       "      <td>SU9</td>\n",
       "      <td>2017-01-20</td>\n",
       "      <td>546743.67</td>\n",
       "    </tr>\n",
       "  </tbody>\n",
       "</table>\n",
       "</div>"
      ],
      "text/plain": [
       "     flight_id aircraft_code actual_departure   revenue\n",
       "84      136669           SU9       2017-01-17 693682.68\n",
       "116     136887           SU9       2017-01-20 546743.67"
      ]
     },
     "metadata": {},
     "output_type": "display_data"
    },
    {
     "name": "stderr",
     "output_type": "stream",
     "text": [
      "<ipython-input-27-e120290072db>:3: UserWarning: Boolean Series key will be reindexed to match DataFrame index.\n",
      "  display(df_SU[df_SU['week'] == j][df_SU['revenue'] < W_SU[j]][['flight_id', 'aircraft_code', 'actual_departure', 'revenue']])\n"
     ]
    },
    {
     "data": {
      "text/html": [
       "<div>\n",
       "<style scoped>\n",
       "    .dataframe tbody tr th:only-of-type {\n",
       "        vertical-align: middle;\n",
       "    }\n",
       "\n",
       "    .dataframe tbody tr th {\n",
       "        vertical-align: top;\n",
       "    }\n",
       "\n",
       "    .dataframe thead th {\n",
       "        text-align: right;\n",
       "    }\n",
       "</style>\n",
       "<table border=\"1\" class=\"dataframe\">\n",
       "  <thead>\n",
       "    <tr style=\"text-align: right;\">\n",
       "      <th></th>\n",
       "      <th>flight_id</th>\n",
       "      <th>aircraft_code</th>\n",
       "      <th>actual_departure</th>\n",
       "      <th>revenue</th>\n",
       "    </tr>\n",
       "  </thead>\n",
       "  <tbody>\n",
       "    <tr>\n",
       "      <th>86</th>\n",
       "      <td>136678</td>\n",
       "      <td>SU9</td>\n",
       "      <td>2017-01-28</td>\n",
       "      <td>581501.20</td>\n",
       "    </tr>\n",
       "    <tr>\n",
       "      <th>96</th>\n",
       "      <td>136767</td>\n",
       "      <td>SU9</td>\n",
       "      <td>2017-01-23</td>\n",
       "      <td>599737.50</td>\n",
       "    </tr>\n",
       "  </tbody>\n",
       "</table>\n",
       "</div>"
      ],
      "text/plain": [
       "    flight_id aircraft_code actual_departure   revenue\n",
       "86     136678           SU9       2017-01-28 581501.20\n",
       "96     136767           SU9       2017-01-23 599737.50"
      ]
     },
     "metadata": {},
     "output_type": "display_data"
    },
    {
     "name": "stderr",
     "output_type": "stream",
     "text": [
      "<ipython-input-27-e120290072db>:3: UserWarning: Boolean Series key will be reindexed to match DataFrame index.\n",
      "  display(df_SU[df_SU['week'] == j][df_SU['revenue'] < W_SU[j]][['flight_id', 'aircraft_code', 'actual_departure', 'revenue']])\n"
     ]
    },
    {
     "data": {
      "text/html": [
       "<div>\n",
       "<style scoped>\n",
       "    .dataframe tbody tr th:only-of-type {\n",
       "        vertical-align: middle;\n",
       "    }\n",
       "\n",
       "    .dataframe tbody tr th {\n",
       "        vertical-align: top;\n",
       "    }\n",
       "\n",
       "    .dataframe thead th {\n",
       "        text-align: right;\n",
       "    }\n",
       "</style>\n",
       "<table border=\"1\" class=\"dataframe\">\n",
       "  <thead>\n",
       "    <tr style=\"text-align: right;\">\n",
       "      <th></th>\n",
       "      <th>flight_id</th>\n",
       "      <th>aircraft_code</th>\n",
       "      <th>actual_departure</th>\n",
       "      <th>revenue</th>\n",
       "    </tr>\n",
       "  </thead>\n",
       "  <tbody>\n",
       "    <tr>\n",
       "      <th>77</th>\n",
       "      <td>136642</td>\n",
       "      <td>SU9</td>\n",
       "      <td>2017-01-30</td>\n",
       "      <td>491240.96</td>\n",
       "    </tr>\n",
       "    <tr>\n",
       "      <th>105</th>\n",
       "      <td>136823</td>\n",
       "      <td>SU9</td>\n",
       "      <td>2017-02-05</td>\n",
       "      <td>574144.59</td>\n",
       "    </tr>\n",
       "  </tbody>\n",
       "</table>\n",
       "</div>"
      ],
      "text/plain": [
       "     flight_id aircraft_code actual_departure   revenue\n",
       "77      136642           SU9       2017-01-30 491240.96\n",
       "105     136823           SU9       2017-02-05 574144.59"
      ]
     },
     "metadata": {},
     "output_type": "display_data"
    },
    {
     "name": "stderr",
     "output_type": "stream",
     "text": [
      "<ipython-input-27-e120290072db>:3: UserWarning: Boolean Series key will be reindexed to match DataFrame index.\n",
      "  display(df_SU[df_SU['week'] == j][df_SU['revenue'] < W_SU[j]][['flight_id', 'aircraft_code', 'actual_departure', 'revenue']])\n"
     ]
    },
    {
     "data": {
      "text/html": [
       "<div>\n",
       "<style scoped>\n",
       "    .dataframe tbody tr th:only-of-type {\n",
       "        vertical-align: middle;\n",
       "    }\n",
       "\n",
       "    .dataframe tbody tr th {\n",
       "        vertical-align: top;\n",
       "    }\n",
       "\n",
       "    .dataframe thead th {\n",
       "        text-align: right;\n",
       "    }\n",
       "</style>\n",
       "<table border=\"1\" class=\"dataframe\">\n",
       "  <thead>\n",
       "    <tr style=\"text-align: right;\">\n",
       "      <th></th>\n",
       "      <th>flight_id</th>\n",
       "      <th>aircraft_code</th>\n",
       "      <th>actual_departure</th>\n",
       "      <th>revenue</th>\n",
       "    </tr>\n",
       "  </thead>\n",
       "  <tbody>\n",
       "    <tr>\n",
       "      <th>83</th>\n",
       "      <td>136666</td>\n",
       "      <td>SU9</td>\n",
       "      <td>2017-02-09</td>\n",
       "      <td>612907.42</td>\n",
       "    </tr>\n",
       "    <tr>\n",
       "      <th>120</th>\n",
       "      <td>136922</td>\n",
       "      <td>SU9</td>\n",
       "      <td>2017-02-11</td>\n",
       "      <td>562730.62</td>\n",
       "    </tr>\n",
       "  </tbody>\n",
       "</table>\n",
       "</div>"
      ],
      "text/plain": [
       "     flight_id aircraft_code actual_departure   revenue\n",
       "83      136666           SU9       2017-02-09 612907.42\n",
       "120     136922           SU9       2017-02-11 562730.62"
      ]
     },
     "metadata": {},
     "output_type": "display_data"
    },
    {
     "name": "stderr",
     "output_type": "stream",
     "text": [
      "<ipython-input-27-e120290072db>:3: UserWarning: Boolean Series key will be reindexed to match DataFrame index.\n",
      "  display(df_SU[df_SU['week'] == j][df_SU['revenue'] < W_SU[j]][['flight_id', 'aircraft_code', 'actual_departure', 'revenue']])\n"
     ]
    },
    {
     "data": {
      "text/html": [
       "<div>\n",
       "<style scoped>\n",
       "    .dataframe tbody tr th:only-of-type {\n",
       "        vertical-align: middle;\n",
       "    }\n",
       "\n",
       "    .dataframe tbody tr th {\n",
       "        vertical-align: top;\n",
       "    }\n",
       "\n",
       "    .dataframe thead th {\n",
       "        text-align: right;\n",
       "    }\n",
       "</style>\n",
       "<table border=\"1\" class=\"dataframe\">\n",
       "  <thead>\n",
       "    <tr style=\"text-align: right;\">\n",
       "      <th></th>\n",
       "      <th>flight_id</th>\n",
       "      <th>aircraft_code</th>\n",
       "      <th>actual_departure</th>\n",
       "      <th>revenue</th>\n",
       "    </tr>\n",
       "  </thead>\n",
       "  <tbody>\n",
       "    <tr>\n",
       "      <th>74</th>\n",
       "      <td>136620</td>\n",
       "      <td>SU9</td>\n",
       "      <td>2017-02-17</td>\n",
       "      <td>566651.57</td>\n",
       "    </tr>\n",
       "    <tr>\n",
       "      <th>117</th>\n",
       "      <td>136888</td>\n",
       "      <td>SU9</td>\n",
       "      <td>2017-02-14</td>\n",
       "      <td>579251.57</td>\n",
       "    </tr>\n",
       "  </tbody>\n",
       "</table>\n",
       "</div>"
      ],
      "text/plain": [
       "     flight_id aircraft_code actual_departure   revenue\n",
       "74      136620           SU9       2017-02-17 566651.57\n",
       "117     136888           SU9       2017-02-14 579251.57"
      ]
     },
     "metadata": {},
     "output_type": "display_data"
    },
    {
     "name": "stderr",
     "output_type": "stream",
     "text": [
      "<ipython-input-27-e120290072db>:3: UserWarning: Boolean Series key will be reindexed to match DataFrame index.\n",
      "  display(df_SU[df_SU['week'] == j][df_SU['revenue'] < W_SU[j]][['flight_id', 'aircraft_code', 'actual_departure', 'revenue']])\n"
     ]
    },
    {
     "data": {
      "text/html": [
       "<div>\n",
       "<style scoped>\n",
       "    .dataframe tbody tr th:only-of-type {\n",
       "        vertical-align: middle;\n",
       "    }\n",
       "\n",
       "    .dataframe tbody tr th {\n",
       "        vertical-align: top;\n",
       "    }\n",
       "\n",
       "    .dataframe thead th {\n",
       "        text-align: right;\n",
       "    }\n",
       "</style>\n",
       "<table border=\"1\" class=\"dataframe\">\n",
       "  <thead>\n",
       "    <tr style=\"text-align: right;\">\n",
       "      <th></th>\n",
       "      <th>flight_id</th>\n",
       "      <th>aircraft_code</th>\n",
       "      <th>actual_departure</th>\n",
       "      <th>revenue</th>\n",
       "    </tr>\n",
       "  </thead>\n",
       "  <tbody>\n",
       "    <tr>\n",
       "      <th>81</th>\n",
       "      <td>136660</td>\n",
       "      <td>SU9</td>\n",
       "      <td>2017-02-20</td>\n",
       "      <td>625507.42</td>\n",
       "    </tr>\n",
       "    <tr>\n",
       "      <th>102</th>\n",
       "      <td>136807</td>\n",
       "      <td>SU9</td>\n",
       "      <td>2017-02-23</td>\n",
       "      <td>490674.77</td>\n",
       "    </tr>\n",
       "  </tbody>\n",
       "</table>\n",
       "</div>"
      ],
      "text/plain": [
       "     flight_id aircraft_code actual_departure   revenue\n",
       "81      136660           SU9       2017-02-20 625507.42\n",
       "102     136807           SU9       2017-02-23 490674.77"
      ]
     },
     "metadata": {},
     "output_type": "display_data"
    },
    {
     "name": "stderr",
     "output_type": "stream",
     "text": [
      "<ipython-input-27-e120290072db>:3: UserWarning: Boolean Series key will be reindexed to match DataFrame index.\n",
      "  display(df_SU[df_SU['week'] == j][df_SU['revenue'] < W_SU[j]][['flight_id', 'aircraft_code', 'actual_departure', 'revenue']])\n"
     ]
    },
    {
     "data": {
      "text/html": [
       "<div>\n",
       "<style scoped>\n",
       "    .dataframe tbody tr th:only-of-type {\n",
       "        vertical-align: middle;\n",
       "    }\n",
       "\n",
       "    .dataframe tbody tr th {\n",
       "        vertical-align: top;\n",
       "    }\n",
       "\n",
       "    .dataframe thead th {\n",
       "        text-align: right;\n",
       "    }\n",
       "</style>\n",
       "<table border=\"1\" class=\"dataframe\">\n",
       "  <thead>\n",
       "    <tr style=\"text-align: right;\">\n",
       "      <th></th>\n",
       "      <th>flight_id</th>\n",
       "      <th>aircraft_code</th>\n",
       "      <th>actual_departure</th>\n",
       "      <th>revenue</th>\n",
       "    </tr>\n",
       "  </thead>\n",
       "  <tbody>\n",
       "    <tr>\n",
       "      <th>109</th>\n",
       "      <td>136844</td>\n",
       "      <td>SU9</td>\n",
       "      <td>2017-02-28</td>\n",
       "      <td>528251.57</td>\n",
       "    </tr>\n",
       "  </tbody>\n",
       "</table>\n",
       "</div>"
      ],
      "text/plain": [
       "     flight_id aircraft_code actual_departure   revenue\n",
       "109     136844           SU9       2017-02-28 528251.57"
      ]
     },
     "metadata": {},
     "output_type": "display_data"
    }
   ],
   "source": [
    "# Рейсы, прибыль от которых меньше 1-го квартиля\n",
    "for j in W_SU.index:\n",
    "    display(df_SU[df_SU['week'] == j][df_SU['revenue'] < W_SU[j]][['flight_id', 'aircraft_code', 'actual_departure', 'revenue']])"
   ]
  },
  {
   "cell_type": "markdown",
   "metadata": {},
   "source": [
    "## Итоговая рекомендация"
   ]
  },
  {
   "cell_type": "markdown",
   "metadata": {},
   "source": [
    "Так как для каждого способа получилось довольно много рейсов для отмены, примем решение отменить только те рейсы, которые были найдены во всех трёх способах."
   ]
  },
  {
   "cell_type": "code",
   "execution_count": 28,
   "metadata": {},
   "outputs": [],
   "source": [
    "# Для Boeing 737-300 это следующие рейсы:\n",
    "Cancel_733 = [\n",
    "136122,\n",
    "136178,\n",
    "136202,\n",
    "136204,\n",
    "136250,\n",
    "136360,\n",
    "136383\n",
    "]\n",
    "\n",
    "# Для Sukhoi Superjet-100 это следующие рейсы:\n",
    "Cancel_SU = [\n",
    "136620,\n",
    "136642,\n",
    "136678,\n",
    "136807,\n",
    "136823,\n",
    "136887,\n",
    "136922,\n",
    "136936,\n",
    "136937\n",
    "]\n"
   ]
  },
  {
   "cell_type": "code",
   "execution_count": 29,
   "metadata": {},
   "outputs": [],
   "source": [
    "# Создаём таблицу с отменёнными рейсами:\n",
    "df_cancel = df.copy()\n",
    "df_cancel\n",
    "\n",
    "# И убираем из них выбранные рейсы\n",
    "for n in Cancel_733:\n",
    "    df_cancel.drop(df_cancel[df_cancel['flight_id'] == n].index, axis = 0, inplace = True)\n",
    "    \n",
    "for m in Cancel_SU:\n",
    "    df_cancel.drop(df_cancel[df_cancel['flight_id'] == m].index, axis = 0, inplace = True)"
   ]
  },
  {
   "cell_type": "code",
   "execution_count": 30,
   "metadata": {},
   "outputs": [
    {
     "data": {
      "text/html": [
       "<div>\n",
       "<style scoped>\n",
       "    .dataframe tbody tr th:only-of-type {\n",
       "        vertical-align: middle;\n",
       "    }\n",
       "\n",
       "    .dataframe tbody tr th {\n",
       "        vertical-align: top;\n",
       "    }\n",
       "\n",
       "    .dataframe thead th {\n",
       "        text-align: right;\n",
       "    }\n",
       "</style>\n",
       "<table border=\"1\" class=\"dataframe\">\n",
       "  <thead>\n",
       "    <tr style=\"text-align: right;\">\n",
       "      <th></th>\n",
       "      <th>mean</th>\n",
       "      <th>median</th>\n",
       "    </tr>\n",
       "    <tr>\n",
       "      <th>aircraft_code</th>\n",
       "      <th></th>\n",
       "      <th></th>\n",
       "    </tr>\n",
       "  </thead>\n",
       "  <tbody>\n",
       "    <tr>\n",
       "      <th>733</th>\n",
       "      <td>1499763.50</td>\n",
       "      <td>1491903.23</td>\n",
       "    </tr>\n",
       "    <tr>\n",
       "      <th>SU9</th>\n",
       "      <td>655614.77</td>\n",
       "      <td>689470.26</td>\n",
       "    </tr>\n",
       "  </tbody>\n",
       "</table>\n",
       "</div>"
      ],
      "text/plain": [
       "                    mean     median\n",
       "aircraft_code                      \n",
       "733           1499763.50 1491903.23\n",
       "SU9            655614.77  689470.26"
      ]
     },
     "execution_count": 30,
     "metadata": {},
     "output_type": "execute_result"
    }
   ],
   "source": [
    "#Считаем среднюю и медианную прибыльность с рейса начальной таблицы\n",
    "df.groupby(['aircraft_code'])['revenue'].agg(['mean','median'])"
   ]
  },
  {
   "cell_type": "code",
   "execution_count": 31,
   "metadata": {},
   "outputs": [
    {
     "data": {
      "text/html": [
       "<div>\n",
       "<style scoped>\n",
       "    .dataframe tbody tr th:only-of-type {\n",
       "        vertical-align: middle;\n",
       "    }\n",
       "\n",
       "    .dataframe tbody tr th {\n",
       "        vertical-align: top;\n",
       "    }\n",
       "\n",
       "    .dataframe thead th {\n",
       "        text-align: right;\n",
       "    }\n",
       "</style>\n",
       "<table border=\"1\" class=\"dataframe\">\n",
       "  <thead>\n",
       "    <tr style=\"text-align: right;\">\n",
       "      <th></th>\n",
       "      <th>mean</th>\n",
       "      <th>median</th>\n",
       "    </tr>\n",
       "    <tr>\n",
       "      <th>aircraft_code</th>\n",
       "      <th></th>\n",
       "      <th></th>\n",
       "    </tr>\n",
       "  </thead>\n",
       "  <tbody>\n",
       "    <tr>\n",
       "      <th>733</th>\n",
       "      <td>1523123.31</td>\n",
       "      <td>1526923.64</td>\n",
       "    </tr>\n",
       "    <tr>\n",
       "      <th>SU9</th>\n",
       "      <td>674206.91</td>\n",
       "      <td>693682.68</td>\n",
       "    </tr>\n",
       "  </tbody>\n",
       "</table>\n",
       "</div>"
      ],
      "text/plain": [
       "                    mean     median\n",
       "aircraft_code                      \n",
       "733           1523123.31 1526923.64\n",
       "SU9            674206.91  693682.68"
      ]
     },
     "execution_count": 31,
     "metadata": {},
     "output_type": "execute_result"
    }
   ],
   "source": [
    "#Считаем среднюю и медианную прибыльность с рейса итоговой таблицы\n",
    "df_cancel.groupby(['aircraft_code'])['revenue'].agg(['mean','median'])"
   ]
  },
  {
   "cell_type": "code",
   "execution_count": null,
   "metadata": {},
   "outputs": [],
   "source": []
  }
 ],
 "metadata": {
  "kernelspec": {
   "display_name": "Python 3",
   "language": "python",
   "name": "python3"
  },
  "language_info": {
   "codemirror_mode": {
    "name": "ipython",
    "version": 3
   },
   "file_extension": ".py",
   "mimetype": "text/x-python",
   "name": "python",
   "nbconvert_exporter": "python",
   "pygments_lexer": "ipython3",
   "version": "3.8.5"
  }
 },
 "nbformat": 4,
 "nbformat_minor": 4
}
